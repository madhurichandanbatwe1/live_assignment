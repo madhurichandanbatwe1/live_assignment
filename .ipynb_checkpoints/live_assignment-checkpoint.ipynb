{
 "cells": [
  {
   "cell_type": "markdown",
   "id": "820b8761-b6c3-4400-a63f-34c2415499a1",
   "metadata": {},
   "source": [
    "# What is the difference between static and dynamic variables in Python?"
   ]
  },
  {
   "cell_type": "code",
   "execution_count": null,
   "id": "a8d75e51-1cf2-4f2f-ac8e-ece32865496b",
   "metadata": {},
   "outputs": [],
   "source": []
  },
  {
   "cell_type": "markdown",
   "id": "a1b22914-4500-4ed5-8332-01eabb17b689",
   "metadata": {},
   "source": [
    "In Python, the concepts of static and dynamic variables primarily relate to their scope, lifetime, and how they are managed within classes and instances.\n",
    "\n",
    "Static Variables (Class Variables)\n",
    "Scope: Static variables are defined at the class level and are shared among all instances of the class.\n",
    "Lifetime: They exist for the lifetime of the program.\n",
    "Usage: Used to store class-level data that should be consistent across all instances of the class.\n",
    "Access: Accessed using the class name or an instance of the class."
   ]
  },
  {
   "cell_type": "code",
   "execution_count": 1,
   "id": "45fc55ad-5cbc-4dff-83d0-f2cc289d0ab5",
   "metadata": {},
   "outputs": [
    {
     "name": "stdout",
     "output_type": "stream",
     "text": [
      "42\n",
      "10\n",
      "20\n",
      "42\n",
      "42\n",
      "100\n",
      "100\n"
     ]
    }
   ],
   "source": [
    "class MyClass:\n",
    "    static_var = 42  # Static variable\n",
    "\n",
    "    def __init__(self, value):\n",
    "        self.instance_var = value  # Instance variable\n",
    "\n",
    "# Accessing static variable\n",
    "print(MyClass.static_var)\n",
    "\n",
    "# Creating instances\n",
    "obj1 = MyClass(10)\n",
    "obj2 = MyClass(20)\n",
    "\n",
    "# Accessing instance variables\n",
    "print(obj1.instance_var)\n",
    "print(obj2.instance_var)\n",
    "\n",
    "# Accessing static variable through instance\n",
    "print(obj1.static_var)\n",
    "print(obj2.static_var)\n",
    "\n",
    "# Modifying static variable\n",
    "MyClass.static_var = 100\n",
    "\n",
    "print(obj1.static_var)  # 100\n",
    "print(obj2.static_var)  # 100\n"
   ]
  },
  {
   "cell_type": "markdown",
   "id": "addf36e1-4a14-44e8-b40e-2b16b2d6ab58",
   "metadata": {},
   "source": [
    "Dynamic Variables (Instance Variables)\n",
    "Scope: Dynamic variables are defined within methods (usually __init__) and belong to instances of the class.\n",
    "Lifetime: They exist as long as the instance exists.\n",
    "Usage: Used to store data that is specific to each instance of the class.\n",
    "Access: Accessed using the instance of the class.\n"
   ]
  },
  {
   "cell_type": "code",
   "execution_count": 2,
   "id": "a07ea9c7-8a39-458b-bb6f-5534b47aff97",
   "metadata": {},
   "outputs": [
    {
     "name": "stdout",
     "output_type": "stream",
     "text": [
      "10\n",
      "20\n",
      "30\n",
      "20\n"
     ]
    }
   ],
   "source": [
    "class MyClass:\n",
    "    def __init__(self, value):\n",
    "        self.instance_var = value  # Dynamic (instance) variable\n",
    "\n",
    "# Creating instances\n",
    "obj1 = MyClass(10)\n",
    "obj2 = MyClass(20)\n",
    "\n",
    "# Accessing instance variables\n",
    "print(obj1.instance_var)  # 10\n",
    "print(obj2.instance_var)  # 20\n",
    "\n",
    "# Modifying instance variables\n",
    "obj1.instance_var = 30\n",
    "\n",
    "print(obj1.instance_var)  # 30\n",
    "print(obj2.instance_var)  # 20\n"
   ]
  },
  {
   "cell_type": "markdown",
   "id": "98d77c60-c6c2-47dc-86cc-24f32056bfda",
   "metadata": {},
   "source": [
    "Explain the purpose of \"pop\",\"popitem\",\"clear()\" in a dictionary with suitable examples"
   ]
  },
  {
   "cell_type": "markdown",
   "id": "a7b8a73a-5c36-410a-9c57-4d3275eccaf5",
   "metadata": {},
   "source": [
    "The pop method removes a specified key from the dictionary and returns the corresponding value. \n",
    "If the key is not found, it can return a default value if provided; otherwise, it raises a KeyError."
   ]
  },
  {
   "cell_type": "code",
   "execution_count": 3,
   "id": "bf547a8b-ab00-4ee0-9ac4-738e70597cb7",
   "metadata": {},
   "outputs": [
    {
     "name": "stdout",
     "output_type": "stream",
     "text": [
      "2\n",
      "{'a': 1, 'c': 3}\n",
      "Not Found\n",
      "{'a': 1, 'c': 3}\n"
     ]
    }
   ],
   "source": [
    "my_dict = {'a': 1, 'b': 2, 'c': 3}\n",
    "\n",
    "# Remove and return value associated with key 'b'\n",
    "value = my_dict.pop('b')\n",
    "print(value)  # Output: 2\n",
    "print(my_dict)  # Output: {'a': 1, 'c': 3}\n",
    "\n",
    "# Using pop with a default value\n",
    "value = my_dict.pop('d', 'Not Found')\n",
    "print(value)  # Output: Not Found\n",
    "print(my_dict)  # Output: {'a': 1, 'c': 3}\n"
   ]
  },
  {
   "cell_type": "markdown",
   "id": "dc7dad2a-09d3-46bf-83c4-a55d4785d820",
   "metadata": {},
   "source": [
    "The popitem method removes and returns the last inserted key-value pair from the dictionary as a tuple.\n",
    "If the dictionary is empty, it raises a KeyError."
   ]
  },
  {
   "cell_type": "code",
   "execution_count": 4,
   "id": "17f3982a-5675-48b3-87d8-153b15311ba2",
   "metadata": {},
   "outputs": [
    {
     "name": "stdout",
     "output_type": "stream",
     "text": [
      "('c', 3)\n",
      "{'a': 1, 'b': 2}\n"
     ]
    }
   ],
   "source": [
    "my_dict = {'a': 1, 'b': 2, 'c': 3}\n",
    "\n",
    "# Remove and return the last inserted key-value pair\n",
    "item = my_dict.popitem()\n",
    "print(item)  # Output: ('c', 3)\n",
    "print(my_dict)  # Output: {'a': 1, 'b': 2}\n",
    "\n",
    "# Using popitem on an empty dictionary raises KeyError\n",
    "empty_dict = {}\n",
    "# empty_dict.popitem()  # Raises KeyError\n"
   ]
  },
  {
   "cell_type": "markdown",
   "id": "359259d9-d2dc-4f59-9b95-49ae100186db",
   "metadata": {},
   "source": [
    "The clear method removes all items from the dictionary, leaving it empty."
   ]
  },
  {
   "cell_type": "code",
   "execution_count": 5,
   "id": "be3b0d7b-f32b-48ff-99b0-d98ee3ab4b5a",
   "metadata": {},
   "outputs": [
    {
     "name": "stdout",
     "output_type": "stream",
     "text": [
      "{}\n"
     ]
    }
   ],
   "source": [
    "my_dict = {'a': 1, 'b': 2, 'c': 3}\n",
    "\n",
    "# Clear all items from the dictionary\n",
    "my_dict.clear()\n",
    "print(my_dict)  # Output: {}\n"
   ]
  },
  {
   "cell_type": "markdown",
   "id": "94a6781e-0639-453e-a0a0-117a8522eae9",
   "metadata": {},
   "source": [
    "\u0013 What do you mean by FrozenSet? Explain it with suitable examples"
   ]
  },
  {
   "cell_type": "markdown",
   "id": "f60870e0-00e0-477b-b6b7-67133f45698d",
   "metadata": {},
   "source": [
    "A frozenset in Python is an immutable version of a set. While a regular set is mutable,\n",
    "meaning you can add or remove elements, a frozenset is immutable, meaning once it's created, you cannot change its elements.\n",
    "\n",
    "Key Characteristics of a FrozenSet:\n",
    "Immutability: Once created, the elements of a frozenset cannot be changed.\n",
    "Hashable: Since frozensets are immutable, they can be used as keys in a dictionary or elements of another set.\n",
    "Set Operations: Supports the same set operations (union, intersection, difference, etc.) as a regular set."
   ]
  },
  {
   "cell_type": "markdown",
   "id": "8c63230d-f971-417e-ae9b-95097aab93d4",
   "metadata": {},
   "source": [
    "You can create a frozenset using the frozenset() function, which can take any iterable (like a list, tuple, or set) as an argument."
   ]
  },
  {
   "cell_type": "code",
   "execution_count": 6,
   "id": "c8789723-0851-4aac-98ec-ef25a71d3d2c",
   "metadata": {},
   "outputs": [
    {
     "name": "stdout",
     "output_type": "stream",
     "text": [
      "frozenset({1, 2, 3, 4})\n",
      "frozenset({1, 2, 3, 4})\n"
     ]
    }
   ],
   "source": [
    "# Creating a frozenset from a list\n",
    "my_list = [1, 2, 3, 4]\n",
    "frozen = frozenset(my_list)\n",
    "print(frozen)  # Output: frozenset({1, 2, 3, 4})\n",
    "\n",
    "# Creating a frozenset from a set\n",
    "my_set = {1, 2, 3, 4}\n",
    "frozen = frozenset(my_set)\n",
    "print(frozen)  # Output: frozenset({1, 2, 3, 4})\n"
   ]
  },
  {
   "cell_type": "markdown",
   "id": "15cb788b-ff33-4ab8-a2b1-ee0104e1f6a5",
   "metadata": {},
   "source": [
    " Using a FrozenSet as a Dictionary Key:\n",
    "Since frozensets are hashable, they can be used as keys in a dictionary."
   ]
  },
  {
   "cell_type": "code",
   "execution_count": 7,
   "id": "779ff6a9-c114-42a1-a845-273adcdbb1a4",
   "metadata": {},
   "outputs": [
    {
     "name": "stdout",
     "output_type": "stream",
     "text": [
      "{frozenset({1, 2, 3}): 'value'}\n"
     ]
    }
   ],
   "source": [
    "my_dict = {}\n",
    "frozen = frozenset([1, 2, 3])\n",
    "my_dict[frozen] = \"value\"\n",
    "print(my_dict)  # Output: {frozenset({1, 2, 3}): 'value'}\n"
   ]
  },
  {
   "cell_type": "markdown",
   "id": "3cad1765-9e79-4ce5-8df1-5f1a5f6f0609",
   "metadata": {},
   "source": [
    "2. Performing Set Operations:\n",
    "Even though frozensets are immutable, you can still perform set operations and get new sets or frozensets."
   ]
  },
  {
   "cell_type": "code",
   "execution_count": 8,
   "id": "bb9fbeaf-1b10-41c0-8e60-f79b32e223ec",
   "metadata": {},
   "outputs": [
    {
     "name": "stdout",
     "output_type": "stream",
     "text": [
      "frozenset({1, 2, 3, 4, 5})\n",
      "frozenset({3})\n",
      "frozenset({1, 2})\n"
     ]
    }
   ],
   "source": [
    "fs1 = frozenset([1, 2, 3])\n",
    "fs2 = frozenset([3, 4, 5])\n",
    "\n",
    "# Union\n",
    "union_fs = fs1 | fs2  # or fs1.union(fs2)\n",
    "print(union_fs)  # Output: frozenset({1, 2, 3, 4, 5})\n",
    "\n",
    "# Intersection\n",
    "intersection_fs = fs1 & fs2  # or fs1.intersection(fs2)\n",
    "print(intersection_fs)  # Output: frozenset({3})\n",
    "\n",
    "# Difference\n",
    "difference_fs = fs1 - fs2  # or fs1.difference(fs2)\n",
    "print(difference_fs)  # Output: frozenset({1, 2})\n"
   ]
  },
  {
   "cell_type": "markdown",
   "id": "5971120a-8741-40fd-b6f5-a7718ca8abbe",
   "metadata": {},
   "source": [
    "A frozenset is an immutable version of a set.\n",
    "It is hashable and can be used as keys in dictionaries or elements in other sets.\n",
    "Supports set operations like union, intersection, and difference.\n",
    "Useful in scenarios where you need a set that should not be modified after creation."
   ]
  },
  {
   "cell_type": "markdown",
   "id": "2584ac06-350b-4728-bdaf-a28e0c6fdc6a",
   "metadata": {},
   "source": [
    "Differentiate between mutable and immutable data types in Python and give examples of mutable and \n",
    "immutable data types?"
   ]
  },
  {
   "cell_type": "markdown",
   "id": "5a08219a-efe8-49d7-a4a1-cee8b58a572c",
   "metadata": {},
   "source": [
    "string ,frozensets,bytes and tupple are immutable data types and list,dictionary,sets are mutable data types."
   ]
  },
  {
   "cell_type": "code",
   "execution_count": 9,
   "id": "45299c98-5afe-4ee8-ab85-fd4fbfa6b6f1",
   "metadata": {},
   "outputs": [
    {
     "name": "stdout",
     "output_type": "stream",
     "text": [
      "[1, 2, 3, 4]\n"
     ]
    }
   ],
   "source": [
    "my_list = [1, 2, 3]\n",
    "my_list.append(4)  # List is modified to [1, 2, 3, 4]\n",
    "print(my_list)  # Output: [1, 2, 3, 4]\n"
   ]
  },
  {
   "cell_type": "code",
   "execution_count": 10,
   "id": "f5087308-cfe4-4032-9d54-3e12b10cc30a",
   "metadata": {},
   "outputs": [
    {
     "name": "stdout",
     "output_type": "stream",
     "text": [
      "{'a': 1, 'b': 2, 'c': 3}\n"
     ]
    }
   ],
   "source": [
    "my_dict = {'a': 1, 'b': 2}\n",
    "my_dict['c'] = 3  # Dictionary is modified to {'a': 1, 'b': 2, 'c': 3}\n",
    "print(my_dict)  # Output: {'a': 1, 'b': 2, 'c': 3}\n"
   ]
  },
  {
   "cell_type": "code",
   "execution_count": 11,
   "id": "8b63bbeb-290e-47df-858f-a4e9dca4e7b5",
   "metadata": {},
   "outputs": [
    {
     "name": "stdout",
     "output_type": "stream",
     "text": [
      "{1, 2, 3, 4}\n"
     ]
    }
   ],
   "source": [
    "my_set = {1, 2, 3}\n",
    "my_set.add(4)  # Set is modified to {1, 2, 3, 4}\n",
    "print(my_set)  # Output: {1, 2, 3, 4}\n"
   ]
  },
  {
   "cell_type": "code",
   "execution_count": 12,
   "id": "6b53d471-4da9-4ba9-a86d-a341ab6e4ce1",
   "metadata": {},
   "outputs": [
    {
     "name": "stdout",
     "output_type": "stream",
     "text": [
      "Hello\n"
     ]
    }
   ],
   "source": [
    "my_string = \"hello\"\n",
    "# Trying to modify the string will result in an error\n",
    "# my_string[0] = 'H'  # This would raise a TypeError\n",
    "new_string = my_string.replace('h', 'H')  # Creates a new string \"Hello\"\n",
    "print(new_string)  # Output: \"Hello\"\n"
   ]
  },
  {
   "cell_type": "code",
   "execution_count": 13,
   "id": "605eb9b4-f4f4-45c9-88a7-b462ff3a4ff8",
   "metadata": {},
   "outputs": [
    {
     "name": "stdout",
     "output_type": "stream",
     "text": [
      "(1, 2, 3, 4)\n"
     ]
    }
   ],
   "source": [
    "my_tuple = (1, 2, 3)\n",
    "# Trying to modify the tuple will result in an error\n",
    "# my_tuple[0] = 4  # This would raise a TypeError\n",
    "new_tuple = my_tuple + (4,)  # Creates a new tuple (1, 2, 3, 4)\n",
    "print(new_tuple)  # Output: (1, 2, 3, 4)\n"
   ]
  },
  {
   "cell_type": "code",
   "execution_count": 14,
   "id": "633a0d33-7508-4800-a055-019e6a84cd89",
   "metadata": {},
   "outputs": [
    {
     "name": "stdout",
     "output_type": "stream",
     "text": [
      "frozenset({1, 2, 3})\n"
     ]
    }
   ],
   "source": [
    "my_frozenset = frozenset([1, 2, 3])\n",
    "# Frozensets are immutable; you cannot add or remove elements\n",
    "# my_frozenset.add(4)  # This would raise an AttributeError\n",
    "print(my_frozenset)  # Output: frozenset({1, 2, 3})\n"
   ]
  },
  {
   "cell_type": "code",
   "execution_count": 15,
   "id": "3774e752-c550-424b-be3c-f2cdae1740de",
   "metadata": {},
   "outputs": [
    {
     "name": "stdout",
     "output_type": "stream",
     "text": [
      "b'Hello'\n"
     ]
    }
   ],
   "source": [
    "my_bytes = b\"hello\"\n",
    "# Bytes are immutable; you cannot modify elements\n",
    "# my_bytes[0] = b'H'  # This would raise a TypeError\n",
    "new_bytes = my_bytes.replace(b'h', b'H')  # Creates a new bytes object b\"Hello\"\n",
    "print(new_bytes)  # Output: b'Hello'\n"
   ]
  },
  {
   "cell_type": "markdown",
   "id": "c89028bf-1748-4e57-adb8-67812fa91a59",
   "metadata": {},
   "source": [
    "\u0013 What is __init__?Explain with an example"
   ]
  },
  {
   "cell_type": "markdown",
   "id": "5f7ef83a-7754-4bc3-b5f2-a7f7abe5d514",
   "metadata": {},
   "source": [
    "The __init__ method in Python is a special method called a constructor. It is automatically invoked when an instance (object) of a class is created.\n",
    "The purpose of __init__ is to initialize the newly created object with default or initial values."
   ]
  },
  {
   "cell_type": "code",
   "execution_count": 16,
   "id": "7c94f89c-a390-44ab-b81b-bcef54288602",
   "metadata": {},
   "outputs": [
    {
     "name": "stdout",
     "output_type": "stream",
     "text": [
      "Name: Alice, Age: 30\n",
      "Name: Bob, Age: 25\n"
     ]
    }
   ],
   "source": [
    "class Person:\n",
    "    def __init__(self, name, age):\n",
    "        self.name = name  # Initialize the 'name' attribute\n",
    "        self.age = age    # Initialize the 'age' attribute\n",
    "\n",
    "    def display(self):\n",
    "        print(f\"Name: {self.name}, Age: {self.age}\")\n",
    "\n",
    "# Creating instances of the Person class\n",
    "person1 = Person(\"Alice\", 30)\n",
    "person2 = Person(\"Bob\", 25)\n",
    "\n",
    "# Displaying the attributes of the instances\n",
    "person1.display()  # Output: Name: Alice, Age: 30\n",
    "person2.display()  # Output: Name: Bob, Age: 25\n"
   ]
  },
  {
   "cell_type": "markdown",
   "id": "fb55ca37-0b37-412b-96e2-4fd0969cd529",
   "metadata": {},
   "source": [
    "\u0013 What is docstring in Python?Explain with an example?"
   ]
  },
  {
   "cell_type": "markdown",
   "id": "2fb68a64-0869-4985-ac6d-256cee2c1e83",
   "metadata": {},
   "source": [
    "A docstring in Python is a string literal that appears as the first statement in a module, function, class, or method definition. Its purpose is to provide documentation for the component in which it is defined. Docstrings are used to describe what the function, class, or module does, its parameters, return values, and any other relevant information.\n",
    "\n",
    "Key Points:\n",
    "Placement: A docstring must be the first statement in the component (module, function, class, or method).\n",
    "Triple Quotes: Docstrings are typically enclosed in triple quotes (\"\"\" or ''') so they can span multiple lines.\n",
    "Accessing Docstrings: You can access a function's or class's docstring using the __doc__ attribute."
   ]
  },
  {
   "cell_type": "code",
   "execution_count": 17,
   "id": "4043e8bb-d266-4f91-827a-4d64109d097b",
   "metadata": {},
   "outputs": [
    {
     "name": "stdout",
     "output_type": "stream",
     "text": [
      "\n",
      "    Add two numbers and return the result.\n",
      "\n",
      "    Parameters:\n",
      "    a (int or float): The first number.\n",
      "    b (int or float): The second number.\n",
      "\n",
      "    Returns:\n",
      "    int or float: The sum of the two numbers.\n",
      "    \n",
      "\n",
      "    A class to represent a person.\n",
      "\n",
      "    Attributes:\n",
      "    name (str): The name of the person.\n",
      "    age (int): The age of the person.\n",
      "\n",
      "    Methods:\n",
      "    greet():\n",
      "        Prints a greeting message.\n",
      "    \n",
      "\n",
      "        Initialize a new Person instance.\n",
      "\n",
      "        Parameters:\n",
      "        name (str): The name of the person.\n",
      "        age (int): The age of the person.\n",
      "        \n",
      "\n",
      "        Print a greeting message including the person's name.\n",
      "        \n"
     ]
    }
   ],
   "source": [
    "def add(a, b):\n",
    "    \"\"\"\n",
    "    Add two numbers and return the result.\n",
    "\n",
    "    Parameters:\n",
    "    a (int or float): The first number.\n",
    "    b (int or float): The second number.\n",
    "\n",
    "    Returns:\n",
    "    int or float: The sum of the two numbers.\n",
    "    \"\"\"\n",
    "    return a + b\n",
    "\n",
    "class Person:\n",
    "    \"\"\"\n",
    "    A class to represent a person.\n",
    "\n",
    "    Attributes:\n",
    "    name (str): The name of the person.\n",
    "    age (int): The age of the person.\n",
    "\n",
    "    Methods:\n",
    "    greet():\n",
    "        Prints a greeting message.\n",
    "    \"\"\"\n",
    "    \n",
    "    def __init__(self, name, age):\n",
    "        \"\"\"\n",
    "        Initialize a new Person instance.\n",
    "\n",
    "        Parameters:\n",
    "        name (str): The name of the person.\n",
    "        age (int): The age of the person.\n",
    "        \"\"\"\n",
    "        self.name = name\n",
    "        self.age = age\n",
    "    \n",
    "    def greet(self):\n",
    "        \"\"\"\n",
    "        Print a greeting message including the person's name.\n",
    "        \"\"\"\n",
    "        print(f\"Hello, my name is {self.name} and I am {self.age} years old.\")\n",
    "\n",
    "# Accessing the docstrings\n",
    "print(add.__doc__)\n",
    "print(Person.__doc__)\n",
    "print(Person.__init__.__doc__)\n",
    "print(Person.greet.__doc__)\n"
   ]
  },
  {
   "cell_type": "markdown",
   "id": "f4b4a631-bc8e-4e02-906a-0edd7c83a078",
   "metadata": {},
   "source": [
    "\u0013 What are unit tests in Python\t"
   ]
  },
  {
   "cell_type": "markdown",
   "id": "56828bc0-f7b2-441a-a511-a060e3844a69",
   "metadata": {},
   "source": [
    "Unit tests in Python are a way to test individual units of code, such as functions or methods, to ensure they work as expected.\n",
    "They are a crucial part of software development and help catch errors early, verify that code changes don't break existing\n",
    "functionality, and provide documentation on what the code is supposed to do."
   ]
  },
  {
   "cell_type": "markdown",
   "id": "afd50bb6-ed97-4afe-bd7a-f9ca8de56bf1",
   "metadata": {},
   "source": [
    "\u0013 What is break, continue and pass in Python?"
   ]
  },
  {
   "cell_type": "markdown",
   "id": "820a0008-76b8-41ad-b8f6-736466034ec0",
   "metadata": {},
   "source": [
    "break Statement\n",
    "The break statement is used to exit a loop prematurely. When break is executed inside a loop, \n",
    "the loop is terminated immediately, and control flow resumes at the first statement following the loop."
   ]
  },
  {
   "cell_type": "code",
   "execution_count": 3,
   "id": "7e065ac0-8768-429c-9869-1e83bd62ce46",
   "metadata": {},
   "outputs": [
    {
     "name": "stdout",
     "output_type": "stream",
     "text": [
      "0\n",
      "1\n",
      "2\n",
      "3\n",
      "4\n"
     ]
    }
   ],
   "source": [
    "for i in range(10):\n",
    "    if i == 5:\n",
    "        break  # Exit the loop when i is 5\n",
    "    print(i)\n",
    "# Output: 0 1 2 3 4\n"
   ]
  },
  {
   "cell_type": "markdown",
   "id": "f2f6a86c-de45-4446-9903-c49e6d02c4f7",
   "metadata": {},
   "source": [
    "continue Statement\n",
    "The continue statement is used to skip the rest of the code inside the current loop iteration and move to the next iteration of the loop. \n",
    "When continue is executed, the loop's condition is evaluated to determine if another iteration should be executed."
   ]
  },
  {
   "cell_type": "code",
   "execution_count": 4,
   "id": "4e4e0cd9-60bf-4945-959d-e4a2e1615642",
   "metadata": {},
   "outputs": [
    {
     "name": "stdout",
     "output_type": "stream",
     "text": [
      "1\n",
      "3\n",
      "5\n",
      "7\n",
      "9\n"
     ]
    }
   ],
   "source": [
    "for i in range(10):\n",
    "    if i % 2 == 0:\n",
    "        continue  # Skip the rest of the code inside the loop for even numbers\n",
    "    print(i)\n",
    "# Output: 1 3 5 7 9\n"
   ]
  },
  {
   "cell_type": "markdown",
   "id": "6133d485-3736-476d-9a27-2987d6f17b0b",
   "metadata": {},
   "source": [
    "pass Statement\n",
    "The pass statement is a null operation; it does nothing when executed.\n",
    "It is used as a placeholder in code where a statement is syntactically required, but no action is needed. \n",
    "It can be useful in function or class definitions, loops, and conditionals when you're working on the structure \n",
    "of your code but haven't implemented the functionality yet."
   ]
  },
  {
   "cell_type": "code",
   "execution_count": 5,
   "id": "e2d658ea-5fea-4c70-bd24-f1ff77ab0bdf",
   "metadata": {},
   "outputs": [],
   "source": [
    "def some_function():\n",
    "    pass  # Placeholder for future code\n",
    "\n",
    "for i in range(5):\n",
    "    pass  # Loop that does nothing\n",
    "\n",
    "class MyClass:\n",
    "    pass  # Empty class definition\n"
   ]
  },
  {
   "cell_type": "markdown",
   "id": "c1bc5251-7b61-45a2-ba98-a2c3cd90aa9f",
   "metadata": {},
   "source": [
    "Combining break, continue, and pass:"
   ]
  },
  {
   "cell_type": "code",
   "execution_count": 6,
   "id": "641884b8-fdca-497c-8c39-159b295065a2",
   "metadata": {},
   "outputs": [
    {
     "name": "stdout",
     "output_type": "stream",
     "text": [
      "0\n",
      "1\n",
      "2\n",
      "3\n",
      "4\n",
      "6\n",
      "7\n"
     ]
    }
   ],
   "source": [
    "for i in range(10):\n",
    "    if i == 3:\n",
    "        pass  # Placeholder, does nothing\n",
    "    elif i == 5:\n",
    "        continue  # Skip the rest of the code for this iteration\n",
    "    elif i == 8:\n",
    "        break  # Exit the loop\n",
    "    print(i)\n",
    "# Output: 0 1 2 3 4 6 7\n"
   ]
  },
  {
   "cell_type": "markdown",
   "id": "8dacc4a5-000a-4207-8b4d-5f288e38c547",
   "metadata": {},
   "source": [
    "What is the use of self in Python"
   ]
  },
  {
   "cell_type": "markdown",
   "id": "4b7ed2d8-51e3-4fe0-b1f2-a73668888e6e",
   "metadata": {},
   "source": [
    "In Python, self is a reference to the current instance of the class. It is used to access variables that belong to the class. By using self, you can access attributes and methods of the class in Python.\n",
    "\n",
    "Key Points:\n",
    "Instance Variables: self allows you to access instance variables.\n",
    "Method Calls: self is used to call other methods from within the same class.\n",
    "Constructor: self is a parameter in the __init__ method (the constructor) and other instance methods."
   ]
  },
  {
   "cell_type": "code",
   "execution_count": 7,
   "id": "2b8bf017-a096-43a7-b863-785905dd7596",
   "metadata": {},
   "outputs": [
    {
     "name": "stdout",
     "output_type": "stream",
     "text": [
      "Buddy\n",
      "5\n",
      "Buddy says woof!\n",
      "Buddy is now 6 years old.\n"
     ]
    }
   ],
   "source": [
    "class Dog:\n",
    "    def __init__(self, name, age):\n",
    "        self.name = name  # Assign the name parameter to the instance variable name\n",
    "        self.age = age    # Assign the age parameter to the instance variable age\n",
    "\n",
    "    def speak(self):\n",
    "        print(f\"{self.name} says woof!\")\n",
    "\n",
    "    def birthday(self):\n",
    "        self.age += 1\n",
    "        print(f\"{self.name} is now {self.age} years old.\")\n",
    "\n",
    "# Creating an instance of the Dog class\n",
    "my_dog = Dog(\"Buddy\", 5)\n",
    "\n",
    "# Accessing instance variables and methods using self\n",
    "print(my_dog.name)  # Output: Buddy\n",
    "print(my_dog.age)   # Output: 5\n",
    "\n",
    "my_dog.speak()      # Output: Buddy says woof!\n",
    "my_dog.birthday()   # Output: Buddy is now 6 years old.\n"
   ]
  },
  {
   "cell_type": "markdown",
   "id": "9aafda4e-b3ea-4a79-9d9e-9f3edf76545d",
   "metadata": {},
   "source": [
    "What are global, protected and private attributes in Python?"
   ]
  },
  {
   "cell_type": "markdown",
   "id": "db7bc7b9-ea19-48e9-a5e1-3247fc851443",
   "metadata": {},
   "source": [
    "In Python, attributes of a class can be categorized as global, protected, or private, which determine their accessibility within and outside the class.\n",
    "Here's an explanation of each type:\n",
    "\n",
    "Global Attributes\n",
    "Global attributes are not specific to a class but are defined outside any class.\n",
    "These variables are accessible from anywhere in the code, provided they are imported or available in the same namespace."
   ]
  },
  {
   "cell_type": "code",
   "execution_count": 8,
   "id": "99c9e26d-1a30-4f15-9f00-307a7f923e69",
   "metadata": {},
   "outputs": [
    {
     "name": "stdout",
     "output_type": "stream",
     "text": [
      "I am global\n",
      "I am global\n"
     ]
    }
   ],
   "source": [
    "global_variable = \"I am global\"\n",
    "\n",
    "class MyClass:\n",
    "    def print_global(self):\n",
    "        print(global_variable)\n",
    "\n",
    "# Accessing the global variable\n",
    "print(global_variable)  # Output: I am global\n",
    "\n",
    "# Accessing the global variable through a class method\n",
    "obj = MyClass()\n",
    "obj.print_global()  # Output: I am global\n"
   ]
  },
  {
   "cell_type": "markdown",
   "id": "13b8afef-558f-4a61-b277-1e5973bd481a",
   "metadata": {},
   "source": [
    "Protected Attributes\n",
    "Protected attributes are intended to be accessible only within the class and its subclasses.\n",
    "By convention, these attributes are prefixed with a single underscore (_). \n",
    "This is a soft convention and does not enforce true protection, but it signals to other developers that the attribute should not be accessed directly."
   ]
  },
  {
   "cell_type": "code",
   "execution_count": 9,
   "id": "5bd2c54c-5a26-405b-8adb-7c44e8131f87",
   "metadata": {},
   "outputs": [
    {
     "name": "stdout",
     "output_type": "stream",
     "text": [
      "I am protected\n",
      "I am protected\n"
     ]
    }
   ],
   "source": [
    "class BaseClass:\n",
    "    def __init__(self):\n",
    "        self._protected_attr = \"I am protected\"\n",
    "\n",
    "class SubClass(BaseClass):\n",
    "    def print_protected(self):\n",
    "        print(self._protected_attr)\n",
    "\n",
    "# Accessing the protected attribute within the subclass\n",
    "sub_obj = SubClass()\n",
    "sub_obj.print_protected()  # Output: I am protected\n",
    "\n",
    "# Direct access to the protected attribute (not recommended)\n",
    "print(sub_obj._protected_attr)  # Output: I am protected\n"
   ]
  },
  {
   "cell_type": "markdown",
   "id": "92cf9f33-e9aa-4081-8885-0c64ad118af0",
   "metadata": {},
   "source": [
    "Private Attributes\n",
    "Private attributes are intended to be accessible only within the class where they are defined. \n",
    "They are prefixed with a double underscore (__). This name mangling makes it harder (but not impossible) to access\n",
    "these attributes from outside the class."
   ]
  },
  {
   "cell_type": "code",
   "execution_count": 10,
   "id": "f7ddfdfb-8001-4846-93a9-85a2a78f5cb9",
   "metadata": {},
   "outputs": [
    {
     "name": "stdout",
     "output_type": "stream",
     "text": [
      "I am private\n",
      "I am private\n"
     ]
    }
   ],
   "source": [
    "class MyClass:\n",
    "    def __init__(self):\n",
    "        self.__private_attr = \"I am private\"\n",
    "\n",
    "    def print_private(self):\n",
    "        print(self.__private_attr)\n",
    "\n",
    "# Accessing the private attribute within the class\n",
    "obj = MyClass()\n",
    "obj.print_private()  # Output: I am private\n",
    "\n",
    "# Attempt to access the private attribute directly (will raise an AttributeError)\n",
    "# print(obj.__private_attr)  # Uncommenting this line will raise an AttributeError\n",
    "\n",
    "# Accessing the private attribute using name mangling (not recommended)\n",
    "print(obj._MyClass__private_attr)  # Output: I am private\n"
   ]
  },
  {
   "cell_type": "markdown",
   "id": "120dd700-b323-4ed4-83d8-506075207773",
   "metadata": {},
   "source": [
    " What are modules and packages in Python\t"
   ]
  },
  {
   "cell_type": "markdown",
   "id": "ca6f0f97-0c5e-4b8f-a13a-bc5cbfddfd0f",
   "metadata": {},
   "source": [
    "In Python, modules and packages are ways to organize and manage code, making it easier to reuse and maintain.\n",
    "\n",
    "Modules\n",
    "A module is a single file (or files) that is imported under one import and used. A module can define functions, classes, and variables. It can also include runnable code.\n",
    "\n",
    "Creating a Module:\n",
    "You create a module by writing a Python file with a .py extension. For example, mymodule.py."
   ]
  },
  {
   "cell_type": "markdown",
   "id": "12134821-80e4-4fd0-a787-d3463cb5ef99",
   "metadata": {},
   "source": [
    "Packages\n",
    "A package is a way of collecting related modules together within a single tree-like hierarchy. Very complex programs can have a lot of modules, and to keep them organized, you use packages. A package is a directory that contains a special file __init__.py (which can be empty) and can contain multiple modules.\n",
    "\n",
    "Creating a Package:\n",
    "A package is a directory that contains a file named __init__.py and can contain other modules and sub-packages."
   ]
  },
  {
   "cell_type": "markdown",
   "id": "fc32dc71-8d28-4515-8e79-77d5ee99de98",
   "metadata": {},
   "source": [
    " What are lists and tuples? What is the key difference between the two\t"
   ]
  },
  {
   "cell_type": "markdown",
   "id": "e052df7d-5e0c-495e-95bc-1b4d2622b38a",
   "metadata": {},
   "source": [
    "Lists\n",
    "Definition: A list is a collection of items that are ordered and changeable (mutable). Lists allow duplicate elements."
   ]
  },
  {
   "cell_type": "code",
   "execution_count": 11,
   "id": "269c4f0f-76dc-4269-a254-171b7ec38148",
   "metadata": {},
   "outputs": [
    {
     "name": "stdout",
     "output_type": "stream",
     "text": [
      "1\n",
      "[1, 2, 10, 4, 5]\n",
      "[1, 2, 10, 4, 5, 6]\n",
      "[1, 2, 4, 5, 6]\n"
     ]
    }
   ],
   "source": [
    "# Creating a list\n",
    "my_list = [1, 2, 3, 4, 5]\n",
    "\n",
    "# Accessing elements\n",
    "print(my_list[0])  # Output: 1\n",
    "\n",
    "# Modifying elements\n",
    "my_list[2] = 10\n",
    "print(my_list)  # Output: [1, 2, 10, 4, 5]\n",
    "\n",
    "# Adding elements\n",
    "my_list.append(6)\n",
    "print(my_list)  # Output: [1, 2, 10, 4, 5, 6]\n",
    "\n",
    "# Removing elements\n",
    "my_list.remove(10)\n",
    "print(my_list)  # Output: [1, 2, 4, 5, 6]\n"
   ]
  },
  {
   "cell_type": "markdown",
   "id": "9a20bc82-9a16-4816-94ee-34655ea24d02",
   "metadata": {},
   "source": [
    "Tuples\n",
    "Definition: A tuple is a collection of items that are ordered and unchangeable (immutable). Tuples also allow duplicate elements."
   ]
  },
  {
   "cell_type": "code",
   "execution_count": 12,
   "id": "5780a9e3-7e37-4b69-a8da-284560f0a0ad",
   "metadata": {},
   "outputs": [
    {
     "name": "stdout",
     "output_type": "stream",
     "text": [
      "1\n",
      "(1, 2, 3, 4, 5, 6)\n",
      "(1, 2, 4, 5)\n"
     ]
    }
   ],
   "source": [
    "# Creating a tuple\n",
    "my_tuple = (1, 2, 3, 4, 5)\n",
    "\n",
    "# Accessing elements\n",
    "print(my_tuple[0])  # Output: 1\n",
    "\n",
    "# Tuples are immutable, so elements cannot be modified\n",
    "# my_tuple[2] = 10  # This will raise a TypeError\n",
    "\n",
    "# Adding elements is not possible, but you can concatenate tuples\n",
    "new_tuple = my_tuple + (6,)\n",
    "print(new_tuple)  # Output: (1, 2, 3, 4, 5, 6)\n",
    "\n",
    "# Removing elements is not possible, but you can create a new tuple without specific elements\n",
    "shorter_tuple = my_tuple[:2] + my_tuple[3:]\n",
    "print(shorter_tuple)  # Output: (1, 2, 4, 5)\n"
   ]
  },
  {
   "cell_type": "markdown",
   "id": "cbabfa5a-f9e4-4d7e-a51b-a3f9e194453e",
   "metadata": {},
   "source": [
    "\u0013 What is an Interpreted language & dynamically typed language?Write 5 differences between them"
   ]
  },
  {
   "cell_type": "markdown",
   "id": "f92136a8-8280-437c-a002-8e1dcc7ae4cd",
   "metadata": {},
   "source": [
    "Interpreted Language\n",
    "An interpreted language is a type of programming language in which most of its implementations execute instructions directly\n",
    "and freely, without the need for previous compilation into machine-language instructions. Python, JavaScript, and Ruby are examples\n",
    "of interpreted languages."
   ]
  },
  {
   "cell_type": "markdown",
   "id": "aed0eec7-75f7-4ec3-950c-37b0e74ad471",
   "metadata": {},
   "source": [
    "Dynamically Typed Language\n",
    "A dynamically typed language is a type of programming language in which variables do not have fixed types.\n",
    "Instead, variable types are determined at runtime based on the value assigned to them. Python, JavaScript, and \n",
    "Ruby are also examples of dynamically typed languages."
   ]
  },
  {
   "cell_type": "code",
   "execution_count": 13,
   "id": "21e684ae-9b55-46ec-ae0f-91b0212f0720",
   "metadata": {},
   "outputs": [
    {
     "data": {
      "text/html": [
       "<div>\n",
       "<style scoped>\n",
       "    .dataframe tbody tr th:only-of-type {\n",
       "        vertical-align: middle;\n",
       "    }\n",
       "\n",
       "    .dataframe tbody tr th {\n",
       "        vertical-align: top;\n",
       "    }\n",
       "\n",
       "    .dataframe thead th {\n",
       "        text-align: right;\n",
       "    }\n",
       "</style>\n",
       "<table border=\"1\" class=\"dataframe\">\n",
       "  <thead>\n",
       "    <tr style=\"text-align: right;\">\n",
       "      <th></th>\n",
       "      <th>Feature</th>\n",
       "      <th>Interpreted Language</th>\n",
       "      <th>Dynamically Typed Language</th>\n",
       "    </tr>\n",
       "  </thead>\n",
       "  <tbody>\n",
       "    <tr>\n",
       "      <th>0</th>\n",
       "      <td>Nature of Execution</td>\n",
       "      <td>Code executed line by line</td>\n",
       "      <td>Types checked at runtime</td>\n",
       "    </tr>\n",
       "    <tr>\n",
       "      <th>1</th>\n",
       "      <td>Compilation vs. Interpretation</td>\n",
       "      <td>No separate compilation step</td>\n",
       "      <td>Independent of compilation method</td>\n",
       "    </tr>\n",
       "    <tr>\n",
       "      <th>2</th>\n",
       "      <td>Error Checking</td>\n",
       "      <td>Errors detected at runtime</td>\n",
       "      <td>Type-related errors checked at runtime</td>\n",
       "    </tr>\n",
       "    <tr>\n",
       "      <th>3</th>\n",
       "      <td>Performance</td>\n",
       "      <td>Typically slower due to interpretation overhead</td>\n",
       "      <td>Can be slower due to runtime type checking</td>\n",
       "    </tr>\n",
       "    <tr>\n",
       "      <th>4</th>\n",
       "      <td>Flexibility</td>\n",
       "      <td>Immediate execution without compilation</td>\n",
       "      <td>Flexible variable usage and concise code</td>\n",
       "    </tr>\n",
       "  </tbody>\n",
       "</table>\n",
       "</div>"
      ],
      "text/plain": [
       "                          Feature  \\\n",
       "0             Nature of Execution   \n",
       "1  Compilation vs. Interpretation   \n",
       "2                  Error Checking   \n",
       "3                     Performance   \n",
       "4                     Flexibility   \n",
       "\n",
       "                              Interpreted Language  \\\n",
       "0                       Code executed line by line   \n",
       "1                     No separate compilation step   \n",
       "2                       Errors detected at runtime   \n",
       "3  Typically slower due to interpretation overhead   \n",
       "4          Immediate execution without compilation   \n",
       "\n",
       "                   Dynamically Typed Language  \n",
       "0                    Types checked at runtime  \n",
       "1           Independent of compilation method  \n",
       "2      Type-related errors checked at runtime  \n",
       "3  Can be slower due to runtime type checking  \n",
       "4    Flexible variable usage and concise code  "
      ]
     },
     "execution_count": 13,
     "metadata": {},
     "output_type": "execute_result"
    }
   ],
   "source": [
    "import pandas as pd\n",
    "\n",
    "# Create the data for the table\n",
    "data = {\n",
    "    \"Feature\": [\n",
    "        \"Nature of Execution\",\n",
    "        \"Compilation vs. Interpretation\",\n",
    "        \"Error Checking\",\n",
    "        \"Performance\",\n",
    "        \"Flexibility\"\n",
    "    ],\n",
    "    \"Interpreted Language\": [\n",
    "        \"Code executed line by line\",\n",
    "        \"No separate compilation step\",\n",
    "        \"Errors detected at runtime\",\n",
    "        \"Typically slower due to interpretation overhead\",\n",
    "        \"Immediate execution without compilation\"\n",
    "    ],\n",
    "    \"Dynamically Typed Language\": [\n",
    "        \"Types checked at runtime\",\n",
    "        \"Independent of compilation method\",\n",
    "        \"Type-related errors checked at runtime\",\n",
    "        \"Can be slower due to runtime type checking\",\n",
    "        \"Flexible variable usage and concise code\"\n",
    "    ]\n",
    "}\n",
    "\n",
    "# Create the DataFrame\n",
    "df = pd.DataFrame(data)\n",
    "\n",
    "# Display the DataFrame\n",
    "df\n"
   ]
  },
  {
   "cell_type": "markdown",
   "id": "89dc643a-b098-4b1d-854f-79acbd227944",
   "metadata": {},
   "source": [
    "What are Dict and List comprehensions\t"
   ]
  },
  {
   "cell_type": "markdown",
   "id": "5b16f9db-9773-4f22-8eeb-96d4248bbfb0",
   "metadata": {},
   "source": [
    "List Comprehensions\n",
    "A list comprehension provides a concise way to create lists in Python. \n",
    "It consists of brackets containing an expression followed by a for clause, then zero or more for or if clauses.\n",
    "The result will be a new list resulting from evaluating the expression in the context of the for and if clauses that follow it."
   ]
  },
  {
   "cell_type": "code",
   "execution_count": 14,
   "id": "770b6e04-ebad-4560-a3f6-9386532ebe84",
   "metadata": {},
   "outputs": [
    {
     "name": "stdout",
     "output_type": "stream",
     "text": [
      "[0, 1, 4, 9, 16, 25, 36, 49, 64, 81]\n",
      "[0, 2, 4, 6, 8]\n"
     ]
    }
   ],
   "source": [
    "# Creating a list of squares of numbers from 0 to 9 using list comprehension\n",
    "squares = [x**2 for x in range(10)]\n",
    "print(squares)  # Output: [0, 1, 4, 9, 16, 25, 36, 49, 64, 81]\n",
    "\n",
    "# Creating a list of even numbers from 0 to 9 using list comprehension with conditional\n",
    "even_numbers = [x for x in range(10) if x % 2 == 0]\n",
    "print(even_numbers)  # Output: [0, 2, 4, 6, 8]\n"
   ]
  },
  {
   "cell_type": "markdown",
   "id": "96622408-006e-4a34-87f9-0e2fbf58d178",
   "metadata": {},
   "source": [
    "Dict Comprehensions\n",
    "A dict comprehension is similar to a list comprehension, but it constructs dictionaries instead of lists. It uses curly braces {} and has a key\n",
    "pair expression followed by a for clause, then zero or more for or if clauses."
   ]
  },
  {
   "cell_type": "code",
   "execution_count": 15,
   "id": "49f40b00-cade-4778-a8f4-a8384573588d",
   "metadata": {},
   "outputs": [
    {
     "name": "stdout",
     "output_type": "stream",
     "text": [
      "{0: 0, 1: 1, 2: 4, 3: 9, 4: 16, 5: 25, 6: 36, 7: 49, 8: 64, 9: 81}\n",
      "{0: 0, 2: 4, 4: 16, 6: 36, 8: 64}\n"
     ]
    }
   ],
   "source": [
    "# Creating a dictionary of squares of numbers from 0 to 9 using dict comprehension\n",
    "square_dict = {x: x**2 for x in range(10)}\n",
    "print(square_dict)  # Output: {0: 0, 1: 1, 2: 4, 3: 9, 4: 16, 5: 25, 6: 36, 7: 49, 8: 64, 9: 81}\n",
    "\n",
    "# Creating a dictionary with even numbers as keys and their squares as values using dict comprehension with conditional\n",
    "even_square_dict = {x: x**2 for x in range(10) if x % 2 == 0}\n",
    "print(even_square_dict)  # Output: {0: 0, 2: 4, 4: 16, 6: 36, 8: 64}\n"
   ]
  },
  {
   "cell_type": "markdown",
   "id": "4fec1aa2-818e-49f5-9445-a4cb14dae225",
   "metadata": {},
   "source": [
    "\u0013 What are decorators in Python? Explain it with an example.Write down its use cases?"
   ]
  },
  {
   "cell_type": "markdown",
   "id": "59fd485b-d2c6-4eb5-8d9c-892f7b251a43",
   "metadata": {},
   "source": [
    "In Python, decorators are a powerful feature that allows you to modify the behavior of a function or class method.\n",
    "Decorators are functions themselves that take another function or method as an argument and extend or alter its behavior.\n",
    "They provide a clean and Pythonic way to add functionality to existing code without modifying it."
   ]
  },
  {
   "cell_type": "code",
   "execution_count": 16,
   "id": "17443716-74fb-45d7-9cb5-92a106da9773",
   "metadata": {},
   "outputs": [
    {
     "name": "stdout",
     "output_type": "stream",
     "text": [
      "Calling add with args=(3, 5), kwargs={}\n",
      "8\n",
      "Calling greet with args=('Alice',), kwargs={}\n",
      "Hello, Alice!\n"
     ]
    }
   ],
   "source": [
    "def log_function_call(func):\n",
    "    def wrapper(*args, **kwargs):\n",
    "        print(f\"Calling {func.__name__} with args={args}, kwargs={kwargs}\")\n",
    "        return func(*args, **kwargs)\n",
    "    return wrapper\n",
    "\n",
    "@log_function_call\n",
    "def add(a, b):\n",
    "    return a + b\n",
    "\n",
    "@log_function_call\n",
    "def greet(name):\n",
    "    return f\"Hello, {name}!\"\n",
    "\n",
    "print(add(3, 5))  # Output:\n",
    "print(greet(\"Alice\"))  # Output:\n"
   ]
  },
  {
   "cell_type": "markdown",
   "id": "10d0b3e4-0bf2-4c2b-be78-4d1ed048c2a7",
   "metadata": {},
   "source": [
    "Use Cases of Decorators\n",
    "Logging: Capture and log function execution, useful for debugging and auditing.\n",
    "\n",
    "Authorization and Authentication: Ensure that users have the right permissions to access certain functions.\n",
    "\n",
    "Caching: Store results of expensive function calls and reuse them to improve performance.\n",
    "\n",
    "Timing Functions: Measure the time taken by functions to execute.\n",
    "\n",
    "Retry Mechanisms: Automatically retry a function if it fails.\n",
    "\n",
    "Validation: Validate inputs or outputs of functions."
   ]
  },
  {
   "cell_type": "markdown",
   "id": "7108cfaf-c576-41e2-ad18-33bfb62d94bf",
   "metadata": {},
   "source": [
    "\u0013 How is memory managed in Python?"
   ]
  },
  {
   "cell_type": "markdown",
   "id": "4b4bce94-9761-49b6-871a-3f97d4e21d61",
   "metadata": {},
   "source": [
    "Memory management in Python is handled automatically by the Python interpreter through a private heap space. Python uses a mechanism known as automatic memory management or garbage collection to manage memory allocation and deallocation efficiently. Here’s how memory management works in Python:\n",
    "\n",
    "1. Private Heap Space\n",
    "Python has its own private heap space, which is where all Python objects and data structures are stored.\n",
    "The management of this private heap space is ensured internally by the Python memory manager.\n",
    "2. Memory Allocation\n",
    "Object Allocation: When you create an object (e.g., variables, lists, dictionaries, etc.), Python allocates memory dynamically to store the object's value. This is done using the malloc() function in the C language.\n",
    "Memory Pool: Python maintains an internal pool of memory blocks for efficient allocation of objects. This helps reduce the overhead of memory allocation operations.\n",
    "3. Reference Counting\n",
    "Tracking References: Python keeps track of the number of references to each object in memory. Every object has a reference count that tracks how many variables and data structures are pointing to it.\n",
    "Increment and Decrement: When a new reference to an object is created, Python increments the reference count. When a reference is deleted or goes out of scope, Python decrements the reference count.\n",
    "4. Garbage Collection\n",
    "Automatic Garbage Collection: Python uses a garbage collector (GC) to reclaim memory from objects that are no longer referenced or reachable.\n",
    "Mark-and-Sweep Algorithm: Python's GC uses a combination of reference counting and a cyclic garbage collector using the mark-and-sweep algorithm to identify and reclaim unreachable objects.\n",
    "Mark Phase: Identify all objects that are reachable from the root objects (like global variables, local variables, etc.) and mark them as reachable.\n",
    "Sweep Phase: Sweep through all allocated memory blocks, reclaiming memory from objects that are not marked as reachable (i.e., objects with zero reference count).\n",
    "5. Memory Fragmentation\n",
    "Memory Reuse: Python's memory manager handles memory fragmentation and reuses memory blocks efficiently to minimize memory fragmentation issues.\n",
    "Object Reuse: Python also reuses memory blocks for objects of the same type to improve memory allocation performance.\n",
    "6. Memory Profiling and Optimization\n",
    "Memory Profiling: Tools like memory_profiler can be used to profile memory usage and identify potential memory leaks or inefficient memory usage patterns.\n",
    "Optimization Techniques: Techniques like object pooling, reducing unnecessary object creation, and optimizing data structures can help optimize memory usage in Python applications."
   ]
  },
  {
   "cell_type": "markdown",
   "id": "2bf5235b-888d-420d-8ea4-323a2c552274",
   "metadata": {},
   "source": [
    "What is lambda in Python? Why is it used?"
   ]
  },
  {
   "cell_type": "markdown",
   "id": "abd2677d-f1f9-40e5-96aa-fdf66743e733",
   "metadata": {},
   "source": [
    "Lambda in Python\n",
    "A lambda function in Python is a small anonymous function defined with the lambda keyword. It can have any number of arguments, but it can only have one expression. The expression is evaluated and returned."
   ]
  },
  {
   "cell_type": "code",
   "execution_count": 17,
   "id": "0d6b3ec0-7269-4041-8049-2768a3af2082",
   "metadata": {},
   "outputs": [
    {
     "name": "stdout",
     "output_type": "stream",
     "text": [
      "15\n",
      "12\n"
     ]
    }
   ],
   "source": [
    "# A simple lambda function that adds 10 to the input\n",
    "add_ten = lambda x: x + 10\n",
    "print(add_ten(5))  # Output: 15\n",
    "\n",
    "# A lambda function with multiple arguments\n",
    "multiply = lambda x, y: x * y\n",
    "print(multiply(3, 4))  # Output: 12\n"
   ]
  },
  {
   "cell_type": "markdown",
   "id": "3f724034-c9d5-4044-8497-6189a67468e9",
   "metadata": {},
   "source": [
    "Why Use Lambda Functions?\n",
    "Conciseness: Lambda functions provide a way to write small, single-use functions in a concise manner without needing to formally define them using the def keyword.\n",
    "\n",
    "Functional Programming: Lambdas are often used in functional programming paradigms where functions are treated as first-class citizens. They are commonly used with functions like map(), filter(), and reduce().\n",
    "\n",
    "Anonymous Functions: When you need a function for a short period and do not want to give it a name, lambda functions are useful.\n",
    "\n",
    "Higher-Order Functions: They are handy when used as an argument to higher-order functions, which take other functions as arguments."
   ]
  },
  {
   "cell_type": "markdown",
   "id": "a7dafc48-43a5-4972-8771-33f39c5d5415",
   "metadata": {},
   "source": [
    "Explain split() and join() functions in Python\t"
   ]
  },
  {
   "cell_type": "code",
   "execution_count": 18,
   "id": "bf181096-9172-4ffd-a6f8-7093b0bbdf11",
   "metadata": {},
   "outputs": [
    {
     "data": {
      "text/plain": [
       "['I', 'study', 'Data', 'Science']"
      ]
     },
     "execution_count": 18,
     "metadata": {},
     "output_type": "execute_result"
    }
   ],
   "source": [
    "s=\"I study Data Science\"\n",
    "s.split()"
   ]
  },
  {
   "cell_type": "code",
   "execution_count": 21,
   "id": "5912762a-6924-46bf-8191-1d41bb04ff12",
   "metadata": {},
   "outputs": [
    {
     "data": {
      "text/plain": [
       "'I study Data Science'"
      ]
     },
     "execution_count": 21,
     "metadata": {},
     "output_type": "execute_result"
    }
   ],
   "source": [
    "('').join(s)"
   ]
  },
  {
   "cell_type": "markdown",
   "id": "8b25935d-8982-48d3-a9b1-82e5ce46c2b5",
   "metadata": {},
   "source": [
    "What are iterators , iterable & generators in Python\t"
   ]
  },
  {
   "cell_type": "markdown",
   "id": "6d2b0762-42a2-43e4-ac69-c218a16a2f62",
   "metadata": {},
   "source": [
    "Iterables\n",
    "An iterable is any Python object that can return its elements one at a time, allowing it to be iterated over in a loop. Examples include lists, tuples, dictionaries, sets, and strings."
   ]
  },
  {
   "cell_type": "code",
   "execution_count": 22,
   "id": "85710bb4-580e-4dd8-bdab-b308fcb5fe9a",
   "metadata": {},
   "outputs": [
    {
     "name": "stdout",
     "output_type": "stream",
     "text": [
      "1\n",
      "2\n",
      "3\n"
     ]
    }
   ],
   "source": [
    "# List is an example of an iterable\n",
    "my_list = [1, 2, 3]\n",
    "\n",
    "# Using a for loop to iterate over the list\n",
    "for item in my_list:\n",
    "    print(item)\n"
   ]
  },
  {
   "cell_type": "markdown",
   "id": "45c1c25c-ee1e-4a5e-8b17-059ab04c0028",
   "metadata": {},
   "source": [
    "An iterator is an object that represents a stream of data. It implements two methods:\n",
    "\n",
    "__iter__(): Returns the iterator object itself.\n",
    "__next__(): Returns the next element from the data stream. If no more data is available, it raises a StopIteration exception."
   ]
  },
  {
   "cell_type": "code",
   "execution_count": 23,
   "id": "6e4800e8-c0e9-4b46-8f48-b155b343ea0c",
   "metadata": {},
   "outputs": [
    {
     "name": "stdout",
     "output_type": "stream",
     "text": [
      "1\n",
      "2\n",
      "3\n"
     ]
    }
   ],
   "source": [
    "# Creating an iterator from an iterable\n",
    "my_list = [1, 2, 3]\n",
    "my_iterator = iter(my_list)\n",
    "\n",
    "print(next(my_iterator))  # Output: 1\n",
    "print(next(my_iterator))  # Output: 2\n",
    "print(next(my_iterator))  # Output: 3\n",
    "# print(next(my_iterator))  # Raises StopIteration\n"
   ]
  },
  {
   "cell_type": "markdown",
   "id": "b49c29f4-97ed-49ef-9a89-ac6a03c2d83a",
   "metadata": {},
   "source": [
    "Generators\n",
    "A generator is a special type of iterator, which is defined using a function rather than a class. It uses the yield statement to produce a series of values lazily, one at a time, pausing between each value and resuming where it left off when the next value is requested."
   ]
  },
  {
   "cell_type": "code",
   "execution_count": 24,
   "id": "eef1aa61-ea4c-434b-a01b-8bbbb1fafee6",
   "metadata": {},
   "outputs": [
    {
     "name": "stdout",
     "output_type": "stream",
     "text": [
      "1\n",
      "2\n",
      "3\n"
     ]
    }
   ],
   "source": [
    "def simple_generator():\n",
    "    yield 1\n",
    "    yield 2\n",
    "    yield 3\n",
    "\n",
    "gen = simple_generator()\n",
    "\n",
    "print(next(gen))  # Output: 1\n",
    "print(next(gen))  # Output: 2\n",
    "print(next(gen))  # Output: 3\n",
    "# print(next(gen))  # Raises StopIteration\n"
   ]
  },
  {
   "cell_type": "markdown",
   "id": "acd61f97-e62f-45ee-8c5c-5dfcf3acc3f2",
   "metadata": {},
   "source": [
    "What is the difference between xrange and range in Python\t?"
   ]
  },
  {
   "cell_type": "markdown",
   "id": "9bbb1019-8138-4f3c-be6e-c3d59c26a461",
   "metadata": {},
   "source": [
    "The difference between range and xrange primarily pertains to their existence and behavior in different versions of Python.\n",
    "\n",
    "Python 2: range vs. xrange\n",
    "In Python 2, range and xrange serve similar purposes but have different implementations and use cases.\n",
    "\n",
    "range in Python 2\n",
    "Type: Returns a list.\n",
    "Usage: Creates a list of numbers, which is stored in memory."
   ]
  },
  {
   "cell_type": "code",
   "execution_count": 25,
   "id": "0dcecedd-2b27-4792-a660-820a9f07601d",
   "metadata": {},
   "outputs": [
    {
     "name": "stdout",
     "output_type": "stream",
     "text": [
      "range(0, 5)\n"
     ]
    }
   ],
   "source": [
    "r = range(5)\n",
    "print(r)  # Output: [0, 1, 2, 3, 4]\n"
   ]
  },
  {
   "cell_type": "markdown",
   "id": "9a6a4e7a-65b7-46c0-8d90-c0dba6be27c7",
   "metadata": {},
   "source": [
    "xrange in Python 2\n",
    "Type: Returns an xrange object, which generates numbers on-the-fly (lazy evaluation).\n",
    "Usage: More memory efficient for large ranges, as it doesn't store all the numbers in memory.\n"
   ]
  },
  {
   "cell_type": "code",
   "execution_count": 26,
   "id": "f777d71f-66a1-4cdf-97c1-a5ee0db674ba",
   "metadata": {},
   "outputs": [
    {
     "ename": "NameError",
     "evalue": "name 'xrange' is not defined",
     "output_type": "error",
     "traceback": [
      "\u001b[1;31m---------------------------------------------------------------------------\u001b[0m",
      "\u001b[1;31mNameError\u001b[0m                                 Traceback (most recent call last)",
      "Cell \u001b[1;32mIn[26], line 1\u001b[0m\n\u001b[1;32m----> 1\u001b[0m xr \u001b[38;5;241m=\u001b[39m xrange(\u001b[38;5;241m5\u001b[39m)\n\u001b[0;32m      2\u001b[0m \u001b[38;5;28mprint\u001b[39m(xr)  \u001b[38;5;66;03m# Output: xrange(5)\u001b[39;00m\n\u001b[0;32m      3\u001b[0m \u001b[38;5;66;03m# To see the numbers:\u001b[39;00m\n",
      "\u001b[1;31mNameError\u001b[0m: name 'xrange' is not defined"
     ]
    }
   ],
   "source": [
    "xr = xrange(5)\n",
    "print(xr)  # Output: xrange(5)\n",
    "# To see the numbers:\n",
    "print(list(xr))  # Output: [0, 1, 2, 3, 4]\n"
   ]
  },
  {
   "cell_type": "markdown",
   "id": "563b1903-f9e8-4366-b717-a6b50595a259",
   "metadata": {},
   "source": [
    "In Python 3, xrange has been removed, and range has been implemented to behave like xrange from Python 2, providing the benefits of both functionalities."
   ]
  },
  {
   "cell_type": "code",
   "execution_count": 27,
   "id": "fbf8f17c-f565-43ab-9267-17181c22858b",
   "metadata": {},
   "outputs": [
    {
     "name": "stdout",
     "output_type": "stream",
     "text": [
      "range(0, 5)\n",
      "[0, 1, 2, 3, 4]\n"
     ]
    }
   ],
   "source": [
    "r = range(5)\n",
    "print(r)  # Output: range(0, 5)\n",
    "# To see the numbers:\n",
    "print(list(r))  # Output: [0, 1, 2, 3, 4]\n"
   ]
  },
  {
   "cell_type": "markdown",
   "id": "3e5b269f-b4f6-4b18-b427-a5fa2216715f",
   "metadata": {},
   "source": [
    " Pillars of Oops//What is encapsulation? Explain it with an example8//What is polymorphism?  Explain it with an example"
   ]
  },
  {
   "cell_type": "markdown",
   "id": "6f1941cc-ec78-4c56-a4ad-b0cbf7b4c219",
   "metadata": {},
   "source": [
    "Object-Oriented Programming (OOP) is a programming paradigm centered around objects and classes. The four main pillars of OOP are:\n",
    "\n",
    "1. Encapsulation\n",
    "Encapsulation is the concept of bundling the data (attributes) and methods (functions) that operate on the data into a single unit, known as a class. It restricts direct access to some of the object's components, which is a means of preventing accidental interference and misuse of the data. This is typically achieved by using access modifiers like private, protected, and public."
   ]
  },
  {
   "cell_type": "code",
   "execution_count": 28,
   "id": "b3bf87a6-8e2e-4b8a-a39c-8db0d8fb11a4",
   "metadata": {},
   "outputs": [
    {
     "name": "stdout",
     "output_type": "stream",
     "text": [
      "Toyota Camry, Year: 2021\n",
      "Toyota Camry, Year: 2022\n"
     ]
    }
   ],
   "source": [
    "class Car:\n",
    "    def __init__(self, make, model, year):\n",
    "        self.make = make\n",
    "        self.model = model\n",
    "        self.__year = year  # Private attribute\n",
    "\n",
    "    def display_info(self):\n",
    "        print(f\"{self.make} {self.model}, Year: {self.__year}\")\n",
    "\n",
    "    def set_year(self, year):\n",
    "        if year > 0:\n",
    "            self.__year = year\n",
    "        else:\n",
    "            print(\"Invalid year\")\n",
    "\n",
    "car = Car(\"Toyota\", \"Camry\", 2021)\n",
    "car.display_info()  # Output: Toyota Camry, Year: 2021\n",
    "car.__year = 2022   # Won't change the private attribute\n",
    "car.set_year(2022)  # Use setter method to change the year\n",
    "car.display_info()  # Output: Toyota Camry, Year: 2022\n"
   ]
  },
  {
   "cell_type": "markdown",
   "id": "a42c87e0-b255-467b-810a-99512dc08c96",
   "metadata": {},
   "source": [
    "2. Inheritance\n",
    "Inheritance is the mechanism by which one class (child class) can inherit attributes and methods from another class (parent class). It promotes code reusability and establishes a natural hierarchy between classes."
   ]
  },
  {
   "cell_type": "code",
   "execution_count": 29,
   "id": "06305cb2-7a5c-4fc7-8f73-3f3f62c12796",
   "metadata": {},
   "outputs": [
    {
     "name": "stdout",
     "output_type": "stream",
     "text": [
      "Vehicle: Honda Civic\n",
      "Year: 2020\n"
     ]
    }
   ],
   "source": [
    "class Vehicle:\n",
    "    def __init__(self, make, model):\n",
    "        self.make = make\n",
    "        self.model = model\n",
    "\n",
    "    def display_info(self):\n",
    "        print(f\"Vehicle: {self.make} {self.model}\")\n",
    "\n",
    "class Car(Vehicle):\n",
    "    def __init__(self, make, model, year):\n",
    "        super().__init__(make, model)\n",
    "        self.year = year\n",
    "\n",
    "    def display_info(self):\n",
    "        super().display_info()\n",
    "        print(f\"Year: {self.year}\")\n",
    "\n",
    "car = Car(\"Honda\", \"Civic\", 2020)\n",
    "car.display_info()\n",
    "# Output:\n",
    "# Vehicle: Honda Civic\n",
    "# Year: 2020\n"
   ]
  },
  {
   "cell_type": "markdown",
   "id": "51b0dd7c-2bac-4854-b236-76bbdea4edc9",
   "metadata": {},
   "source": [
    "3. Polymorphism\n",
    "Polymorphism allows methods to do different things based on the object it is acting upon. In simple terms, it means \"many forms\". It allows objects of different classes to be treated as objects of a common superclass. The two main types of polymorphism are method overriding (runtime polymorphism) and method overloading (compile-time polymorphism, which is not supported in Python directly)."
   ]
  },
  {
   "cell_type": "code",
   "execution_count": 30,
   "id": "dcbad366-a259-4394-9f52-9b978f674c4f",
   "metadata": {},
   "outputs": [
    {
     "name": "stdout",
     "output_type": "stream",
     "text": [
      "Parrots squawk\n",
      "Penguins chirp\n"
     ]
    }
   ],
   "source": [
    "class Bird:\n",
    "    def sound(self):\n",
    "        print(\"Birds make sounds\")\n",
    "\n",
    "class Parrot(Bird):\n",
    "    def sound(self):\n",
    "        print(\"Parrots squawk\")\n",
    "\n",
    "class Penguin(Bird):\n",
    "    def sound(self):\n",
    "        print(\"Penguins chirp\")\n",
    "\n",
    "# Function demonstrating polymorphism\n",
    "def make_sound(bird):\n",
    "    bird.sound()\n",
    "\n",
    "parrot = Parrot()\n",
    "penguin = Penguin()\n",
    "\n",
    "make_sound(parrot)   # Output: Parrots squawk\n",
    "make_sound(penguin)  # Output: Penguins chirp\n"
   ]
  },
  {
   "cell_type": "markdown",
   "id": "3055abe6-867c-44f5-bd47-767ce77cf340",
   "metadata": {},
   "source": [
    "4. Abstraction\n",
    "Abstraction is the concept of hiding the complex implementation details and showing only the essential features of the object. It reduces complexity and allows the programmer to focus on interactions at a higher level."
   ]
  },
  {
   "cell_type": "code",
   "execution_count": 31,
   "id": "326bba59-9dae-4e29-b330-43febe8ee115",
   "metadata": {},
   "outputs": [
    {
     "name": "stdout",
     "output_type": "stream",
     "text": [
      "Bark\n",
      "Meow\n"
     ]
    }
   ],
   "source": [
    "from abc import ABC, abstractmethod\n",
    "\n",
    "class Animal(ABC):\n",
    "    @abstractmethod\n",
    "    def make_sound(self):\n",
    "        pass\n",
    "\n",
    "class Dog(Animal):\n",
    "    def make_sound(self):\n",
    "        print(\"Bark\")\n",
    "\n",
    "class Cat(Animal):\n",
    "    def make_sound(self):\n",
    "        print(\"Meow\")\n",
    "\n",
    "# Cannot instantiate an abstract class\n",
    "# animal = Animal()  # This will raise an error\n",
    "\n",
    "dog = Dog()\n",
    "cat = Cat()\n",
    "\n",
    "dog.make_sound()  # Output: Bark\n",
    "cat.make_sound()  # Output: Meow\n"
   ]
  },
  {
   "cell_type": "markdown",
   "id": "51631791-f83d-4f4c-bf5e-635276d54a7f",
   "metadata": {},
   "source": [
    " How will you check if a class is a child of another class\t?"
   ]
  },
  {
   "cell_type": "markdown",
   "id": "87de51d5-edcf-43c3-bdb1-4baf01b92447",
   "metadata": {},
   "source": [
    "In Python, you can check if a class is a subclass of another class using the built-in issubclass() function. This function takes two arguments: the first is the class you want to check, and the second is the potential parent class (or a tuple of classes). It returns True if the first class is a subclass of the second class (or any class in the tuple), and False otherwise."
   ]
  },
  {
   "cell_type": "code",
   "execution_count": 37,
   "id": "0e6af54f-d778-4e85-8cd5-0504a2b45881",
   "metadata": {},
   "outputs": [
    {
     "name": "stdout",
     "output_type": "stream",
     "text": [
      "True\n",
      "True\n",
      "False\n"
     ]
    }
   ],
   "source": [
    "class Animal:\n",
    "    pass\n",
    "\n",
    "class Dog(Animal):\n",
    "    pass\n",
    "\n",
    "class Cat(Animal):\n",
    "    pass\n",
    "\n",
    "class Car:\n",
    "    pass\n",
    "\n",
    "# Check if Dog is a subclass of Animal\n",
    "print(issubclass(Dog, Animal))  # Output: True\n",
    "\n",
    "# Check if Cat is a subclass of Animal\n",
    "print(issubclass(Cat, Animal))  # Output: True\n",
    "\n",
    "# Check if Car is a subclass of Animal\n",
    "print(issubclass(Car, Animal))  # Output: False\n"
   ]
  },
  {
   "cell_type": "markdown",
   "id": "71e121e8-fb64-4797-b99f-cca075006fe2",
   "metadata": {},
   "source": [
    "Additionally, you can use the __bases__ attribute to directly inspect the base classes of a class, though this is less commonly used."
   ]
  },
  {
   "cell_type": "code",
   "execution_count": 35,
   "id": "9f026309-4e3a-4141-ba5e-ceab7db55b7f",
   "metadata": {},
   "outputs": [
    {
     "name": "stdout",
     "output_type": "stream",
     "text": [
      "(<class '__main__.Animal'>,)\n",
      "(<class 'object'>,)\n"
     ]
    }
   ],
   "source": [
    "class Animal:\n",
    "    pass\n",
    "\n",
    "class Dog(Animal):\n",
    "    pass\n",
    "\n",
    "# Check base classes of Dog\n",
    "print(Dog.__bases__)  # Output: (<class '__main__.Animal'>,)\n",
    "\n",
    "# Check base classes of Animal\n",
    "print(Animal.__bases__)  # Output: (<class 'object'>,) because all classes implicitly inherit from object\n"
   ]
  },
  {
   "cell_type": "markdown",
   "id": "a6430542-1c2e-498a-ae4a-457b0dbe5ec5",
   "metadata": {},
   "source": [
    "Checking with Multiple Inheritance\n",
    "If a class can inherit from multiple classes, you can use issubclass() to check against a tuple of classes."
   ]
  },
  {
   "cell_type": "code",
   "execution_count": 38,
   "id": "4895dcb1-09f3-4991-81a3-b8319c571b4d",
   "metadata": {},
   "outputs": [
    {
     "name": "stdout",
     "output_type": "stream",
     "text": [
      "True\n",
      "False\n"
     ]
    }
   ],
   "source": [
    "class Animal:\n",
    "    pass\n",
    "\n",
    "class Mammal:\n",
    "    pass\n",
    "\n",
    "class Dog(Animal, Mammal):\n",
    "    pass\n",
    "\n",
    "# Check if Dog is a subclass of Animal and Mammal\n",
    "print(issubclass(Dog, (Animal, Mammal)))  # Output: True\n",
    "\n",
    "# Check if Dog is a subclass of a non-inherited class\n",
    "print(issubclass(Dog, Car))  # Output: False\n"
   ]
  },
  {
   "cell_type": "markdown",
   "id": "a683eb3c-298b-4464-b8cf-0a6715c5ca78",
   "metadata": {},
   "source": [
    "How does inheritance work in python? Explain all types of inheritance with an example"
   ]
  },
  {
   "cell_type": "markdown",
   "id": "35050ff7-7a5f-4d03-a24f-99ef663119c1",
   "metadata": {},
   "source": [
    "Inheritance in Python is a fundamental concept in object-oriented programming (OOP) that allows one class (child class) to inherit attributes and methods from another class (parent class). This promotes code reuse and establishes a natural hierarchy between classes."
   ]
  },
  {
   "cell_type": "markdown",
   "id": "38e6868f-a807-4cea-b3aa-bedb4f4f3c27",
   "metadata": {},
   "source": [
    "Types of Inheritance in Python\n",
    "Single Inheritance.,\n",
    "Multiple Inheritance,\n",
    "Multilevel Inheritance,\n",
    "Hierarchical Inheritance,\n",
    "Hybrid Inheritance"
   ]
  },
  {
   "cell_type": "markdown",
   "id": "16d17997-b6ec-44c6-85f7-14d4f462df08",
   "metadata": {},
   "source": [
    "1. Single Inheritance\n",
    "Single inheritance occurs when a class inherits from one parent class."
   ]
  },
  {
   "cell_type": "code",
   "execution_count": 39,
   "id": "2756ec29-90a3-4f1b-9eaf-ef369a308007",
   "metadata": {},
   "outputs": [
    {
     "name": "stdout",
     "output_type": "stream",
     "text": [
      "Animal makes a sound\n",
      "Dog barks\n"
     ]
    }
   ],
   "source": [
    "class Animal:\n",
    "    def speak(self):\n",
    "        print(\"Animal makes a sound\")\n",
    "\n",
    "class Dog(Animal):\n",
    "    def bark(self):\n",
    "        print(\"Dog barks\")\n",
    "\n",
    "# Creating an instance of Dog\n",
    "dog = Dog()\n",
    "dog.speak()  # Inherited method from Animal class\n",
    "dog.bark()   # Method of Dog class\n"
   ]
  },
  {
   "cell_type": "markdown",
   "id": "edf1cc7e-a0a0-44f3-8098-a7615b121306",
   "metadata": {},
   "source": [
    "2. Multiple Inheritance\n",
    "Multiple inheritance occurs when a class inherits from more than one parent class."
   ]
  },
  {
   "cell_type": "code",
   "execution_count": 40,
   "id": "26408104-b6b3-40b7-9c42-baa91228b28d",
   "metadata": {},
   "outputs": [
    {
     "name": "stdout",
     "output_type": "stream",
     "text": [
      "Mammal walks\n",
      "Bird flies\n"
     ]
    }
   ],
   "source": [
    "class Mammal:\n",
    "    def walk(self):\n",
    "        print(\"Mammal walks\")\n",
    "\n",
    "class Bird:\n",
    "    def fly(self):\n",
    "        print(\"Bird flies\")\n",
    "\n",
    "class Bat(Mammal, Bird):\n",
    "    pass\n",
    "\n",
    "# Creating an instance of Bat\n",
    "bat = Bat()\n",
    "bat.walk()  # Inherited from Mammal\n",
    "bat.fly()   # Inherited from Bird\n"
   ]
  },
  {
   "cell_type": "markdown",
   "id": "fdf021eb-e960-405c-914f-7cd29bac8bbf",
   "metadata": {},
   "source": [
    "3. Multilevel Inheritance\n",
    "Multilevel inheritance occurs when a class inherits from another class, which in turn inherits from another class."
   ]
  },
  {
   "cell_type": "code",
   "execution_count": 41,
   "id": "c9c8e19b-47e3-42b9-ac34-7216ac189abf",
   "metadata": {},
   "outputs": [
    {
     "name": "stdout",
     "output_type": "stream",
     "text": [
      "Animal makes a sound\n",
      "Mammal walks\n",
      "Dog barks\n"
     ]
    }
   ],
   "source": [
    "class Animal:\n",
    "    def speak(self):\n",
    "        print(\"Animal makes a sound\")\n",
    "\n",
    "class Mammal(Animal):\n",
    "    def walk(self):\n",
    "        print(\"Mammal walks\")\n",
    "\n",
    "class Dog(Mammal):\n",
    "    def bark(self):\n",
    "        print(\"Dog barks\")\n",
    "\n",
    "# Creating an instance of Dog\n",
    "dog = Dog()\n",
    "dog.speak()  # Inherited from Animal\n",
    "dog.walk()   # Inherited from Mammal\n",
    "dog.bark()   # Method of Dog class\n"
   ]
  },
  {
   "cell_type": "markdown",
   "id": "3ed9deb9-86dc-4092-b190-d5f9521c6bcd",
   "metadata": {},
   "source": [
    "4. Hierarchical Inheritance\n",
    "Hierarchical inheritance occurs when multiple classes inherit from the same parent class."
   ]
  },
  {
   "cell_type": "code",
   "execution_count": 42,
   "id": "1583d61e-fa1d-4833-baa1-47802fcec80c",
   "metadata": {},
   "outputs": [
    {
     "name": "stdout",
     "output_type": "stream",
     "text": [
      "Animal makes a sound\n",
      "Dog barks\n",
      "Animal makes a sound\n",
      "Cat meows\n"
     ]
    }
   ],
   "source": [
    "class Animal:\n",
    "    def speak(self):\n",
    "        print(\"Animal makes a sound\")\n",
    "\n",
    "class Dog(Animal):\n",
    "    def bark(self):\n",
    "        print(\"Dog barks\")\n",
    "\n",
    "class Cat(Animal):\n",
    "    def meow(self):\n",
    "        print(\"Cat meows\")\n",
    "\n",
    "# Creating instances of Dog and Cat\n",
    "dog = Dog()\n",
    "cat = Cat()\n",
    "\n",
    "dog.speak()  # Inherited from Animal\n",
    "dog.bark()   # Method of Dog class\n",
    "\n",
    "cat.speak()  # Inherited from Animal\n",
    "cat.meow()   # Method of Cat class\n"
   ]
  },
  {
   "cell_type": "markdown",
   "id": "afa3e1de-cb0f-4aa9-b6b0-af25612b0479",
   "metadata": {},
   "source": [
    "5. Hybrid Inheritance\n",
    "Hybrid inheritance is a combination of two or more types of inheritance. It can involve any mix of single, multiple, multilevel, and hierarchical inheritance."
   ]
  },
  {
   "cell_type": "code",
   "execution_count": 43,
   "id": "d56d8365-5e44-4ed3-8bb7-04c1da1883ea",
   "metadata": {},
   "outputs": [
    {
     "name": "stdout",
     "output_type": "stream",
     "text": [
      "Animal makes a sound\n",
      "Mammal walks\n",
      "Bird flies\n"
     ]
    }
   ],
   "source": [
    "class Animal:\n",
    "    def speak(self):\n",
    "        print(\"Animal makes a sound\")\n",
    "\n",
    "class Mammal(Animal):\n",
    "    def walk(self):\n",
    "        print(\"Mammal walks\")\n",
    "\n",
    "class Bird(Animal):\n",
    "    def fly(self):\n",
    "        print(\"Bird flies\")\n",
    "\n",
    "class Bat(Mammal, Bird):\n",
    "    pass\n",
    "\n",
    "# Creating an instance of Bat\n",
    "bat = Bat()\n",
    "bat.speak()  # Inherited from Animal\n",
    "bat.walk()   # Inherited from Mammal\n",
    "bat.fly()    # Inherited from Bird\n"
   ]
  },
  {
   "cell_type": "markdown",
   "id": "7e9996b2-62ac-4a69-a9c5-37ee530d3678",
   "metadata": {},
   "source": [
    "Question 1. 2. Which of the following identifier names are invalid and why?    \n",
    "\n",
    "a) Serial_no.\n",
    "\n",
    "b) 1st_Room\n",
    "\n",
    "c) Hundred$\n",
    "\n",
    "d) Total_Marks\n",
    "\n",
    "e) total-Marks\n",
    "\n",
    "f) Total Marks \n",
    "\n",
    "g) True\n",
    "\n",
    "h) _Percentag"
   ]
  },
  {
   "cell_type": "markdown",
   "id": "7366a727-ea1d-4d8b-a9c8-52059d323abb",
   "metadata": {},
   "source": [
    "An identifier can only contain alphanumeric characters (a-z, A-Z, 0-9) and underscores (_).\n",
    "An identifier cannot start with a digit.\n",
    "An identifier cannot contain spaces.\n",
    "An identifier cannot contain special characters like $, -, or spaces.\n",
    "Keywords (reserved words in Python) cannot be used as identifiers."
   ]
  },
  {
   "cell_type": "code",
   "execution_count": 44,
   "id": "0ba1849f-1ba1-463a-a404-34d4110a8cf1",
   "metadata": {},
   "outputs": [
    {
     "data": {
      "text/plain": [
       "'a) Serial_no.: Invalid (contains a period)\\nb) 1st_Room: Invalid (starts with a digit)\\nc) Hundred$: Invalid (contains a dollar sign)\\nd) Total_Marks: Valid\\ne) total-Marks: Invalid (contains a hyphen)\\nf) Total Marks: Invalid (contains a space)\\ng) True: Invalid (reserved keyword)\\nh) _Percentag: Valid'"
      ]
     },
     "execution_count": 44,
     "metadata": {},
     "output_type": "execute_result"
    }
   ],
   "source": [
    "'''a) Serial_no.: Invalid (contains a period)\n",
    "b) 1st_Room: Invalid (starts with a digit)\n",
    "c) Hundred$: Invalid (contains a dollar sign)\n",
    "d) Total_Marks: Valid\n",
    "e) total-Marks: Invalid (contains a hyphen)\n",
    "f) Total Marks: Invalid (contains a space)\n",
    "g) True: Invalid (reserved keyword)\n",
    "h) _Percentag: Valid'''"
   ]
  },
  {
   "cell_type": "markdown",
   "id": "21c7c791-4753-4cec-bf01-6d09c441f460",
   "metadata": {},
   "source": [
    "Question 1.3. \n",
    "\n",
    "name = [\"Mohan\", \"dash\", \"karam\", \"chandra\",\"gandhi\",\"Bapu\"]\n",
    "\n",
    "do the following operations in this list;\n",
    "\n",
    "\n",
    "a) add an element \"freedom_fighter\" in this list at the 0th index.\n",
    "\n",
    "\n",
    "b) find the output of the following ,and explain how?"
   ]
  },
  {
   "cell_type": "code",
   "execution_count": 60,
   "id": "6dd22b3a-a076-4253-aca1-855d4892a960",
   "metadata": {},
   "outputs": [
    {
     "data": {
      "text/plain": [
       "['freedom_fighter', 'Mohan', 'dash', 'karam', 'chandra', 'gandhi', 'Bapu']"
      ]
     },
     "execution_count": 60,
     "metadata": {},
     "output_type": "execute_result"
    }
   ],
   "source": [
    "name = [\"Mohan\", \"dash\", \"karam\", \"chandra\",\"gandhi\",\"Bapu\"]\n",
    "name.append('freedom_fighter')\n",
    "l=[]\n",
    "l.append(name[-1])\n",
    "name=l+ name[0:-1]\n",
    "name"
   ]
  },
  {
   "cell_type": "code",
   "execution_count": 70,
   "id": "2f285695-d2b0-4e32-af9e-adcbd556274f",
   "metadata": {},
   "outputs": [
    {
     "name": "stdout",
     "output_type": "stream",
     "text": [
      "6\n"
     ]
    }
   ],
   "source": [
    "name = [\"freedomFighter\",\"Bapuji\",\"MOhan\" \"dash\", \"karam\", \"chandra\",\"gandhi\"]\n",
    "\n",
    "length1=len((name[-len(name)+1:-1:2]))\n",
    "\n",
    "length2=len((name[-len(name)+1:-1]))\n",
    "\n",
    "print(length1+length2)\n"
   ]
  },
  {
   "cell_type": "code",
   "execution_count": 63,
   "id": "e2cb73b2-9c7f-4135-92b9-309d189c97ed",
   "metadata": {},
   "outputs": [
    {
     "data": {
      "text/plain": [
       "2"
      ]
     },
     "execution_count": 63,
     "metadata": {},
     "output_type": "execute_result"
    }
   ],
   "source": [
    "length1"
   ]
  },
  {
   "cell_type": "code",
   "execution_count": 64,
   "id": "98c96870-cb55-4265-b787-2987c2b5ffed",
   "metadata": {},
   "outputs": [
    {
     "data": {
      "text/plain": [
       "4"
      ]
     },
     "execution_count": 64,
     "metadata": {},
     "output_type": "execute_result"
    }
   ],
   "source": [
    "length2"
   ]
  },
  {
   "cell_type": "code",
   "execution_count": 71,
   "id": "9e3b1117-07c0-45b5-b749-21411d6ce339",
   "metadata": {},
   "outputs": [
    {
     "data": {
      "text/plain": [
       "['freedomFighter', 'Bapuji', 'MOhandash', 'karam', 'chandra', 'gandhi']"
      ]
     },
     "execution_count": 71,
     "metadata": {},
     "output_type": "execute_result"
    }
   ],
   "source": [
    "name"
   ]
  },
  {
   "cell_type": "code",
   "execution_count": 72,
   "id": "5c53dd12-6aea-4a4a-a79c-1fe1126d2005",
   "metadata": {},
   "outputs": [
    {
     "data": {
      "text/plain": [
       "['freedomFighter',\n",
       " 'Bapuji',\n",
       " 'MOhandash',\n",
       " 'karam',\n",
       " 'chandra',\n",
       " 'gandhi',\n",
       " 'Netaji',\n",
       " 'Bose']"
      ]
     },
     "execution_count": 72,
     "metadata": {},
     "output_type": "execute_result"
    }
   ],
   "source": [
    "name.extend(['Netaji','Bose'])\n",
    "name"
   ]
  },
  {
   "cell_type": "markdown",
   "id": "c1f0385a-a8b2-420b-bc59-812cc5d5f981",
   "metadata": {},
   "source": [
    "d) what will be the value of temp:\n",
    "\n",
    "name = [\"Bapuji\", \"dash\", \"karam\", \"chandra\",\"gandi\",\"Mohan\"]\n",
    "\n",
    "temp=name[-1]\n",
    "\n",
    "name[-1]=name[0]\n",
    "\n",
    "name[0]=temp\n",
    "\n",
    "print(name"
   ]
  },
  {
   "cell_type": "code",
   "execution_count": 73,
   "id": "f44a2dbc-f5d0-4b80-b97b-78f4d6edd733",
   "metadata": {},
   "outputs": [
    {
     "name": "stdout",
     "output_type": "stream",
     "text": [
      "['Mohan', 'dash', 'karam', 'chandra', 'gandi', 'Bapuji']\n"
     ]
    }
   ],
   "source": [
    "name = [\"Bapuji\", \"dash\", \"karam\", \"chandra\",\"gandi\",\"Mohan\"]\n",
    "\n",
    "temp=name[-1]\n",
    "\n",
    "name[-1]=name[0]\n",
    "\n",
    "name[0]=temp\n",
    "\n",
    "print(name)"
   ]
  },
  {
   "cell_type": "markdown",
   "id": "8794899c-007d-47a9-8b66-95f1e1338dde",
   "metadata": {},
   "source": [
    "mohan is the answer"
   ]
  },
  {
   "cell_type": "markdown",
   "id": "eb374d99-d3dc-49e3-a5df-37b59b49b3de",
   "metadata": {},
   "source": [
    "Question 1.4.Find the output of the following.\n",
    "\n",
    "animal = ['Human','cat','mat','cat','rat','Human', 'Lion']\n",
    "\n",
    "print(animal.count('Human'))\n",
    "\n",
    "print(animal.index('rat'))\n",
    "\n",
    "print(len(animal)"
   ]
  },
  {
   "cell_type": "markdown",
   "id": "8cd30070-cad9-4343-8e9a-3b23ddccd06c",
   "metadata": {},
   "source": [
    "Count of human is 2 and index of rat is 4 and length of animal is 7"
   ]
  },
  {
   "cell_type": "code",
   "execution_count": 75,
   "id": "31e27de6-a33f-4361-8ffe-92c497f64dc7",
   "metadata": {},
   "outputs": [
    {
     "name": "stdout",
     "output_type": "stream",
     "text": [
      "2\n",
      "4\n",
      "7\n"
     ]
    }
   ],
   "source": [
    "animal = ['Human','cat','mat','cat','rat','Human', 'Lion']\n",
    "\n",
    "print(animal.count('Human'))\n",
    "\n",
    "print(animal.index('rat'))\n",
    "\n",
    "print(len(animal))"
   ]
  },
  {
   "cell_type": "markdown",
   "id": "a369a0f9-d6d9-492a-bae2-ce40d425f726",
   "metadata": {},
   "source": [
    "Question 1.5. tuple1=(10,20,\"Apple\",3.4,'a',[\"master\",\"ji\"],(\"sita\",\"geeta\",22),[{\"roll_no\"N1},\n",
    "{\"name\"N\"Navneet\"}])\n",
    "\n",
    "\n",
    "a)Trint(len(tuTle1)@\n",
    "b)Trint(tuTle1[-1][-1][\"name\"]@\n",
    "c)fetch the value of roll_no from this tuTle.\n",
    "\n",
    "d)Trint(tuTle1[-3][1]@\n",
    "e)fetch the element \"22\" from this tuTle."
   ]
  },
  {
   "cell_type": "code",
   "execution_count": 77,
   "id": "34b488f5-b254-4bb1-a492-2d68917fdb9c",
   "metadata": {},
   "outputs": [],
   "source": [
    "tuple1=(10,20,\"Apple\",3.4,'a',[\"master\",\"ji\"],(\"sita\",\"geeta\",22),[{\"roll_no\":1},{\"name\":\"Navneet\"}])"
   ]
  },
  {
   "cell_type": "code",
   "execution_count": 78,
   "id": "144c0d92-f287-4c1d-9d88-126283ec795a",
   "metadata": {},
   "outputs": [
    {
     "name": "stdout",
     "output_type": "stream",
     "text": [
      "8\n"
     ]
    }
   ],
   "source": [
    "print(len(tuple1))"
   ]
  },
  {
   "cell_type": "code",
   "execution_count": 80,
   "id": "bf7f0f67-a7ab-4d43-a3a7-0e06a419991c",
   "metadata": {},
   "outputs": [
    {
     "name": "stdout",
     "output_type": "stream",
     "text": [
      "Navneet\n"
     ]
    }
   ],
   "source": [
    "print(tuple1[-1][-1]['name'])"
   ]
  },
  {
   "cell_type": "code",
   "execution_count": 83,
   "id": "4073537d-9560-4686-b7f6-7297912ee328",
   "metadata": {},
   "outputs": [
    {
     "name": "stdout",
     "output_type": "stream",
     "text": [
      "1\n"
     ]
    }
   ],
   "source": [
    "print(tuple1[-1][0]['roll_no'])"
   ]
  },
  {
   "cell_type": "code",
   "execution_count": 85,
   "id": "32db6240-40b2-433a-aa3a-e661fd5658a6",
   "metadata": {},
   "outputs": [
    {
     "name": "stdout",
     "output_type": "stream",
     "text": [
      "22\n"
     ]
    }
   ],
   "source": [
    "print(tuple1[-2][2])"
   ]
  },
  {
   "cell_type": "markdown",
   "id": "b4e9b4cf-dea3-4478-a338-844190bfff25",
   "metadata": {},
   "source": [
    "1.6. Write a program to display the appropriate message as per the color of signal(RED-Stop/Yellow-Stay/\n",
    "Green-Go) at the road crossing."
   ]
  },
  {
   "cell_type": "code",
   "execution_count": 87,
   "id": "9bf6b125-6899-4fe3-a177-87d558fcb7eb",
   "metadata": {},
   "outputs": [
    {
     "name": "stdout",
     "output_type": "stream",
     "text": [
      "enter the color RED\n"
     ]
    },
    {
     "name": "stdout",
     "output_type": "stream",
     "text": [
      "Stop\n"
     ]
    }
   ],
   "source": [
    "color=str(input(\"enter the color\"))\n",
    "if color=='RED':\n",
    "    print('Stop')\n",
    "elif color=='Yellow':\n",
    "    print('Stay')\n",
    "elif color=='Green':\n",
    "    print('Go')\n",
    "\n"
   ]
  },
  {
   "cell_type": "markdown",
   "id": "5a06c0a6-27ac-48cc-ad9e-1407f39383a0",
   "metadata": {},
   "source": [
    "1.7. Write a program to create a simple calculator performing only four basic operations(+,-,/,*) "
   ]
  },
  {
   "cell_type": "code",
   "execution_count": 88,
   "id": "fb51b56a-642a-4d73-b039-d5e2ac7f010d",
   "metadata": {},
   "outputs": [
    {
     "name": "stdout",
     "output_type": "stream",
     "text": [
      "5\n",
      "-1\n",
      "0.6666666666666666\n",
      "6\n"
     ]
    }
   ],
   "source": [
    "def add(a,b):\n",
    "    return a+b\n",
    "def subtract(a,b):\n",
    "    return a-b\n",
    "def division(a,b):\n",
    "    return a/b\n",
    "def multiply(a,b):\n",
    "    return a*b\n",
    "print(add(2,3))\n",
    "print(subtract(2,3))\n",
    "print(division(2,3))\n",
    "print(multiply(2,3))"
   ]
  },
  {
   "cell_type": "markdown",
   "id": "4aafcd5f-fdbb-4516-b8ae-55ab7be18ce0",
   "metadata": {},
   "source": [
    "1.8. Write a program to find the larger of the three pre-specified numbers using ternary operators"
   ]
  },
  {
   "cell_type": "code",
   "execution_count": 89,
   "id": "5465474a-d14b-4baf-b68f-4f3ba1388c2e",
   "metadata": {},
   "outputs": [
    {
     "name": "stdout",
     "output_type": "stream",
     "text": [
      "b is largest\n"
     ]
    }
   ],
   "source": [
    "a=10\n",
    "b=20\n",
    "c=5\n",
    "if a>b and a>c:\n",
    "    print(\"a is largest\")\n",
    "elif b>a and b>c:\n",
    "    print('b is largest')\n",
    "else:\n",
    "    print(\"c is largest\")"
   ]
  },
  {
   "cell_type": "markdown",
   "id": "cba04cc9-7653-4f93-8344-c0ee57329c10",
   "metadata": {},
   "source": [
    "1.9.  Write a program to find the factors of a whole number  using a while loop."
   ]
  },
  {
   "cell_type": "code",
   "execution_count": 92,
   "id": "a65b17ad-504e-4c5b-8197-ca5d4df6aa73",
   "metadata": {},
   "outputs": [
    {
     "name": "stdout",
     "output_type": "stream",
     "text": [
      "Factors of 36 are: [1, 2, 3, 4, 6, 9, 12, 18, 36]\n"
     ]
    }
   ],
   "source": [
    "def find_factors(number):\n",
    "    # Initialize variables\n",
    "    factors = []\n",
    "    i = 1\n",
    "    \n",
    "    # Use a while loop to find factors\n",
    "    while i <= number:\n",
    "        if number % i == 0:\n",
    "            factors.append(i)\n",
    "        i += 1\n",
    "    \n",
    "    return factors\n",
    "\n",
    "# Example usage:\n",
    "num = 36\n",
    "print(f\"Factors of {num} are:\", find_factors(num))\n"
   ]
  },
  {
   "cell_type": "markdown",
   "id": "17484180-51e1-4cf9-b4c4-20f37e4c0a85",
   "metadata": {},
   "source": [
    "1.10.  Write a program to find the sum of all the positive numbers entered by the user. As soon as the user \n",
    "enters a negative number, stop taking in any further input from the user and display the sum ."
   ]
  },
  {
   "cell_type": "code",
   "execution_count": 100,
   "id": "b417096d-ea8b-43c4-8961-9be3c49f85f0",
   "metadata": {},
   "outputs": [
    {
     "name": "stdout",
     "output_type": "stream",
     "text": [
      "Enter the number (negative number to exit):  3\n",
      "Enter the number (negative number to exit):  4\n",
      "Enter the number (negative number to exit):  5\n",
      "Enter the number (negative number to exit):  -1\n"
     ]
    },
    {
     "name": "stdout",
     "output_type": "stream",
     "text": [
      "12\n"
     ]
    }
   ],
   "source": [
    "s=0\n",
    "while True:\n",
    "    n = int(input(\"Enter the number (negative number to exit): \"))\n",
    "    if n>0:\n",
    "        s=s+n\n",
    "        continue\n",
    "    elif n<0:\n",
    "        break\n",
    "    \n",
    "print(s)"
   ]
  },
  {
   "cell_type": "markdown",
   "id": "160a29de-b0a4-402e-b629-5940e49526d6",
   "metadata": {},
   "source": [
    "1.11.   Write a program to find prime numbers between 2 to 100 using nested for loops"
   ]
  },
  {
   "cell_type": "code",
   "execution_count": 105,
   "id": "08dd631f-fa35-48e4-ba3c-00b5af12845a",
   "metadata": {},
   "outputs": [
    {
     "name": "stdout",
     "output_type": "stream",
     "text": [
      "[2, 3, 4, 5, 6, 7, 8, 9, 11, 13, 15, 17, 19, 23, 25, 29, 31, 35, 37, 41, 43, 47, 49, 53, 59, 61, 67, 71, 73, 79, 83, 89, 97]\n"
     ]
    }
   ],
   "source": [
    "def prime(n):\n",
    "    for i in range(2,int(n**0.5)):\n",
    "        if n%i==0:\n",
    "            return False\n",
    "    return True\n",
    "l=[]\n",
    "for i in range(2,101):\n",
    "    if prime(i):\n",
    "        l.append(i)\n",
    "print(l)        "
   ]
  },
  {
   "cell_type": "markdown",
   "id": "297d63c4-9877-4124-a2f9-1aa640e201c3",
   "metadata": {},
   "source": [
    "1.12.   Write the  programs for the followingM\n",
    "? AcceTt the marks of the student in five major subjects and disTlay the sameS\n",
    "? Calculate the sum of the marks of all subjects.Divide the total marks by number of subjects (i.e. 5), calculate \n",
    "Tercentage = total marks/5 and disTlay the TercentageS\n",
    "? Find the grade of the student as Ter the following criteria . Hint: Use Match & case for this.:\n"
   ]
  },
  {
   "cell_type": "code",
   "execution_count": 107,
   "id": "295dbfbe-99f9-49c9-9324-23784af59ea8",
   "metadata": {},
   "outputs": [
    {
     "data": {
      "text/plain": [
       "{'Maths': 45, 'English': 38, 'Science': 41, 'Hindi': 44, 'History': 48}"
      ]
     },
     "execution_count": 107,
     "metadata": {},
     "output_type": "execute_result"
    }
   ],
   "source": [
    "l1=['Maths','English','Science','Hindi','History']\n",
    "l2=[45,38,41,44,48]\n",
    "d=dict(zip(l1,l2))\n",
    "d"
   ]
  },
  {
   "cell_type": "code",
   "execution_count": 109,
   "id": "f6f772f9-e415-445b-ac4d-412ac3854208",
   "metadata": {},
   "outputs": [
    {
     "name": "stdout",
     "output_type": "stream",
     "text": [
      "45\n",
      "83\n",
      "124\n",
      "168\n",
      "216\n",
      "D\n"
     ]
    }
   ],
   "source": [
    "s=0\n",
    "for k,v in d.items():\n",
    "    s=s+v\n",
    "    print(s)\n",
    "    p=s/5\n",
    "if p>85:\n",
    "    grade='A'\n",
    "elif p<85 and p>=75:\n",
    "    grade='B'\n",
    "elif p<75 and p>=50:\n",
    "    grade='C'\n",
    "elif p<=50 and p>30:\n",
    "    grade='D'\n",
    "elif p<30:\n",
    "    grade='Reapppear'\n",
    "    \n",
    "print(grade)    \n"
   ]
  },
  {
   "cell_type": "markdown",
   "id": "c1daaab4-0b82-4451-870c-a4d24d836750",
   "metadata": {},
   "source": [
    " 1.13. Write a program for VIBGYOR Spectrum based on their Wavelength using.\n",
    "\n",
    "Wavelength Range:"
   ]
  },
  {
   "cell_type": "code",
   "execution_count": 113,
   "id": "369c9e42-1c8c-4520-9974-e9b829b71501",
   "metadata": {},
   "outputs": [
    {
     "name": "stdout",
     "output_type": "stream",
     "text": [
      "enter the wavelength 400\n"
     ]
    },
    {
     "name": "stdout",
     "output_type": "stream",
     "text": [
      "Violet\n"
     ]
    }
   ],
   "source": [
    "wavelength=float(input(\"enter the wavelength\"))\n",
    "if wavelength>=400.0 and wavelength<=440.0:\n",
    "    color='Violet'\n",
    "elif wavelength>440.0 and wavelength<=460.0:\n",
    "    color='Indigo'\n",
    "elif wavelength>460.0 and wavelength<=500.0:\n",
    "    color='Blue'\n",
    "elif wavelength>500.0 and wavelength<=570.0:\n",
    "    color='Green'\n",
    "elif wavelength>570.0 and wavelength<=590.0:\n",
    "    color='Yellow'\n",
    "elif wavelength>590.0 and wavelength<=620.0:\n",
    "    color='Orange'\n",
    "elif wavelength>620.0 and wavelength<=720.0:\n",
    "    color='Red'\n",
    "print(color)\n",
    "     \n",
    "        "
   ]
  },
  {
   "cell_type": "markdown",
   "id": "64252dc6-f904-415e-a603-42af7c84ae55",
   "metadata": {},
   "source": [
    "1.14.Consider the gravitational interactions between the Earth, Moon, and Sun in our solar system. \n",
    "\n",
    "Given:\n",
    "\n",
    "mass_earth = 5.972e24  # Mass of Earth in kilograms\n",
    "\n",
    "mass_moon = 7.34767309e22  # Mass of Moon in kilograms\n",
    "\n",
    "mass_sun = \u0019.989e30  # Mass of Sun in kilograms\n",
    "\n",
    "\n",
    "distan0e_earth_sun = \u0019.496e\u0019\u0019  # Average distan0e between Earth and Sun in meters\n",
    "\n",
    "distan0e_moon_earth = 3.844e8  # Average distan0e between Moon and Earth in meters\n",
    "\n",
    "\n",
    "Tasks\u0002\n",
    "/ Cal0ulate the gravitational for0e between the Earth and the Sun\u0018\n",
    "/ Cal0ulate the gravitational for0e between the Moon and the Earth\u0018\n",
    "/ Compare the 0al0ulated for0es to determine whi0h gravitational for0e is stronger\u0018\n",
    "/ Explain whi0h 0elestial body (Earth or Moon\u0003 is more attra0ted to the other based on the 0omparison"
   ]
  },
  {
   "cell_type": "code",
   "execution_count": 118,
   "id": "914cd0cd-2e31-4f7e-831b-2c2fbcf6d1c7",
   "metadata": {},
   "outputs": [],
   "source": [
    "mass_earth = 5.972*10**(24)  # Mass of Earth in kilograms\n",
    "\n",
    "mass_moon = 7.34767309*10**(22)  # Mass of Moon in kilograms\n",
    "\n",
    "mass_sun = 1.989*10**(30)  # Mass of Sun in kilograms\n",
    "\n",
    "\n",
    "distance_earth_sun = 1.496*10**(11)  # Average distan0e between Earth and Sun in meters\n",
    "\n",
    "distance_moon_earth = 3.844*10**(8)  # Average distan0e between Moon and Earth in meters"
   ]
  },
  {
   "cell_type": "markdown",
   "id": "ed05159c-bc2b-4223-b2a1-f64f4eaf719a",
   "metadata": {},
   "source": [
    "Cal0ulate the gravitational for0e between the Earth and the Sun"
   ]
  },
  {
   "cell_type": "code",
   "execution_count": 124,
   "id": "b209f441-75cc-49b9-a866-b93943b83e94",
   "metadata": {},
   "outputs": [],
   "source": [
    "f1=6.7*10**(-11)*(mass_earth*mass_sun)/distance_earth_sun**2"
   ]
  },
  {
   "cell_type": "code",
   "execution_count": 125,
   "id": "8096f4d4-faeb-4816-bd30-f0ee33592522",
   "metadata": {},
   "outputs": [
    {
     "data": {
      "text/plain": [
       "3.5560364000972292e+22"
      ]
     },
     "execution_count": 125,
     "metadata": {},
     "output_type": "execute_result"
    }
   ],
   "source": [
    "f1"
   ]
  },
  {
   "cell_type": "markdown",
   "id": "af435e64-d1e2-4c30-bea1-7f206c9ccb5a",
   "metadata": {},
   "source": [
    " Cal0ulate the gravitational for0e between the Moon and the Earth"
   ]
  },
  {
   "cell_type": "code",
   "execution_count": 126,
   "id": "c868b6ed-9585-4b9a-9b9f-3f5a04b9d37e",
   "metadata": {},
   "outputs": [],
   "source": [
    "f2=6.7*10**(-11)*(mass_earth*mass_moon)/distance_moon_earth**2"
   ]
  },
  {
   "cell_type": "code",
   "execution_count": 127,
   "id": "15e49cad-a373-4b9c-8e0f-764e52528dc6",
   "metadata": {},
   "outputs": [
    {
     "data": {
      "text/plain": [
       "1.989654503973895e+20"
      ]
     },
     "execution_count": 127,
     "metadata": {},
     "output_type": "execute_result"
    }
   ],
   "source": [
    "f2"
   ]
  },
  {
   "cell_type": "code",
   "execution_count": 128,
   "id": "80615480-a81f-4080-b008-eb6925e75665",
   "metadata": {},
   "outputs": [
    {
     "name": "stdout",
     "output_type": "stream",
     "text": [
      "force between earth and sun is greater\n"
     ]
    }
   ],
   "source": [
    "if f1>f2:\n",
    "    print(\"force between earth and sun is greater\")\n",
    "else:\n",
    "    print(\"force between moon and earth is greater\")"
   ]
  },
  {
   "cell_type": "markdown",
   "id": "9d8aa0ad-7224-43db-b095-38426a6a67d0",
   "metadata": {},
   "source": [
    " Explain whi0h 0elestial body (Earth or Moon\u0003 is more attra0ted to the other based on the 0omparison"
   ]
  },
  {
   "cell_type": "markdown",
   "id": "899edc31-7617-48e7-944f-5789932e9548",
   "metadata": {},
   "source": [
    "as the force between earth and sun is greater earth is more attracted to the sun than the force between the earth and the moon"
   ]
  },
  {
   "cell_type": "markdown",
   "id": "fa3273b6-a859-4e88-b276-2decb582d9d4",
   "metadata": {},
   "source": [
    "2. Design and implement a Python program for managing student information using object-oriented \n",
    "principles. Create a class called `Student` with encapsulated attributes for name, age, and roll number. \n",
    "Implement getter and setter methods for these attributes. Additionally, provide methods to display student \n",
    "information and update student details.\n",
    "\n",
    "\n",
    "Tasks\u000e\n",
    "3 Define the `Student` class with encapsulated attributes\u0016\n",
    "3 Implement getter and setter methods for the attributes\u0016\n",
    "3 Write methods to display student information and update details\u0016\n",
    "3 Create instances of the `Student` class and test the implemented functionality\u0017"
   ]
  },
  {
   "cell_type": "code",
   "execution_count": 131,
   "id": "d22a016e-78ac-4fb1-ad90-8ea8e6ea9217",
   "metadata": {},
   "outputs": [
    {
     "name": "stdout",
     "output_type": "stream",
     "text": [
      "Initial Student Information:\n",
      "Student Name: Alice\n",
      "Age: 20\n",
      "Roll Number: A001\n",
      "\n",
      "Student Name: Bob\n",
      "Age: 22\n",
      "Roll Number: B002\n",
      "\n",
      "Updating Student Details...\n",
      "\n",
      "Updated Student Information:\n",
      "Student Name: Alicia\n",
      "Age: 21\n",
      "Roll Number: A001\n",
      "\n",
      "Student Name: Bob\n",
      "Age: 22\n",
      "Roll Number: B0022\n"
     ]
    }
   ],
   "source": [
    "class Student:\n",
    "    def __init__(self, name, age, roll_number):\n",
    "        self.__name = name\n",
    "        self.__age = age\n",
    "        self.__roll_number = roll_number\n",
    "\n",
    "    # Getter methods\n",
    "    def get_name(self):\n",
    "        return self.__name\n",
    "\n",
    "    def get_age(self):\n",
    "        return self.__age\n",
    "\n",
    "    def get_roll_number(self):\n",
    "        return self.__roll_number\n",
    "\n",
    "    # Setter methods\n",
    "    def set_name(self, name):\n",
    "        self.__name = name\n",
    "\n",
    "    def set_age(self, age):\n",
    "        if age > 0:\n",
    "            self.__age = age\n",
    "        else:\n",
    "            print(\"Invalid age. Age must be a positive number.\")\n",
    "\n",
    "    def set_roll_number(self, roll_number):\n",
    "        self.__roll_number = roll_number\n",
    "\n",
    "    # Method to display student information\n",
    "    def display_info(self):\n",
    "        print(f\"Student Name: {self.__name}\")\n",
    "        print(f\"Age: {self.__age}\")\n",
    "        print(f\"Roll Number: {self.__roll_number}\")\n",
    "\n",
    "    # Method to update student details\n",
    "    def update_details(self, name=None, age=None, roll_number=None):\n",
    "        if name is not None:\n",
    "            self.set_name(name)\n",
    "        if age is not None:\n",
    "            self.set_age(age)\n",
    "        if roll_number is not None:\n",
    "            self.set_roll_number(roll_number)\n",
    "\n",
    "# Create instances of the Student class\n",
    "student1 = Student(\"Alice\", 20, \"A001\")\n",
    "student2 = Student(\"Bob\", 22, \"B002\")\n",
    "\n",
    "# Display initial student information\n",
    "print(\"Initial Student Information:\")\n",
    "student1.display_info()\n",
    "print()\n",
    "student2.display_info()\n",
    "\n",
    "# Update student details\n",
    "print(\"\\nUpdating Student Details...\")\n",
    "student1.update_details(name=\"Alicia\",age=21)\n",
    "student2.update_details(roll_number=\"B0022\")\n",
    "\n",
    "# Display updated student information\n",
    "print(\"\\nUpdated Student Information:\")\n",
    "student1.display_info()\n",
    "print()\n",
    "student2.display_info()\n"
   ]
  },
  {
   "cell_type": "markdown",
   "id": "7b8ccaa0-f51d-4699-b4cc-022f57cbb92f",
   "metadata": {},
   "source": [
    "3.Develop a Python program for managing library resources efficiently. Design a class named `LibraryBoo\u000f` \n",
    "with attributes li\u000fe boo\u000f name, author, and availability status. Implement methods for borrowing and \n",
    "returning boo\u000fs while ensuring proper encapsulation of attributes.\n",
    "\n",
    "\n",
    "Tasks\u000e\n",
    "3 1. Create the `LibraryBook` class with encapsulated attributes\u0016\n",
    "3 2. Implement methods for borrowing and returning books\u0016\n",
    "3 3. Ensure proper encapsulation to protect book details\u0016\n",
    "3 4. Test the borrowing and returning functionality with sample data"
   ]
  },
  {
   "cell_type": "code",
   "execution_count": 132,
   "id": "761db97a-75bb-4c76-9952-8e7b5ed893fc",
   "metadata": {},
   "outputs": [
    {
     "name": "stdout",
     "output_type": "stream",
     "text": [
      "Initial Book Information:\n",
      "Book Name: To Kill a Mockingbird\n",
      "Author: Harper Lee\n",
      "Availability Status: Available\n",
      "\n",
      "Book Name: 1984\n",
      "Author: George Orwell\n",
      "Availability Status: Available\n",
      "\n",
      "Borrowing Books:\n",
      "The book 'To Kill a Mockingbird' has been borrowed.\n",
      "The book '1984' has been borrowed.\n",
      "Sorry, the book '1984' is currently not available.\n",
      "\n",
      "Book Information After Borrowing:\n",
      "Book Name: To Kill a Mockingbird\n",
      "Author: Harper Lee\n",
      "Availability Status: Not Available\n",
      "\n",
      "Book Name: 1984\n",
      "Author: George Orwell\n",
      "Availability Status: Not Available\n",
      "\n",
      "Returning Books:\n",
      "The book 'To Kill a Mockingbird' has been returned.\n",
      "The book '1984' has been returned.\n",
      "The book '1984' was not borrowed.\n",
      "\n",
      "Book Information After Returning:\n",
      "Book Name: To Kill a Mockingbird\n",
      "Author: Harper Lee\n",
      "Availability Status: Available\n",
      "\n",
      "Book Name: 1984\n",
      "Author: George Orwell\n",
      "Availability Status: Available\n"
     ]
    }
   ],
   "source": [
    "class LibraryBook:\n",
    "    def __init__(self, book_name, author, availability_status=True):\n",
    "        self.__book_name = book_name\n",
    "        self.__author = author\n",
    "        self.__availability_status = availability_status\n",
    "\n",
    "    # Getter methods\n",
    "    def get_book_name(self):\n",
    "        return self.__book_name\n",
    "\n",
    "    def get_author(self):\n",
    "        return self.__author\n",
    "\n",
    "    def is_available(self):\n",
    "        return self.__availability_status\n",
    "\n",
    "    # Method to borrow a book\n",
    "    def borrow_book(self):\n",
    "        if self.__availability_status:\n",
    "            self.__availability_status = False\n",
    "            print(f\"The book '{self.__book_name}' has been borrowed.\")\n",
    "        else:\n",
    "            print(f\"Sorry, the book '{self.__book_name}' is currently not available.\")\n",
    "\n",
    "    # Method to return a book\n",
    "    def return_book(self):\n",
    "        if not self.__availability_status:\n",
    "            self.__availability_status = True\n",
    "            print(f\"The book '{self.__book_name}' has been returned.\")\n",
    "        else:\n",
    "            print(f\"The book '{self.__book_name}' was not borrowed.\")\n",
    "\n",
    "    # Method to display book details\n",
    "    def display_info(self):\n",
    "        status = \"Available\" if self.__availability_status else \"Not Available\"\n",
    "        print(f\"Book Name: {self.__book_name}\")\n",
    "        print(f\"Author: {self.__author}\")\n",
    "        print(f\"Availability Status: {status}\")\n",
    "\n",
    "# Test the functionality with sample data\n",
    "if __name__ == \"__main__\":\n",
    "    # Create instances of LibraryBook\n",
    "    book1 = LibraryBook(\"To Kill a Mockingbird\", \"Harper Lee\")\n",
    "    book2 = LibraryBook(\"1984\", \"George Orwell\")\n",
    "    \n",
    "    # Display initial book information\n",
    "    print(\"Initial Book Information:\")\n",
    "    book1.display_info()\n",
    "    print()\n",
    "    book2.display_info()\n",
    "\n",
    "    # Borrow and return books\n",
    "    print(\"\\nBorrowing Books:\")\n",
    "    book1.borrow_book()\n",
    "    book2.borrow_book()\n",
    "    book2.borrow_book()  # Trying to borrow again to test availability check\n",
    "\n",
    "    # Display book information after borrowing\n",
    "    print(\"\\nBook Information After Borrowing:\")\n",
    "    book1.display_info()\n",
    "    print()\n",
    "    book2.display_info()\n",
    "\n",
    "    print(\"\\nReturning Books:\")\n",
    "    book1.return_book()\n",
    "    book2.return_book()\n",
    "    book2.return_book()  # Trying to return again to test availability check\n",
    "\n",
    "    # Display book information after returning\n",
    "    print(\"\\nBook Information After Returning:\")\n",
    "    book1.display_info()\n",
    "    print()\n",
    "    book2.display_info()\n"
   ]
  },
  {
   "cell_type": "markdown",
   "id": "93c57767-921f-4b23-82d7-699fd034f6ac",
   "metadata": {},
   "source": [
    "4.Create a simple ban\u000fing system using object-oriented concepts in Python. Design classes representing \n",
    "different types of ban\u000f accounts such as savings and chec\u000fing. Implement methods for deposit, withdraw, \n",
    "and balance inquiry. Utilize inheritance to manage different account types efficiently.\n",
    "\n",
    "\n",
    "Tasks\u000e\n",
    "3 1. Define base class(es) for bank accounts with common attributes and methods\u0016\n",
    "3 2. Implement subclasses for specific account types (e.g., SavingsAccount, CheckingAccount)\u0016\n",
    "3 3. Provide methods for deposit, withdraw, and balance inquiry in each subclass\u0016\n",
    "3 4. Test the banking system by creating instances of different account types and performing transactions."
   ]
  },
  {
   "cell_type": "code",
   "execution_count": 133,
   "id": "b842fc2e-4860-4a27-8bb5-9f7239e74b52",
   "metadata": {},
   "outputs": [
    {
     "name": "stdout",
     "output_type": "stream",
     "text": [
      "Savings Account Transactions:\n",
      "Account S12345 balance: 1000\n",
      "Deposited 200. New balance is 1200.\n",
      "Withdrew 50. New balance is 1150.\n",
      "Interest applied. New balance is 1173.0.\n",
      "Account S12345 balance: 1173.0\n",
      "\n",
      "Checking Account Transactions:\n",
      "Account C12345 balance: 500\n",
      "Deposited 300. New balance is 800.\n",
      "Withdrew 100. New balance is 700.\n",
      "Withdrew 800. New balance is -100.\n",
      "Account C12345 balance: -100\n"
     ]
    }
   ],
   "source": [
    "class BankAccount:\n",
    "    def __init__(self, account_number, balance=0.0):\n",
    "        self.account_number = account_number\n",
    "        self.balance = balance\n",
    "\n",
    "    def deposit(self, amount):\n",
    "        if amount > 0:\n",
    "            self.balance += amount\n",
    "            print(f\"Deposited {amount}. New balance is {self.balance}.\")\n",
    "        else:\n",
    "            print(\"Invalid deposit amount.\")\n",
    "\n",
    "    def withdraw(self, amount):\n",
    "        if 0 < amount <= self.balance:\n",
    "            self.balance -= amount\n",
    "            print(f\"Withdrew {amount}. New balance is {self.balance}.\")\n",
    "        else:\n",
    "            print(\"Invalid withdrawal amount or insufficient balance.\")\n",
    "\n",
    "    def inquire_balance(self):\n",
    "        print(f\"Account {self.account_number} balance: {self.balance}\")\n",
    "\n",
    "# Subclass for SavingsAccount\n",
    "class SavingsAccount(BankAccount):\n",
    "    def __init__(self, account_number, balance=0.0, interest_rate=0.02):\n",
    "        super().__init__(account_number, balance)\n",
    "        self.interest_rate = interest_rate\n",
    "\n",
    "    def apply_interest(self):\n",
    "        interest = self.balance * self.interest_rate\n",
    "        self.balance += interest\n",
    "        print(f\"Interest applied. New balance is {self.balance}.\")\n",
    "\n",
    "# Subclass for CheckingAccount\n",
    "class CheckingAccount(BankAccount):\n",
    "    def __init__(self, account_number, balance=0.0, overdraft_limit=500):\n",
    "        super().__init__(account_number, balance)\n",
    "        self.overdraft_limit = overdraft_limit\n",
    "\n",
    "    def withdraw(self, amount):\n",
    "        if 0 < amount <= self.balance + self.overdraft_limit:\n",
    "            self.balance -= amount\n",
    "            print(f\"Withdrew {amount}. New balance is {self.balance}.\")\n",
    "        else:\n",
    "            print(\"Invalid withdrawal amount or overdraft limit exceeded.\")\n",
    "\n",
    "# Test the banking system\n",
    "if __name__ == \"__main__\":\n",
    "    # Create instances of different account types\n",
    "    savings = SavingsAccount(\"S12345\", balance=1000)\n",
    "    checking = CheckingAccount(\"C12345\", balance=500)\n",
    "\n",
    "    # Perform transactions on savings account\n",
    "    print(\"Savings Account Transactions:\")\n",
    "    savings.inquire_balance()\n",
    "    savings.deposit(200)\n",
    "    savings.withdraw(50)\n",
    "    savings.apply_interest()\n",
    "    savings.inquire_balance()\n",
    "\n",
    "    # Perform transactions on checking account\n",
    "    print(\"\\nChecking Account Transactions:\")\n",
    "    checking.inquire_balance()\n",
    "    checking.deposit(300)\n",
    "    checking.withdraw(100)\n",
    "    checking.withdraw(800)  # Test overdraft limit\n",
    "    checking.inquire_balance()\n"
   ]
  },
  {
   "cell_type": "markdown",
   "id": "9aff3a2a-9713-43ee-b8ca-21c6c75b772f",
   "metadata": {},
   "source": [
    "5.Write a Python program that models different animals and their sounds. Design a base class called \n",
    "`Animal` with a method `ma\u000fe_sound()`. Create subclasses li\u000fe `Dog` and `Cat` that override the \n",
    "`ma\u000fe_sound()` method to produce appropriate sounds.\n",
    "\n",
    "\n",
    "Tasks\u000e\n",
    "3 1. Define the `Animal` class with a method `make_sound()`\u0016\n",
    "3 2. Create subclasses `Dog` and `Cat` that override the `make_sound()` method\u0016\n",
    "3 3. Implement the sound generation logic for each subclass\u0016\n",
    "3 4. Test the program by creating instances of `Dog` and `Cat` and calling the `make_sound()` method"
   ]
  },
  {
   "cell_type": "code",
   "execution_count": 134,
   "id": "0795d2df-9218-4b4a-a7d8-b919fbab9a2e",
   "metadata": {},
   "outputs": [
    {
     "name": "stdout",
     "output_type": "stream",
     "text": [
      "Dog sound: Woof!\n",
      "Cat sound: Meow!\n"
     ]
    }
   ],
   "source": [
    "# Base class\n",
    "class Animal:\n",
    "    def make_sound(self):\n",
    "        raise NotImplementedError(\"Subclass must implement abstract method\")\n",
    "\n",
    "# Subclass for Dog\n",
    "class Dog(Animal):\n",
    "    def make_sound(self):\n",
    "        return \"Woof!\"\n",
    "\n",
    "# Subclass for Cat\n",
    "class Cat(Animal):\n",
    "    def make_sound(self):\n",
    "        return \"Meow!\"\n",
    "\n",
    "# Test the program\n",
    "if __name__ == \"__main__\":\n",
    "    # Create instances of Dog and Cat\n",
    "    dog = Dog()\n",
    "    cat = Cat()\n",
    "\n",
    "    # Call the make_sound() method and print the results\n",
    "    print(\"Dog sound:\", dog.make_sound())\n",
    "    print(\"Cat sound:\", cat.make_sound())\n"
   ]
  },
  {
   "cell_type": "markdown",
   "id": "07fcc3e8-74fd-4805-ba05-4d9585de63e1",
   "metadata": {},
   "source": [
    "6.Write a code for Restaurant Management System Using OO4S3\n",
    "& Create a MenuItem 'lass that has attributes su'h as name, des'ription, pri'e, and 'ategory\u0014\n",
    "& Implement methods to add a new menu item, update menu item information, and remove a menu item \n",
    "from the menu\u0014\n",
    "& Use en'apsulation to hide the menu item's unique identifi'ation number\u0014\n",
    "& Inherit from the MenuItem 'lass to 'reate a FoodItem 'lass and a BeverageItem 'lass, ea'h with their own \n",
    "spe'ifi' attributes and methods"
   ]
  },
  {
   "cell_type": "code",
   "execution_count": 1,
   "id": "23bbd9c7-a909-4552-b49e-37ed73ced4f7",
   "metadata": {},
   "outputs": [
    {
     "name": "stdout",
     "output_type": "stream",
     "text": [
      "ID: 1, Name: Burger, Description: A juicy burger with cheese, Price: $5.99, Category: Main Course, Calories: 800, Non-Vegetarian\n",
      "ID: 2, Name: Coke, Description: Chilled soft drink, Price: $1.99, Category: Beverages, Size: 500ml, Non-Alcoholic\n",
      "ID: 1, Name: Burger, Description: A juicy burger with cheese, Price: $6.99, Category: Main Course, Calories: 800, Non-Vegetarian\n"
     ]
    }
   ],
   "source": [
    "class MenuItem:\n",
    "    _id_counter = 1\n",
    "    \n",
    "    def __init__(self, name, description, price, category):\n",
    "        self._id = MenuItem._id_counter\n",
    "        MenuItem._id_counter += 1\n",
    "        self.name = name\n",
    "        self.description = description\n",
    "        self.price = price\n",
    "        self.category = category\n",
    "    \n",
    "    def get_id(self):\n",
    "        return self._id\n",
    "    \n",
    "    def update_item(self, name=None, description=None, price=None, category=None):\n",
    "        if name is not None:\n",
    "            self.name = name\n",
    "        if description is not None:\n",
    "            self.description = description\n",
    "        if price is not None:\n",
    "            self.price = price\n",
    "        if category is not None:\n",
    "            self.category = category\n",
    "\n",
    "    def __str__(self):\n",
    "        return f\"ID: {self._id}, Name: {self.name}, Description: {self.description}, Price: ${self.price}, Category: {self.category}\"\n",
    "\n",
    "class FoodItem(MenuItem):\n",
    "    def __init__(self, name, description, price, category, calories, vegetarian=False):\n",
    "        super().__init__(name, description, price, category)\n",
    "        self.calories = calories\n",
    "        self.vegetarian = vegetarian\n",
    "    \n",
    "    def __str__(self):\n",
    "        vegetarian_str = \"Vegetarian\" if self.vegetarian else \"Non-Vegetarian\"\n",
    "        return super().__str__() + f\", Calories: {self.calories}, {vegetarian_str}\"\n",
    "\n",
    "class BeverageItem(MenuItem):\n",
    "    def __init__(self, name, description, price, category, size, alcoholic=False):\n",
    "        super().__init__(name, description, price, category)\n",
    "        self.size = size\n",
    "        self.alcoholic = alcoholic\n",
    "    \n",
    "    def __str__(self):\n",
    "        alcoholic_str = \"Alcoholic\" if self.alcoholic else \"Non-Alcoholic\"\n",
    "        return super().__str__() + f\", Size: {self.size}, {alcoholic_str}\"\n",
    "\n",
    "class Menu:\n",
    "    def __init__(self):\n",
    "        self.items = {}\n",
    "    \n",
    "    def add_item(self, item):\n",
    "        self.items[item.get_id()] = item\n",
    "    \n",
    "    def update_item(self, item_id, **kwargs):\n",
    "        if item_id in self.items:\n",
    "            self.items[item_id].update_item(**kwargs)\n",
    "    \n",
    "    def remove_item(self, item_id):\n",
    "        if item_id in self.items:\n",
    "            del self.items[item_id]\n",
    "    \n",
    "    def display_menu(self):\n",
    "        for item in self.items.values():\n",
    "            print(item)\n",
    "\n",
    "# Example Usage\n",
    "menu = Menu()\n",
    "food1 = FoodItem(\"Burger\", \"A juicy burger with cheese\", 5.99, \"Main Course\", 800, False)\n",
    "beverage1 = BeverageItem(\"Coke\", \"Chilled soft drink\", 1.99, \"Beverages\", \"500ml\", False)\n",
    "\n",
    "menu.add_item(food1)\n",
    "menu.add_item(beverage1)\n",
    "\n",
    "menu.display_menu()\n",
    "\n",
    "menu.update_item(food1.get_id(), price=6.99)\n",
    "menu.remove_item(beverage1.get_id())\n",
    "\n",
    "menu.display_menu()\n"
   ]
  },
  {
   "cell_type": "markdown",
   "id": "2b3de329-f468-4da4-90da-b8f5002915fe",
   "metadata": {},
   "source": [
    "\u0015.Write a code for  Hotel Management System using OO4S 3\n",
    "& Create a Room 'lass that has attributes su'h as room number, room type, rate, and availability (private)\u0014\n",
    "& Implement methods to book a room, 'he'k in a guest, and 'he'k out a guest\u0014\n",
    "& Use en'apsulation to hide the room's unique identifi'ation number\u0014\n",
    "& Inherit from the Room 'lass to 'reate a SuiteRoom 'lass and a StandardRoom 'lass, ea'h with their own \n",
    "spe'ifi' attributes and methods."
   ]
  },
  {
   "cell_type": "code",
   "execution_count": 2,
   "id": "e6813a5a-6384-469e-968b-d459219b1463",
   "metadata": {},
   "outputs": [
    {
     "name": "stdout",
     "output_type": "stream",
     "text": [
      "Room Number: 101, Type: Suite, Rate: $200, Availability: Available, Amenities: WiFi, TV, Minibar\n",
      "Room Number: 102, Type: Standard, Rate: $100, Availability: Available, Bed Type: Queen Bed\n",
      "Room 101 has been booked.\n",
      "Guest has checked into room 101.\n",
      "Guest has checked out of room 101.\n",
      "Room Number: 101, Type: Suite, Rate: $200, Availability: Available, Amenities: WiFi, TV, Minibar\n",
      "Room Number: 102, Type: Standard, Rate: $100, Availability: Available, Bed Type: Queen Bed\n"
     ]
    }
   ],
   "source": [
    "class Room:\n",
    "    _id_counter = 1\n",
    "\n",
    "    def __init__(self, room_number, room_type, rate, availability=True):\n",
    "        self._id = Room._id_counter\n",
    "        Room._id_counter += 1\n",
    "        self.room_number = room_number\n",
    "        self.room_type = room_type\n",
    "        self.rate = rate\n",
    "        self._availability = availability\n",
    "\n",
    "    def get_id(self):\n",
    "        return self._id\n",
    "\n",
    "    def book_room(self):\n",
    "        if self._availability:\n",
    "            self._availability = False\n",
    "            print(f\"Room {self.room_number} has been booked.\")\n",
    "        else:\n",
    "            print(f\"Room {self.room_number} is already booked.\")\n",
    "\n",
    "    def check_in(self):\n",
    "        if not self._availability:\n",
    "            print(f\"Guest has checked into room {self.room_number}.\")\n",
    "        else:\n",
    "            print(f\"Room {self.room_number} is not booked yet.\")\n",
    "\n",
    "    def check_out(self):\n",
    "        if not self._availability:\n",
    "            self._availability = True\n",
    "            print(f\"Guest has checked out of room {self.room_number}.\")\n",
    "        else:\n",
    "            print(f\"Room {self.room_number} is already available.\")\n",
    "\n",
    "    def is_available(self):\n",
    "        return self._availability\n",
    "\n",
    "    def __str__(self):\n",
    "        availability_str = \"Available\" if self._availability else \"Booked\"\n",
    "        return f\"Room Number: {self.room_number}, Type: {self.room_type}, Rate: ${self.rate}, Availability: {availability_str}\"\n",
    "\n",
    "class SuiteRoom(Room):\n",
    "    def __init__(self, room_number, rate, amenities, availability=True):\n",
    "        super().__init__(room_number, \"Suite\", rate, availability)\n",
    "        self.amenities = amenities\n",
    "\n",
    "    def __str__(self):\n",
    "        return super().__str__() + f\", Amenities: {', '.join(self.amenities)}\"\n",
    "\n",
    "class StandardRoom(Room):\n",
    "    def __init__(self, room_number, rate, bed_type, availability=True):\n",
    "        super().__init__(room_number, \"Standard\", rate, availability)\n",
    "        self.bed_type = bed_type\n",
    "\n",
    "    def __str__(self):\n",
    "        return super().__str__() + f\", Bed Type: {self.bed_type}\"\n",
    "\n",
    "class Hotel:\n",
    "    def __init__(self):\n",
    "        self.rooms = {}\n",
    "\n",
    "    def add_room(self, room):\n",
    "        self.rooms[room.get_id()] = room\n",
    "\n",
    "    def book_room(self, room_id):\n",
    "        if room_id in self.rooms:\n",
    "            self.rooms[room_id].book_room()\n",
    "\n",
    "    def check_in(self, room_id):\n",
    "        if room_id in self.rooms:\n",
    "            self.rooms[room_id].check_in()\n",
    "\n",
    "    def check_out(self, room_id):\n",
    "        if room_id in self.rooms:\n",
    "            self.rooms[room_id].check_out()\n",
    "\n",
    "    def display_rooms(self):\n",
    "        for room in self.rooms.values():\n",
    "            print(room)\n",
    "\n",
    "# Example Usage\n",
    "hotel = Hotel()\n",
    "\n",
    "suite1 = SuiteRoom(101, 200, [\"WiFi\", \"TV\", \"Minibar\"])\n",
    "standard1 = StandardRoom(102, 100, \"Queen Bed\")\n",
    "\n",
    "hotel.add_room(suite1)\n",
    "hotel.add_room(standard1)\n",
    "\n",
    "hotel.display_rooms()\n",
    "\n",
    "hotel.book_room(suite1.get_id())\n",
    "hotel.check_in(suite1.get_id())\n",
    "hotel.check_out(suite1.get_id())\n",
    "\n",
    "hotel.display_rooms()\n"
   ]
  },
  {
   "cell_type": "markdown",
   "id": "5a069b71-a6df-41da-a6c1-396ed39f12a5",
   "metadata": {},
   "source": [
    "8.Write a code for  Fitness Club Management System using OO4S3\n",
    "& Create a Member 'lass that has attributes su'h as name, age, membership type, and membership status \n",
    "(private)\u0014\n",
    "& Implement methods to register a new member, renew a membership, and 'an'el a membership\u0014\n",
    "& Use en'apsulation to hide the member's unique identifi'ation number\u0014\n",
    "& Inherit from the Member 'lass to 'reate a FamilyMember 'lass and an IndividualMember 'lass, ea'h with \n",
    "their own spe'ifi' attributes and method"
   ]
  },
  {
   "cell_type": "code",
   "execution_count": 3,
   "id": "c6a87e13-014b-4f9a-825d-98394c43052c",
   "metadata": {},
   "outputs": [
    {
     "name": "stdout",
     "output_type": "stream",
     "text": [
      "Member Alice Johnson has been registered.\n",
      "Member Bob Smith has been registered.\n",
      "ID: 1, Name: Alice Johnson, Age: 35, Membership Type: Family, Status: Active, Family Size: 4\n",
      "ID: 2, Name: Bob Smith, Age: 28, Membership Type: Individual, Status: Active, Personal Trainer: Yes\n",
      "Membership for Alice Johnson has been renewed.\n",
      "Membership for Bob Smith has been cancelled.\n",
      "ID: 1, Name: Alice Johnson, Age: 35, Membership Type: Family, Status: Active, Family Size: 4\n",
      "ID: 2, Name: Bob Smith, Age: 28, Membership Type: Individual, Status: Cancelled, Personal Trainer: Yes\n"
     ]
    }
   ],
   "source": [
    "class Member:\n",
    "    _id_counter = 1\n",
    "\n",
    "    def __init__(self, name, age, membership_type):\n",
    "        self._id = Member._id_counter\n",
    "        Member._id_counter += 1\n",
    "        self.name = name\n",
    "        self.age = age\n",
    "        self.membership_type = membership_type\n",
    "        self._membership_status = 'Active'\n",
    "\n",
    "    def get_id(self):\n",
    "        return self._id\n",
    "\n",
    "    def renew_membership(self):\n",
    "        if self._membership_status == 'Cancelled':\n",
    "            print(f\"Cannot renew membership for cancelled member {self.name}.\")\n",
    "        else:\n",
    "            print(f\"Membership for {self.name} has been renewed.\")\n",
    "\n",
    "    def cancel_membership(self):\n",
    "        self._membership_status = 'Cancelled'\n",
    "        print(f\"Membership for {self.name} has been cancelled.\")\n",
    "\n",
    "    def __str__(self):\n",
    "        return f\"ID: {self._id}, Name: {self.name}, Age: {self.age}, Membership Type: {self.membership_type}, Status: {self._membership_status}\"\n",
    "\n",
    "class FamilyMember(Member):\n",
    "    def __init__(self, name, age, membership_type, family_size):\n",
    "        super().__init__(name, age, membership_type)\n",
    "        self.family_size = family_size\n",
    "\n",
    "    def __str__(self):\n",
    "        return super().__str__() + f\", Family Size: {self.family_size}\"\n",
    "\n",
    "class IndividualMember(Member):\n",
    "    def __init__(self, name, age, membership_type, personal_trainer=False):\n",
    "        super().__init__(name, age, membership_type)\n",
    "        self.personal_trainer = personal_trainer\n",
    "\n",
    "    def __str__(self):\n",
    "        personal_trainer_str = \"Yes\" if self.personal_trainer else \"No\"\n",
    "        return super().__str__() + f\", Personal Trainer: {personal_trainer_str}\"\n",
    "\n",
    "class FitnessClub:\n",
    "    def __init__(self):\n",
    "        self.members = {}\n",
    "\n",
    "    def register_member(self, member):\n",
    "        self.members[member.get_id()] = member\n",
    "        print(f\"Member {member.name} has been registered.\")\n",
    "\n",
    "    def renew_membership(self, member_id):\n",
    "        if member_id in self.members:\n",
    "            self.members[member_id].renew_membership()\n",
    "\n",
    "    def cancel_membership(self, member_id):\n",
    "        if member_id in self.members:\n",
    "            self.members[member_id].cancel_membership()\n",
    "\n",
    "    def display_members(self):\n",
    "        for member in self.members.values():\n",
    "            print(member)\n",
    "\n",
    "# Example Usage\n",
    "fitness_club = FitnessClub()\n",
    "\n",
    "family_member = FamilyMember(\"Alice Johnson\", 35, \"Family\", 4)\n",
    "individual_member = IndividualMember(\"Bob Smith\", 28, \"Individual\", personal_trainer=True)\n",
    "\n",
    "fitness_club.register_member(family_member)\n",
    "fitness_club.register_member(individual_member)\n",
    "\n",
    "fitness_club.display_members()\n",
    "\n",
    "fitness_club.renew_membership(family_member.get_id())\n",
    "fitness_club.cancel_membership(individual_member.get_id())\n",
    "\n",
    "fitness_club.display_members()\n"
   ]
  },
  {
   "cell_type": "markdown",
   "id": "6db7bcd4-46db-40bd-9a2e-31218e862df7",
   "metadata": {},
   "source": [
    "9.Write a code for  Event Management System using OO4S3\n",
    "& Create an Event 'lass that has attributes su'h as name, date, time, lo'ation, and list of attendees (private)\u0014\n",
    "& Implement methods to 'reate a new event, add or remove attendees, and get the total number of \n",
    "attendees\u0014\n",
    "& Use en'apsulation to hide the event's unique identifi'ation number\u0014\n",
    "& Inherit from the Event 'lass to 'reate a PrivateEvent 'lass and a Publi'Event 'lass, ea'h with their own \n",
    "spe'ifi' attributes and methods"
   ]
  },
  {
   "cell_type": "code",
   "execution_count": 4,
   "id": "660a5ca4-a748-4101-897d-3e7a47724df8",
   "metadata": {},
   "outputs": [
    {
     "name": "stdout",
     "output_type": "stream",
     "text": [
      "Member Alice Johnson has been registered.\n",
      "Member Bob Smith has been registered.\n",
      "ID: 1, Name: Alice Johnson, Age: 35, Membership Type: Family, Status: Active, Family Size: 4\n",
      "ID: 2, Name: Bob Smith, Age: 28, Membership Type: Individual, Status: Active, Personal Trainer: Yes\n",
      "Membership for Alice Johnson has been renewed.\n",
      "Membership for Bob Smith has been cancelled.\n",
      "ID: 1, Name: Alice Johnson, Age: 35, Membership Type: Family, Status: Active, Family Size: 4\n",
      "ID: 2, Name: Bob Smith, Age: 28, Membership Type: Individual, Status: Cancelled, Personal Trainer: Yes\n"
     ]
    }
   ],
   "source": [
    "class Member:\n",
    "    _id_counter = 1\n",
    "\n",
    "    def __init__(self, name, age, membership_type):\n",
    "        self._id = Member._id_counter\n",
    "        Member._id_counter += 1\n",
    "        self.name = name\n",
    "        self.age = age\n",
    "        self.membership_type = membership_type\n",
    "        self._membership_status = 'Active'\n",
    "\n",
    "    def get_id(self):\n",
    "        return self._id\n",
    "\n",
    "    def renew_membership(self):\n",
    "        if self._membership_status == 'Cancelled':\n",
    "            print(f\"Cannot renew membership for cancelled member {self.name}.\")\n",
    "        else:\n",
    "            print(f\"Membership for {self.name} has been renewed.\")\n",
    "\n",
    "    def cancel_membership(self):\n",
    "        self._membership_status = 'Cancelled'\n",
    "        print(f\"Membership for {self.name} has been cancelled.\")\n",
    "\n",
    "    def __str__(self):\n",
    "        return f\"ID: {self._id}, Name: {self.name}, Age: {self.age}, Membership Type: {self.membership_type}, Status: {self._membership_status}\"\n",
    "\n",
    "class FamilyMember(Member):\n",
    "    def __init__(self, name, age, membership_type, family_size):\n",
    "        super().__init__(name, age, membership_type)\n",
    "        self.family_size = family_size\n",
    "\n",
    "    def __str__(self):\n",
    "        return super().__str__() + f\", Family Size: {self.family_size}\"\n",
    "\n",
    "class IndividualMember(Member):\n",
    "    def __init__(self, name, age, membership_type, personal_trainer=False):\n",
    "        super().__init__(name, age, membership_type)\n",
    "        self.personal_trainer = personal_trainer\n",
    "\n",
    "    def __str__(self):\n",
    "        personal_trainer_str = \"Yes\" if self.personal_trainer else \"No\"\n",
    "        return super().__str__() + f\", Personal Trainer: {personal_trainer_str}\"\n",
    "\n",
    "class FitnessClub:\n",
    "    def __init__(self):\n",
    "        self.members = {}\n",
    "\n",
    "    def register_member(self, member):\n",
    "        self.members[member.get_id()] = member\n",
    "        print(f\"Member {member.name} has been registered.\")\n",
    "\n",
    "    def renew_membership(self, member_id):\n",
    "        if member_id in self.members:\n",
    "            self.members[member_id].renew_membership()\n",
    "\n",
    "    def cancel_membership(self, member_id):\n",
    "        if member_id in self.members:\n",
    "            self.members[member_id].cancel_membership()\n",
    "\n",
    "    def display_members(self):\n",
    "        for member in self.members.values():\n",
    "            print(member)\n",
    "\n",
    "# Example Usage\n",
    "fitness_club = FitnessClub()\n",
    "\n",
    "family_member = FamilyMember(\"Alice Johnson\", 35, \"Family\", 4)\n",
    "individual_member = IndividualMember(\"Bob Smith\", 28, \"Individual\", personal_trainer=True)\n",
    "\n",
    "fitness_club.register_member(family_member)\n",
    "fitness_club.register_member(individual_member)\n",
    "\n",
    "fitness_club.display_members()\n",
    "\n",
    "fitness_club.renew_membership(family_member.get_id())\n",
    "fitness_club.cancel_membership(individual_member.get_id())\n",
    "\n",
    "fitness_club.display_members()\n"
   ]
  },
  {
   "cell_type": "markdown",
   "id": "04129620-510d-49cd-aae3-518a9c1b9d58",
   "metadata": {},
   "source": [
    "10.Write a code for Airline Reservation System using OO4S3\n",
    "& Create a Flight 'lass that has attributes su'h as flight number, departure and arrival airports, departure and \n",
    "arrival times, and available seats (private)\u0014\n",
    "& Implement methods to book a seat, 'an'el a reservation, and get the remaining available seats\u0014\n",
    "& Use en'apsulation to hide the flight's unique identifi'ation number\u0014\n",
    "& Inherit from the Flight 'lass to 'reate a Domesti'Flight 'lass and an InternationalFlight 'lass, ea'h with their \n",
    "own spe'ifi' attributes and methods.\n"
   ]
  },
  {
   "cell_type": "code",
   "execution_count": 5,
   "id": "5377c03f-8c81-483a-a41d-5375715fd86c",
   "metadata": {},
   "outputs": [
    {
     "name": "stdout",
     "output_type": "stream",
     "text": [
      "Flight DF123 has been created.\n",
      "Flight IF456 has been created.\n",
      "ID: 1, Flight Number: DF123, Departure: LAX at 08:00 AM, Arrival: SFO at 09:30 AM, Available Seats: 100, Duration: 1.5 hours\n",
      "ID: 2, Flight Number: IF456, Departure: JFK at 07:00 PM, Arrival: LHR at 07:00 AM, Available Seats: 200, Passport Required: Yes\n",
      "Seat booked on flight DF123. Remaining seats: 99\n",
      "Seat booked on flight IF456. Remaining seats: 199\n",
      "Reservation cancelled on flight IF456. Remaining seats: 200\n",
      "ID: 1, Flight Number: DF123, Departure: LAX at 08:00 AM, Arrival: SFO at 09:30 AM, Available Seats: 99, Duration: 1.5 hours\n",
      "ID: 2, Flight Number: IF456, Departure: JFK at 07:00 PM, Arrival: LHR at 07:00 AM, Available Seats: 200, Passport Required: Yes\n"
     ]
    }
   ],
   "source": [
    "class Flight:\n",
    "    _id_counter = 1\n",
    "\n",
    "    def __init__(self, flight_number, departure_airport, arrival_airport, departure_time, arrival_time, available_seats):\n",
    "        self._id = Flight._id_counter\n",
    "        Flight._id_counter += 1\n",
    "        self.flight_number = flight_number\n",
    "        self.departure_airport = departure_airport\n",
    "        self.arrival_airport = arrival_airport\n",
    "        self.departure_time = departure_time\n",
    "        self.arrival_time = arrival_time\n",
    "        self._available_seats = available_seats\n",
    "\n",
    "    def get_id(self):\n",
    "        return self._id\n",
    "\n",
    "    def book_seat(self):\n",
    "        if self._available_seats > 0:\n",
    "            self._available_seats -= 1\n",
    "            print(f\"Seat booked on flight {self.flight_number}. Remaining seats: {self._available_seats}\")\n",
    "        else:\n",
    "            print(f\"No available seats on flight {self.flight_number}.\")\n",
    "\n",
    "    def cancel_reservation(self):\n",
    "        self._available_seats += 1\n",
    "        print(f\"Reservation cancelled on flight {self.flight_number}. Remaining seats: {self._available_seats}\")\n",
    "\n",
    "    def get_remaining_seats(self):\n",
    "        return self._available_seats\n",
    "\n",
    "    def __str__(self):\n",
    "        return (f\"ID: {self._id}, Flight Number: {self.flight_number}, Departure: {self.departure_airport} at {self.departure_time}, \"\n",
    "                f\"Arrival: {self.arrival_airport} at {self.arrival_time}, Available Seats: {self._available_seats}\")\n",
    "\n",
    "class DomesticFlight(Flight):\n",
    "    def __init__(self, flight_number, departure_airport, arrival_airport, departure_time, arrival_time, available_seats, flight_duration):\n",
    "        super().__init__(flight_number, departure_airport, arrival_airport, departure_time, arrival_time, available_seats)\n",
    "        self.flight_duration = flight_duration\n",
    "\n",
    "    def __str__(self):\n",
    "        return super().__str__() + f\", Duration: {self.flight_duration} hours\"\n",
    "\n",
    "class InternationalFlight(Flight):\n",
    "    def __init__(self, flight_number, departure_airport, arrival_airport, departure_time, arrival_time, available_seats, passport_required):\n",
    "        super().__init__(flight_number, departure_airport, arrival_airport, departure_time, arrival_time, available_seats)\n",
    "        self.passport_required = passport_required\n",
    "\n",
    "    def __str__(self):\n",
    "        passport_str = \"Yes\" if self.passport_required else \"No\"\n",
    "        return super().__str__() + f\", Passport Required: {passport_str}\"\n",
    "\n",
    "class AirlineReservationSystem:\n",
    "    def __init__(self):\n",
    "        self.flights = {}\n",
    "\n",
    "    def create_flight(self, flight):\n",
    "        self.flights[flight.get_id()] = flight\n",
    "        print(f\"Flight {flight.flight_number} has been created.\")\n",
    "\n",
    "    def book_seat(self, flight_id):\n",
    "        if flight_id in self.flights:\n",
    "            self.flights[flight_id].book_seat()\n",
    "\n",
    "    def cancel_reservation(self, flight_id):\n",
    "        if flight_id in self.flights:\n",
    "            self.flights[flight_id].cancel_reservation()\n",
    "\n",
    "    def display_flights(self):\n",
    "        for flight in self.flights.values():\n",
    "            print(flight)\n",
    "\n",
    "# Example Usage\n",
    "ars = AirlineReservationSystem()\n",
    "\n",
    "domestic_flight = DomesticFlight(\"DF123\", \"LAX\", \"SFO\", \"08:00 AM\", \"09:30 AM\", 100, 1.5)\n",
    "international_flight = InternationalFlight(\"IF456\", \"JFK\", \"LHR\", \"07:00 PM\", \"07:00 AM\", 200, True)\n",
    "\n",
    "ars.create_flight(domestic_flight)\n",
    "ars.create_flight(international_flight)\n",
    "\n",
    "ars.display_flights()\n",
    "\n",
    "ars.book_seat(domestic_flight.get_id())\n",
    "ars.book_seat(international_flight.get_id())\n",
    "\n",
    "ars.cancel_reservation(international_flight.get_id())\n",
    "\n",
    "ars.display_flights()\n"
   ]
  },
  {
   "cell_type": "markdown",
   "id": "4617b9ea-8200-4af1-a10e-6446cbc64803",
   "metadata": {},
   "source": [
    "11. Define a Python module named constants.py containing constants like pi and the speed of light"
   ]
  },
  {
   "cell_type": "code",
   "execution_count": 6,
   "id": "01f0c02b-6e60-473f-a671-eea48a25bf1a",
   "metadata": {},
   "outputs": [
    {
     "name": "stdout",
     "output_type": "stream",
     "text": [
      "The area of a circle with radius 5 is 78.53981633974483 square meters.\n",
      "It takes light 3.3356409519815204 seconds to travel 1000000000.0 meters.\n"
     ]
    }
   ],
   "source": [
    "# constants.py\n",
    "\n",
    "# Mathematical constant pi (π)\n",
    "PI = 3.141592653589793\n",
    "\n",
    "# Speed of light in vacuum (in meters per second)\n",
    "SPEED_OF_LIGHT = 299792458  # m/s\n",
    "\n",
    "# Function to calculate the area of a circle\n",
    "def circle_area(radius):\n",
    "    return PI * radius ** 2\n",
    "\n",
    "# Function to calculate the time it takes for light to travel a given distance\n",
    "def light_travel_time(distance):\n",
    "    return distance / SPEED_OF_LIGHT\n",
    "\n",
    "# Example usage\n",
    "if __name__ == \"__main__\":\n",
    "    radius = 5\n",
    "    distance = 1e9  # 1 billion meters\n",
    "\n",
    "    print(f\"The area of a circle with radius {radius} is {circle_area(radius)} square meters.\")\n",
    "    print(f\"It takes light {light_travel_time(distance)} seconds to travel {distance} meters.\")\n"
   ]
  },
  {
   "cell_type": "markdown",
   "id": "40fadbf4-9a23-4394-bcbe-494f60339fe4",
   "metadata": {},
   "source": [
    "12. Write a Python module named calculator.py containing functions for addition, subtraction, \n",
    "multiplication, and division"
   ]
  },
  {
   "cell_type": "code",
   "execution_count": 7,
   "id": "426da18b-c519-456f-84dd-a466b168fda1",
   "metadata": {},
   "outputs": [
    {
     "name": "stdout",
     "output_type": "stream",
     "text": [
      "Addition of 10 and 5 is: 15\n",
      "Subtraction of 10 and 5 is: 5\n",
      "Multiplication of 10 and 5 is: 50\n",
      "Division of 10 and 5 is: 2.0\n"
     ]
    }
   ],
   "source": [
    "# calculator.py\n",
    "\n",
    "def add(a, b):\n",
    "    \"\"\"Return the sum of a and b.\"\"\"\n",
    "    return a + b\n",
    "\n",
    "def subtract(a, b):\n",
    "    \"\"\"Return the difference between a and b.\"\"\"\n",
    "    return a - b\n",
    "\n",
    "def multiply(a, b):\n",
    "    \"\"\"Return the product of a and b.\"\"\"\n",
    "    return a * b\n",
    "\n",
    "def divide(a, b):\n",
    "    \"\"\"Return the quotient of a and b. Raise an error if b is zero.\"\"\"\n",
    "    if b == 0:\n",
    "        raise ValueError(\"Cannot divide by zero.\")\n",
    "    return a / b\n",
    "\n",
    "# Example usage\n",
    "if __name__ == \"__main__\":\n",
    "    x, y = 10, 5\n",
    "\n",
    "    print(f\"Addition of {x} and {y} is: {add(x, y)}\")\n",
    "    print(f\"Subtraction of {x} and {y} is: {subtract(x, y)}\")\n",
    "    print(f\"Multiplication of {x} and {y} is: {multiply(x, y)}\")\n",
    "    print(f\"Division of {x} and {y} is: {divide(x, y)}\")\n"
   ]
  },
  {
   "cell_type": "markdown",
   "id": "c3fc7d4f-3ff0-4b74-8c32-a0224f9cbf0d",
   "metadata": {},
   "source": [
    "13. Implement a Python package structure for a project named ecommerce, containing modules for product \n",
    "management and order processing"
   ]
  },
  {
   "cell_type": "code",
   "execution_count": 9,
   "id": "55ba2290-1704-425b-a9d9-74c4b9328b53",
   "metadata": {},
   "outputs": [
    {
     "name": "stdout",
     "output_type": "stream",
     "text": [
      "Added Product: {'name': 'Laptop', 'price': 999.99, 'quantity': 10}\n",
      "Product Details: {'name': 'Laptop', 'price': 999.99, 'quantity': 10}\n",
      "Created Order: {'product_id': 'P001', 'quantity': 2, 'status': 'created'}\n",
      "Order Details: {'product_id': 'P001', 'quantity': 2, 'status': 'created'}\n",
      "Updated Product Details: {'name': 'Laptop', 'price': 999.99, 'quantity': 8}\n",
      "Cancelled Order Details: {'product_id': 'P001', 'quantity': 2, 'status': 'cancelled'}\n"
     ]
    }
   ],
   "source": [
    "# ecommerce.py\n",
    "\n",
    "# Product Management Module\n",
    "class ProductManagement:\n",
    "    def __init__(self):\n",
    "        self.products = {}\n",
    "\n",
    "    def add_product(self, product_id, name, price, quantity):\n",
    "        \"\"\"Add a new product to the inventory.\"\"\"\n",
    "        self.products[product_id] = {\"name\": name, \"price\": price, \"quantity\": quantity}\n",
    "        return self.products[product_id]\n",
    "\n",
    "    def update_product(self, product_id, name=None, price=None, quantity=None):\n",
    "        \"\"\"Update an existing product in the inventory.\"\"\"\n",
    "        if product_id in self.products:\n",
    "            if name is not None:\n",
    "                self.products[product_id][\"name\"] = name\n",
    "            if price is not None:\n",
    "                self.products[product_id][\"price\"] = price\n",
    "            if quantity is not None:\n",
    "                self.products[product_id][\"quantity\"] = quantity\n",
    "            return self.products[product_id]\n",
    "        else:\n",
    "            return None\n",
    "\n",
    "    def remove_product(self, product_id):\n",
    "        \"\"\"Remove a product from the inventory.\"\"\"\n",
    "        if product_id in self.products:\n",
    "            del self.products[product_id]\n",
    "            return True\n",
    "        else:\n",
    "            return False\n",
    "\n",
    "    def get_product(self, product_id):\n",
    "        \"\"\"Retrieve a product from the inventory.\"\"\"\n",
    "        return self.products.get(product_id, None)\n",
    "\n",
    "# Order Processing Module\n",
    "class OrderProcessing:\n",
    "    def __init__(self):\n",
    "        self.orders = {}\n",
    "\n",
    "    def create_order(self, order_id, product_id, quantity):\n",
    "        \"\"\"Create a new order.\"\"\"\n",
    "        self.orders[order_id] = {\"product_id\": product_id, \"quantity\": quantity, \"status\": \"created\"}\n",
    "        return self.orders[order_id]\n",
    "\n",
    "    def update_order(self, order_id, product_id=None, quantity=None):\n",
    "        \"\"\"Update an existing order.\"\"\"\n",
    "        if order_id in self.orders:\n",
    "            if product_id is not None:\n",
    "                self.orders[order_id][\"product_id\"] = product_id\n",
    "            if quantity is not None:\n",
    "                self.orders[order_id][\"quantity\"] = quantity\n",
    "            self.orders[order_id][\"status\"] = \"updated\"\n",
    "            return self.orders[order_id]\n",
    "        else:\n",
    "            return None\n",
    "\n",
    "    def cancel_order(self, order_id):\n",
    "        \"\"\"Cancel an existing order.\"\"\"\n",
    "        if order_id in self.orders:\n",
    "            self.orders[order_id][\"status\"] = \"cancelled\"\n",
    "            return True\n",
    "        else:\n",
    "            return False\n",
    "\n",
    "    def get_order(self, order_id):\n",
    "        \"\"\"Retrieve an order.\"\"\"\n",
    "        return self.orders.get(order_id, None)\n",
    "\n",
    "# Example usage\n",
    "if __name__ == \"__main__\":\n",
    "    # Product Management\n",
    "    pm = ProductManagement()\n",
    "\n",
    "    product = pm.add_product(\"P001\", \"Laptop\", 999.99, 10)\n",
    "    print(f\"Added Product: {product}\")\n",
    "\n",
    "    product = pm.get_product(\"P001\")\n",
    "    print(f\"Product Details: {product}\")\n",
    "\n",
    "    # Order Processing\n",
    "    op = OrderProcessing()\n",
    "\n",
    "    order = op.create_order(\"O001\", \"P001\", 2)\n",
    "    print(f\"Created Order: {order}\")\n",
    "\n",
    "    order = op.get_order(\"O001\")\n",
    "    print(f\"Order Details: {order}\")\n",
    "\n",
    "    pm.update_product(\"P001\", quantity=8)\n",
    "    product = pm.get_product(\"P001\")\n",
    "    print(f\"Updated Product Details: {product}\")\n",
    "\n",
    "    op.cancel_order(\"O001\")\n",
    "    order = op.get_order(\"O001\")\n",
    "    print(f\"Cancelled Order Details: {order}\")\n"
   ]
  },
  {
   "cell_type": "markdown",
   "id": "f2b9e417-200a-4b07-a5ee-ab279ca8baae",
   "metadata": {},
   "source": [
    "14. Implement a Python module named string_utils.py containing functions for string manipulation, such as \n",
    "reversing and capitalizing strings"
   ]
  },
  {
   "cell_type": "code",
   "execution_count": 10,
   "id": "9b239cab-4390-4401-b4df-7ff7e0077670",
   "metadata": {},
   "outputs": [
    {
     "name": "stdout",
     "output_type": "stream",
     "text": [
      "Reversed String: dlrow olleh\n",
      "Capitalized String: Hello world\n"
     ]
    }
   ],
   "source": [
    "# string_utils.py\n",
    "\n",
    "def reverse_string(s):\n",
    "    \"\"\"Reverse the given string.\"\"\"\n",
    "    return s[::-1]\n",
    "\n",
    "def capitalize_string(s):\n",
    "    \"\"\"Capitalize the first letter of the given string.\"\"\"\n",
    "    return s.capitalize()\n",
    "\n",
    "# Example usage\n",
    "if __name__ == \"__main__\":\n",
    "    test_string = \"hello world\"\n",
    "\n",
    "    reversed_string = reverse_string(test_string)\n",
    "    print(f\"Reversed String: {reversed_string}\")\n",
    "\n",
    "    capitalized_string = capitalize_string(test_string)\n",
    "    print(f\"Capitalized String: {capitalized_string}\")\n"
   ]
  },
  {
   "cell_type": "code",
   "execution_count": 11,
   "id": "527fc179-f855-45f2-a1ff-f6193ff0cecf",
   "metadata": {},
   "outputs": [
    {
     "name": "stdout",
     "output_type": "stream",
     "text": [
      "Data successfully written to 'example.txt'\n",
      "Data successfully appended to 'example.txt'\n",
      "Contents of 'example.txt':\n",
      "Hello, World!\n",
      "This is a test file.Appending new line.\n",
      "\n"
     ]
    }
   ],
   "source": [
    "# file_operations.py\n",
    "\n",
    "def read_file(file_path):\n",
    "    \"\"\"Read and return the contents of a file.\"\"\"\n",
    "    try:\n",
    "        with open(file_path, 'r') as file:\n",
    "            contents = file.read()\n",
    "        return contents\n",
    "    except FileNotFoundError:\n",
    "        return f\"Error: File '{file_path}' not found.\"\n",
    "\n",
    "def write_to_file(file_path, data):\n",
    "    \"\"\"Write data to a file, overwriting existing content.\"\"\"\n",
    "    try:\n",
    "        with open(file_path, 'w') as file:\n",
    "            file.write(data)\n",
    "        return True\n",
    "    except Exception as e:\n",
    "        return f\"Error: {str(e)}\"\n",
    "\n",
    "def append_to_file(file_path, data):\n",
    "    \"\"\"Append data to the end of a file.\"\"\"\n",
    "    try:\n",
    "        with open(file_path, 'a') as file:\n",
    "            file.write(data)\n",
    "            file.write('\\n')  # Adding a newline for clarity\n",
    "        return True\n",
    "    except Exception as e:\n",
    "        return f\"Error: {str(e)}\"\n",
    "\n",
    "# Example usage\n",
    "if __name__ == \"__main__\":\n",
    "    file_path = \"example.txt\"\n",
    "\n",
    "    # Writing to a file\n",
    "    write_result = write_to_file(file_path, \"Hello, World!\\nThis is a test file.\")\n",
    "    if write_result is True:\n",
    "        print(f\"Data successfully written to '{file_path}'\")\n",
    "\n",
    "    # Appending to a file\n",
    "    append_result = append_to_file(file_path, \"Appending new line.\")\n",
    "    if append_result is True:\n",
    "        print(f\"Data successfully appended to '{file_path}'\")\n",
    "\n",
    "    # Reading from a file\n",
    "    contents = read_file(file_path)\n",
    "    if not contents.startswith(\"Error\"):\n",
    "        print(f\"Contents of '{file_path}':\\n{contents}\")\n",
    "    else:\n",
    "        print(contents)\n"
   ]
  },
  {
   "cell_type": "markdown",
   "id": "14dc8b8f-bb7a-460a-a408-d0e01c4ca289",
   "metadata": {},
   "source": [
    "16. Write a Python program to create a text file named \"employees.txt\" and write the details of employees, \n",
    "including their name, age, and salary, into the file"
   ]
  },
  {
   "cell_type": "code",
   "execution_count": 12,
   "id": "6c049a20-c45d-4c27-abad-f902570ae0ab",
   "metadata": {},
   "outputs": [
    {
     "name": "stdout",
     "output_type": "stream",
     "text": [
      "Employee details have been written to 'employees.txt'.\n"
     ]
    }
   ],
   "source": [
    "def main():\n",
    "    # Employee details\n",
    "    employees = [\n",
    "        {\"name\": \"John Doe\", \"age\": 30, \"salary\": 50000},\n",
    "        {\"name\": \"Jane Smith\", \"age\": 28, \"salary\": 60000},\n",
    "        {\"name\": \"Michael Johnson\", \"age\": 35, \"salary\": 75000}\n",
    "    ]\n",
    "\n",
    "    # Write employee details to file\n",
    "    file_path = \"employees.txt\"\n",
    "    with open(file_path, 'w') as file:\n",
    "        for employee in employees:\n",
    "            file.write(f\"Name: {employee['name']}, Age: {employee['age']}, Salary: ${employee['salary']}\\n\")\n",
    "\n",
    "    print(f\"Employee details have been written to '{file_path}'.\")\n",
    "\n",
    "if __name__ == \"__main__\":\n",
    "    main()\n"
   ]
  },
  {
   "cell_type": "markdown",
   "id": "240ce294-130a-4f5a-9b12-6e0a74cdc15e",
   "metadata": {},
   "source": [
    "17. Develop a Python script that opens an existing text file named \"inventory.txt\" in read mode and displays \n",
    "the contents of the file line by line"
   ]
  },
  {
   "cell_type": "code",
   "execution_count": 1,
   "id": "2dc9de81-5772-4b3f-b261-e6cb2b761a46",
   "metadata": {},
   "outputs": [
    {
     "name": "stdout",
     "output_type": "stream",
     "text": [
      "Modi was born and raised in Vadnagar in northeastern Gujarat, where he completed his secondary education. He was introduced to the RSS at the age of eight. At the age of 18, he was married to Jashodaben Modi, whom he abandoned soon after, only publicly acknowledging her four decades later when legally required to do so. Modi became a full-time worker for the RSS in Gujarat in 1971. The RSS assigned him to the BJP in 1985 and he rose through the party hierarchy, becoming general secretary in 1998.[b] In 2001, Modi was appointed Chief Minister of Gujarat and elected to the legislative assembly soon after. His administration is considered complicit in the 2002 Gujarat riots,[c] and has been criticised for its management of the crisis.\n"
     ]
    }
   ],
   "source": [
    "def main():\n",
    "    file_path = \"inventory.txt\"\n",
    "\n",
    "    try:\n",
    "        with open(file_path, 'r') as file:\n",
    "            # Read and display each line\n",
    "            for line in file:\n",
    "                print(line.strip())  # Using strip() to remove extra newline characters\n",
    "    except FileNotFoundError:\n",
    "        print(f\"Error: File '{file_path}' not found.\")\n",
    "\n",
    "if __name__ == \"__main__\":\n",
    "    main()\n"
   ]
  },
  {
   "cell_type": "markdown",
   "id": "e69aec84-e512-4792-b939-cb1180138aa3",
   "metadata": {},
   "source": [
    "18. Create a Python script that reads a text file named \"expenses.txt\" and calculates the total amount spent \n",
    "on various expenses listed in the file"
   ]
  },
  {
   "cell_type": "code",
   "execution_count": 2,
   "id": "a35a329a-910b-46a1-83ed-8864174de1fd",
   "metadata": {},
   "outputs": [
    {
     "name": "stdout",
     "output_type": "stream",
     "text": [
      "Total amount spent on expenses: $176.25\n"
     ]
    }
   ],
   "source": [
    "def calculate_total_expenses(file_path):\n",
    "    total_expenses = 0\n",
    "\n",
    "    try:\n",
    "        with open(file_path, 'r') as file:\n",
    "            for line in file:\n",
    "                # Assuming each line has the format \"Expense: $amount\"\n",
    "                if line.startswith(\"Expense: $\"):\n",
    "                    amount = float(line.split(\"$\")[1].strip())\n",
    "                    total_expenses += amount\n",
    "    except FileNotFoundError:\n",
    "        print(f\"Error: File '{file_path}' not found.\")\n",
    "    except Exception as e:\n",
    "        print(f\"Error: {str(e)}\")\n",
    "\n",
    "    return total_expenses\n",
    "\n",
    "def main():\n",
    "    file_path = \"expenses.txt\"\n",
    "    total_expenses = calculate_total_expenses(file_path)\n",
    "\n",
    "    if total_expenses > 0:\n",
    "        print(f\"Total amount spent on expenses: ${total_expenses:.2f}\")\n",
    "    else:\n",
    "        print(\"No valid expenses found in the file.\")\n",
    "\n",
    "if __name__ == \"__main__\":\n",
    "    main()\n"
   ]
  },
  {
   "cell_type": "markdown",
   "id": "566306fb-c69c-4d4b-8731-a5602b3da246",
   "metadata": {},
   "source": [
    "19. Create a Python program that reads a text file named \"paragraph.txt\" and counts the occurrences of \n",
    "each word in the paragraph, displaying the results in alphabetical order"
   ]
  },
  {
   "cell_type": "code",
   "execution_count": 3,
   "id": "3a379f1b-f57a-437b-a80c-e2bacea010fb",
   "metadata": {},
   "outputs": [
    {
     "name": "stdout",
     "output_type": "stream",
     "text": [
      "Word Counts (Alphabetical Order):\n",
      "17th: 1\n",
      "2019: 3\n",
      "2021: 1\n",
      "2024: 2\n",
      "23: 1\n",
      "5: 1\n",
      "7: 1\n",
      "a: 2\n",
      "after: 1\n",
      "alliance: 1\n",
      "also: 1\n",
      "and: 3\n",
      "announced: 1\n",
      "arranged: 1\n",
      "as: 1\n",
      "assumes: 1\n",
      "at: 1\n",
      "basis: 1\n",
      "bhavan: 1\n",
      "big: 1\n",
      "bimstec: 1\n",
      "by: 1\n",
      "cabinet: 1\n",
      "caretaker: 1\n",
      "ceremony: 2\n",
      "council: 2\n",
      "countries: 1\n",
      "courtyards: 1\n",
      "current: 1\n",
      "democratic: 1\n",
      "dropped: 1\n",
      "election: 3\n",
      "expansion: 1\n",
      "faces: 1\n",
      "following: 1\n",
      "for: 2\n",
      "formation: 1\n",
      "formed: 1\n",
      "general: 2\n",
      "given: 1\n",
      "good: 1\n",
      "government: 1\n",
      "guests: 1\n",
      "headed: 1\n",
      "heads: 1\n",
      "held: 1\n",
      "hill: 1\n",
      "honor: 1\n",
      "however: 1\n",
      "in: 6\n",
      "india: 1\n",
      "invited: 1\n",
      "july: 1\n",
      "june: 1\n",
      "led: 1\n",
      "lok: 1\n",
      "many: 1\n",
      "may: 1\n",
      "minister: 2\n",
      "ministers: 3\n",
      "ministry: 2\n",
      "modi: 3\n",
      "names: 1\n",
      "narendra: 3\n",
      "national: 1\n",
      "new: 2\n",
      "oath: 1\n",
      "of: 10\n",
      "office: 2\n",
      "on: 4\n",
      "phases: 1\n",
      "prime: 2\n",
      "promotion: 1\n",
      "raisina: 1\n",
      "rashtrapati: 1\n",
      "remain: 1\n",
      "resignation: 1\n",
      "results: 1\n",
      "sabha: 1\n",
      "second: 1\n",
      "seven: 1\n",
      "several: 1\n",
      "states: 1\n",
      "sworn: 1\n",
      "tendered: 1\n",
      "that: 1\n",
      "the: 16\n",
      "their: 2\n",
      "they: 1\n",
      "this: 2\n",
      "through: 1\n",
      "to: 1\n",
      "until: 1\n",
      "victory: 1\n",
      "was: 4\n",
      "went: 1\n",
      "were: 3\n",
      "which: 1\n",
      "with: 1\n",
      "work.[1: 1\n",
      "would: 1\n"
     ]
    }
   ],
   "source": [
    "def count_word_occurrences(file_path):\n",
    "    word_counts = {}\n",
    "\n",
    "    try:\n",
    "        with open(file_path, 'r') as file:\n",
    "            # Read the entire content of the file\n",
    "            content = file.read()\n",
    "\n",
    "            # Split content into words (split by whitespace)\n",
    "            words = content.split()\n",
    "\n",
    "            # Count occurrences of each word\n",
    "            for word in words:\n",
    "                # Remove punctuation marks from the word (if any)\n",
    "                word = word.strip('.,!?;:\"()[]{}')\n",
    "\n",
    "                # Convert the word to lowercase for case-insensitive counting\n",
    "                word = word.lower()\n",
    "\n",
    "                if word:\n",
    "                    if word in word_counts:\n",
    "                        word_counts[word] += 1\n",
    "                    else:\n",
    "                        word_counts[word] = 1\n",
    "\n",
    "    except FileNotFoundError:\n",
    "        print(f\"Error: File '{file_path}' not found.\")\n",
    "    except Exception as e:\n",
    "        print(f\"Error: {str(e)}\")\n",
    "\n",
    "    return word_counts\n",
    "\n",
    "def main():\n",
    "    file_path = \"paragraph.txt\"\n",
    "    word_counts = count_word_occurrences(file_path)\n",
    "\n",
    "    if word_counts:\n",
    "        # Sort word counts by keys (words) in alphabetical order\n",
    "        sorted_word_counts = sorted(word_counts.items())\n",
    "\n",
    "        # Display results\n",
    "        print(\"Word Counts (Alphabetical Order):\")\n",
    "        for word, count in sorted_word_counts:\n",
    "            print(f\"{word}: {count}\")\n",
    "    else:\n",
    "        print(\"No valid word counts found.\")\n",
    "\n",
    "if __name__ == \"__main__\":\n",
    "    main()\n"
   ]
  },
  {
   "cell_type": "markdown",
   "id": "a030fdb1-d91c-431c-bd59-ddca4384f674",
   "metadata": {},
   "source": [
    "20. What do you mean by Measure of Central Tendency and Measures of Dispersion .How it can be \n",
    "calculated"
   ]
  },
  {
   "cell_type": "markdown",
   "id": "caab884b-fc59-434f-8180-a339fe7fbb51",
   "metadata": {},
   "source": [
    "Measures of Central Tendency:\n",
    "\n",
    "Measures of central tendency are statistical measures that indicate where the center or average of a distribution of data points lies. They provide a single value that represents the \"center\" of the data. The main measures of central tendency include:\n",
    "\n",
    "Mean: The arithmetic average of a set of values. It is calculated by summing all values and dividing by the number of values.\n",
    "\n",
    "mean=np.mean(X)\n",
    " \n",
    "​\n",
    " \n",
    "Median: The middle value in a sorted, ascending or descending, list of values. If there is an even number of observations, the median is the average of the two middle values.\n",
    "\n",
    "Mode: The value that appears most frequently in a dataset.\n",
    "\n",
    "Measures of Dispersion:\n",
    "\n",
    "Measures of dispersion (or variability) quantify the spread or variability of a dataset. They indicate how much the individual data points differ from the central value (mean, median, or mode). The main measures of dispersion include:\n",
    "\n",
    "Range: The difference between the maximum and minimum values in a dataset.\n",
    "\n",
    "\n",
    "Range=max(X)−min(X)\n",
    "Variance: The average of the squared differences from the mean. It measures the average squared deviation of each number from the mean of a dataset.\n",
    "\n",
    "var=np.var(X)\n",
    "​\n",
    " \n",
    "Standard Deviation: The square root of the variance. It measures the amount of variation or dispersion of a set of values.\n",
    "\n",
    "std=np.std(X)\n",
    " \n",
    "Interquartile Range (IQR): The difference between the third quartile (Q3) and the first quartile (Q1). It gives an idea of the spread of the middle 50% of the data.\n",
    "\n",
    "IQR=Q3−Q1"
   ]
  },
  {
   "cell_type": "markdown",
   "id": "7d7f2042-ef28-44fc-b0e8-55bb77bfe615",
   "metadata": {},
   "source": [
    " What do you mean by skewness.Explain its types.Use graph to show"
   ]
  },
  {
   "cell_type": "markdown",
   "id": "c98e02df-0ac8-4b7f-ab42-b2328e220eaa",
   "metadata": {},
   "source": [
    "Skewness is a statistical measure that describes the asymmetry of the probability distribution of a real-valued random variable about its mean. In simpler terms, it indicates the degree of asymmetry in the distribution of data points.\n",
    "\n",
    "Types of Skewness:\n",
    "Positive Skewness (Right Skewness):\n",
    "\n",
    "In a positively skewed distribution, the tail on the right-hand side of the distribution is longer or fatter than the left-hand side.\n",
    "This is often caused by outliers pulling the mean in the direction of the tail.\n",
    "The mean is typically greater than the median and mode.\n",
    "Example: Income distribution in a population where a few individuals have very high incomes."
   ]
  },
  {
   "cell_type": "code",
   "execution_count": null,
   "id": "6680f871-fc29-4ef4-80b1-a1dba402e416",
   "metadata": {},
   "outputs": [],
   "source": []
  },
  {
   "cell_type": "markdown",
   "id": "a9e2a9fc-0fc4-4809-b5c3-c814570db714",
   "metadata": {},
   "source": [
    "Negative Skewness (Left Skewness):\n",
    "\n",
    "In a negatively skewed distribution, the tail on the left-hand side of the distribution is longer or fatter than the right-hand side.\n",
    "This is often caused by outliers pulling the mean in the direction of the tail.\n",
    "The mean is typically less than the median and mode.\n",
    "Example: Lifespan of a particular species where most individuals have a longer lifespan, but a few have much shorter lifespans.\n"
   ]
  },
  {
   "cell_type": "code",
   "execution_count": 4,
   "id": "ad744fd4-d7db-48ee-bedc-07d08ad0a8cd",
   "metadata": {},
   "outputs": [
    {
     "data": {
      "image/png": "[encoded data removed]",
      "text/plain": [
       "<Figure size 1000x400 with 2 Axes>"
      ]
     },
     "metadata": {},
     "output_type": "display_data"
    }
   ],
   "source": [
    "import matplotlib.pyplot as plt\n",
    "import numpy as np\n",
    "\n",
    "# Generate data for positively skewed distribution\n",
    "np.random.seed(0)\n",
    "data_pos_skew = np.random.exponential(scale=2, size=1000)\n",
    "\n",
    "# Generate data for negatively skewed distribution\n",
    "data_neg_skew = -np.random.exponential(scale=2, size=1000)\n",
    "\n",
    "# Plot histograms\n",
    "plt.figure(figsize=(10, 4))\n",
    "\n",
    "plt.subplot(1, 2, 1)\n",
    "plt.hist(data_pos_skew, bins=30, color='b', alpha=0.7)\n",
    "plt.title('Positively Skewed Distribution')\n",
    "plt.xlabel('Values')\n",
    "plt.ylabel('Frequency')\n",
    "\n",
    "plt.subplot(1, 2, 2)\n",
    "plt.hist(data_neg_skew, bins=30, color='g', alpha=0.7)\n",
    "plt.title('Negatively Skewed Distribution')\n",
    "plt.xlabel('Values')\n",
    "plt.ylabel('Frequency')\n",
    "\n",
    "plt.tight_layout()\n",
    "plt.show()\n"
   ]
  },
  {
   "cell_type": "markdown",
   "id": "c64e5709-0da2-416d-9dd1-27c2663c3ea4",
   "metadata": {},
   "source": [
    "22. Explain PROBABILITY MASS FUNCTION (PMF) and PROBABILITY DENSITY FUNCTION (PDF). and what is the \n",
    "difference between them?"
   ]
  },
  {
   "cell_type": "markdown",
   "id": "3a32b40a-4388-4e01-badd-41d4032383b0",
   "metadata": {},
   "source": [
    "Probability Mass Function (PMF) and Probability Density Function (PDF) are concepts used in probability theory and statistics to describe the probability distribution of a discrete random variable (PMF) or a continuous random variable (PDF). Let's delve into each:\n",
    "\n",
    "Probability Mass Function (PMF):\n",
    "Definition: The PMF is a function that gives the probability that a discrete random variable is exactly equal to a certain value.\n",
    "\n",
    "Use: It is used for discrete random variables, where the set of possible values is countable (finite or countably infinite).\n",
    "\n",
    "Formula: For a discrete random variable \n",
    "𝑋\n",
    "X, the PMF \n",
    "𝑝\n",
    "𝑋\n",
    "(\n",
    "𝑥\n",
    ")\n",
    "p \n",
    "X\n",
    "​\n",
    " (x) is defined as:\n",
    "\n",
    "𝑝\n",
    "𝑋\n",
    "(\n",
    "𝑥\n",
    ")\n",
    "=\n",
    "𝑃\n",
    "(\n",
    "𝑋\n",
    "=\n",
    "𝑥\n",
    ")\n",
    "p \n",
    "X\n",
    "​\n",
    " (x)=P(X=x)\n",
    "where \n",
    "𝑃\n",
    "P denotes probability.\n",
    "\n",
    "Properties:\n",
    "\n",
    "𝑝\n",
    "𝑋\n",
    "(\n",
    "𝑥\n",
    ")\n",
    "≥\n",
    "0\n",
    "p \n",
    "X\n",
    "​\n",
    " (x)≥0 for all \n",
    "𝑥\n",
    "x.\n",
    "∑\n",
    "𝑥\n",
    "𝑝\n",
    "𝑋\n",
    "(\n",
    "𝑥\n",
    ")\n",
    "=\n",
    "1\n",
    "∑ \n",
    "x\n",
    "​\n",
    " p \n",
    "X\n",
    "​\n",
    " (x)=1, where the sum is over all possible values of \n",
    "𝑋\n",
    "X.\n",
    "Example: Consider a fair six-sided die. The PMF gives the probability of each possible outcome (1, 2, 3, 4, 5, 6), which is \n",
    "1\n",
    "6\n",
    "6\n",
    "1\n",
    "​\n",
    "  for each outcome.\n",
    "\n",
    "Probability Density Function (PDF):\n",
    "Definition: The PDF is a function that describes the relative likelihood for a continuous random variable to take on a given value.\n",
    "\n",
    "Use: It applies to continuous random variables, where the set of possible values is uncountably infinite.\n",
    "\n",
    "Formula: For a continuous random variable \n",
    "𝑋\n",
    "X, the PDF \n",
    "𝑓\n",
    "𝑋\n",
    "(\n",
    "𝑥\n",
    ")\n",
    "f \n",
    "X\n",
    "​\n",
    " (x) is defined such that the probability of \n",
    "𝑋\n",
    "X being in a specific interval \n",
    "[\n",
    "𝑎\n",
    ",\n",
    "𝑏\n",
    "]\n",
    "[a,b] is given by the integral of \n",
    "𝑓\n",
    "𝑋\n",
    "(\n",
    "𝑥\n",
    ")\n",
    "f \n",
    "X\n",
    "​\n",
    " (x) over that interval:\n",
    "\n",
    "𝑃\n",
    "(\n",
    "𝑎\n",
    "≤\n",
    "𝑋\n",
    "≤\n",
    "𝑏\n",
    ")\n",
    "=\n",
    "∫\n",
    "𝑎\n",
    "𝑏\n",
    "𝑓\n",
    "𝑋\n",
    "(\n",
    "𝑥\n",
    ")\n",
    " \n",
    "𝑑\n",
    "𝑥\n",
    "P(a≤X≤b)=∫ \n",
    "a\n",
    "b\n",
    "​\n",
    " f \n",
    "X\n",
    "​\n",
    " (x)dx\n",
    "Properties:\n",
    "\n",
    "𝑓\n",
    "𝑋\n",
    "(\n",
    "𝑥\n",
    ")\n",
    "≥\n",
    "0\n",
    "f \n",
    "X\n",
    "​\n",
    " (x)≥0 for all \n",
    "𝑥\n",
    "x.\n",
    "∫\n",
    "−\n",
    "∞\n",
    "∞\n",
    "𝑓\n",
    "𝑋\n",
    "(\n",
    "𝑥\n",
    ")\n",
    " \n",
    "𝑑\n",
    "𝑥\n",
    "=\n",
    "1\n",
    "∫ \n",
    "−∞\n",
    "∞\n",
    "​\n",
    " f \n",
    "X\n",
    "​\n",
    " (x)dx=1.\n",
    "Example: The PDF of a standard normal distribution \n",
    "𝑁\n",
    "(\n",
    "0\n",
    ",\n",
    "1\n",
    ")\n",
    "N(0,1) is given by:\n",
    "\n",
    "𝑓\n",
    "𝑋\n",
    "(\n",
    "𝑥\n",
    ")\n",
    "=\n",
    "1\n",
    "2\n",
    "𝜋\n",
    "𝑒\n",
    "−\n",
    "𝑥\n",
    "2\n",
    "2\n",
    "f \n",
    "X\n",
    "​\n",
    " (x)= \n",
    "2π\n",
    "​\n",
    " \n",
    "1\n",
    "​\n",
    " e \n",
    "− \n",
    "2\n",
    "x \n",
    "2\n",
    " \n",
    "​\n",
    " \n",
    " \n",
    "This function describes the relative likelihood of observing different values of \n",
    "𝑋\n",
    "X on the real number line.\n",
    "\n",
    "Difference Between PMF and PDF:\n",
    "Nature of Random Variable: PMF is used for discrete random variables (finite or countably infinite set of values), while PDF is used for continuous random variables (uncountably infinite set of values).\n",
    "\n",
    "Representation: PMF provides the probabilities of specific discrete outcomes, whereas PDF gives the relative likelihood of observing a continuous random variable within a range of values.\n",
    "\n",
    "Integral vs. Summation: PMF uses summation over discrete values to ensure probabilities sum to 1, while PDF uses integration over continuous ranges to ensure total probability sums to 1.\n",
    "\n",
    "Examples: PMF is used for scenarios like rolling dice or counting occurrences, where outcomes are distinct. PDF is used for scenarios like measuring heights or weights, where values can take on any real number within a range.\n",
    "\n",
    "In summary, PMF and PDF are fundamental concepts in probability and statistics, crucial for understanding the distribution of random variables and making predictions based on data. Understanding their definitions, properties, and differences is essential for applying them effectively in various analytical and modeling contexts.\n",
    "\n",
    "\n",
    "\n",
    "\n",
    "\n",
    "\n"
   ]
  },
  {
   "cell_type": "markdown",
   "id": "b5250b44-b3de-4662-8f3f-fd6633aa6bbf",
   "metadata": {},
   "source": [
    "23. What is correlation. Explain its type in details.what are the  methods of determining correlation"
   ]
  },
  {
   "cell_type": "markdown",
   "id": "a48abddd-0ba5-4cc8-81ac-336119cb4cc3",
   "metadata": {},
   "source": [
    "Correlation in statistics refers to the degree to which two or more variables are related or move together. It indicates the strength and direction of a linear relationship between variables. Understanding correlation helps in studying how changes in one variable affect changes in another.\n",
    "\n",
    "Types of Correlation:\n",
    "Positive Correlation:\n",
    "\n",
    "When two variables move in the same direction.\n",
    "As one variable increases, the other variable also tends to increase.\n",
    "Example: The more hours spent studying, the higher the exam scores tend to be.\n",
    "Negative Correlation:\n",
    "\n",
    "When two variables move in opposite directions.\n",
    "As one variable increases, the other variable tends to decrease.\n",
    "Example: The more hours spent commuting, the less free time available.\n",
    "Zero Correlation:\n",
    "\n",
    "When there is no apparent relationship between two variables.\n",
    "Changes in one variable do not predict changes in the other variable.\n",
    "Example: Shoe size and intelligence quotient (IQ) score in a diverse sample.\n",
    "Methods of Determining Correlation:\n",
    "There are several methods to determine the degree and direction of correlation between variables:\n",
    "\n",
    "Pearson Correlation Coefficient:\n",
    "\n",
    "Measures the linear relationship between two continuous variables.\n",
    "It ranges from -1 (perfect negative correlation) to +1 (perfect positive correlation), with 0 indicating no correlation.\n",
    "Calculated using the formula:\n",
    "𝑟\n",
    "=\n",
    "∑\n",
    "𝑖\n",
    "=\n",
    "1\n",
    "𝑛\n",
    "(\n",
    "𝑋\n",
    "𝑖\n",
    "−\n",
    "𝑋\n",
    "ˉ\n",
    ")\n",
    "(\n",
    "𝑌\n",
    "𝑖\n",
    "−\n",
    "𝑌\n",
    "ˉ\n",
    ")\n",
    "∑\n",
    "𝑖\n",
    "=\n",
    "1\n",
    "𝑛\n",
    "(\n",
    "𝑋\n",
    "𝑖\n",
    "−\n",
    "𝑋\n",
    "ˉ\n",
    ")\n",
    "2\n",
    "∑\n",
    "𝑖\n",
    "=\n",
    "1\n",
    "𝑛\n",
    "(\n",
    "𝑌\n",
    "𝑖\n",
    "−\n",
    "𝑌\n",
    "ˉ\n",
    ")\n",
    "2\n",
    "r= \n",
    "∑ \n",
    "i=1\n",
    "n\n",
    "​\n",
    " (X \n",
    "i\n",
    "​\n",
    " − \n",
    "X\n",
    "ˉ\n",
    " ) \n",
    "2\n",
    " ∑ \n",
    "i=1\n",
    "n\n",
    "​\n",
    " (Y \n",
    "i\n",
    "​\n",
    " − \n",
    "Y\n",
    "ˉ\n",
    " ) \n",
    "2\n",
    " \n",
    "​\n",
    " \n",
    "∑ \n",
    "i=1\n",
    "n\n",
    "​\n",
    " (X \n",
    "i\n",
    "​\n",
    " − \n",
    "X\n",
    "ˉ\n",
    " )(Y \n",
    "i\n",
    "​\n",
    " − \n",
    "Y\n",
    "ˉ\n",
    " )\n",
    "​\n",
    " \n",
    "Interpretation: \n",
    "𝑟\n",
    "r values closer to -1 or +1 indicate stronger correlations, while values closer to 0 indicate weaker correlations.\n",
    "Spearman's Rank Correlation Coefficient:\n",
    "\n",
    "Measures the strength and direction of monotonic (not necessarily linear) relationships between two continuous or ordinal variables.\n",
    "Based on the ranks of the data rather than the actual data values.\n",
    "Useful when data is not normally distributed or when outliers are present.\n",
    "Kendall's Tau Coefficient:\n",
    "\n",
    "Measures the strength and direction of association between two ordinal variables or between two ranked variables.\n",
    "Similar to Spearman's correlation but takes into account the number of concordant and discordant pairs of observations.\n",
    "Point-Biserial Correlation:\n",
    "\n",
    "Measures the correlation between a continuous variable and a dichotomous variable.\n",
    "It treats the dichotomous variable as if it were a continuous variable coded as 0 or 1.\n",
    "Phi Coefficient:\n",
    "\n",
    "Measures the degree of association between two dichotomous variables.\n",
    "Similar to Pearson's correlation but applicable to dichotomous variables.\n",
    "Determining Correlation:\n",
    "To determine correlation using these methods:\n",
    "\n",
    "Calculate the Correlation Coefficient: Use appropriate formulas or statistical software to compute the correlation coefficient (e.g., Pearson's \n",
    "𝑟\n",
    "r, Spearman's \n",
    "𝜌\n",
    "ρ, Kendall's \n",
    "𝜏\n",
    "τ).\n",
    "\n",
    "Interpret the Coefficient: Analyze the magnitude (strength) and sign (direction) of the correlation coefficient. Positive values indicate positive correlation, negative values indicate negative correlation, and values near zero indicate weak or no correlation.\n",
    "\n",
    "Consider Statistical Significance: Determine if the correlation coefficient is statistically significant using hypothesis testing (e.g., using p-values). This helps determine if the observed correlation is likely to be due to chance or reflects a true relationship in the population.\n",
    "\n",
    "Understanding and interpreting correlation coefficients are essential for various fields, including economics, psychology, biology, and social sciences, where relationships between variables are studied to make predictions and decisions.\n",
    "\n",
    "\n",
    "\n",
    "\n",
    "\n",
    "\n"
   ]
  },
  {
   "attachments": {
    "5e69c020-fb4a-4f14-b25d-69ef6e496e9a.png": {
     "image/png": "[encoded data removed]"
    }
   },
   "cell_type": "markdown",
   "id": "fcfa6144-73e5-42b7-a4ad-02471d1bb0af",
   "metadata": {},
   "source": [
    "24.  Calculate coefficient of correlation between the marks obtained by 10 students in Accountancy and \n",
    "statistics: \n",
    "![image.png](attachment:5e69c020-fb4a-4f14-b25d-69ef6e496e9a.png)\n",
    "\n",
    "\n",
    "\n",
    "\n",
    "\n",
    "Use Karl Pearson’s Coefficient of Correlation Method to find it"
   ]
  },
  {
   "cell_type": "code",
   "execution_count": 6,
   "id": "d3bf53ef-e45d-4402-af7e-8fa8a490b446",
   "metadata": {},
   "outputs": [
    {
     "name": "stdout",
     "output_type": "stream",
     "text": [
      "Coefficient of correlation (r): 0.9031178882610624\n"
     ]
    }
   ],
   "source": [
    "import numpy as np\n",
    "\n",
    "# Data\n",
    "accountancy_marks = [45, 70, 65, 30, 90, 40, 50, 75, 85, 60]\n",
    "statistics_marks = [35, 90, 70, 40, 95, 40, 60, 80, 80, 50]\n",
    "\n",
    "# Calculate means\n",
    "accountancy_mean = np.mean(accountancy_marks)\n",
    "statistics_mean = np.mean(statistics_marks)\n",
    "\n",
    "# Calculate deviations from means\n",
    "accountancy_dev = [x - accountancy_mean for x in accountancy_marks]\n",
    "statistics_dev = [x - statistics_mean for x in statistics_marks]\n",
    "\n",
    "# Calculate sum of products of deviations\n",
    "sum_products = sum([x * y for x, y in zip(accountancy_dev, statistics_dev)])\n",
    "\n",
    "# Calculate sum of squares of deviations\n",
    "sum_accountancy_squares = sum([x ** 2 for x in accountancy_dev])\n",
    "sum_statistics_squares = sum([x ** 2 for x in statistics_dev])\n",
    "\n",
    "# Calculate coefficient of correlation (r)\n",
    "r = sum_products / np.sqrt(sum_accountancy_squares * sum_statistics_squares)\n",
    "\n",
    "print(\"Coefficient of correlation (r):\", r)"
   ]
  },
  {
   "cell_type": "markdown",
   "id": "2c8123c6-885c-4955-bee7-4cad715a8d52",
   "metadata": {},
   "source": [
    "25. Discuss the 4  differences between correlation and regression"
   ]
  },
  {
   "cell_type": "markdown",
   "id": "37bac3fc-3ddd-43ec-95c5-cc587cc7ddfc",
   "metadata": {},
   "source": [
    "Correlation and regression are both statistical techniques used to explore relationships between variables, but they serve different purposes and provide different types of information. Here are four key differences between correlation and regression:\n",
    "\n",
    "Purpose and Nature:\n",
    "\n",
    "Correlation: Correlation measures the strength and direction of a linear relationship between two variables. It quantifies how much and in what direction two variables change together.\n",
    "Regression: Regression, on the other hand, is used to model the relationship between a dependent variable (response) and one or more independent variables (predictors). It helps predict the value of the dependent variable based on the values of the independent variables.\n",
    "Output:\n",
    "\n",
    "Correlation: The output of correlation is a correlation coefficient, typically denoted by \n",
    "𝑟\n",
    "r. This coefficient ranges from -1 to 1, where:\n",
    "𝑟\n",
    "=\n",
    "1\n",
    "r=1: Perfect positive correlation\n",
    "𝑟\n",
    "=\n",
    "−\n",
    "1\n",
    "r=−1: Perfect negative correlation\n",
    "𝑟\n",
    "=\n",
    "0\n",
    "r=0: No correlation\n",
    "Correlation does not imply causation.\n",
    "Regression: Regression provides an equation that describes how the dependent variable changes as the independent variables change. It includes coefficients that indicate the strength and direction of the relationship between each independent variable and the dependent variable.\n",
    "Directionality:\n",
    "\n",
    "Correlation: Correlation is symmetric, meaning \n",
    "cor\n",
    "(\n",
    "𝑋\n",
    ",\n",
    "𝑌\n",
    ")\n",
    "=\n",
    "cor\n",
    "(\n",
    "𝑌\n",
    ",\n",
    "𝑋\n",
    ")\n",
    "cor(X,Y)=cor(Y,X). It measures the association between variables regardless of which one is considered the independent or dependent variable.\n",
    "Regression: Regression is asymmetric. It distinguishes between predictors (independent variables) and the outcome (dependent variable). The regression equation predicts the outcome variable based on changes in the predictor variables.\n",
    "Application:\n",
    "\n",
    "Correlation: Correlation is typically used to:\n",
    "Identify relationships between variables\n",
    "Measure the strength of association\n",
    "Screen variables for further analysis in regression or other modeling techniques\n",
    "Regression: Regression is used to:\n",
    "Make predictions about the dependent variable\n",
    "Understand how changes in the independent variables affect the dependent variable\n",
    "Test hypotheses about relationships between variables\n",
    "In summary, while both correlation and regression deal with relationships between variables, correlation assesses the strength and direction of linear associations, whereas regression models these relationships and predicts outcomes based on them."
   ]
  },
  {
   "cell_type": "markdown",
   "id": "ea1758e7-9ab7-41da-a793-cf9fd23e9209",
   "metadata": {},
   "source": [
    "26. Find the most likely price at Delhi corresponding to the price of Rs. 70 at Agra from the following data:\n",
    "\n",
    "Coefficient of correlation between the prices of the two places +0.8"
   ]
  },
  {
   "cell_type": "code",
   "execution_count": 7,
   "id": "3266af0a-c5ae-45ed-9b2c-429da6dfefe8",
   "metadata": {},
   "outputs": [
    {
     "name": "stdout",
     "output_type": "stream",
     "text": [
      "Most likely price at Delhi: 74.6\n"
     ]
    }
   ],
   "source": [
    "# Define the values\n",
    "agra_mean = 60\n",
    "delhi_mean = 65\n",
    "agra_std_dev = 10\n",
    "delhi_std_dev = 12\n",
    "r = 0.8\n",
    "agra_price = 70\n",
    "\n",
    "# Calculate the Delhi price\n",
    "delhi_price = (agra_price - agra_mean) * (delhi_std_dev / agra_std_dev) * r + delhi_mean\n",
    "\n",
    "print(\"Most likely price at Delhi:\", round(delhi_price, 2))"
   ]
  },
  {
   "cell_type": "markdown",
   "id": "4db5e798-67c0-4ed2-8858-d313a3d3fa96",
   "metadata": {},
   "source": [
    "27. In a partially destroyed laboratory record of an analysis of correlation data, the following results only are \n",
    "legible: Variance of x = 9, Regression equations are: (i) 8x−10y = −66; (ii) 40x − 18y = 214. What are (a) the \n",
    "mean values of x and y, (b) the coefficient of correlation between x and y, (c) the σ of y."
   ]
  },
  {
   "cell_type": "markdown",
   "id": "5300d5cb-4787-4a3c-be36-474748a12fe2",
   "metadata": {},
   "source": [
    "Given data:\n",
    "\n",
    "Variance of x: 9\n",
    "Two regression equations:\n",
    "8x - 10y = -66\n",
    "40x - 18y = 214\n",
    "Unknown:\n",
    "\n",
    "(a) Mean values of x and y\n",
    "(b) Coefficient of correlation between x and y\n",
    "(c) Standard deviation of y (σy)\n",
    "Step 1: Solve for the means\n",
    "\n",
    "We can rewrite the two regression equations in the slope-intercept form (y = mx + c):\n",
    "\n",
    "8x - 10y = -66 => -10y = -8x - 66 => y = (4/5)x + 33/5\n",
    "40x - 18y = 214 => -18y = -40x + 214 => y = (20/9)x - 214/18\n",
    "Since both regression equations must pass through the point (x̄, ȳ), we can equate the two expressions for y:\n",
    "\n",
    "(4/5)x̄ + 33/5 = (20/9)x̄ - 214/18\n",
    "\n",
    "Solving for x̄, we get:\n",
    "\n",
    "x̄ = 6\n",
    "\n",
    "Now, substitute x̄ into one of the regression equations to find ȳ:\n",
    "\n",
    "y = (4/5)x̄ + 33/5 => ȳ = (4/5)(6) + 33/5 => ȳ = 9\n",
    "\n",
    "So, the mean values are:\n",
    "\n",
    "x̄ = 6 ȳ = 9\n",
    "\n",
    "Step 2: Find the coefficient of correlation (r)\n",
    "\n",
    "We can use the fact that the product of the slopes of the two regression equations is equal to the square of the coefficient of correlation (r):\n",
    "\n",
    "m1 × m2 = r^2\n",
    "\n",
    "where m1 = 4/5 and m2 = 20/9. Solving for r, we get:\n",
    "\n",
    "r = √((4/5) × (20/9)) = √(16/9) = 4/3\n",
    "\n",
    "Step 3: Find the standard deviation of y (σy)\n",
    "\n",
    "We can use the fact that the variance of y (σy^2) is equal to the variance of x (σx^2) multiplied by the square of the coefficient of correlation (r^2):\n",
    "\n",
    "σy^2 = σx^2 × r^2 = 9 × (4/3)^2 = 48\n",
    "\n",
    "σy = √48 ≈ 6.93\n",
    "\n",
    "So, the answers are:\n",
    "\n",
    "(a) Mean values of x and y: x̄ = 6, ȳ = 9\n",
    "(b) Coefficient of correlation between x and y: r = 4/3\n",
    "(c) Standard deviation of y: σy ≈ 6.93"
   ]
  },
  {
   "cell_type": "markdown",
   "id": "f522111a-6ccb-4742-b975-eedb06c01743",
   "metadata": {},
   "source": [
    "28. What is  Normal Distribution? What are the four Assumptions of Normal Distribution? Explain in detail"
   ]
  },
  {
   "cell_type": "markdown",
   "id": "579cdb95-5319-41a7-a949-ae1da96d78a2",
   "metadata": {},
   "source": [
    "Normal Distribution:\n",
    "\n",
    "Normal distribution, also known as Gaussian distribution, is a fundamental concept in statistics and probability theory. It describes a symmetric, bell-shaped probability distribution where most values cluster around the mean, with progressively fewer values found as one moves away from the mean in either direction. The shape of the distribution is determined by two parameters: the mean (μ), which represents the center of the distribution, and the standard deviation (σ), which measures the spread or dispersion of the values around the mean.\n",
    "\n",
    "Characteristics of Normal Distribution:\n",
    "\n",
    "Symmetry: The distribution is symmetric around its mean, with the mean, median, and mode all being equal.\n",
    "Bell-shaped curve: It has a bell-shaped curve where the highest point occurs at the mean, and values taper off symmetrically on either side of the mean.\n",
    "68-95-99.7 Rule: A large proportion of the data (approximately 68%) falls within one standard deviation of the mean, about 95% falls within two standard deviations, and almost all (99.7%) fall within three standard deviations.\n",
    "Parameterized by mean and standard deviation: The distribution is fully described by its mean (μ) and standard deviation (σ).\n",
    "Assumptions of Normal Distribution:\n",
    "\n",
    "Understanding the assumptions underlying the normal distribution helps in correctly applying it in statistical analysis and modeling. Here are the four key assumptions:\n",
    "\n",
    "Unimodal and Symmetric Distribution:\n",
    "\n",
    "The normal distribution assumes that the data is unimodal, meaning it has only one peak, and symmetric around the mean. This symmetry implies that the probabilities of deviations from the mean are identical on both sides.\n",
    "Fixed Mean and Variance:\n",
    "\n",
    "The distribution assumes a fixed mean (μ) and variance (σ²) for the population. The mean determines the center of the distribution, while the variance (or standard deviation, σ) describes how spread out the data points are around the mean.\n",
    "No Skewness or Kurtosis:\n",
    "\n",
    "Skewness refers to the lack of symmetry in the distribution. A normal distribution has zero skewness, meaning the tails on both sides of the mean are exactly the same length. Similarly, kurtosis measures the \"tailedness\" of the distribution; a normal distribution has a kurtosis of 3 (excess kurtosis = 0).\n",
    "Independent Observations:\n",
    "\n",
    "The observations or data points must be independent of each other. This means that the value of one observation does not influence the value of another. Violation of independence can lead to correlations among observations, which can affect the validity of using normal distribution assumptions.\n",
    "Applications and Importance:\n",
    "\n",
    "Normal distribution is widely used in various fields such as finance, natural sciences, social sciences, and engineering due to its mathematical tractability and descriptive power. It serves as a basis for many statistical techniques, including hypothesis testing, confidence interval estimation, and regression analysis. When data approximately follows a normal distribution, it simplifies statistical analysis and allows for more accurate predictions and inferences about the population from sample data. However, it's important to verify whether data truly follows a normal distribution before applying techniques that assume normality, as violations of these assumptions can lead to misleading results.\n",
    "\n",
    "\n",
    "\n",
    "\n",
    "\n",
    "\n"
   ]
  },
  {
   "cell_type": "markdown",
   "id": "c3b2e16e-23f0-49f0-92e6-e462789bc155",
   "metadata": {},
   "source": [
    "29.Write all the characteristics or Properties of the Normal Distribution Curve"
   ]
  },
  {
   "cell_type": "markdown",
   "id": "b9bd77fd-1677-4c81-8804-ea5bd6af377c",
   "metadata": {},
   "source": [
    "The normal distribution curve, also known as the Gaussian distribution, possesses several key characteristics or properties that define its shape and behavior. These properties are fundamental to understanding and applying normal distribution in statistics and probability theory. Here are the main characteristics of the normal distribution curve:\n",
    "\n",
    "Symmetry: The normal distribution curve is symmetric around its mean (μ). This symmetry means that the curve's left and right halves mirror each other perfectly.\n",
    "\n",
    "Bell-shaped Curve: The distribution has a characteristic bell-shaped curve with a single peak at the mean. As you move away from the mean in either direction, the probability density decreases symmetrically.\n",
    "\n",
    "Single Peak: There is only one peak or mode, which is located at the mean of the distribution. This implies that the most probable outcome is the mean itself.\n",
    "\n",
    "Defined by Mean and Standard Deviation: The shape of the normal distribution curve is completely determined by its mean (μ) and standard deviation (σ). The mean determines the center of the curve, while the standard deviation controls the spread or dispersion of the data points around the mean.\n",
    "\n",
    "Asymptotic to the x-axis: The tails of the normal distribution curve approach but never touch the x-axis. This means that theoretically, the curve extends infinitely in both directions.\n",
    "\n",
    "Continuous and Smooth: The curve is continuous across all values of the variable. There are no breaks or discontinuities in the curve, indicating that every possible value within the range has a non-zero probability.\n",
    "\n",
    "Area under the Curve: The total area under the normal distribution curve is equal to 1. This property ensures that the probabilities sum up to 1, making it a valid probability distribution function.\n",
    "\n",
    "Centered on the Mean: The mean (μ) of the distribution corresponds to the point of highest probability density. As you move further from the mean, the probability density decreases according to a specific pattern defined by the standard deviation.\n",
    "\n",
    "68-95-99.7 Rule: This empirical rule states that approximately 68% of the data falls within one standard deviation (σ) of the mean, about 95% within two standard deviations, and nearly 99.7% within three standard deviations. This rule is a convenient way to understand the spread of data in a normal distribution.\n",
    "\n",
    "Parameterized by Mean and Standard Deviation: Since a normal distribution is fully characterized by its mean and standard deviation, changing these parameters shifts or scales the curve accordingly without changing its fundamental shape.\n",
    "\n",
    "Density Function: The probability density function (pdf) of the normal distribution is given by:\n",
    "\n",
    "𝑓\n",
    "(\n",
    "𝑥\n",
    "∣\n",
    "𝜇\n",
    ",\n",
    "𝜎\n",
    "2\n",
    ")\n",
    "=\n",
    "1\n",
    "2\n",
    "𝜋\n",
    "𝜎\n",
    "2\n",
    "𝑒\n",
    "−\n",
    "(\n",
    "𝑥\n",
    "−\n",
    "𝜇\n",
    ")\n",
    "2\n",
    "2\n",
    "𝜎\n",
    "2\n",
    "f(x∣μ,σ \n",
    "2\n",
    " )= \n",
    "2πσ \n",
    "2\n",
    " \n",
    "​\n",
    " \n",
    "1\n",
    "​\n",
    " e \n",
    "− \n",
    "2σ \n",
    "2\n",
    " \n",
    "(x−μ) \n",
    "2\n",
    " \n",
    "​\n",
    " \n",
    " \n",
    "where \n",
    "𝜇\n",
    "μ is the mean, \n",
    "𝜎\n",
    "2\n",
    "σ \n",
    "2\n",
    "  is the variance, and \n",
    "𝑥\n",
    "x is the variable.\n",
    "\n",
    "Understanding these characteristics helps in recognizing and utilizing the normal distribution effectively in statistical analysis, hypothesis testing, and modeling various phenomena across different fields of study.\n",
    "\n",
    "\n",
    "\n",
    "\n",
    "\n",
    "\n"
   ]
  },
  {
   "cell_type": "markdown",
   "id": "d0849586-5c7c-406f-96f2-4171964597de",
   "metadata": {},
   "source": [
    "30.Which of the following options are  correct about Normal Distribution Curve.\n",
    "\n",
    "\n",
    "(a) Within a range 0.6745 of σ on both sides the middle 50% of the observations occur i,e. mean ±0.6745σ \n",
    "covers 50% area 25% on each side.\n",
    "\n",
    "(b) Mean ±1S.D. (i,e.µ ± 1σ) covers 68.268% area, 34.134 % area lies on either side of the mean. \n",
    "\n",
    "(c) Mean ±2S.D. (i,e. µ ± 2σ) covers 95.45% area, 47.725% area lies on either side of the mean. \n",
    "\n",
    "(d) Mean ±3 S.D. (i,e. µ ±3σ) covers 99.73% area, 49.856% area lies on the either side of the mean. \n",
    "\n",
    "(e) Only 0.27% area is outside the range µ ±3σ."
   ]
  },
  {
   "cell_type": "markdown",
   "id": "1cc44ae7-4128-4f95-b65c-76efac7b35e6",
   "metadata": {},
   "source": [
    "Let's analyze each option to determine which statements are correct about the properties of the normal distribution curve:\n",
    "\n",
    "(a) Correct: Within ±0.6745 standard deviations (σ) of the mean (μ), approximately 50% of the observations lie. This means ±0.6745σ covers 50% of the total area of the normal distribution, with 25% on each side.\n",
    "\n",
    "(b) Incorrect: Mean ±1 standard deviation (σ) covers approximately 68.27% of the total area under the normal distribution curve, not 68.268%. This translates to 34.135% area on each side of the mean.\n",
    "\n",
    "(c) Correct: Mean ±2 standard deviations (σ) covers approximately 95.45% of the total area under the normal distribution curve. This corresponds to 47.725% area on each side of the mean.\n",
    "\n",
    "(d) Correct: Mean ±3 standard deviations (σ) covers approximately 99.73% of the total area under the normal distribution curve. This translates to 49.865% area on each side of the mean.\n",
    "\n",
    "(e) Correct: Only 0.27% of the area lies outside the range of ±3 standard deviations (µ ±3σ) from the mean. This represents the tails of the normal distribution curve where extreme values occur."
   ]
  },
  {
   "cell_type": "markdown",
   "id": "bcbd28c8-ab0d-43fe-aa37-e122f4c0016d",
   "metadata": {},
   "source": [
    "31. The mean of a distribution is 60 with a standard deviation of 10. Assuming that the distribution is normal, \n",
    "what percentage of items be (i) between 60 and 72, (ii) between 50 and 60, (iii) beyond 72 and (iv) between \n",
    "70 and 80?"
   ]
  },
  {
   "cell_type": "code",
   "execution_count": 12,
   "id": "17d1da2d-0e20-494c-ab5b-2efafb10ae18",
   "metadata": {},
   "outputs": [
    {
     "name": "stdout",
     "output_type": "stream",
     "text": [
      "(i) Between 60 and 72: 38.49%\n",
      "(ii) Between 50 and 60: 34.13%\n",
      "(iii) Beyond 72: 11.51%\n",
      "(iv) Between 70 and 80: 13.59%\n"
     ]
    }
   ],
   "source": [
    "import scipy.stats as stats\n",
    "\n",
    "# Given parameters\n",
    "mean = 60\n",
    "std_dev = 10\n",
    "\n",
    "# (i) Between 60 and 72\n",
    "lower_bound1 = 60\n",
    "upper_bound1 = 72\n",
    "\n",
    "# Convert bounds to z-scores\n",
    "z_lower1 = (lower_bound1 - mean) / std_dev\n",
    "z_upper1 = (upper_bound1 - mean) / std_dev\n",
    "\n",
    "# Calculate probability using cumulative distribution function (CDF)\n",
    "prob1 = stats.norm.cdf(z_upper1) - stats.norm.cdf(z_lower1)\n",
    "percentage1 = prob1 * 100\n",
    "\n",
    "print(f\"(i) Between 60 and 72: {percentage1:.2f}%\")\n",
    "\n",
    "# (ii) Between 50 and 60\n",
    "lower_bound2 = 50\n",
    "upper_bound2 = 60\n",
    "\n",
    "# Convert bounds to z-scores\n",
    "z_lower2 = (lower_bound2 - mean) / std_dev\n",
    "z_upper2 = (upper_bound2 - mean) / std_dev\n",
    "\n",
    "# Calculate probability using cumulative distribution function (CDF)\n",
    "prob2 = stats.norm.cdf(z_upper2) - stats.norm.cdf(z_lower2)\n",
    "percentage2 = prob2 * 100\n",
    "\n",
    "print(f\"(ii) Between 50 and 60: {percentage2:.2f}%\")\n",
    "\n",
    "# (iii) Beyond 72\n",
    "upper_bound3 = 72\n",
    "\n",
    "# Convert upper bound to z-score\n",
    "z_upper3 = (upper_bound3 - mean) / std_dev\n",
    "\n",
    "# Calculate probability using survival function (1 - CDF)\n",
    "prob3 = 1 - stats.norm.cdf(z_upper3)\n",
    "percentage3 = prob3 * 100\n",
    "\n",
    "print(f\"(iii) Beyond 72: {percentage3:.2f}%\")\n",
    "\n",
    "# (iv) Between 70 and 80\n",
    "lower_bound4 = 70\n",
    "upper_bound4 = 80\n",
    "\n",
    "# Convert bounds to z-scores\n",
    "z_lower4 = (lower_bound4 - mean) / std_dev\n",
    "z_upper4 = (upper_bound4 - mean) / std_dev\n",
    "\n",
    "# Calculate probability using cumulative distribution function (CDF)\n",
    "prob4 = stats.norm.cdf(z_upper4) - stats.norm.cdf(z_lower4)\n",
    "percentage4 = prob4 * 100\n",
    "\n",
    "print(f\"(iv) Between 70 and 80: {percentage4:.2f}%\")\n"
   ]
  },
  {
   "cell_type": "markdown",
   "id": "c2016691-a500-47cd-b532-e6c65e347112",
   "metadata": {},
   "source": [
    "32. 15000 students sat for an examination. The mean marks was 49 and the distribution of marks had a \n",
    "standard deviation of 6. Assuming that the marks were normally distributed what proportion of students \n",
    "scored (a) more than 55 marks, (b) more than 70 marks"
   ]
  },
  {
   "cell_type": "code",
   "execution_count": 13,
   "id": "1520a687-d513-4ea2-a79b-ee4e5ea9fc33",
   "metadata": {},
   "outputs": [
    {
     "name": "stdout",
     "output_type": "stream",
     "text": [
      "(a) Proportion of students with more than 55 marks: 0.1587 or 15.87%\n",
      "    Number of students: 2380\n",
      "\n",
      "(b) Proportion of students with more than 70 marks: 0.000233 or 0.0233%\n",
      "    Number of students: 3\n"
     ]
    }
   ],
   "source": [
    "import scipy.stats as stats\n",
    "\n",
    "# Given parameters\n",
    "n_students = 15000\n",
    "mean_marks = 49\n",
    "std_dev_marks = 6\n",
    "\n",
    "# (a) More than 55 marks\n",
    "marks_a = 55\n",
    "\n",
    "# Convert to z-score\n",
    "z_score_a = (marks_a - mean_marks) / std_dev_marks\n",
    "\n",
    "# Calculate probability using survival function (1 - CDF)\n",
    "prob_a = 1 - stats.norm.cdf(z_score_a)\n",
    "\n",
    "# Calculate number of students\n",
    "students_a = prob_a * n_students\n",
    "\n",
    "print(f\"(a) Proportion of students with more than 55 marks: {prob_a:.4f} or {prob_a * 100:.2f}%\")\n",
    "print(f\"    Number of students: {students_a:.0f}\")\n",
    "\n",
    "# (b) More than 70 marks\n",
    "marks_b = 70\n",
    "\n",
    "# Convert to z-score\n",
    "z_score_b = (marks_b - mean_marks) / std_dev_marks\n",
    "\n",
    "# Calculate probability using survival function (1 - CDF)\n",
    "prob_b = 1 - stats.norm.cdf(z_score_b)\n",
    "\n",
    "# Calculate number of students\n",
    "students_b = prob_b * n_students\n",
    "\n",
    "print(f\"\\n(b) Proportion of students with more than 70 marks: {prob_b:.6f} or {prob_b * 100:.4f}%\")\n",
    "print(f\"    Number of students: {students_b:.0f}\")\n"
   ]
  },
  {
   "cell_type": "markdown",
   "id": "dd688598-f666-4425-ad95-52de271974f8",
   "metadata": {},
   "source": [
    "33. If the height of 500 students are normally distributed with mean 65 inch and standard deviation 5 inch. \n",
    "How many students have height : a) greater than 70 inch. b) between 60 and 70 inch"
   ]
  },
  {
   "cell_type": "code",
   "execution_count": 14,
   "id": "5f459bdb-08c2-4c85-aec4-5f12357d23b5",
   "metadata": {},
   "outputs": [
    {
     "name": "stdout",
     "output_type": "stream",
     "text": [
      "(a) Number of students with height greater than 70 inches: 79\n",
      "(b) Number of students with height between 60 and 70 inches: 341\n"
     ]
    }
   ],
   "source": [
    "import scipy.stats as stats\n",
    "\n",
    "# Given parameters\n",
    "n_students = 500\n",
    "mean_height = 65\n",
    "std_dev_height = 5\n",
    "\n",
    "# (a) Greater than 70 inches\n",
    "height_a = 70\n",
    "\n",
    "# Convert to z-score\n",
    "z_score_a = (height_a - mean_height) / std_dev_height\n",
    "\n",
    "# Calculate probability using survival function (1 - CDF)\n",
    "prob_a = 1 - stats.norm.cdf(z_score_a)\n",
    "\n",
    "# Calculate number of students\n",
    "students_a = prob_a * n_students\n",
    "\n",
    "print(f\"(a) Number of students with height greater than 70 inches: {students_a:.0f}\")\n",
    "\n",
    "# (b) Between 60 and 70 inches\n",
    "height_b_lower = 60\n",
    "height_b_upper = 70\n",
    "\n",
    "# Convert to z-scores\n",
    "z_score_b_lower = (height_b_lower - mean_height) / std_dev_height\n",
    "z_score_b_upper = (height_b_upper - mean_height) / std_dev_height\n",
    "\n",
    "# Calculate probability using cumulative distribution function (CDF)\n",
    "prob_b = stats.norm.cdf(z_score_b_upper) - stats.norm.cdf(z_score_b_lower)\n",
    "\n",
    "# Calculate number of students\n",
    "students_b = prob_b * n_students\n",
    "\n",
    "print(f\"(b) Number of students with height between 60 and 70 inches: {students_b:.0f}\")\n"
   ]
  },
  {
   "cell_type": "markdown",
   "id": "01242d33-6c55-4c14-9337-8aeff4c65f77",
   "metadata": {},
   "source": [
    "34. What is the statistical hypothesis? Explain the errors in hypothesis testing.b)Explain the  Sample. What \n",
    "are Large Samples & Small Samples"
   ]
  },
  {
   "cell_type": "markdown",
   "id": "370c6cbf-2fa6-4dc6-be8e-ed8d63343824",
   "metadata": {},
   "source": [
    "What is a Statistical Hypothesis?\n",
    "In statistics, a hypothesis is a statement or assumption about a population parameter. There are two types of hypotheses:\n",
    "\n",
    "Null Hypothesis (H0): This hypothesis typically represents a default position or a hypothesis of no effect. It states that there is no significant difference, relationship, or effect in the population. It is denoted as H0.\n",
    "\n",
    "Alternative Hypothesis (H1 or Ha): This hypothesis contradicts the null hypothesis. It states that there is a significant difference, relationship, or effect in the population. It is denoted as H1 or Ha.\n",
    "\n",
    "In hypothesis testing, the goal is to use sample data to evaluate whether there is enough evidence to reject the null hypothesis in favor of the alternative hypothesis. Hypothesis testing involves defining a test statistic, choosing a significance level (α), and comparing the test statistic to critical values or p-values derived from the chosen statistical test.\n",
    "\n",
    "Errors in Hypothesis Testing:\n",
    "In hypothesis testing, there are two types of errors that can occur:\n",
    "\n",
    "Type I Error (α error): This occurs when the null hypothesis (H0) is rejected when it is actually true. In other words, it's a false positive result. The probability of committing a Type I error is equal to the significance level (α) chosen for the test.\n",
    "\n",
    "Type II Error (β error): This occurs when the null hypothesis (H0) is not rejected when it is actually false. In other words, it's a false negative result. The probability of committing a Type II error is denoted as β and is related to the power of the test (1 - β).\n",
    "\n",
    "Sample:\n",
    "In statistics, a sample is a subset of individuals, items, or data taken from a larger population. The purpose of sampling is to gather information about a population without having to study the entire population.\n",
    "\n",
    "Population: The entire group of individuals, items, or data under study.\n",
    "\n",
    "Sample: A smaller, manageable subset of the population selected through a defined process to represent the population.\n",
    "\n",
    "Large Samples & Small Samples:\n",
    "The distinction between large and small samples depends on the context of the statistical analysis and the specific techniques used. Here's a general understanding:\n",
    "\n",
    "Large Sample:\n",
    "\n",
    "Definition: A sample size that is sufficiently large relative to the population.\n",
    "Characteristics:\n",
    "Usually, a sample size of 30 or more is considered large.\n",
    "Large samples tend to provide more precise estimates of population parameters.\n",
    "Statistical tests and procedures developed for large samples often rely on asymptotic properties (e.g., Central Limit Theorem).\n",
    "Small Sample:\n",
    "\n",
    "Definition: A sample size that is relatively small compared to the population.\n",
    "Characteristics:\n",
    "Typically, a sample size less than 30 is considered small, but this can vary depending on the statistical technique and context.\n",
    "Small samples may not accurately represent the population, leading to less precise estimates.\n",
    "Statistical tests for small samples may require different approaches, such as exact tests or non-parametric methods, to account for the limited sample size.\n",
    "In summary, the choice between using a large or small sample depends on factors such as the research question, population size, statistical power required, and the specific statistical methods being employed. Larger samples generally provide more reliable estimates and allow for broader generalizations, while smaller samples may require more careful interpretation and specialized statistical techniques."
   ]
  },
  {
   "cell_type": "markdown",
   "id": "7f6e37e3-b28c-4aec-9c69-ab12c3e7745e",
   "metadata": {},
   "source": [
    "35.A random sample of size 25 from a population gives the sample standard derivation to be 9.0. Test the \n",
    "hypothesis that the population standard derivation is 10.5.\n",
    "\n",
    "Hint(Use chi-square distribution)"
   ]
  },
  {
   "cell_type": "code",
   "execution_count": 15,
   "id": "6b5e5137-b492-4e69-af32-f6471b2eb846",
   "metadata": {},
   "outputs": [
    {
     "name": "stdout",
     "output_type": "stream",
     "text": [
      "Chi-Square Statistic: 17.6327\n",
      "Critical Value: 39.3641\n",
      "Fail to reject H0: There is not enough evidence to suggest that the population standard deviation is different from 10.5.\n"
     ]
    }
   ],
   "source": [
    "import numpy as np\n",
    "import scipy.stats as stats\n",
    "\n",
    "# Given data\n",
    "n = 25  # sample size\n",
    "s = 9.0  # sample standard deviation\n",
    "sigma_null = 10.5  # hypothesized population standard deviation\n",
    "\n",
    "# Degrees of freedom\n",
    "df = n - 1\n",
    "\n",
    "# Calculate the chi-square statistic\n",
    "chi2_stat = ((n - 1) * (s ** 2)) / (sigma_null ** 2)\n",
    "\n",
    "# Critical value from chi-square distribution for alpha = 0.05 and df = 24\n",
    "alpha = 0.05\n",
    "critical_value = stats.chi2.ppf(1 - alpha/2, df)\n",
    "\n",
    "# Print the results\n",
    "print(f\"Chi-Square Statistic: {chi2_stat:.4f}\")\n",
    "print(f\"Critical Value: {critical_value:.4f}\")\n",
    "\n",
    "# Compare with critical value and make a decision\n",
    "if chi2_stat > critical_value:\n",
    "    print(\"Reject H0: There is sufficient evidence to suggest that the population standard deviation is not 10.5.\")\n",
    "else:\n",
    "    print(\"Fail to reject H0: There is not enough evidence to suggest that the population standard deviation is different from 10.5.\")\n"
   ]
  },
  {
   "cell_type": "markdown",
   "id": "2512ce2c-3edd-44e5-a5a0-deecd271443c",
   "metadata": {},
   "source": [
    "37.100 students of a PW IOI obtained the following grades in Data Science paper :\n",
    "\n",
    "Grade :[A, B, C, D, E]\n",
    "\n",
    " Total Frequency :[15, 17, 30, 22, 16, 100]\n",
    "\n",
    "Using the  χ 2 test , examine the hypothesis that the distribution of grades is uniform"
   ]
  },
  {
   "cell_type": "code",
   "execution_count": 16,
   "id": "830d2dc3-e849-4b8e-a968-be98068137f0",
   "metadata": {},
   "outputs": [
    {
     "name": "stdout",
     "output_type": "stream",
     "text": [
      "Chi-Square Statistic: 7.7000\n",
      "Critical Value: 9.4877\n",
      "P-value: 0.1032\n",
      "Fail to reject H0: The distribution of grades is uniform.\n"
     ]
    }
   ],
   "source": [
    "import numpy as np\n",
    "import scipy.stats as stats\n",
    "\n",
    "# Given data\n",
    "grades = ['A', 'B', 'C', 'D', 'E']\n",
    "observed_freq = [15, 17, 30, 22, 16]\n",
    "total_students = 100\n",
    "expected_freq = total_students / len(grades)  # Expected frequency for each grade\n",
    "\n",
    "# Calculate the chi-square statistic\n",
    "chi2_stat, p_value = stats.chisquare(observed_freq, f_exp=np.full_like(observed_freq, expected_freq))\n",
    "\n",
    "# Degrees of freedom\n",
    "df = len(grades) - 1\n",
    "\n",
    "# Critical value from chi-square distribution for alpha = 0.05 and df = 4\n",
    "alpha = 0.05\n",
    "critical_value = stats.chi2.ppf(1 - alpha, df)\n",
    "\n",
    "# Print the results\n",
    "print(f\"Chi-Square Statistic: {chi2_stat:.4f}\")\n",
    "print(f\"Critical Value: {critical_value:.4f}\")\n",
    "print(f\"P-value: {p_value:.4f}\")\n",
    "\n",
    "# Compare with critical value and make a decision\n",
    "if chi2_stat > critical_value:\n",
    "    print(\"Reject H0: The distribution of grades is not uniform.\")\n",
    "else:\n",
    "    print(\"Fail to reject H0: The distribution of grades is uniform.\")\n"
   ]
  },
  {
   "cell_type": "markdown",
   "id": "e15d9860-1a09-45e5-ba57-f28f6a704e24",
   "metadata": {},
   "source": [
    "38.Anova Test"
   ]
  },
  {
   "cell_type": "code",
   "execution_count": 19,
   "id": "d6c3664a-9638-4631-8b6d-18218ad95e9f",
   "metadata": {},
   "outputs": [],
   "source": [
    "import pandas as pd\n",
    "df=pd.DataFrame([[57,55,67],[49,52,68],[54,46,58]],columns=['Detergents A','Detergents B','Detergents C'],index=['Cold water','Warm water','Hot Water'])"
   ]
  },
  {
   "cell_type": "code",
   "execution_count": 20,
   "id": "d972cd42-7108-41f1-82cc-71ec699df83e",
   "metadata": {},
   "outputs": [
    {
     "data": {
      "text/html": [
       "<div>\n",
       "<style scoped>\n",
       "    .dataframe tbody tr th:only-of-type {\n",
       "        vertical-align: middle;\n",
       "    }\n",
       "\n",
       "    .dataframe tbody tr th {\n",
       "        vertical-align: top;\n",
       "    }\n",
       "\n",
       "    .dataframe thead th {\n",
       "        text-align: right;\n",
       "    }\n",
       "</style>\n",
       "<table border=\"1\" class=\"dataframe\">\n",
       "  <thead>\n",
       "    <tr style=\"text-align: right;\">\n",
       "      <th></th>\n",
       "      <th>Detergents A</th>\n",
       "      <th>Detergents B</th>\n",
       "      <th>Detergents C</th>\n",
       "    </tr>\n",
       "  </thead>\n",
       "  <tbody>\n",
       "    <tr>\n",
       "      <th>Cold water</th>\n",
       "      <td>57</td>\n",
       "      <td>55</td>\n",
       "      <td>67</td>\n",
       "    </tr>\n",
       "    <tr>\n",
       "      <th>Warm water</th>\n",
       "      <td>49</td>\n",
       "      <td>52</td>\n",
       "      <td>68</td>\n",
       "    </tr>\n",
       "    <tr>\n",
       "      <th>Hot Water</th>\n",
       "      <td>54</td>\n",
       "      <td>46</td>\n",
       "      <td>58</td>\n",
       "    </tr>\n",
       "  </tbody>\n",
       "</table>\n",
       "</div>"
      ],
      "text/plain": [
       "            Detergents A  Detergents B  Detergents C\n",
       "Cold water            57            55            67\n",
       "Warm water            49            52            68\n",
       "Hot Water             54            46            58"
      ]
     },
     "execution_count": 20,
     "metadata": {},
     "output_type": "execute_result"
    }
   ],
   "source": [
    "df"
   ]
  },
  {
   "cell_type": "code",
   "execution_count": 21,
   "id": "5f9852b6-39f4-4e2c-89bc-ed399b0479f8",
   "metadata": {},
   "outputs": [],
   "source": [
    "import scipy.stats as stats"
   ]
  },
  {
   "cell_type": "code",
   "execution_count": 23,
   "id": "b6f6be87-d9df-40c2-9f21-b9bc4b01d7b3",
   "metadata": {},
   "outputs": [],
   "source": [
    "f_statistic, p_value = stats.f_oneway(df['Detergents A'],df['Detergents B'],df['Detergents C'])"
   ]
  },
  {
   "cell_type": "code",
   "execution_count": 24,
   "id": "1cf88108-1d74-4623-8c76-e5cd1fce5616",
   "metadata": {},
   "outputs": [
    {
     "name": "stdout",
     "output_type": "stream",
     "text": [
      "One-way ANOVA\n",
      "F statistic: 6.7438\n",
      "P-value: 0.0292\n"
     ]
    }
   ],
   "source": [
    "print(f\"One-way ANOVA\")\n",
    "print(f\"F statistic: {f_statistic:.4f}\")\n",
    "print(f\"P-value: {p_value:.4f}\")"
   ]
  },
  {
   "cell_type": "code",
   "execution_count": 25,
   "id": "3b3f908b-3e31-48f7-bb34-851e4415b726",
   "metadata": {},
   "outputs": [
    {
     "name": "stdout",
     "output_type": "stream",
     "text": [
      "Reject null hypothesis: There are significant differences between the group means.\n"
     ]
    }
   ],
   "source": [
    "alpha = 0.05\n",
    "if p_value < alpha:\n",
    "    print(\"Reject null hypothesis: There are significant differences between the group means.\")\n",
    "else:\n",
    "    print(\"Fail to reject null hypothesis: There are no significant differences between the group means.\")"
   ]
  },
  {
   "cell_type": "markdown",
   "id": "d9645559-7a1c-4fb3-9ed7-c3c6baa2dc78",
   "metadata": {},
   "source": [
    "39.How would you create a basic Flask route that displays \"Hello, World!\" on the homepage"
   ]
  },
  {
   "cell_type": "markdown",
   "id": "818ab704-cad6-470c-ad3e-640feb2b7677",
   "metadata": {},
   "source": [
    "40.Explain how to set up a Flask application to handle form submissions using POST requests"
   ]
  },
  {
   "cell_type": "markdown",
   "id": "abb869c8-dd3d-4410-aec1-6a80908e0f0d",
   "metadata": {},
   "source": [
    "41.Write a Flask route that accepts a parameter in the URL and displays it on the page."
   ]
  },
  {
   "cell_type": "markdown",
   "id": "76f086e7-fb47-4418-99e4-d265ecc82462",
   "metadata": {},
   "source": [
    "42.How can you implement user authentication in a Flask application?"
   ]
  },
  {
   "cell_type": "markdown",
   "id": "050a0ae0-9ae5-4f59-9649-c5bff8615bed",
   "metadata": {},
   "source": [
    "43.Describe the process of connecting a Flask app to a SQLite database using SQLAlchem"
   ]
  },
  {
   "cell_type": "markdown",
   "id": "f6acfe28-981b-427a-954a-a7c944ef2787",
   "metadata": {},
   "source": [
    "44.How would you create a RESTful API endpoint in Flask that returns JSON data?"
   ]
  },
  {
   "cell_type": "markdown",
   "id": "9bc31593-04a6-412e-ba00-5f62ce727095",
   "metadata": {},
   "source": [
    "45.Explain how to use Flask-WTF to create and validate forms in a Flask application"
   ]
  },
  {
   "cell_type": "markdown",
   "id": "480d1783-7f42-48c3-aa88-1ac9e99b9bc6",
   "metadata": {},
   "source": [
    "46.How can you implement file uploads in a Flask application"
   ]
  },
  {
   "cell_type": "markdown",
   "id": "584f0e1a-2d8a-423c-8b52-4e3dc3cb90eb",
   "metadata": {},
   "source": [
    "47.Describe the steps to create a Flask blueprint and why you might use one"
   ]
  },
  {
   "cell_type": "markdown",
   "id": "3d02bd81-a477-4f93-ac2b-60b66a8bf0c0",
   "metadata": {},
   "source": [
    "48.How would you deploy a Flask application to a production server using Gunicorn and Nginx?"
   ]
  },
  {
   "cell_type": "markdown",
   "id": "94b70a2f-ffea-4883-b203-6fccad727ebd",
   "metadata": {},
   "source": [
    "49. Make a fully functional web application using flask, Mangodb. Signup,Signin page.And after successfully \n",
    "login .Say hello Geeks message at webpage"
   ]
  },
  {
   "cell_type": "markdown",
   "id": "b8eb9ea6",
   "metadata": {},
   "source": [
    "50.Machine Learning"
   ]
  },
  {
   "cell_type": "markdown",
   "id": "002e7399",
   "metadata": {},
   "source": [
    "ha is he difference beween Series & Daaframes "
   ]
  },
  {
   "cell_type": "markdown",
   "id": "80e09d62",
   "metadata": {},
   "source": [
    "Series\n",
    "Definition:\n",
    "\n",
    "A Series is a one-dimensional labeled array capable of holding any data type (integers, strings, floating point numbers, Python objects, etc.).\n",
    "Structure:\n",
    "\n",
    "It can be thought of as a column in a table (like a column in an Excel sheet).\n",
    "Each element in a Series has an index (like row labels)."
   ]
  },
  {
   "cell_type": "code",
   "execution_count": 2,
   "id": "9d60ca21-7e9a-4ad9-8da9-40d8fa1686ef",
   "metadata": {},
   "outputs": [],
   "source": [
    "import pandas as pd\n",
    "\n",
    "# Creating a Series from a list\n",
    "s1 = pd.Series([1, 2, 3, 4])\n",
    "\n",
    "# Creating a Series from a dictionary\n",
    "s2 = pd.Series({'a': 1, 'b': 2, 'c': 3})\n"
   ]
  },
  {
   "cell_type": "markdown",
   "id": "8544d46d-238c-43f7-9100-c5c07bb5c587",
   "metadata": {},
   "source": [
    "Operations:\n",
    "\n",
    "Series operations are vectorized (operations applied to each element in the Series).\n",
    "You can perform mathematical operations, aggregate functions, and more directly on Series.\n",
    "Accessing Data:\n",
    "\n",
    "Access elements by position or label."
   ]
  },
  {
   "cell_type": "code",
   "execution_count": 3,
   "id": "bfa4711f-917e-4f3b-8038-30a652183497",
   "metadata": {},
   "outputs": [
    {
     "data": {
      "text/plain": [
       "1"
      ]
     },
     "execution_count": 3,
     "metadata": {},
     "output_type": "execute_result"
    }
   ],
   "source": [
    "s1[0]  # Access by position\n",
    "s2['a']  # Access by label\n"
   ]
  },
  {
   "cell_type": "markdown",
   "id": "2605c9bb-fe88-48ee-b8c6-8bcaac9e31b7",
   "metadata": {},
   "source": [
    "DataFrame\n",
    "Definition:\n",
    "\n",
    "A DataFrame is a two-dimensional labeled data structure with columns of potentially different types.\n",
    "Structure:\n",
    "\n",
    "It can be thought of as a table or a spreadsheet with rows and columns.\n",
    "Each column in a DataFrame is a Series."
   ]
  },
  {
   "cell_type": "code",
   "execution_count": 4,
   "id": "9e036777-93a0-46b2-a47e-076d65cd52bb",
   "metadata": {},
   "outputs": [],
   "source": [
    "# Creating a DataFrame from a dictionary of lists\n",
    "data = {'A': [1, 2, 3], 'B': [4, 5, 6]}\n",
    "df = pd.DataFrame(data)\n",
    "\n",
    "# Creating a DataFrame from a dictionary of Series\n",
    "data = {'A': pd.Series([1, 2, 3]), 'B': pd.Series([4, 5, 6])}\n",
    "df = pd.DataFrame(data)\n"
   ]
  },
  {
   "cell_type": "markdown",
   "id": "50744eef-88b3-4e7c-bb91-0a29d8da38cd",
   "metadata": {},
   "source": [
    "Operations:\n",
    "\n",
    "DataFrame operations are also vectorized.\n",
    "You can perform operations across rows and columns, perform aggregations, merge/join DataFrames, and more.\n",
    "Accessing Data:\n",
    "\n",
    "Access columns using the column label."
   ]
  },
  {
   "cell_type": "code",
   "execution_count": 5,
   "id": "5283404c-7b94-43c8-a371-e3a490a700e2",
   "metadata": {},
   "outputs": [
    {
     "data": {
      "text/plain": [
       "0    1\n",
       "1    2\n",
       "2    3\n",
       "Name: A, dtype: int64"
      ]
     },
     "execution_count": 5,
     "metadata": {},
     "output_type": "execute_result"
    }
   ],
   "source": [
    "df['A']  # Access column 'A'\n"
   ]
  },
  {
   "cell_type": "markdown",
   "id": "da2d036c-7fee-4cbf-bb2b-d2b053179a59",
   "metadata": {},
   "source": [
    "#Access rows using iloc for position-based indexing and loc for label-based indexing.\n",
    "print(df.iloc[0])  # Access the first row\n",
    "print(df.loc[0])  # Access the row with index 0\n"
   ]
  },
  {
   "cell_type": "markdown",
   "id": "abc7dced-a891-4e98-a181-81d38165aa9c",
   "metadata": {},
   "source": [
    "Key Differences\n",
    "Dimension:\n",
    "\n",
    "Series: 1-dimensional (single column).\n",
    "DataFrame: 2-dimensional (rows and columns).\n",
    "Use Case:\n",
    "\n",
    "Series: Used for simple lists or single-column data.\n",
    "DataFrame: Used for complex datasets with multiple columns.\n",
    "Indexing:\n",
    "\n",
    "Series: Single index.\n",
    "DataFrame: Row index and column labels.\n",
    "Mutability:\n",
    "\n",
    "Both Series and DataFrames are mutable; you can change their contents.\n",
    "Data Alignment:\n",
    "\n",
    "Operations align on the index in Series and on both row and column indices in DataFrame."
   ]
  },
  {
   "cell_type": "markdown",
   "id": "7dff6c10-86eb-4de3-919e-d85401d86a74",
   "metadata": {},
   "source": [
    "Creae a daabase name Travel_Planner in mysql ,and  creae a able name bookings in ha which having \n",
    "aribues (user_id INT,  fligh_id INT,hoel_id INT, aciviy_id INT,booking_dae DATE) .fill wih some dummy \n",
    "value .Now you have o read he conen of his able using landas as daaframe.Show he oulu"
   ]
  },
  {
   "cell_type": "code",
   "execution_count": 38,
   "id": "001d9e2f-b11c-424e-b4f1-af5a6c6d3dd5",
   "metadata": {},
   "outputs": [
    {
     "name": "stdout",
     "output_type": "stream",
     "text": [
      "   user_id  flight_id  hotel_id  activity_id booking_date\n",
      "0        1        101       201          301   2023-07-01\n",
      "1        2        102       202          302   2023-07-02\n",
      "2        3        103       203          303   2023-07-03\n"
     ]
    },
    {
     "name": "stderr",
     "output_type": "stream",
     "text": [
      "C:\\Users\\madhu\\AppData\\Local\\Temp\\ipykernel_18636\\1276130240.py:15: UserWarning: pandas only supports SQLAlchemy connectable (engine/connection) or database string URI or sqlite3 DBAPI2 connection. Other DBAPI2 objects are not tested. Please consider using SQLAlchemy.\n",
      "  df = pd.read_sql(query, conn)\n"
     ]
    }
   ],
   "source": [
    "import pandas as pd\n",
    "import mysql.connector\n",
    "\n",
    "# Establish a connection to the MySQL database\n",
    "conn = mysql.connector.connect(\n",
    "    host='localhost',  # Replace with your host if different\n",
    "    port=3306,  # Default MySQL port\n",
    "    user='root',  # Replace with your MySQL username\n",
    "    password='1234',  # Replace with your MySQL password\n",
    "    database='Travel_Planner'\n",
    ")\n",
    "\n",
    "# Read data from the 'bookings' table into a pandas DataFrame\n",
    "query = \"SELECT * FROM bookings\"\n",
    "df = pd.read_sql(query, conn)\n",
    "\n",
    "# Display the DataFrame\n",
    "print(df)\n",
    "\n",
    "# Close the connection\n",
    "conn.close()\n"
   ]
  },
  {
   "cell_type": "markdown",
   "id": "8d0eb8b3-ade3-4970-ae92-de2560724eaf",
   "metadata": {},
   "source": [
    "In pandas, loc and iloc are used to access rows and columns of a DataFrame by labels or integer positions.\n",
    "Here's a detailed comparison between the two:\n",
    "\n",
    "loc\n",
    "Type of Indexing: Label-based\n",
    "Syntax: df.loc[row_labels, column_labels]\n",
    "Usage:\n",
    "To access a group of rows and columns by labels or a boolean array.\n",
    "Can be used with single labels, lists of labels, slices, or boolean arrays."
   ]
  },
  {
   "cell_type": "code",
   "execution_count": 39,
   "id": "2f52d252-69d4-4341-bcb6-3ad776cc814b",
   "metadata": {},
   "outputs": [
    {
     "name": "stdout",
     "output_type": "stream",
     "text": [
      "user_id                  3\n",
      "flight_id              103\n",
      "hotel_id               203\n",
      "activity_id            303\n",
      "booking_date    2023-07-03\n",
      "Name: 2, dtype: object\n"
     ]
    }
   ],
   "source": [
    "print(df.loc[2])    #Access a single row by label:"
   ]
  },
  {
   "cell_type": "code",
   "execution_count": 43,
   "id": "455927ac-f49d-4c12-bc12-89e4efea9277",
   "metadata": {},
   "outputs": [
    {
     "data": {
      "text/html": [
       "<div>\n",
       "<style scoped>\n",
       "    .dataframe tbody tr th:only-of-type {\n",
       "        vertical-align: middle;\n",
       "    }\n",
       "\n",
       "    .dataframe tbody tr th {\n",
       "        vertical-align: top;\n",
       "    }\n",
       "\n",
       "    .dataframe thead th {\n",
       "        text-align: right;\n",
       "    }\n",
       "</style>\n",
       "<table border=\"1\" class=\"dataframe\">\n",
       "  <thead>\n",
       "    <tr style=\"text-align: right;\">\n",
       "      <th></th>\n",
       "      <th>user_id</th>\n",
       "      <th>flight_id</th>\n",
       "      <th>hotel_id</th>\n",
       "      <th>activity_id</th>\n",
       "      <th>booking_date</th>\n",
       "    </tr>\n",
       "  </thead>\n",
       "  <tbody>\n",
       "    <tr>\n",
       "      <th>1</th>\n",
       "      <td>2</td>\n",
       "      <td>102</td>\n",
       "      <td>202</td>\n",
       "      <td>302</td>\n",
       "      <td>2023-07-02</td>\n",
       "    </tr>\n",
       "    <tr>\n",
       "      <th>2</th>\n",
       "      <td>3</td>\n",
       "      <td>103</td>\n",
       "      <td>203</td>\n",
       "      <td>303</td>\n",
       "      <td>2023-07-03</td>\n",
       "    </tr>\n",
       "  </tbody>\n",
       "</table>\n",
       "</div>"
      ],
      "text/plain": [
       "   user_id  flight_id  hotel_id  activity_id booking_date\n",
       "1        2        102       202          302   2023-07-02\n",
       "2        3        103       203          303   2023-07-03"
      ]
     },
     "execution_count": 43,
     "metadata": {},
     "output_type": "execute_result"
    }
   ],
   "source": [
    "df.loc[[1, 2]]    #Access multiple rows by labels:\n"
   ]
  },
  {
   "cell_type": "code",
   "execution_count": 56,
   "id": "acb505b3-4dda-4948-bb3d-cc98c33ee05c",
   "metadata": {},
   "outputs": [
    {
     "data": {
      "text/html": [
       "<div>\n",
       "<style scoped>\n",
       "    .dataframe tbody tr th:only-of-type {\n",
       "        vertical-align: middle;\n",
       "    }\n",
       "\n",
       "    .dataframe tbody tr th {\n",
       "        vertical-align: top;\n",
       "    }\n",
       "\n",
       "    .dataframe thead th {\n",
       "        text-align: right;\n",
       "    }\n",
       "</style>\n",
       "<table border=\"1\" class=\"dataframe\">\n",
       "  <thead>\n",
       "    <tr style=\"text-align: right;\">\n",
       "      <th></th>\n",
       "      <th>user_id</th>\n",
       "      <th>flight_id</th>\n",
       "      <th>hotel_id</th>\n",
       "      <th>activity_id</th>\n",
       "      <th>booking_date</th>\n",
       "    </tr>\n",
       "  </thead>\n",
       "  <tbody>\n",
       "    <tr>\n",
       "      <th>2</th>\n",
       "      <td>3</td>\n",
       "      <td>103</td>\n",
       "      <td>203</td>\n",
       "      <td>303</td>\n",
       "      <td>2023-07-03</td>\n",
       "    </tr>\n",
       "  </tbody>\n",
       "</table>\n",
       "</div>"
      ],
      "text/plain": [
       "   user_id  flight_id  hotel_id  activity_id booking_date\n",
       "2        3        103       203          303   2023-07-03"
      ]
     },
     "execution_count": 56,
     "metadata": {},
     "output_type": "execute_result"
    }
   ],
   "source": [
    "df.loc[2:4]    #Access rows by a range of labels:\n"
   ]
  },
  {
   "cell_type": "code",
   "execution_count": 47,
   "id": "67dfb636-49b2-49c5-ac18-67984d8db296",
   "metadata": {},
   "outputs": [
    {
     "name": "stdout",
     "output_type": "stream",
     "text": [
      "303\n",
      "   hotel_id booking_date\n",
      "2       203   2023-07-03\n"
     ]
    }
   ],
   "source": [
    "print(df.loc[2, 'activity_id'])    #Access specific rows and columns by labels:\n",
    "print(df.loc[2:4, ['hotel_id', 'booking_date']])\n"
   ]
  },
  {
   "cell_type": "code",
   "execution_count": 51,
   "id": "2326677a-0d1e-4384-96cd-f5aa791a4b07",
   "metadata": {},
   "outputs": [
    {
     "name": "stdout",
     "output_type": "stream",
     "text": [
      "   user_id  flight_id  hotel_id  activity_id booking_date\n",
      "1        2        102       202          302   2023-07-02\n",
      "2        3        103       203          303   2023-07-03\n"
     ]
    }
   ],
   "source": [
    "print(df.loc[df['flight_id'] > 101])    #Boolean indexing:\n"
   ]
  },
  {
   "cell_type": "markdown",
   "id": "c8ee3bdf-7354-4cb1-8ee4-56cab3b2ec28",
   "metadata": {},
   "source": [
    "iloc\n",
    "Type of Indexing: Integer position-based\n",
    "Syntax: df.iloc[row_indices, column_indices]\n",
    "Usage:\n",
    "To access a group of rows and columns by integer positions (indices).\n",
    "Can be used with single indices, lists of indices, or slices."
   ]
  },
  {
   "cell_type": "code",
   "execution_count": 52,
   "id": "61307dc6-ebb9-4b2b-8e1f-1cfe5d97106c",
   "metadata": {},
   "outputs": [
    {
     "data": {
      "text/plain": [
       "user_id                  3\n",
       "flight_id              103\n",
       "hotel_id               203\n",
       "activity_id            303\n",
       "booking_date    2023-07-03\n",
       "Name: 2, dtype: object"
      ]
     },
     "execution_count": 52,
     "metadata": {},
     "output_type": "execute_result"
    }
   ],
   "source": [
    "df.iloc[2] # Access a single row by index:\n"
   ]
  },
  {
   "cell_type": "code",
   "execution_count": 53,
   "id": "f743b363-625c-4f4a-a975-2a2c156a99a7",
   "metadata": {},
   "outputs": [
    {
     "name": "stdout",
     "output_type": "stream",
     "text": [
      "   user_id  flight_id  hotel_id  activity_id booking_date\n",
      "1        2        102       202          302   2023-07-02\n",
      "2        3        103       203          303   2023-07-03\n"
     ]
    }
   ],
   "source": [
    "print(df.iloc[[1, 2]])  #Access multiple rows by indices:\n"
   ]
  },
  {
   "cell_type": "code",
   "execution_count": 54,
   "id": "9b1acb41-0f30-41d4-b7a0-9372a256dce3",
   "metadata": {},
   "outputs": [
    {
     "name": "stdout",
     "output_type": "stream",
     "text": [
      "   user_id  flight_id  hotel_id  activity_id booking_date\n",
      "2        3        103       203          303   2023-07-03\n"
     ]
    }
   ],
   "source": [
    "print(df.iloc[2:4]) #Access rows by a range of indices:\n"
   ]
  },
  {
   "cell_type": "code",
   "execution_count": 55,
   "id": "b8735cc9-2132-4895-9060-d64d5209d1cb",
   "metadata": {},
   "outputs": [
    {
     "name": "stdout",
     "output_type": "stream",
     "text": [
      "3\n",
      "   user_id  flight_id\n",
      "2        3        103\n"
     ]
    }
   ],
   "source": [
    "print(df.iloc[2, 0])       #Access specific rows and columns by indices\n",
    "print(df.iloc[2:4, [0, 1]])\n"
   ]
  },
  {
   "cell_type": "markdown",
   "id": "bce7a002-2bbd-40d8-afa5-cd783e8f42ad",
   "metadata": {},
   "source": [
    "ha is he difference beween sulervised and unsulervised learning"
   ]
  },
  {
   "cell_type": "markdown",
   "id": "2e919066-9d93-416d-bd1e-fc74e9982be2",
   "metadata": {},
   "source": [
    "Supervised containes labelled data and unsupervised contain unlabelled data"
   ]
  },
  {
   "cell_type": "markdown",
   "id": "c3b3caa3-5041-445a-a0cf-91fdbdc4c38a",
   "metadata": {},
   "source": [
    "Exllain he bias-variance radeoff"
   ]
  },
  {
   "cell_type": "markdown",
   "id": "1c9c3cc5-66bd-4a9b-8579-749f1dc7b5a9",
   "metadata": {},
   "source": [
    "The bias-variance tradeoff is a fundamental concept in machine learning and statistics that describes the tradeoff between two sources of error in predictive models: bias and variance. Understanding this tradeoff is crucial for building models that generalize well to new data.\n",
    "\n",
    "Definitions\n",
    "Bias:\n",
    "\n",
    "Definition: Bias is the error introduced by approximating a real-world problem, which may be extremely complex, by a simplified model.\n",
    "High Bias: Models with high bias are typically too simple and do not capture the underlying patterns of the data well, leading to systematic errors. This is often referred to as underfitting.\n",
    "Low Bias: Models with low bias are more complex and are better at capturing the underlying patterns in the data.\n",
    "Variance:\n",
    "\n",
    "Definition: Variance is the error introduced by the model's sensitivity to small fluctuations in the training data. High variance indicates that the model is too complex and captures noise along with the underlying pattern.\n",
    "High Variance: Models with high variance pay too much attention to the training data, including the noise, and may not generalize well to new data. This is often referred to as overfitting.\n",
    "Low Variance: Models with low variance are more stable and consistent when applied to different datasets.\n",
    "The Tradeoff\n",
    "The goal in machine learning is to find a balance between bias and variance to minimize the total error. The total error can be decomposed into three parts:\n",
    "\n",
    "Bias Error: The error due to the bias of the model.\n",
    "Variance Error: The error due to the variance of the model.\n",
    "Irreducible Error: The inherent noise in the data that cannot be reduced by any model.\n",
    "Mathematically, the expected prediction error for a given point can be expressed as:\n",
    "\n",
    "Expected Error\n",
    "=\n",
    "Bias\n",
    "2\n",
    "+\n",
    "Variance\n",
    "+\n",
    "Irreducible Error\n",
    "Expected Error=Bias \n",
    "2\n",
    " +Variance+Irreducible Error\n",
    "\n",
    "Visual Representation\n",
    "Consider the following graphical representation of the bias-variance tradeoff:\n",
    "\n",
    "Underfitting (High Bias, Low Variance): The model is too simple to capture the underlying patterns in the data. It leads to high bias and low variance.\n",
    "Optimal Fit (Low Bias, Low Variance): The model appropriately captures the underlying patterns without fitting the noise in the data. It leads to low bias and low variance.\n",
    "Overfitting (Low Bias, High Variance): The model is too complex and captures the noise along with the underlying patterns. It leads to low bias and high variance.\n",
    "Example\n",
    "Let's consider an example using polynomial regression:\n",
    "\n",
    "High Bias (Underfitting): A linear regression model (1st-degree polynomial) trying to fit a quadratic relationship in the data. The model is too simple and has high bias.\n",
    "Optimal Fit: A quadratic regression model (2nd-degree polynomial) that perfectly captures the quadratic relationship in the data. The model has low bias and low variance.\n",
    "High Variance (Overfitting): A high-degree polynomial regression model (e.g., 10th-degree polynomial) that fits every point in the training data, including noise. The model has low bias but high variance.\n",
    "Practical Implications\n",
    "Model Selection: Choosing the right model complexity is crucial. Simple models (e.g., linear regression) might underfit, while very complex models (e.g., deep neural networks with too many layers) might overfit.\n",
    "Regularization: Techniques like Lasso, Ridge, and Elastic Net are used to add a penalty for complexity to control overfitting.\n",
    "Cross-Validation: Using techniques like k-fold cross-validation helps in assessing the model's performance and in choosing the right balance between bias and variance.\n",
    "Summary\n",
    "High Bias: Simple models, prone to underfitting, missing relevant relations in the data.\n",
    "High Variance: Complex models, prone to overfitting, capturing noise as if it were signal.\n",
    "Bias-Variance Tradeoff: Finding the sweet spot where both bias and variance are minimized to reduce the total error and improve the model's ability to generalize to new data."
   ]
  },
  {
   "cell_type": "markdown",
   "id": "476b9ad4-80e3-4f4a-9d13-84c36ac6281d",
   "metadata": {},
   "source": [
    "ha are lrecision and recall? How are hey differen from accuracy"
   ]
  },
  {
   "cell_type": "markdown",
   "id": "c6b93a41-8e5f-4813-8e16-10c543bad1cb",
   "metadata": {},
   "source": [
    "Precision and recall are two important metrics used to evaluate the performance of classification models, especially in scenarios where the class distribution is imbalanced. These metrics provide insights beyond simple accuracy and are particularly useful when the cost of false positives and false negatives differs.\n",
    "\n",
    "Precision\n",
    "Precision measures the proportion of correctly predicted positive instances (true positives) among all instances predicted as positive. It is calculated as:\n",
    "\n",
    "Precision\n",
    "=\n",
    "True Positives/\n",
    "True Positives\n",
    "+\n",
    "False Positives\n",
    "\n",
    " \n",
    "\n",
    "True Positives (TP): Instances correctly predicted as positive.\n",
    "False Positives (FP): Instances incorrectly predicted as positive (actually negative).\n",
    "Precision answers the question: \"Of all the instances predicted as positive, how many are actually positive?\" A high precision indicates that when the model predicts an instance as positive, it is likely to be correct.\n",
    "\n",
    "Recall\n",
    "Recall (also known as sensitivity or true positive rate) measures the proportion of correctly predicted positive instances (true positives) among all actual positive instances. It is calculated as:\n",
    "\n",
    "Recall\n",
    "=\n",
    "True Positives/\n",
    "True Positives\n",
    "+\n",
    "False Negatives\n",
    "\n",
    " \n",
    "\n",
    "True Positives (TP): Instances correctly predicted as positive.\n",
    "False Negatives (FN): Instances incorrectly predicted as negative (actually positive).\n",
    "Recall answers the question: \"Of all the actual positive instances, how many did we correctly predict as positive?\" A high recall indicates that the model is able to correctly identify most of the positive instances.\n",
    "\n",
    "Accuracy\n",
    "Accuracy is a more straightforward metric that measures the overall correctness of the model across all classes. It is calculated as:\n",
    "\n",
    "Accuracy\n",
    "=\n",
    "Correct Predictions/\n",
    "Total Predictions\n",
    "\n",
    "\n",
    "Correct Predictions: Total number of instances correctly classified (both true positives and true negatives).\n",
    "Total Predictions: Total number of instances in the dataset.\n",
    "While accuracy provides a general measure of model performance, it can be misleading in cases where the dataset is imbalanced (i.e., one class is much more frequent than the others). For example, if 95% of the instances belong to one class, a model that predicts all instances as belonging to that class would achieve 95% accuracy, but it would have poor performance in identifying instances of the minority class.\n",
    "\n",
    "Differences\n",
    "Focus: Precision and recall focus on different aspects of model performance compared to accuracy.\n",
    "\n",
    "Precision: Focuses on the accuracy of positive predictions.\n",
    "Recall: Focuses on the ability of the model to find all positive instances.\n",
    "Imbalance Handling: Precision and recall are particularly useful in handling imbalanced datasets, where accuracy might not provide a clear picture of model performance.\n",
    "\n",
    "Application: In applications where the cost of false positives or false negatives differs significantly, precision and recall provide a more nuanced evaluation of model performance compared to accuracy.\n",
    "\n",
    "Summary\n",
    "Precision: Measures how many of the predicted positive instances are actually positive.\n",
    "Recall: Measures how many of the actual positive instances were predicted as positive.\n",
    "Accuracy: Measures the overall correctness of the model across all instances.\n",
    "Precision and recall are essential metrics for evaluating classifiers, especially in scenarios where performance on one class (e.g., disease diagnosis, fraud detection) is more critical than others. They complement accuracy by providing insights into the model's ability to correctly identify specific classes or conditions."
   ]
  },
  {
   "cell_type": "markdown",
   "id": "9ba196e6-1f5e-4775-b2ac-837e71d0b256",
   "metadata": {},
   "source": [
    " ha is overfiing and how can i be lrevened?\n",
    "\u001d",
    " "
   ]
  },
  {
   "cell_type": "markdown",
   "id": "f7ba37f0-8405-417a-97b2-1ae4faeed94c",
   "metadata": {},
   "source": [
    "Overfitting occurs when a machine learning model learns not only the underlying pattern in the training data but also noise and random fluctuations, which are specific to the training set. This phenomenon leads to a model that performs very well on the training data but fails to generalize to new, unseen data. In essence, the model \"memorizes\" the training data rather than learning the underlying patterns that would enable it to make accurate predictions on new data.\n",
    "\n",
    "Causes of Overfitting\n",
    "Model Complexity: Models that are too complex relative to the amount and noisiness of the training data are prone to overfitting. For example, a high-degree polynomial regression model may fit the training data perfectly but fail to generalize to new data.\n",
    "\n",
    "Insufficient Training Data: Limited data can lead to overfitting because the model tries to capture noise and outliers as well as the underlying patterns in the data.\n",
    "\n",
    "Lack of Regularization: Without regularization techniques, such as Lasso, Ridge, or Dropout in neural networks, models can become too flexible and fit the noise in the training data.\n",
    "\n",
    "Feature Engineering: Including irrelevant features or creating too many features can lead to overfitting, especially if those features are not representative of the target variable in the general population.\n",
    "\n",
    "Effects of Overfitting\n",
    "Poor Generalization: The model performs well on training data but poorly on new data.\n",
    "High Variance: The model's predictions vary greatly with changes in the training data.\n",
    "Model Instability: Small changes in the training data can lead to significantly different models.\n",
    "How to Prevent Overfitting\n",
    "Several techniques can help prevent or mitigate overfitting:\n",
    "\n",
    "Cross-Validation: Use techniques like k-fold cross-validation to assess the model's performance on unseen data. This helps in understanding how well the model will generalize to new data.\n",
    "\n",
    "Train with More Data: Increasing the size of the training dataset can reduce overfitting by providing more diverse examples for the model to learn from.\n",
    "\n",
    "Simplify the Model: Use simpler models with fewer parameters or features. For example, use linear regression instead of a high-degree polynomial regression.\n",
    "\n",
    "Regularization: Introduce penalties for complexity in the model's objective function (e.g., L1 or L2 regularization in linear models, dropout in neural networks). This discourages the model from fitting the noise in the training data.\n",
    "\n",
    "Feature Selection: Choose relevant features that are most predictive of the target variable and remove irrelevant or redundant ones.\n",
    "\n",
    "Ensemble Methods: Use ensemble methods like Random Forests or Gradient Boosting that combine multiple models to improve generalization and reduce overfitting.\n",
    "\n",
    "Early Stopping: In iterative learning algorithms (like gradient descent), stop training when performance on a validation set starts to degrade, indicating that the model is beginning to overfit.\n",
    "\n",
    "Data Augmentation: For tasks like image classification, artificially expand the size of the training dataset by applying transformations (e.g., rotations, flips) to existing data points.\n",
    "\n",
    "Summary\n",
    "Overfitting is a common challenge in machine learning where a model learns noise and random fluctuations in the training data, leading to poor generalization to new data. Preventing overfitting involves using appropriate techniques such as regularization, cross-validation, and simplifying the model to ensure it captures the underlying patterns without fitting noise. By applying these techniques, you can develop models that generalize well to new, unseen data and make accurate predictions in real-world applications"
   ]
  },
  {
   "cell_type": "code",
   "execution_count": null,
   "id": "5a0f887d-35a5-41b7-98b0-491dfe3dfff6",
   "metadata": {},
   "outputs": [],
   "source": []
  },
  {
   "cell_type": "markdown",
   "id": "c3deb7f9-9adf-499d-8355-66bb1812464c",
   "metadata": {},
   "source": [
    "ross-validation is a technique used in machine learning and statistics to evaluate how well a model generalizes to new, unseen data. It helps assess the model's performance and reliability by partitioning the available data into subsets, training the model on some of these subsets, and evaluating it on the remaining subsets. This process allows us to simulate how the model would perform on independent datasets, providing a more robust estimate of its performance.\n",
    "\n",
    "Key Concepts in Cross-Validation\n",
    "Training Set: The subset of data used to train the model. It's typically the largest portion of the dataset used to teach the model the underlying patterns.\n",
    "\n",
    "Validation Set: The subset of data used to tune model hyperparameters and assess its performance during training. It helps in selecting the best model architecture and settings.\n",
    "\n",
    "Test Set: The subset of data used to provide an unbiased evaluation of a final model fit on the training dataset. It provides an estimate of performance on an independent dataset.\n",
    "\n",
    "Types of Cross-Validation\n",
    "Holdout Method: A simple form of cross-validation where the dataset is divided into two parts, usually 80% for training and 20% for testing. This is not typically considered a true cross-validation method but is often used for quick model validation.\n",
    "\n",
    "K-Fold Cross-Validation: The dataset is divided into k folds (or subsets) of approximately equal size. The model is trained using k-1 folds and validated on the remaining fold. This process is repeated k times (each fold serves as the validation set once), and the average performance across all folds is computed.\n",
    "\n",
    "Stratified K-Fold Cross-Validation: Similar to k-fold cross-validation, but with the difference that each fold preserves the percentage of samples for each class. This ensures that each fold is representative of the overall dataset's class distribution.\n",
    "\n",
    "Leave-One-Out Cross-Validation (LOOCV): A special case of k-fold cross-validation where k is equal to the number of samples in the dataset. For each iteration, one sample is used as the validation set, and the model is trained on the remaining samples. This is computationally expensive but provides a good estimate of model performance.\n",
    "\n",
    "Repeated K-Fold Cross-Validation: Involves repeating the k-fold cross-validation process multiple times with different random splits of the data. This helps in reducing the variance of the estimated performance metrics.\n",
    "\n",
    "Benefits of Cross-Validation\n",
    "Better Performance Estimate: Cross-validation provides a more reliable estimate of a model's performance by averaging results over multiple data subsets.\n",
    "\n",
    "Reduces Overfitting: By training and validating the model on different subsets of data, cross-validation helps in identifying models that generalize well to new data, reducing the risk of overfitting.\n",
    "\n",
    "Optimal Hyperparameter Tuning: Cross-validation facilitates tuning model hyperparameters by assessing performance across different parameter values on validation sets.\n",
    "\n",
    "Practical Implementation\n",
    "Here's a basic example of how k-fold cross-validation might be implemented using Python and scikit-learn:"
   ]
  },
  {
   "cell_type": "code",
   "execution_count": 59,
   "id": "d447226b-2696-407a-ae02-d4e543415114",
   "metadata": {},
   "outputs": [
    {
     "name": "stdout",
     "output_type": "stream",
     "text": [
      "Cross-Validation Scores: [0. 1. 1. 0.]\n",
      "Mean Accuracy: 0.5\n"
     ]
    }
   ],
   "source": [
    "from sklearn.model_selection import KFold, cross_val_score\n",
    "from sklearn.linear_model import LogisticRegression\n",
    "import numpy as np\n",
    "\n",
    "# Sample data\n",
    "X = np.array([[1, 2], [3, 4], [5, 6], [7, 8]])\n",
    "y = np.array([0, 0, 1, 1])\n",
    "\n",
    "# Initialize the model\n",
    "model = LogisticRegression()\n",
    "\n",
    "# Define the cross-validation method (e.g., 4-fold)\n",
    "kfold = KFold(n_splits=4, shuffle=True, random_state=42)\n",
    "\n",
    "# Perform cross-validation\n",
    "scores = cross_val_score(model, X, y, cv=kfold)\n",
    "\n",
    "# Print the cross-validation scores\n",
    "print(\"Cross-Validation Scores:\", scores)\n",
    "print(\"Mean Accuracy:\", np.mean(scores))\n"
   ]
  },
  {
   "cell_type": "markdown",
   "id": "c8ca40bb-e46e-4717-b40c-b689f5c5d950",
   "metadata": {},
   "source": [
    "In this example:\n",
    "\n",
    "KFold is used to create a 4-fold cross-validation strategy.\n",
    "cross_val_score computes the accuracy scores for each fold.\n",
    "np.mean(scores) calculates the average accuracy across all folds, providing an estimate of the model's performance.\n",
    "By understanding and applying cross-validation techniques, you can more accurately assess and compare the performance of different machine learning models, ensuring robustness and reliability in your predictions."
   ]
  },
  {
   "cell_type": "markdown",
   "id": "a10227ae-d675-4c7b-bf04-b4d99e82b1af",
   "metadata": {},
   "source": [
    "\u001d",
    " \u0016hat is the differen\u001e",
    "e between a \u001e",
    "lassifi\u001e",
    "ation and a re0ression problem/"
   ]
  },
  {
   "cell_type": "markdown",
   "id": "85541963-9488-42ce-8d90-9f2b419200b2",
   "metadata": {},
   "source": [
    "The main difference between classification and regression problems lies in the nature of the target variable (or output variable) that the machine learning model aims to predict:\n",
    "\n",
    "Classification Problem\n",
    "Nature of Target Variable: In classification, the target variable is categorical, meaning it takes on discrete values that represent different classes or categories.\n",
    "Objective: The goal is to predict the class or category to which new data observations belong.\n",
    "Examples:\n",
    "Predicting whether an email is spam or not spam.\n",
    "Predicting whether a patient has a certain disease or not.\n",
    "Predicting the type of flower based on its features.\n",
    "Regression Problem\n",
    "Nature of Target Variable: In regression, the target variable is continuous, meaning it can take on any value within a given range.\n",
    "Objective: The goal is to predict a continuous quantity, such as a price, a temperature, or a salary.\n",
    "Examples:\n",
    "Predicting house prices based on features like size, location, etc.\n",
    "Predicting the amount of rainfall based on meteorological data.\n",
    "Predicting the sales volume of a product based on marketing spend and other factors.\n",
    "Key Differences\n",
    "Output Type:\n",
    "\n",
    "Classification: Outputs are categorical (discrete).\n",
    "Regression: Outputs are continuous (numeric).\n",
    "Model Evaluation:\n",
    "\n",
    "Classification: Evaluation metrics include accuracy, precision, recall, F1-score, etc., which assess the model's ability to correctly classify instances into their respective classes.\n",
    "Regression: Evaluation metrics include mean squared error (MSE), root mean squared error (RMSE), mean absolute error (MAE), R-squared, etc., which measure how close the predicted values are to the actual values.\n",
    "Techniques Used:\n",
    "\n",
    "Classification: Algorithms include logistic regression, decision trees, random forests, support vector machines (SVM), naive Bayes, neural networks (for deep learning), etc.\n",
    "Regression: Algorithms include linear regression, polynomial regression, decision trees, random forests, support vector regression (SVR), neural networks (for deep learning), etc.\n",
    "Decision Boundary vs. Continuous Curve:\n",
    "\n",
    "Classification: The model learns decision boundaries that separate different classes in the feature space.\n",
    "Regression: The model learns a continuous curve that predicts numeric values based on input features.\n",
    "Example\n",
    "To illustrate the difference:\n",
    "\n",
    "Classification Example: Suppose you have data on customer demographics and purchase histories. You want to predict whether a customer will buy a product (yes or no). This is a binary classification problem where the target variable is categorical (buy or not buy).\n",
    "\n",
    "Regression Example: Suppose you have data on housing prices and various features of houses (e.g., size, location, number of rooms). You want to predict the price of a house based on these features. This is a regression problem where the target variable is continuous (price in dollars).\n",
    "\n",
    "Summary\n",
    "Classification predicts categorical outcomes, while regression predicts continuous outcomes.\n",
    "The choice between classification and regression depends on the nature of the target variable you want to predict: categorical (classification) or continuous (regression).\n",
    "Different algorithms and evaluation metrics are used for each type of problem, reflecting their distinct goals and requirements."
   ]
  },
  {
   "cell_type": "markdown",
   "id": "598d1e40-7c0d-4f23-a2bf-24b210c8cd46",
   "metadata": {},
   "source": [
    "\u001d",
    " Explain the \u001e",
    "on\u001e",
    "ept of ensemble learnin0"
   ]
  },
  {
   "cell_type": "markdown",
   "id": "6a23d722-a6bc-42bf-a7dd-358bd2c19e00",
   "metadata": {},
   "source": [
    "Ensemble learning is a machine learning technique where multiple models (often called \"base learners\" or \"weak learners\") are combined to improve the performance of the overall system. The idea behind ensemble learning is to leverage the strengths of different models to achieve better predictive performance than any single model could achieve on its own.\n",
    "\n",
    "Key Concepts in Ensemble Learning\n",
    "Base Learners (Weak Learners):\n",
    "\n",
    "These are the individual models that form the ensemble. They can be simple models like decision trees, linear models, or more complex ones like neural networks.\n",
    "Each base learner is trained independently on different subsets of the data or with different algorithms.\n",
    "Ensemble Methods:\n",
    "\n",
    "Ensemble methods combine predictions from multiple base learners to make a final prediction.\n",
    "Common ensemble methods include:\n",
    "Bagging (Bootstrap Aggregating): Uses multiple copies of the same base learning algorithm trained on different subsets of the training data. Example: Random Forest.\n",
    "Boosting: Trains models sequentially, where each subsequent model corrects the errors of the previous ones. Examples: AdaBoost, Gradient Boosting Machines (GBM).\n",
    "Stacking: Combines the predictions of multiple base learners using another model (meta-model) that learns how to best combine these predictions.\n",
    "Benefits of Ensemble Learning:\n",
    "\n",
    "Improved Accuracy: Ensembles often outperform individual models because they reduce bias and variance, leading to more accurate predictions.\n",
    "Robustness: Ensembles are less sensitive to overfitting, especially when using methods like bagging or boosting.\n",
    "Versatility: Ensemble methods can be applied to a wide range of machine learning tasks and models.\n",
    "Challenges:\n",
    "\n",
    "Complexity: Ensembles can be computationally expensive and require more resources compared to single models.\n",
    "Interpretability: Combined predictions from multiple models may be harder to interpret than predictions from a single model.\n",
    "Examples of Ensemble Methods\n",
    "Random Forest (Bagging): An ensemble of decision trees trained on different subsets of the data, where predictions are aggregated through voting or averaging.\n",
    "\n",
    "AdaBoost (Boosting): Sequentially trains weak learners and adjusts weights on incorrectly classified instances to focus subsequent models on difficult cases.\n",
    "\n",
    "Gradient Boosting Machines (GBM): Builds models sequentially to minimize a loss function, where each model corrects errors made by the previous ones.\n",
    "\n",
    "Voting Classifiers/Regresors: Combines predictions from multiple models (e.g., logistic regression, SVM, decision trees) and selects the class label or predicts the value based on the majority vote or average.\n",
    "\n",
    "Practical Considerations\n",
    "When applying ensemble learning:\n",
    "\n",
    "Choose Diverse Base Learners: Base learners should be diverse in terms of the algorithms used or the subsets of data they are trained on to ensure they capture different aspects of the data.\n",
    "\n",
    "Evaluate and Tune: Evaluate different ensemble methods and their configurations using cross-validation to determine which method works best for your specific problem.\n",
    "\n",
    "Understand Tradeoffs: Consider the tradeoffs in terms of computational resources, interpretability, and performance gains when deciding whether to use ensemble methods.\n",
    "\n",
    "Ensemble learning is a powerful approach to improve model performance and is widely used in practice across various domains where accurate predictions are critical. By combining multiple models, ensemble methods can exploit the strengths of different algorithms and mitigate their individual weaknesses, resulting in more robust and reliable machine learning models.\n",
    "\n",
    "\n",
    "\n",
    "\n",
    "\n",
    "\n"
   ]
  },
  {
   "cell_type": "markdown",
   "id": "da9a7f32-bb5e-439a-b821-ab25730a211f",
   "metadata": {},
   "source": [
    "\u0016hat is 0radient des\u001e",
    "ent and how does it work/"
   ]
  },
  {
   "cell_type": "markdown",
   "id": "e083583c-0ec4-4d0e-b23c-150498ecf1cf",
   "metadata": {},
   "source": [
    "Gradient descent is an optimization algorithm used to minimize the loss function of a machine learning model by iteratively moving towards the minimum of the function. It is a fundamental technique in machine learning for training models, particularly in tasks like linear regression and neural network training.\n",
    "\n",
    "How Gradient Descent Works\n",
    "Loss Function:\n",
    "\n",
    "In machine learning, we define a loss function (also known as an error function or cost function) that measures how well the model performs on the training data given its current set of parameters.\n",
    "The goal of gradient descent is to minimize this loss function, which quantifies how far off our predictions are from the actual target values.\n",
    "Gradient Calculation:\n",
    "\n",
    "Gradient descent starts by initializing the model's parameters (weights and biases in the case of linear regression or neural networks).\n",
    "It computes the gradient of the loss function with respect to these parameters. The gradient points in the direction of the steepest increase in the loss function.\n",
    "Updating Parameters:\n",
    "\n",
    "The parameters are updated iteratively in the opposite direction of the gradient. This means moving them a small step (determined by the learning rate) towards minimizing the loss function.\n",
    "\n",
    "Iterative Process:\n",
    "\n",
    "Steps 2 and 3 are repeated until a stopping criterion is met, such as reaching a maximum number of iterations, achieving a sufficiently small gradient norm, or observing convergence in the loss function.\n",
    "Types of Gradient Descent\n",
    "Batch Gradient Descent: Computes the gradient of the loss function w.r.t. the entire dataset. It is computationally expensive for large datasets but guarantees convergence to the global minimum for convex functions.\n",
    "\n",
    "Stochastic Gradient Descent (SGD): Computes the gradient for each training example individually and updates parameters immediately. It is computationally less expensive but leads to noisy updates.\n",
    "\n",
    "Mini-batch Gradient Descent: Computes the gradient on small random batches of the dataset. It combines the advantages of both batch gradient descent (stable convergence) and stochastic gradient descent (faster convergence).\n",
    "\n",
    "Benefits and Challenges\n",
    "Benefits:\n",
    "Can optimize complex models with millions of parameters efficiently.\n",
    "Generalizes well to various machine learning tasks.\n",
    "Widely applicable across different types of models (linear regression, neural networks, etc.).\n",
    "Challenges:\n",
    "Choosing an appropriate learning rate is crucial. A too large learning rate can cause divergence, while a too small one can lead to slow convergence.\n",
    "May get stuck in local minima, especially in non-convex optimization problems, although this is less of an issue in practice for many machine learning models.\n",
    "Summary\n",
    "Gradient descent is a core optimization algorithm in machine learning that iteratively adjusts model parameters to minimize the loss function. By following the negative gradient direction, it updates parameters towards the optimal values that minimize prediction errors. This iterative process forms the basis for training models effectively and efficiently across various machine learning tasks and algorithms.\n",
    "\n",
    "\n",
    "\n",
    "\n",
    "\n",
    "\n"
   ]
  },
  {
   "cell_type": "markdown",
   "id": "c20e5c45-809f-4ee2-b050-2b7bb7b8571f",
   "metadata": {},
   "source": [
    "The main differences between batch gradient descent and stochastic gradient descent (SGD) lie in how they update model parameters based on gradients and their respective computational characteristics:\n",
    "\n",
    "Batch Gradient Descent\n",
    "Gradient Calculation:\n",
    "\n",
    "Batch GD computes the gradient of the loss function with respect to the parameters using the entire training dataset. It sums up gradients for all examples in the dataset.\n",
    "\n",
    "Convergence:\n",
    "\n",
    "Batch GD guarantees convergence to the global minimum (for convex problems) because it uses the entire dataset to compute gradients.\n",
    "Computational Efficiency:\n",
    "\n",
    "Computationally expensive for large datasets and deep learning models because it requires storing and processing the entire dataset in memory for each update.\n",
    "Stochastic Gradient Descent (SGD)\n",
    "Gradient Calculation:\n",
    "\n",
    "\n",
    "\n",
    "\n",
    "\n",
    "Convergence:\n",
    "\n",
    "SGD has faster convergence than batch GD because it updates parameters more frequently and uses recent examples to adjust the model.\n",
    "However, SGD can oscillate around the minimum and may not converge exactly to the global minimum due to the noise introduced by using individual examples.\n",
    "Computational Efficiency:\n",
    "\n",
    "More computationally efficient than batch GD, especially for large datasets and deep learning models, because it processes only one example (or a small batch) at a time.\n",
    "Comparison\n",
    "Batch Gradient Descent:\n",
    "\n",
    "Computes gradients using the entire dataset.\n",
    "Guarantees convergence to the global minimum (for convex problems).\n",
    "Computationally expensive and memory-intensive.\n",
    "Stochastic Gradient Descent:\n",
    "\n",
    "Computes gradients using one example (or a small batch) at a time.\n",
    "Faster convergence due to more frequent updates.\n",
    "More suitable for large datasets and deep learning models but may converge to a local minimum or saddle point.\n",
    "Mini-batch Gradient Descent\n",
    "Mini-batch Gradient Descent:\n",
    "Computes gradients using a small random subset of the dataset (mini-batch).\n",
    "Combines advantages of both batch and stochastic GD: stable convergence and efficient computation.\n",
    "Widely used in practice for training neural networks and other large-scale machine learning models.\n",
    "Summary\n",
    "Batch gradient descent and stochastic gradient descent differ primarily in how they compute and use gradients to update model parameters. Batch GD processes the entire dataset for each update, ensuring convergence but at a higher computational cost. In contrast, SGD updates parameters more frequently using individual examples, making it computationally efficient but potentially less stable in finding the global minimum. Mini-batch GD strikes a balance by using small batches of data for gradient computation, offering a compromise between efficiency and stability.\n",
    "\n",
    "\n",
    "\n",
    "\n",
    "\n",
    "\n"
   ]
  },
  {
   "cell_type": "markdown",
   "id": "b0ed0520-2000-445b-bd74-1424d6785d7f",
   "metadata": {},
   "source": [
    "\u0016hat is the \u001e",
    "urse of dimensionality in ma\u001e",
    "hine learnin0"
   ]
  },
  {
   "cell_type": "markdown",
   "id": "ec39333c-4e4b-4d84-b470-f9a6199422b5",
   "metadata": {},
   "source": [
    "The \"curse of dimensionality\" refers to various challenges and phenomena that arise when working with high-dimensional data in machine learning and data analysis. As the number of dimensions (or features) in a dataset increases, several issues emerge that can significantly impact the performance and effectiveness of machine learning algorithms. Here are the key aspects of the curse of dimensionality:\n",
    "\n",
    "Increased Sparsity of Data:\n",
    "\n",
    "In high-dimensional spaces, data points tend to become sparse, meaning that the available data becomes more spread out. As the number of dimensions increases, the volume of the space increases exponentially. Consequently, the number of data points needed to maintain the same level of data density increases exponentially as well.\n",
    "Computational Complexity:\n",
    "\n",
    "Many algorithms in machine learning rely on computing distances between data points (e.g., clustering, nearest neighbors) or require optimization in parameter spaces (e.g., gradient descent). In high-dimensional spaces, these computations become computationally expensive because distances and volumes grow exponentially with the number of dimensions.\n",
    "Increased Overfitting Risk:\n",
    "\n",
    "With a large number of dimensions, machine learning models can more easily memorize noise in the training data rather than learning meaningful patterns. This phenomenon leads to overfitting, where the model performs well on training data but poorly on unseen test data, as it fails to generalize.\n",
    "Difficulty in Visualization and Interpretation:\n",
    "\n",
    "As the number of dimensions increases, it becomes challenging (often impossible) to visualize the data or the decision boundaries learned by the model. Interpretation of high-dimensional models also becomes more complex, making it difficult to understand how individual features contribute to predictions.\n",
    "Increased Data Requirements:\n",
    "\n",
    "The curse of dimensionality implies that to maintain the same level of statistical significance, the amount of data needed grows exponentially with the number of dimensions. This can pose practical challenges in data collection, storage, and processing.\n",
    "Mitigating the Curse of Dimensionality\n",
    "While the curse of dimensionality presents significant challenges, several techniques can help mitigate its effects:\n",
    "\n",
    "Feature Selection and Dimensionality Reduction: Use techniques such as PCA (Principal Component Analysis), LDA (Linear Discriminant Analysis), or feature selection algorithms to reduce the number of irrelevant or redundant features.\n",
    "\n",
    "Regularization: Techniques like L1 (Lasso) and L2 (Ridge) regularization penalize large parameter values, which can help prevent overfitting in high-dimensional spaces.\n",
    "\n",
    "Feature Engineering: Create new features that capture relevant information and reduce the overall dimensionality of the dataset.\n",
    "\n",
    "Algorithm Choice: Some algorithms are less affected by high-dimensional data (e.g., decision trees) compared to others (e.g., k-nearest neighbors). Choosing algorithms that are suited to high-dimensional data can mitigate some challenges.\n",
    "\n",
    "Data Preprocessing: Scaling and normalization of data can help algorithms perform more effectively in high-dimensional spaces by ensuring that features contribute equally to the learning process.\n",
    "\n",
    "Understanding and addressing the curse of dimensionality is crucial for effectively applying machine learning algorithms to high-dimensional datasets, ensuring that models generalize well and provide meaningful insights from complex data.\n",
    "\n",
    "\n",
    "\n",
    "\n",
    "\n",
    "\n"
   ]
  },
  {
   "cell_type": "markdown",
   "id": "b816e2ad-5d5a-4c3e-a211-44245bee1af1",
   "metadata": {},
   "source": [
    " Explain the differen\u001e",
    "e between L1 and L2 re0ularization"
   ]
  },
  {
   "cell_type": "markdown",
   "id": "d2deae10-3cbd-4aa6-b33e-30c59cfe5ec2",
   "metadata": {},
   "source": [
    "L1 and L2 regularization are techniques used to prevent overfitting in machine learning models by adding a penalty to the cost function associated with the size of the coefficients (weights) of the model. They differ primarily in how they penalize the coefficients:\n",
    "\n",
    "L1 Regularization (Lasso Regularization)\n",
    "Objective: L1 regularization adds a penalty equal to the sum of the absolute values of the coefficients to the cost function.\n",
    "\n",
    "Penalty Term: \n",
    "𝜆\n",
    "∑\n",
    "𝑖\n",
    "=\n",
    "1\n",
    "𝑛\n",
    "∣\n",
    "𝑤\n",
    "𝑖\n",
    "∣\n",
    "λ∑ \n",
    "i=1\n",
    "n\n",
    "​\n",
    " ∣w \n",
    "i\n",
    "​\n",
    " ∣\n",
    "\n",
    "𝜆\n",
    "λ (lambda) controls the strength of the regularization.\n",
    "𝑤\n",
    "𝑖\n",
    "w \n",
    "i\n",
    "​\n",
    "  represents the coefficients of the model.\n",
    "Effect:\n",
    "\n",
    "Encourages sparsity: L1 regularization tends to shrink less important feature coefficients to zero. This effectively performs feature selection by eliminating irrelevant features from the model.\n",
    "Advantages:\n",
    "\n",
    "Useful when there are a large number of features, as it automatically selects the most relevant features.\n",
    "Improves model interpretability by reducing the number of non-zero coefficients.\n",
    "Disadvantages:\n",
    "\n",
    "Can be sensitive to correlated features, where it might arbitrarily select one feature over another.\n",
    "More computationally intensive to optimize due to the non-differentiability of the absolute function.\n",
    "L2 Regularization (Ridge Regularization)\n",
    "Objective: L2 regularization adds a penalty equal to the sum of the squares of the coefficients to the cost function.\n",
    "\n",
    "Penalty Term: \n",
    "𝜆\n",
    "∑\n",
    "𝑖\n",
    "=\n",
    "1\n",
    "𝑛\n",
    "𝑤\n",
    "𝑖\n",
    "2\n",
    "λ∑ \n",
    "i=1\n",
    "n\n",
    "​\n",
    " w \n",
    "i\n",
    "2\n",
    "​\n",
    " \n",
    "\n",
    "𝜆\n",
    "λ (lambda) controls the strength of the regularization.\n",
    "𝑤\n",
    "𝑖\n",
    "w \n",
    "i\n",
    "​\n",
    "  represents the coefficients of the model.\n",
    "Effect:\n",
    "\n",
    "Encourages smaller but non-zero coefficients: L2 regularization penalizes large coefficients, leading to smoother models with smaller parameter values.\n",
    "Helps to reduce overfitting by discouraging the model from learning complex patterns that may not generalize well.\n",
    "Advantages:\n",
    "\n",
    "Stable and robust: L2 regularization generally leads to better performance when all features are relevant.\n",
    "Computationally efficient: Optimization is easier due to the differentiability of the square function.\n",
    "Disadvantages:\n",
    "\n",
    "Does not perform feature selection: L2 regularization does not force coefficients to zero, so all features are retained in the model.\n",
    "May not handle highly correlated features effectively, as it tends to distribute the penalty across all correlated features.\n",
    "Choosing Between L1 and L2 Regularization\n",
    "Use L1 (Lasso) when:\n",
    "\n",
    "Feature selection is important or when there are many irrelevant features.\n",
    "Interpretability of the model is crucial.\n",
    "Use L2 (Ridge) when:\n",
    "\n",
    "There are no concerns about feature selection or when all features are expected to contribute to the model.\n",
    "Stability and robustness are prioritized over sparsity.\n",
    "Elastic Net Regularization: Combines both L1 and L2 penalties, offering a balance between feature selection (L1) and coefficient shrinkage (L2), which can be useful in some scenarios where both regularization effects are desired.\n",
    "\n",
    "In practice, the choice between L1 and L2 regularization depends on the specific characteristics of the dataset and the goals of the modeling task, balancing between model complexity, interpretability, and predictive performance.\n",
    "\n",
    "\n",
    "\n",
    "\n",
    "\n",
    "\n"
   ]
  },
  {
   "cell_type": "markdown",
   "id": "5955ff62-f2ef-4bc0-bfb1-7cb523440eec",
   "metadata": {},
   "source": [
    "\u0016hat is a \u001e",
    "onfusion matrix and how is it used"
   ]
  },
  {
   "attachments": {
    "33d87825-b82b-4719-a589-f404a7271341.png": {
     "image/png": "[encoded data removed]"
    },
    "734870b1-4ddd-433c-9f08-d0f3abcdf93f.png": {
     "image/png": "[encoded data removed]"
    },
    "7611073d-20c3-4abc-ab21-4751c7704a92.png": {
     "image/png": "[encoded data removed]"
    },
    "969779e4-e2fe-4e63-b408-f90197ae18cc.png": {
     "image/png": "[encoded data removed]"
    },
    "c841ccc4-2730-4375-b9be-8849da809051.png": {
     "image/png": "[encoded data removed]"
    },
    "e207dacf-fbb5-4deb-82a3-eaf9eef64b83.png": {
     "image/png": "[encoded data removed]"
    }
   },
   "cell_type": "markdown",
   "id": "32fa1bba-62ab-4358-8c87-bca5f827fabc",
   "metadata": {},
   "source": [
    "A confusion matrix is a table that allows visualization of the performance of a classification model by presenting a summary of the model's predictions against the actual outcomes in a tabular format. It's a fundamental tool for evaluating the performance of machine learning algorithms, especially in binary and multi-class classification tasks.\n",
    "\n",
    "Components of a Confusion Matrix\n",
    "A confusion matrix consists of four main metrics derived from the predictions made by a classifier:\n",
    "\n",
    "True Positives (TP):\n",
    "\n",
    "Instances where the model correctly predicts the positive class (correctly classified as true).\n",
    "False Positives (FP):\n",
    "\n",
    "Instances where the model incorrectly predicts the positive class (incorrectly classified as true).\n",
    "True Negatives (TN):\n",
    "\n",
    "Instances where the model correctly predicts the negative class (correctly classified as false).\n",
    "False Negatives (FN):\n",
    "\n",
    "Instances where the model incorrectly predicts the negative class (incorrectly classified as false).\n",
    "Structure of a Confusion Matrix\n",
    "In a binary classification scenario (where there are only two classes, often denoted as positive and negative):\n",
    "\n",
    "Predicted Positive\tPredicted Negative\n",
    "Actual Positive\tTrue Positives (TP)\tFalse Negatives (FN)\n",
    "Actual Negative\tFalse Positives (FP)\tTrue Negatives (TN)\n",
    "Using a Confusion Matrix\n",
    "Evaluation Metrics Derived from a Confusion Matrix\n",
    "From the confusion matrix, several key metrics can be calculated to evaluate the performance of the classifier:\n",
    "\n",
    "Accuracy: Measures the overall correctness of predictions.\n",
    "\n",
    "​![image.png](attachment:969779e4-e2fe-4e63-b408-f90197ae18cc.png)\n",
    " \n",
    "\n",
    "Precision: Measures the proportion of true positive predictions among all positive predictions made by the model.\n",
    "![image.png](attachment:33d87825-b82b-4719-a589-f404a7271341.png)\n",
    " \n",
    "\n",
    "Recall (Sensitivity or True Positive Rate): Measures the proportion of true positive instances that are correctly predicted by the model.\n",
    "![image.png](attachment:e207dacf-fbb5-4deb-82a3-eaf9eef64b83.png)\n",
    "​\n",
    " \n",
    "\n",
    "F1 Score: Harmonic mean of precision and recall, providing a single metric that balances both.\n",
    "![image.png](attachment:7611073d-20c3-4abc-ab21-4751c7704a92.png)\n",
    " \n",
    "\n",
    "Specificity (True Negative Rate): Measures the proportion of true negative instances that are correctly predicted by the model.\n",
    "Specificity\n",
    "=\n",
    "![image.png](attachment:c841ccc4-2730-4375-b9be-8849da809051.png)\n",
    "\n",
    "![image.png](attachment:734870b1-4ddd-433c-9f08-d0f3abcdf93f.png)\n",
    "​\n",
    " \n",
    "\n",
    "Interpretation and Application\n",
    "Model Performance: By examining the confusion matrix and associated metrics, you can assess how well the model is performing in terms of correctly identifying classes of interest (positive/negative).\n",
    "\n",
    "Adjusting Thresholds: Depending on the application, you might adjust the classification threshold to optimize for specific metrics (e.g., increasing recall at the expense of precision or vice versa).\n",
    "\n",
    "Diagnosing Model Errors: Understanding where the model tends to misclassify instances (e.g., more false positives than false negatives) can guide further model refinement or feature engineering efforts.\n",
    "\n",
    "Conclusion\n",
    "In summary, a confusion matrix provides a comprehensive view of a classifier's performance by breaking down predictions into categories of correct and incorrect classifications. It serves as a fundamental tool for evaluating and fine-tuning machine learning models, enabling practitioners to make informed decisions based on the model's strengths and weaknesses in handling different classes and scenarios."
   ]
  },
  {
   "cell_type": "markdown",
   "id": "17846f83-81cf-41be-a8aa-1678129c2137",
   "metadata": {},
   "source": [
    "Define AUC-ROC \u001e",
    "urve"
   ]
  },
  {
   "attachments": {
    "13de36a4-bafd-4d6e-a0ce-5184acd73f2a.png": {
     "image/png": "[encoded data removed]"
    },
    "6407dd8d-1f05-48ea-9a7e-420a66e3cd3f.png": {
     "image/png": "[encoded data removed]"
    }
   },
   "cell_type": "markdown",
   "id": "8af57eec-f776-43d2-8b59-ad5d1cb54285",
   "metadata": {},
   "source": [
    "The AUC-ROC curve is a graphical representation used to evaluate the performance of binary classification models. AUC stands for \"Area Under the Curve,\" and ROC stands for \"Receiver Operating Characteristic.\" Together, the AUC-ROC curve and the associated AUC score provide insights into how well a model can distinguish between classes (positive and negative) across different thresholds.\n",
    "\n",
    "Components of AUC-ROC Curve\n",
    "True Positive Rate (TPR):\n",
    "\n",
    "Also known as recall or sensitivity, TPR measures the proportion of actual positive cases correctly predicted by the model.\n",
    "![image.png](attachment:6407dd8d-1f05-48ea-9a7e-420a66e3cd3f.png)\n",
    "​\n",
    " \n",
    "False Positive Rate (FPR):\n",
    "\n",
    "Measures the proportion of actual negative cases incorrectly predicted as positive by the model.\n",
    "![image.png](attachment:13de36a4-bafd-4d6e-a0ce-5184acd73f2a.png)\n",
    "​\n",
    " \n",
    "ROC Curve\n",
    "The ROC curve plots TPR against FPR at various threshold settings. Each point on the curve represents a different threshold, starting from the most negative (most confident negative predictions) to the most positive (most confident positive predictions).\n",
    "\n",
    "A model with perfect classification would have an ROC curve that passes through the top-left corner (TPR=1, FPR=0), indicating high TPR and low FPR across all thresholds.\n",
    "\n",
    "AUC Score\n",
    "The AUC score quantifies the overall performance of the model across all possible classification thresholds. It represents the probability that the model will rank a randomly chosen positive instance higher than a randomly chosen negative instance.\n",
    "\n",
    "A perfect classifier will have an AUC score of 1, indicating perfect discrimination between positive and negative instances.\n",
    "\n",
    "A random classifier will have an AUC score of 0.5, as it has no discrimination ability beyond random chance.\n",
    "\n",
    "Interpretation\n",
    "Higher AUC: Indicates better overall performance of the model in terms of its ability to distinguish between positive and negative classes.\n",
    "\n",
    "AUC = 0.5: Implies that the model performs no better than random guessing.\n",
    "\n",
    "AUC < 0.5: Suggests that the model's predictions are worse than random guessing, indicating that the model might be inverted (e.g., predicting the opposite class).\n",
    "\n",
    "Practical Use\n",
    "Model Comparison: The AUC-ROC curve is particularly useful for comparing the performance of different models on the same dataset.\n",
    "\n",
    "Threshold Selection: Helps in choosing the optimal threshold for classification based on specific needs (e.g., maximizing TPR while minimizing FPR).\n",
    "\n",
    "Performance Evaluation: Provides a comprehensive view of a model's performance across various operating points, aiding in decision-making for deployment in real-world applications.\n",
    "\n",
    "In summary, the AUC-ROC curve is a valuable tool in evaluating the performance of binary classification models, providing insights into how well the model distinguishes between positive and negative classes across different thresholds."
   ]
  },
  {
   "cell_type": "markdown",
   "id": "c29b2936-d28f-460e-9f2e-d379085c7fb1",
   "metadata": {},
   "source": [
    "Explain the k-nearest nei0hbors al0orithm"
   ]
  },
  {
   "cell_type": "markdown",
   "id": "a45bf6ec-4b65-437c-9afc-56b07eddf14b",
   "metadata": {},
   "source": [
    "The **k-nearest neighbors (k-NN) algorithm** is a simple and intuitive supervised machine learning algorithm used for both classification and regression tasks. It works based on the principle that data points with similar features tend to fall into similar categories or have similar numeric values.\n",
    "\n",
    "### Working Principle\n",
    "\n",
    "1. **Training Phase**:\n",
    "   - The algorithm memorizes the entire training dataset. For a given dataset with labeled instances, the training phase involves storing the data points and their associated class labels (in case of classification) or numeric values (in case of regression).\n",
    "\n",
    "2. **Prediction Phase**:\n",
    "   - For a new, unlabeled data point, the k-NN algorithm identifies the k nearest data points (neighbors) in the training dataset based on a distance metric (commonly Euclidean distance).\n",
    "   - The predicted class or value for the new data point is determined based on the majority class or average value of its k nearest neighbors.\n",
    "\n",
    "### Key Components\n",
    "\n",
    "- **Distance Metric**: Typically, Euclidean distance is used to measure the proximity between data points. Other distance metrics like Manhattan, Minkowski, or Hamming distance may also be used based on the nature of the data.\n",
    "\n",
    "- **Parameter k**: Specifies the number of neighbors to consider. The choice of k is critical:\n",
    "  - **Small k**: More susceptible to noise and outliers, leading to a less smooth decision boundary.\n",
    "  - **Large k**: Smoother decision boundary but may lead to poorer local approximation of the class or value.\n",
    "\n",
    "- **Classification**: For classification tasks, the predicted class of a new data point is often determined by a majority vote among its k nearest neighbors.\n",
    "  \n",
    "- **Regression**: For regression tasks, the predicted value is typically the average (mean) of the values of its k nearest neighbors.\n",
    "\n",
    "### Advantages\n",
    "\n",
    "- **Simple Implementation**: Easy to understand and implement, making it suitable for initial exploratory data analysis and baseline performance evaluation.\n",
    "\n",
    "- **Non-parametric**: Does not make any assumptions about the underlying data distribution, which makes it robust in cases where data may not be linearly separable.\n",
    "\n",
    "- **Versatile**: Can be applied to both classification and regression problems with minor adjustments in the way distances are computed and predictions are made.\n",
    "\n",
    "### Limitations\n",
    "\n",
    "- **Computational Complexity**: As the size of the dataset increases, the computational cost of finding nearest neighbors grows, particularly when using brute-force search methods.\n",
    "\n",
    "- **Sensitive to Noise**: Outliers or noisy data points can significantly affect the performance, especially with smaller values of k.\n",
    "\n",
    "- **Need for Optimal k**: The choice of an appropriate value for k is critical and can impact the model's performance significantly.\n",
    "\n",
    "### Practical Considerations\n",
    "\n",
    "- **Scaling**: Features often need to be scaled to ensure that each feature contributes equally to the distance computation.\n",
    "\n",
    "- **Memory Intensive**: The algorithm requires storing the entire dataset in memory during prediction, which can be impractical for very large datasets.\n",
    "\n",
    "- **Model Interpretability**: Interpretability may be challenging as the decision boundary or prediction depends on the distribution and density of the training data.\n",
    "\n",
    "### Application Areas\n",
    "\n",
    "- **Classification**: Used in recommendation systems, image recognition, and medical diagnosis.\n",
    "  \n",
    "- **Regression**: Predictive maintenance, financial forecasting, and estimating property prices.\n",
    "\n",
    "In conclusion, the k-nearest neighbors algorithm offers a straightforward approach to classification and regression tasks by leveraging proximity-based learning from labeled data. While it has its limitations, k-NN remains a valuable tool, particularly in scenarios where interpretability and simplicity are prioritized over computational efficiency and scalability."
   ]
  },
  {
   "cell_type": "markdown",
   "id": "e79e9d05-ff5c-4787-a3bf-0e86385a1e74",
   "metadata": {},
   "source": [
    "\u001d",
    " Explain the basi\u001e",
    " \u001e",
    "on\u001e",
    "ept of a Support Ve\u001e",
    "tor Ma\u001e",
    "hine (SVM)"
   ]
  },
  {
   "cell_type": "markdown",
   "id": "9dcc2ec2-6cc6-4e5b-8df0-0c2b599378fb",
   "metadata": {},
   "source": [
    "Support Vector Machine (SVM) is a powerful supervised machine learning algorithm used for both classification and regression tasks. It's particularly effective in scenarios where the data has clear margins of separation between classes or when seeking to find the optimal hyperplane that best separates data points.\n",
    "\n",
    "### Basic Concepts of SVM\n",
    "\n",
    "1. **Linear Separability**:\n",
    "   - SVM aims to find the hyperplane that best separates classes in the feature space. In two dimensions, this hyperplane is a line, and in higher dimensions, it's a plane or a hyperplane.\n",
    "\n",
    "2. **Margin**:\n",
    "   - The margin is the distance between the hyperplane and the closest data points from either class, known as support vectors. SVM seeks to maximize this margin because a larger margin generally leads to better generalization and less overfitting.\n",
    "\n",
    "3. **Support Vectors**:\n",
    "   - Support vectors are the data points that lie closest to the decision boundary (hyperplane) and influence the position and orientation of the hyperplane. They are crucial in defining the decision boundary and are used in determining the optimal hyperplane.\n",
    "\n",
    "4. **Kernel Trick**:\n",
    "   - SVM can efficiently handle non-linear decision boundaries by transforming the original feature space into a higher-dimensional space using kernel functions. This transformation allows SVM to find linearly separable boundaries in the new space, even when the original data is not linearly separable.\n",
    "\n",
    "### How SVM Works\n",
    "\n",
    "- **Objective**: For a binary classification problem, SVM finds the hyperplane that best separates the data points of one class from those of the other class with the maximum margin.\n",
    "\n",
    "- **Mathematical Formulation**: In its simplest form, SVM tries to solve the following optimization problem:\n",
    "  \\[ \\min_{\\mathbf{w}, b} \\frac{1}{2} \\| \\mathbf{w} \\|^2 \\]\n",
    "  subject to:\n",
    "  \\[ y_i(\\mathbf{w} \\cdot \\mathbf{x}_i + b) \\geq 1 \\quad \\text{for all } i \\]\n",
    "  where \\( \\mathbf{w} \\) is the normal vector to the hyperplane, \\( b \\) is the bias term, \\( \\mathbf{x}_i \\) are the training samples, and \\( y_i \\) are the corresponding class labels (+1 or -1).\n",
    "\n",
    "- **Soft Margin SVM**: In cases where the data points are not perfectly separable, SVM allows for some misclassifications by introducing a soft margin parameter \\( C \\), which controls the trade-off between maximizing the margin and minimizing the classification error.\n",
    "\n",
    "- **Kernel Functions**: Popular kernel functions include:\n",
    "  - **Linear Kernel**: \\( K(\\mathbf{x}, \\mathbf{x}') = \\mathbf{x} \\cdot \\mathbf{x}' \\)\n",
    "  - **Polynomial Kernel**: \\( K(\\mathbf{x}, \\mathbf{x}') = (\\gamma \\mathbf{x} \\cdot \\mathbf{x}' + r)^d \\)\n",
    "  - **RBF (Radial Basis Function) Kernel**: \\( K(\\mathbf{x}, \\mathbf{x}') = \\exp(-\\gamma \\| \\mathbf{x} - \\mathbf{x}' \\|^2) \\)\n",
    "\n",
    "### Advantages of SVM\n",
    "\n",
    "- Effective in high-dimensional spaces.\n",
    "- Memory efficient due to the use of support vectors.\n",
    "- Versatile due to the ability to use different kernel functions for non-linear decision boundaries.\n",
    "- Robust against overfitting, especially in high-dimensional spaces.\n",
    "\n",
    "### Limitations of SVM\n",
    "\n",
    "- Computationally intensive for large datasets.\n",
    "- Requires careful selection of parameters such as \\( C \\) and the choice of kernel function.\n",
    "- Can be sensitive to noise in the data.\n",
    "\n",
    "### Applications\n",
    "\n",
    "- Text classification (e.g., sentiment analysis).\n",
    "- Image classification (e.g., object detection).\n",
    "- Bioinformatics (e.g., protein classification).\n",
    "- Financial forecasting (e.g., stock price prediction).\n",
    "\n",
    "In conclusion, SVM is a versatile and powerful algorithm for both classification and regression tasks, known for its effectiveness in finding optimal hyperplanes in high-dimensional spaces and handling non-linear decision boundaries through kernel functions. Its ability to maximize margins and handle complex datasets makes it a valuable tool in many machine learning applications."
   ]
  },
  {
   "cell_type": "markdown",
   "id": "f55fed54-1487-4d6c-974e-53c506a74186",
   "metadata": {},
   "source": [
    "How does the kernel tri\u001e",
    "k work in SVM/"
   ]
  },
  {
   "cell_type": "markdown",
   "id": "37585d37-ba22-4d55-a190-d18439f600d4",
   "metadata": {},
   "source": [
    "The **kernel trick** in Support Vector Machines (SVMs) is a technique used to handle non-linear decision boundaries by implicitly mapping the original feature space into a higher-dimensional space. This transformation allows SVMs to find linearly separable boundaries in the new space, even when the original data is not linearly separable. Here’s how the kernel trick works in SVM:\n",
    "\n",
    "### Basic Concept\n",
    "\n",
    "1. **Linear Separability in Higher Dimensions**:\n",
    "   - In many practical scenarios, the data points may not be linearly separable in their original feature space. The kernel trick helps overcome this limitation by transforming the data into a higher-dimensional space where it becomes linearly separable.\n",
    "\n",
    "2. **Kernel Functions**:\n",
    "   - Instead of explicitly computing and transforming the data into the higher-dimensional space (which would be computationally expensive or even impractical for very high dimensions), SVMs use **kernel functions** \\( K(\\mathbf{x}, \\mathbf{x}') \\). These functions compute the dot product \\( \\langle \\phi(\\mathbf{x}), \\phi(\\mathbf{x}') \\rangle \\) between the transformed feature vectors \\( \\phi(\\mathbf{x}) \\) and \\( \\phi(\\mathbf{x}') \\) without explicitly constructing them.\n",
    "\n",
    "3. **Inner Products**:\n",
    "   - SVMs primarily rely on inner products between data points (dot products) to define the decision boundary and margins. The kernel function effectively replaces these inner products with a function that computes the similarity between data points in the higher-dimensional space.\n",
    "\n",
    "### Types of Kernel Functions\n",
    "\n",
    "- **Linear Kernel**: \\( K(\\mathbf{x}, \\mathbf{x}') = \\mathbf{x} \\cdot \\mathbf{x}' \\)\n",
    "  - Represents the original inner product in the original feature space.\n",
    "  - Used when the data is expected to be linearly separable.\n",
    "\n",
    "- **Polynomial Kernel**: \\( K(\\mathbf{x}, \\mathbf{x}') = (\\gamma \\mathbf{x} \\cdot \\mathbf{x}' + r)^d \\)\n",
    "  - Transforms the data into a higher-dimensional space using a polynomial function of degree \\( d \\).\n",
    "  - \\( \\gamma \\) and \\( r \\) are kernel parameters.\n",
    "\n",
    "- **Radial Basis Function (RBF) Kernel**: \\( K(\\mathbf{x}, \\mathbf{x}') = \\exp(-\\gamma \\| \\mathbf{x} - \\mathbf{x}' \\|^2) \\)\n",
    "  - Maps the data into an infinite-dimensional space, where distances are computed using a Gaussian function centered at \\( \\mathbf{x}' \\).\n",
    "  - \\( \\gamma \\) is a parameter that controls the spread of the kernel.\n",
    "\n",
    "### Advantages of the Kernel Trick\n",
    "\n",
    "- **Efficiency**: Avoids the explicit computation of high-dimensional feature mappings, making it computationally feasible even for very high-dimensional spaces.\n",
    "\n",
    "- **Flexibility**: Allows SVMs to handle non-linear decision boundaries effectively, improving the model's ability to generalize to unseen data.\n",
    "\n",
    "### Practical Use\n",
    "\n",
    "- **Model Flexibility**: Kernel functions enable SVMs to capture complex patterns in data that may not be captured by linear models.\n",
    "\n",
    "- **Parameter Tuning**: Choosing the appropriate kernel function and tuning its parameters (e.g., \\( \\gamma \\) for RBF kernel) is crucial for achieving optimal performance.\n",
    "\n",
    "### Limitations\n",
    "\n",
    "- **Overfitting**: More complex kernel functions can lead to overfitting, especially when not properly tuned or when the dataset is small.\n",
    "\n",
    "- **Computational Complexity**: While the kernel trick improves efficiency compared to explicit feature mapping, it still requires computing pairwise kernel evaluations for all data points, which can be intensive for large datasets.\n",
    "\n",
    "In summary, the kernel trick in SVMs is a powerful technique that extends their applicability beyond linearly separable problems by mapping data implicitly into higher-dimensional spaces. It leverages kernel functions to compute similarities between data points in these spaces, enabling SVMs to find optimal decision boundaries even in complex, non-linear datasets."
   ]
  },
  {
   "cell_type": "markdown",
   "id": "ee468e44-b93a-4989-b288-98974929dc05",
   "metadata": {},
   "source": [
    "\u0016hat are the different types of kernels used in SVM and when would you use ea\u001e",
    "h/"
   ]
  },
  {
   "attachments": {
    "0bdbec11-13d3-44a5-bf20-dda3132bf2d7.png": {
     "image/png": "[encoded data removed]"
    },
    "5f34ee6a-b02f-4e2c-be00-68e682338cdd.png": {
     "image/png": "[encoded data removed]"
    },
    "ac77cc29-2b09-4e52-9c61-ab699b26dda3.png": {
     "image/png": "[encoded data removed]"
    },
    "e17b82d4-0f3d-41be-9bb3-2f524ff42e34.png": {
     "image/png": "[encoded data removed]"
    }
   },
   "cell_type": "markdown",
   "id": "4b1dbc6a-0c9d-457b-9bb1-e33bccd11bc9",
   "metadata": {},
   "source": [
    "Support Vector Machines (SVMs) utilize different types of kernel functions to handle various types of data and achieve optimal separation between classes. Here are some common types of kernels used in SVM and their typical use cases:\n",
    "\n",
    "### 1. Linear Kernel\n",
    "\n",
    "- ![image.png](attachment:e17b82d4-0f3d-41be-9bb3-2f524ff42e34.png)\n",
    "- **Use Case**: \n",
    "  - **When to Use**: Use when the data is expected to be linearly separable, meaning classes can be separated by a straight line, plane, or hyperplane in the original feature space.\n",
    "  - **Example**: Text classification tasks where features represent word frequencies or TF-IDF scores.\n",
    "\n",
    "### 2. Polynomial Kernel\n",
    "\n",
    "- ![image.png](attachment:ac77cc29-2b09-4e52-9c61-ab699b26dda3.png)\n",
    "- **Parameters**:\n",
    "  - \\( \\gamma \\): Scaling factor controlling the influence of the dot product.\n",
    "  - \\( r \\): Optional coefficient (default is 0).\n",
    "  - \\( d \\): Degree of the polynomial.\n",
    "- **Use Case**:\n",
    "  - **When to Use**: Use when the decision boundary is expected to be polynomial (curved) in the feature space.\n",
    "  - **Example**: Image classification where pixel values are features, and classes may be separated by curves or surfaces.\n",
    "\n",
    "### 3. Radial Basis Function (RBF) Kernel\n",
    "![image.png](attachment:0bdbec11-13d3-44a5-bf20-dda3132bf2d7.png)\n",
    "- **Parameter**:\n",
    "  - \\( \\gamma \\): Controls the width of the Gaussian kernel.\n",
    "- **Use Case**:\n",
    "  - **When to Use**: Use when there is no prior knowledge about the data distribution or when the decision boundary is expected to be highly non-linear.\n",
    "  - **Example**: Bioinformatics for protein classification, where features represent amino acid sequences.\n",
    "\n",
    "### 4. Sigmoid Kernel\n",
    "![image.png](attachment:5f34ee6a-b02f-4e2c-be00-68e682338cdd.png)\n",
    "- **Parameters**:\n",
    "  - \\( \\gamma \\): Scaling factor.\n",
    "  - \\( r \\): Bias term.\n",
    "- **Use Case**:\n",
    "  - **When to Use**: Use when the data is not linearly separable and when the decision boundary is expected to be sigmoidal (S-shaped).\n",
    "  - **Example**: Financial data analysis for predicting market trends based on technical indicators.\n",
    "\n",
    "### Choosing the Right Kernel\n",
    "\n",
    "- **Linear Kernel**: Simple and fast, suitable for linearly separable data.\n",
    "- **Polynomial Kernel**: Useful for problems where relationships between features are expected to be polynomial.\n",
    "- **RBF Kernel**: Versatile and commonly used when no prior knowledge about data distribution is available or when the data is highly non-linear.\n",
    "- **Sigmoid Kernel**: Less commonly used compared to others, suitable for problems where the decision boundary is expected to be sigmoidal.\n",
    "\n",
    "### Considerations\n",
    "\n",
    "- **Data Complexity**: Choose the kernel based on the complexity of the decision boundary required for effective classification.\n",
    "- **Computational Efficiency**: RBF kernels can be more computationally expensive due to the need to compute distances in a potentially high-dimensional space.\n",
    "- **Parameter Tuning**: Parameters like \\( \\gamma \\) and \\( d \\) need to be tuned carefully through techniques like cross-validation to optimize performance.\n",
    "\n",
    "In practice, the choice of kernel in SVM depends heavily on the nature of the data and the specific problem domain. Experimentation and understanding of the data's characteristics play a crucial role in determining the most appropriate kernel for achieving optimal classification performance."
   ]
  },
  {
   "cell_type": "markdown",
   "id": "5434e98f-b368-490e-9a5e-61dd810e21d4",
   "metadata": {},
   "source": [
    "\u0016hat is the hyperplane in SVM and how is it determined"
   ]
  },
  {
   "cell_type": "markdown",
   "id": "e844f56d-e592-4714-bc96-b9976ffcf1fb",
   "metadata": {},
   "source": [
    "In Support Vector Machines (SVM), the **hyperplane** plays a crucial role as it defines the decision boundary that separates different classes in the feature space. Here’s a detailed explanation of what a hyperplane is and how it is determined in SVM:\n",
    "\n",
    "### Hyperplane in SVM\n",
    "\n",
    "1. **Definition**:\n",
    "   - In an \\( n \\)-dimensional space, a hyperplane is an \\( (n-1) \\)-dimensional subspace that separates the space into two half-spaces. For example:\n",
    "     - In a 2D space, a hyperplane is a straight line.\n",
    "     - In a 3D space, a hyperplane is a flat 2D plane.\n",
    "\n",
    "2. **Decision Boundary**:\n",
    "   - In SVM, the hyperplane is the decision boundary that maximizes the margin between classes. For a binary classification problem, it separates data points belonging to different classes.\n",
    "\n",
    "3. **Equation**:\n",
    "   - The equation of a hyperplane in an \\( n \\)-dimensional space is given by:\n",
    "     \\[ \\mathbf{w} \\cdot \\mathbf{x} + b = 0 \\]\n",
    "     where:\n",
    "     - \\( \\mathbf{w} \\) is the normal vector to the hyperplane (weights).\n",
    "     - \\( \\mathbf{x} \\) is the feature vector of a data point.\n",
    "     - \\( b \\) is the bias term.\n",
    "\n",
    "### Determining the Hyperplane in SVM\n",
    "\n",
    "To determine the hyperplane in SVM, the algorithm aims to find \\( \\mathbf{w} \\) and \\( b \\) that satisfy the following conditions:\n",
    "\n",
    "1. **Maximizing Margin**:\n",
    "   - SVM seeks to find the hyperplane that maximizes the margin between the support vectors (closest data points to the hyperplane) of different classes.\n",
    "\n",
    "2. **Optimization Problem**:\n",
    "   - SVM formulates an optimization problem to find \\( \\mathbf{w} \\) and \\( b \\):\n",
    "     \\[ \\min_{\\mathbf{w}, b} \\frac{1}{2} \\| \\mathbf{w} \\|^2 \\]\n",
    "     subject to:\n",
    "     \\[ y_i(\\mathbf{w} \\cdot \\mathbf{x}_i + b) \\geq 1 \\quad \\text{for all } i \\]\n",
    "     where \\( \\mathbf{x}_i \\) are the training samples, \\( y_i \\) are the corresponding class labels (+1 or -1), and \\( \\| \\mathbf{w} \\|^2 \\) represents the Euclidean norm of \\( \\mathbf{w} \\).\n",
    "\n",
    "3. **Support Vectors**:\n",
    "   - The data points that lie closest to the hyperplane and determine its orientation are called support vectors.\n",
    "   - The hyperplane is determined by these support vectors, which are the only data points that affect the optimal placement of the hyperplane.\n",
    "\n",
    "### Steps to Determine the Hyperplane\n",
    "\n",
    "- **Training Phase**:\n",
    "  1. **Compute Support Vectors**: Identify the support vectors among the training data points.\n",
    "  2. **Optimize Parameters**: Solve the optimization problem to find \\( \\mathbf{w} \\) and \\( b \\) that maximize the margin between classes while satisfying the constraints.\n",
    "\n",
    "- **Prediction Phase**:\n",
    "  - During prediction, a new data point \\( \\mathbf{x} \\) is classified based on which side of the hyperplane it falls on:\n",
    "    \\[ \\mathbf{w} \\cdot \\mathbf{x} + b \\geq 0 \\Rightarrow \\text{Class } 1 \\]\n",
    "    \\[ \\mathbf{w} \\cdot \\mathbf{x} + b < 0 \\Rightarrow \\text{Class } -1 \\]\n",
    "\n",
    "### Importance of Hyperplane in SVM\n",
    "\n",
    "- **Generalization**: Maximizing the margin ensures better generalization to unseen data.\n",
    "- **Robustness**: The hyperplane is determined based on the support vectors, which are crucial in defining the decision boundary.\n",
    "- **Performance**: SVM's effectiveness in classification tasks relies on finding an optimal hyperplane that separates classes with the largest possible margin.\n",
    "\n",
    "In summary, the hyperplane in SVM defines the decision boundary that separates classes in the feature space, determined by maximizing the margin between support vectors of different classes. It plays a central role in SVM's ability to classify data effectively and generalize to new instances."
   ]
  },
  {
   "cell_type": "markdown",
   "id": "539602bd-d870-4286-a0be-ff73575a170a",
   "metadata": {},
   "source": [
    "\u0016hat are the pros and \u001e",
    "ons of usin0 a Support Ve\u001e",
    "tor Ma\u001e",
    "hine (SVM)/"
   ]
  },
  {
   "cell_type": "markdown",
   "id": "ddf2bf68-239b-47e3-8cc9-efc510ec08a3",
   "metadata": {},
   "source": [
    "Support Vector Machines (SVMs) are powerful machine learning algorithms known for their effectiveness in both classification and regression tasks. However, like any algorithm, they come with their own set of advantages and disadvantages. Here's a detailed overview of the pros and cons of using SVMs:\n",
    "\n",
    "### Pros of SVMs:\n",
    "\n",
    "1. **Effective in High-Dimensional Spaces**:\n",
    "   - SVMs perform well even in cases where the number of dimensions exceeds the number of samples. This makes them suitable for problems like text classification or image recognition where data may have many features.\n",
    "\n",
    "2. **Versatile**:\n",
    "   - SVMs can be adapted to different tasks through the use of different kernel functions. This allows them to handle non-linear decision boundaries effectively using techniques like the kernel trick (transforming input space into higher-dimensional space).\n",
    "\n",
    "3. **Robust Against Overfitting**:\n",
    "   - By maximizing the margin between classes, SVMs tend to generalize well to unseen data. The use of a regularization parameter \\( C \\) helps control overfitting.\n",
    "\n",
    "4. **Works Well with Small and Medium-Sized Datasets**:\n",
    "   - SVMs are memory efficient because they primarily use a subset of training points (support vectors) in the decision function.\n",
    "\n",
    "5. **Global Optimization**:\n",
    "   - The objective function in SVMs leads to a convex optimization problem, which means that the solution is guaranteed to be the global minimum, not just a local minimum.\n",
    "\n",
    "6. **Effective in Complex Domains**:\n",
    "   - SVMs can model complex relationships in data when paired with appropriate kernel functions like RBF, polynomial, or sigmoid kernels.\n",
    "\n",
    "### Cons of SVMs:\n",
    "\n",
    "1. **Computationally Intensive**:\n",
    "   - Training an SVM can be time-consuming, especially with large datasets, because it requires solving a quadratic programming problem involving all training examples.\n",
    "\n",
    "2. **Memory Intensive**:\n",
    "   - SVMs store all support vectors in memory, making them memory intensive, especially when dealing with large datasets.\n",
    "\n",
    "3. **Sensitive to Noise**:\n",
    "   - SVMs can be sensitive to noisy data, as outliers can affect the position and orientation of the hyperplane.\n",
    "\n",
    "4. **Difficult to Interpret**:\n",
    "   - The decision function of SVMs is not easy to interpret in terms of understanding the importance of individual features or variables compared to some other models like decision trees or linear regression.\n",
    "\n",
    "5. **Choice of Kernel**:\n",
    "   - The selection of the appropriate kernel function and tuning its parameters (e.g., \\( C \\), \\( \\gamma \\) for RBF kernel) is crucial and may require extensive experimentation.\n",
    "\n",
    "6. **Binary Classification**:\n",
    "   - SVMs inherently support binary classification. For multi-class classification tasks, strategies like one-vs-one or one-vs-rest need to be employed, which can increase complexity.\n",
    "\n",
    "### When to Use SVMs:\n",
    "\n",
    "- **When the Dataset is Small to Medium-Sized**: SVMs are well-suited for datasets with moderate size due to their memory efficiency.\n",
    "- **When Non-Linearity is Expected**: SVMs with appropriate kernels are effective when the decision boundary is non-linear.\n",
    "- **When Interpretability is Less Important**: If understanding the model's decision-making process is less critical, SVMs can be a good choice.\n",
    "\n",
    "### When Not to Use SVMs:\n",
    "\n",
    "- **When the Dataset is Large**: SVMs may become impractical due to their computational complexity and memory requirements.\n",
    "- **When Interpretability is Important**: If interpretability and understanding feature importance are crucial, simpler models like decision trees or logistic regression may be preferred.\n",
    "- **When Data is Noisy**: SVMs may not perform well in the presence of noisy data unless noise reduction techniques are applied.\n",
    "\n",
    "In summary, SVMs are powerful algorithms with unique strengths, particularly in scenarios involving high-dimensional data or complex decision boundaries. However, their practicality depends on the specific characteristics of the dataset and the goals of the machine learning task."
   ]
  },
  {
   "cell_type": "markdown",
   "id": "8d3889e5-3f04-4eca-a6ad-40a9d3602a96",
   "metadata": {},
   "source": [
    "Explain the differen\u001e",
    "e between a hard mar0in and a soft mar0in SVM\u0015"
   ]
  },
  {
   "cell_type": "markdown",
   "id": "4f9a67d3-2538-4e8a-96d3-09df6aa7169d",
   "metadata": {},
   "source": [
    "Support Vector Machines (SVMs) are powerful machine learning algorithms known for their effectiveness in both classification and regression tasks. However, like any algorithm, they come with their own set of advantages and disadvantages. Here's a detailed overview of the pros and cons of using SVMs:\n",
    "\n",
    "### Pros of SVMs:\n",
    "\n",
    "1. **Effective in High-Dimensional Spaces**:\n",
    "   - SVMs perform well even in cases where the number of dimensions exceeds the number of samples. This makes them suitable for problems like text classification or image recognition where data may have many features.\n",
    "\n",
    "2. **Versatile**:\n",
    "   - SVMs can be adapted to different tasks through the use of different kernel functions. This allows them to handle non-linear decision boundaries effectively using techniques like the kernel trick (transforming input space into higher-dimensional space).\n",
    "\n",
    "3. **Robust Against Overfitting**:\n",
    "   - By maximizing the margin between classes, SVMs tend to generalize well to unseen data. The use of a regularization parameter \\( C \\) helps control overfitting.\n",
    "\n",
    "4. **Works Well with Small and Medium-Sized Datasets**:\n",
    "   - SVMs are memory efficient because they primarily use a subset of training points (support vectors) in the decision function.\n",
    "\n",
    "5. **Global Optimization**:\n",
    "   - The objective function in SVMs leads to a convex optimization problem, which means that the solution is guaranteed to be the global minimum, not just a local minimum.\n",
    "\n",
    "6. **Effective in Complex Domains**:\n",
    "   - SVMs can model complex relationships in data when paired with appropriate kernel functions like RBF, polynomial, or sigmoid kernels.\n",
    "\n",
    "### Cons of SVMs:\n",
    "\n",
    "1. **Computationally Intensive**:\n",
    "   - Training an SVM can be time-consuming, especially with large datasets, because it requires solving a quadratic programming problem involving all training examples.\n",
    "\n",
    "2. **Memory Intensive**:\n",
    "   - SVMs store all support vectors in memory, making them memory intensive, especially when dealing with large datasets.\n",
    "\n",
    "3. **Sensitive to Noise**:\n",
    "   - SVMs can be sensitive to noisy data, as outliers can affect the position and orientation of the hyperplane.\n",
    "\n",
    "4. **Difficult to Interpret**:\n",
    "   - The decision function of SVMs is not easy to interpret in terms of understanding the importance of individual features or variables compared to some other models like decision trees or linear regression.\n",
    "\n",
    "5. **Choice of Kernel**:\n",
    "   - The selection of the appropriate kernel function and tuning its parameters (e.g., \\( C \\), \\( \\gamma \\) for RBF kernel) is crucial and may require extensive experimentation.\n",
    "\n",
    "6. **Binary Classification**:\n",
    "   - SVMs inherently support binary classification. For multi-class classification tasks, strategies like one-vs-one or one-vs-rest need to be employed, which can increase complexity.\n",
    "\n",
    "### When to Use SVMs:\n",
    "\n",
    "- **When the Dataset is Small to Medium-Sized**: SVMs are well-suited for datasets with moderate size due to their memory efficiency.\n",
    "- **When Non-Linearity is Expected**: SVMs with appropriate kernels are effective when the decision boundary is non-linear.\n",
    "- **When Interpretability is Less Important**: If understanding the model's decision-making process is less critical, SVMs can be a good choice.\n",
    "\n",
    "### When Not to Use SVMs:\n",
    "\n",
    "- **When the Dataset is Large**: SVMs may become impractical due to their computational complexity and memory requirements.\n",
    "- **When Interpretability is Important**: If interpretability and understanding feature importance are crucial, simpler models like decision trees or logistic regression may be preferred.\n",
    "- **When Data is Noisy**: SVMs may not perform well in the presence of noisy data unless noise reduction techniques are applied.\n",
    "\n",
    "In summary, SVMs are powerful algorithms with unique strengths, particularly in scenarios involving high-dimensional data or complex decision boundaries. However, their practicality depends on the specific characteristics of the dataset and the goals of the machine learning task."
   ]
  },
  {
   "cell_type": "markdown",
   "id": "2882ea95-21ad-4c34-a51e-5d726acfcf4d",
   "metadata": {},
   "source": [
    "Des\u001e",
    "ribe the pro\u001e",
    "ess of \u001e",
    "onstru\u001e",
    "tin0 a de\u001e",
    "ision tree\u0015"
   ]
  },
  {
   "cell_type": "markdown",
   "id": "17188c85-decf-4862-a5ae-862b7c912e2d",
   "metadata": {},
   "source": [
    "Constructing a decision tree is a process in machine learning that involves recursively partitioning the dataset into subsets based on features that best separate the target variable (or class labels). Here's a step-by-step description of how a decision tree is constructed:\n",
    "\n",
    "### 1. **Selecting a Root Node**\n",
    "\n",
    "- **Objective**: Identify the feature that best separates the data into distinct classes or categories.\n",
    "- **Process**: Evaluate each feature using a measure like Gini impurity or information gain to determine which feature provides the best split.\n",
    "\n",
    "### 2. **Splitting the Dataset**\n",
    "\n",
    "- **Process**: Once the root node is selected, split the dataset into subsets based on the values of the chosen feature.\n",
    "- **Child Nodes**: Create child nodes for each possible outcome of the feature (e.g., if the feature is binary, create two child nodes).\n",
    "\n",
    "### 3. **Recursive Splitting**\n",
    "\n",
    "- **Objective**: Repeat the splitting process for each child node recursively until one of the stopping criteria is met.\n",
    "- **Stopping Criteria**: \n",
    "  - Maximum depth of the tree is reached.\n",
    "  - No further improvement in purity (Gini impurity or information gain) is possible.\n",
    "  - Minimum number of samples required to split a node is not met.\n",
    "  - All samples in a node belong to the same class.\n",
    "\n",
    "### 4. **Handling Categorical and Numerical Features**\n",
    "\n",
    "- **Categorical Features**: Split based on categories (e.g., color: red, blue, green).\n",
    "- **Numerical Features**: Split based on a threshold (e.g., age <= 30).\n",
    "\n",
    "### 5. **Measuring Impurity or Information Gain**\n",
    "\n",
    "- **Gini Impurity**: Measures the probability of incorrectly classifying a randomly chosen element if it were randomly classified according to the distribution of labels in the node.\n",
    "- **Information Gain**: Measures how much information a feature gives us about the class of the sample.\n",
    "\n",
    "### 6. **Pruning (Optional)**\n",
    "\n",
    "- **Objective**: Reduce the size of the tree by removing nodes that provide little predictive power.\n",
    "- **Process**: Post-pruning (removing branches that do not provide additional predictive power) or pre-pruning (stopping the tree construction early).\n",
    "\n",
    "### 7. **Prediction**\n",
    "\n",
    "- **Leaf Nodes**: Assign a class label to each leaf node based on the majority class of samples in that node.\n",
    "- **Classification**: For a new sample, traverse the tree from the root to a leaf node, assigning the class label of the leaf node.\n",
    "- **Regression**: For regression tasks, the leaf node may predict the mean or median value of the target variable.\n",
    "\n",
    "### Example\n",
    "\n",
    "Consider a dataset of customer data with features like age, income, and browsing history, and a target variable indicating whether they purchased a product (yes/no):\n",
    "\n",
    "1. **Root Node**: Choose a feature (e.g., income) based on maximum information gain.\n",
    "2. **Split**: Split the dataset based on income thresholds (e.g., high income vs. low income).\n",
    "3. **Recursive Splitting**: Repeat the process for each subset, creating branches based on features like age or browsing history.\n",
    "4. **Leaf Nodes**: Assign class labels (purchase or no purchase) to leaf nodes based on majority voting.\n",
    "\n",
    "### Benefits of Decision Trees\n",
    "\n",
    "- **Interpretability**: Easy to interpret and visualize.\n",
    "- **Handling Non-Linearity**: Can model non-linear relationships between features and target variable.\n",
    "- **No Data Normalization**: No need for data normalization or scaling.\n",
    "\n",
    "### Challenges of Decision Trees\n",
    "\n",
    "- **Overfitting**: Can easily overfit noisy data if not pruned properly.\n",
    "- **Biased Towards Features with Many Levels**: Features with more levels may be preferred in splitting, leading to biases.\n",
    "\n",
    "In summary, constructing a decision tree involves recursively partitioning the dataset based on feature values to create a predictive model for classification or regression tasks. The process balances purity measures or information gain to determine optimal splits, leading to interpretable and effective models for various machine learning applications."
   ]
  },
  {
   "cell_type": "markdown",
   "id": "a9d88cb8-6679-4cd7-b87d-88936fd4e252",
   "metadata": {},
   "source": [
    "Des\u001e",
    "ribe the workin0 prin\u001e",
    "iple of a de\u001e",
    "ision tree"
   ]
  },
  {
   "cell_type": "markdown",
   "id": "6748161e-fb01-4de1-bc08-46ce07504791",
   "metadata": {},
   "source": [
    "The working principle of a decision tree revolves around recursively partitioning the data into subsets based on the values of input features, with the goal of accurately predicting the target variable (class label for classification or numerical value for regression). Here’s a detailed description of how decision trees work:\n",
    "\n",
    "### 1. **Tree Structure**\n",
    "\n",
    "- **Nodes**: Each node represents a feature/attribute in the dataset.\n",
    "- **Edges**: Branches represent the decision rules based on feature values.\n",
    "- **Leaf Nodes**: Terminal nodes that predict the final outcome (class label or regression value).\n",
    "\n",
    "### 2. **Splitting Criteria**\n",
    "\n",
    "- **Objective**: Decision trees use measures like Gini impurity or information gain to determine the best feature and value to split the dataset at each node.\n",
    "- **Process**: \n",
    "  - Evaluate each feature to find the split that maximizes the separation of classes (for classification) or minimizes the variance (for regression).\n",
    "\n",
    "### 3. **Recursive Partitioning**\n",
    "\n",
    "- **Root Node**: Initially, the entire dataset is considered at the root node.\n",
    "- **Splitting**: \n",
    "  - Based on the selected feature and split criteria, the dataset is divided into subsets.\n",
    "  - This process continues recursively for each subset, forming branches and new nodes until a stopping criterion is met.\n",
    "\n",
    "### 4. **Stopping Criteria**\n",
    "\n",
    "- **Leaf Nodes**: Nodes where further splitting is unnecessary due to:\n",
    "  - Pure nodes (all samples belong to the same class).\n",
    "  - Insufficient samples to split further.\n",
    "  - Maximum depth of the tree is reached.\n",
    "  - No further gain in purity or information is achieved.\n",
    "\n",
    "### 5. **Prediction**\n",
    "\n",
    "- **Traversal**: To predict the target variable for a new instance, traverse the decision tree from the root node down to a leaf node.\n",
    "- **Decision Rules**: Apply the decision rules (based on feature values) at each node until reaching a leaf node, which provides the predicted outcome.\n",
    "\n",
    "### Example:\n",
    "\n",
    "Consider a dataset of customer data with features like age, income, and browsing history, and a target variable indicating whether they purchased a product (yes/no):\n",
    "\n",
    "- **Root Node**: Selects the feature (e.g., income) that best separates the classes (purchased or not purchased).\n",
    "- **Splitting**: Divides the dataset into subsets based on income thresholds (e.g., high income vs. low income).\n",
    "- **Recursive Splitting**: Continues splitting each subset based on subsequent features (e.g., age, browsing history).\n",
    "- **Leaf Nodes**: Assigns class labels (purchase or no purchase) to leaf nodes based on majority voting of samples in that node.\n",
    "\n",
    "### Benefits of Decision Trees\n",
    "\n",
    "- **Interpretability**: Easily interpretable and understandable, providing insights into decision-making.\n",
    "- **Handling Non-Linearity**: Can capture non-linear relationships between features and target variable.\n",
    "- **No Data Normalization**: Does not require data normalization or scaling of features.\n",
    "\n",
    "### Challenges of Decision Trees\n",
    "\n",
    "- **Overfitting**: Prone to overfitting noisy data, especially when the tree is deep and complex.\n",
    "- **Bias Towards Features**: Features with more levels may dominate the split decision, leading to biases.\n",
    "\n",
    "### Applications\n",
    "\n",
    "- **Classification**: Predicting classes like customer churn, fraud detection.\n",
    "- **Regression**: Predicting numerical values like house prices, stock prices.\n",
    "\n",
    "In summary, decision trees work by recursively splitting the dataset into subsets based on feature values, using criteria that maximize class separation or minimize variance. This hierarchical structure enables efficient prediction and interpretability, making decision trees a popular choice in various machine learning tasks."
   ]
  },
  {
   "cell_type": "markdown",
   "id": "408b0814-7dc2-4811-85e6-a0370e038843",
   "metadata": {},
   "source": [
    "\u0016hat is information 0ain and how is it used in de\u001e",
    "ision trees/"
   ]
  },
  {
   "cell_type": "markdown",
   "id": "69da84ee-0b63-43bf-bbc3-a776b7a74bde",
   "metadata": {},
   "source": [
    "Information gain is a concept used in decision trees to determine the relevance of a feature in splitting the data at each node. It helps to decide which feature should be chosen as the root node or subsequent nodes in the tree construction process. Here’s a detailed explanation of information gain and its role in decision trees:\n",
    "\n",
    "Information Gain\n",
    "Definition:\n",
    "\n",
    "Information gain measures the reduction in entropy (or uncertainty) in the dataset achieved by splitting the data on a particular feature.\n",
    "It quantifies how much information a feature provides about the class labels.\n",
    "Entropy:\n",
    "\n",
    "Entropy is a measure of impurity or uncertainty in a dataset before making any split.\n",
    "For a binary class problem, entropy is calculated as:\n",
    "\n",
    "Information Gain Calculation:\n",
    "\n",
    "Information gain is calculated using the entropy before and after splitting the data on a feature \n",
    "𝐴\n",
    "A:\n",
    "\n",
    "Using Information Gain in Decision Trees:\n",
    "\n",
    "Root Node Selection: Choose the feature that provides the highest information gain as the root node of the decision tree.\n",
    "Splitting Criteria: Recursively select features that maximize information gain at each node to partition the dataset into subsets that are more homogenous with respect to the target variable.\n",
    "Stopping Criteria: Continue splitting until a stopping criterion is met (e.g., maximum depth, minimum samples per leaf).\n",
    "Example\n",
    "Consider a dataset of emails classified as spam or not spam, with features like sender, subject, and content length. To construct a decision tree:\n",
    "\n",
    "Calculate entropy for the entire dataset based on the distribution of spam and non-spam emails.\n",
    "Calculate information gain for each feature (sender, subject, content length) to determine which feature best separates spam and non-spam emails.\n",
    "Choose the feature with the highest information gain as the root node.\n",
    "Repeat the process for each subset created by splitting on subsequent nodes until the tree is fully grown or stopping criteria are met.\n",
    "Importance of Information Gain\n",
    "Feature Selection: Information gain helps in selecting the most informative features for partitioning the data, leading to a more accurate and efficient decision tree model.\n",
    "Reduction of Uncertainty: By maximizing information gain at each step, decision trees can effectively reduce uncertainty about class labels in the dataset.\n",
    "In summary, information gain is a fundamental concept in decision tree algorithms that guides the selection of features for splitting nodes based on their ability to decrease entropy and increase homogeneity in class distributions. It plays a crucial role in determining the structure and predictive power of decision trees in machine learning applications.\n",
    "\n",
    "\n",
    "\n",
    "\n",
    "\n",
    "\n"
   ]
  },
  {
   "cell_type": "markdown",
   "id": "db99c087-0cb9-4ec6-afbc-729f40fe6f82",
   "metadata": {},
   "source": [
    "Explain Gini impurity and its role in de\u001e",
    "ision trees\u0015"
   ]
  },
  {
   "attachments": {
    "29743fb3-3ea1-4aca-a613-993258fc24c4.png": {
     "image/png": "[encoded data removed]"
    }
   },
   "cell_type": "markdown",
   "id": "96c2c86c-9de5-41be-8340-f06eefa6ad70",
   "metadata": {},
   "source": [
    "Gini impurity is another measure used in decision trees to evaluate how well a particular feature separates classes in the dataset. It quantifies the likelihood of incorrectly classifying a randomly chosen element if it were randomly classified according to the distribution of class labels in a particular node. Here’s a detailed explanation of Gini impurity and its role in decision trees:\n",
    "\n",
    "### Gini Impurity\n",
    "\n",
    "1. **Definition**:\n",
    "   - Gini impurity measures the degree of impurity (or uncertainty) in a dataset.\n",
    "   ![image.png](attachment:29743fb3-3ea1-4aca-a613-993258fc24c4.png)\n",
    "2. **Interpretation**:\n",
    "   - Gini impurity is minimized (approaches zero) when all samples in a node belong to the same class (pure node).\n",
    "   - It is maximized (approaches 0.5 for binary classification) when the classes are evenly distributed (impure node).\n",
    "\n",
    "3. **Role in Decision Trees**:\n",
    "   - **Splitting Criteria**: When constructing a decision tree, the algorithm evaluates potential splits based on Gini impurity.\n",
    "   - **Information Gain**: Gini impurity is used to calculate the information gain for each feature. The feature that results in the lowest Gini impurity (highest purity) after splitting is chosen as the node’s splitting criterion.\n",
    "\n",
    "\n",
    "### Example\n",
    "\n",
    "Consider a dataset of students classified as pass or fail based on study hours and attendance. To construct a decision tree using Gini impurity:\n",
    "\n",
    "- Calculate Gini impurity for the entire dataset based on the distribution of pass and fail labels.\n",
    "- Calculate Gini impurity for each feature (study hours, attendance) to determine the feature that best separates pass and fail students.\n",
    "- Choose the feature with the lowest Gini impurity (highest purity) as the root node.\n",
    "- Repeat the process for each subset created by splitting on subsequent nodes until the tree is fully grown or stopping criteria are met.\n",
    "\n",
    "### Importance of Gini Impurity\n",
    "\n",
    "- **Feature Selection**: Gini impurity helps in selecting the most informative features for partitioning the data, leading to a more accurate and efficient decision tree model.\n",
    "- **Node Purity**: Minimizing Gini impurity at each node ensures that the resulting subsets are more homogenous with respect to the target variable, improving the predictive power of the decision tree.\n",
    "\n",
    "In summary, Gini impurity is a measure of node impurity used in decision tree algorithms. It guides the selection of features for splitting nodes based on their ability to decrease impurity and increase homogeneity in class distributions, ultimately contributing to the effectiveness of decision tree models in classification tasks."
   ]
  },
  {
   "cell_type": "markdown",
   "id": "65863c32-2961-4d54-8dfe-47975d02ff65",
   "metadata": {},
   "source": [
    "\u0016hat are the advanta0es and disadvanta0es of de\u001e",
    "ision trees"
   ]
  },
  {
   "cell_type": "markdown",
   "id": "f2edc49d-a99c-488f-9ba3-eed110de20a3",
   "metadata": {},
   "source": [
    "Decision trees are popular in machine learning due to their simplicity, interpretability, and ability to handle both classification and regression tasks. However, like any algorithm, they come with their own set of advantages and disadvantages. Here’s a detailed overview:\n",
    "\n",
    "### Advantages of Decision Trees:\n",
    "\n",
    "1. **Interpretability**:\n",
    "   - Decision trees are easy to understand and interpret. The rules learned from the data are transparent and can be visualized graphically.\n",
    "\n",
    "2. **No Data Normalization Required**:\n",
    "   - Decision trees do not require data normalization or scaling of features. They can handle both numerical and categorical data effectively.\n",
    "\n",
    "3. **Handling Non-Linearity**:\n",
    "   - Decision trees can model non-linear relationships between features and the target variable, making them suitable for complex datasets.\n",
    "\n",
    "4. **Feature Selection**:\n",
    "   - They automatically select important features by giving them higher importance (based on information gain or Gini impurity) in the tree structure.\n",
    "\n",
    "5. **Handles Missing Values**:\n",
    "   - Decision trees can handle missing values in the dataset by choosing the best feature to split on without needing imputation.\n",
    "\n",
    "6. **Robust to Outliers**:\n",
    "   - They are robust to outliers in the data, as the splitting criterion (e.g., median or mean) is not influenced by extreme values.\n",
    "\n",
    "7. **Efficiency with Large Datasets**:\n",
    "   - They can perform well with large datasets, though computational efficiency may vary depending on the algorithm used (e.g., CART, ID3, C4.5).\n",
    "\n",
    "### Disadvantages of Decision Trees:\n",
    "\n",
    "1. **Overfitting**:\n",
    "   - Decision trees tend to overfit noisy data, especially when the tree is deep and complex. This can lead to poor generalization on unseen data.\n",
    "\n",
    "2. **Instability**:\n",
    "   - Small variations in the data can result in a completely different tree structure, making decision trees sensitive to the specific dataset used for training.\n",
    "\n",
    "3. **Biased towards Features with Many Levels**:\n",
    "   - Features with more levels may be preferred in splitting nodes, leading to biases in the model towards those features.\n",
    "\n",
    "4. **Difficulty in Capturing Relationships**:\n",
    "   - Decision trees may not easily capture relationships between features that are not directly related to the target variable, especially in tasks with complex dependencies.\n",
    "\n",
    "5. **Classification Limitations**:\n",
    "   - They may not perform well on tasks where the classes are highly imbalanced, as they tend to favor majority classes.\n",
    "\n",
    "6. **Need for Tuning**:\n",
    "   - Parameters such as maximum depth, minimum samples per leaf, and others need to be carefully tuned to avoid overfitting and improve model performance.\n",
    "\n",
    "7. **Limited to Axis-Aligned Splits**:\n",
    "   - Decision trees are limited to axis-aligned splits, meaning they cannot capture complex interactions or correlations between features.\n",
    "\n",
    "### When to Use Decision Trees:\n",
    "\n",
    "- **Interpretability is Key**: When understanding and explaining the model’s decisions is crucial.\n",
    "- **Handling Non-Linearity**: When the relationship between features and target variable is non-linear.\n",
    "- **Mixed Data Types**: When the dataset includes both numerical and categorical features.\n",
    "- **Feature Importance**: When identifying important features is important for the problem domain.\n",
    "\n",
    "### When Not to Use Decision Trees:\n",
    "\n",
    "- **Large Datasets**: When computational efficiency and memory constraints are critical (consider ensemble methods or pruning techniques).\n",
    "- **Highly Imbalanced Data**: When classes are highly imbalanced, other algorithms or techniques may be more suitable.\n",
    "- **Complex Relationships**: When capturing complex relationships or interactions between features is essential, more sophisticated models might be required.\n",
    "\n",
    "In conclusion, decision trees offer a balance between interpretability and predictive power, making them valuable in various machine learning applications. However, their performance and suitability depend on the specific characteristics of the dataset and the goals of the modeling task."
   ]
  },
  {
   "cell_type": "markdown",
   "id": "b66e326d-c342-4a80-a2b6-768cb413c0e3",
   "metadata": {},
   "source": [
    "\u001d",
    " How do random forests improve upon de\u001e",
    "ision trees"
   ]
  },
  {
   "cell_type": "markdown",
   "id": "c225e610-6993-4b76-b902-8487ad98a2c8",
   "metadata": {},
   "source": [
    "Random Forests improve upon decision trees by addressing some of their key limitations, particularly overfitting and instability. Here's how Random Forests enhance the basic decision tree algorithm:\n",
    "\n",
    "### 1. **Ensemble Learning**\n",
    "\n",
    "- **Concept**: Random Forests are an ensemble method that combines multiple decision trees to improve predictive performance and generalization.\n",
    "- **Aggregation**: Each tree in the forest is trained independently on a subset of the data and/or features, and their predictions are aggregated to make a final prediction.\n",
    "\n",
    "### 2. **Bagging (Bootstrap Aggregating)**\n",
    "\n",
    "- **Bootstrap Sampling**: Each tree in a Random Forest is trained on a random subset of the training data, sampled with replacement (bootstrap sampling).\n",
    "- **Diversity**: This process introduces diversity among the trees, reducing the risk of overfitting compared to a single decision tree trained on the entire dataset.\n",
    "\n",
    "### 3. **Random Feature Selection**\n",
    "\n",
    "- **Feature Subset Selection**: At each split in the decision tree, a random subset of features is considered for splitting.\n",
    "- **Reduces Correlation**: By using a subset of features at each split, Random Forests decorrelate the trees, making them less likely to make the same decisions.\n",
    "\n",
    "### 4. **Aggregate Predictions**\n",
    "\n",
    "- **Voting Mechanism**: For classification tasks, the final prediction is determined by majority voting among the individual trees.\n",
    "- **Average Prediction**: For regression tasks, the final prediction is typically the average prediction of all trees in the forest.\n",
    "\n",
    "### 5. **Advantages Over Decision Trees**\n",
    "\n",
    "- **Reduced Overfitting**: Random Forests tend to generalize better than individual decision trees by averaging out the predictions of multiple models.\n",
    "- **Improved Stability**: They are less sensitive to variations in the training data, resulting in more stable and reliable predictions.\n",
    "- **Higher Accuracy**: In many cases, Random Forests achieve higher accuracy compared to a single decision tree, especially on complex datasets.\n",
    "\n",
    "### 6. **Practical Benefits**\n",
    "\n",
    "- **Feature Importance**: Random Forests can provide insights into feature importance by averaging the impact of each feature across all trees.\n",
    "- **Scalability**: They can be parallelized and are scalable to large datasets, making them suitable for big data applications.\n",
    "\n",
    "### When to Use Random Forests:\n",
    "\n",
    "- **Complex Data**: When dealing with complex datasets with high dimensionality and mixed data types.\n",
    "- **High Accuracy**: When seeking higher predictive accuracy than what a single decision tree can provide.\n",
    "- **Interpretability**: When some level of interpretability is still desired, as Random Forests can provide insights into feature importance.\n",
    "\n",
    "### Considerations:\n",
    "\n",
    "- **Computational Cost**: Training a Random Forest can be more computationally expensive than training a single decision tree, especially with a large number of trees and features.\n",
    "- **Hyperparameter Tuning**: Requires tuning parameters such as the number of trees (n_estimators), depth of trees (max_depth), and the size of feature subsets (max_features) to optimize performance.\n",
    "\n",
    "In summary, Random Forests improve upon decision trees by leveraging ensemble learning and randomization techniques to mitigate overfitting, enhance stability, and improve predictive accuracy across a wide range of machine learning tasks."
   ]
  },
  {
   "cell_type": "markdown",
   "id": "4430e9d0-7f08-48d4-89cf-9160c722f2ad",
   "metadata": {},
   "source": [
    "How does a random forest al0orithm work"
   ]
  },
  {
   "cell_type": "markdown",
   "id": "160fd9be-048e-4ae7-9357-be498dd95b94",
   "metadata": {},
   "source": [
    "The Random Forest algorithm is an ensemble learning technique that combines multiple decision trees to improve predictive performance and robustness. Here’s a detailed explanation of how the Random Forest algorithm works step by step:\n",
    "\n",
    "### 1. Dataset Preparation\n",
    "\n",
    "- **Initial Dataset**: Start with a dataset containing \\( N \\) samples (rows) and \\( M \\) features (columns).\n",
    "- **Bootstrap Sampling (Bagging)**: Randomly select \\( N \\) samples with replacement from the original dataset to form multiple bootstrap samples (subsets). This process ensures variability in the data subsets used for training each tree.\n",
    "\n",
    "### 2. Building Decision Trees\n",
    "\n",
    "- **Feature Selection**: For each bootstrap sample:\n",
    "  - Randomly select a subset of features (typically \\( \\sqrt{M} \\) or \\( \\log_2(M) \\) features) to train each decision tree. This randomness helps in decorrelating the trees and reducing overfitting.\n",
    "  \n",
    "- **Tree Construction**: Construct a decision tree using the selected subset of data and features:\n",
    "  - **Node Splitting**: At each node of the tree, choose the best feature and value to split the node based on a splitting criterion (e.g., Gini impurity for classification, variance reduction for regression).\n",
    "  - **Recursive Splitting**: Continue recursively splitting nodes until a stopping criterion is met, such as reaching the maximum depth of the tree or having nodes with fewer than a minimum number of samples.\n",
    "\n",
    "### 3. Ensemble Learning\n",
    "\n",
    "- **Multiple Trees**: Repeat the process of bootstrap sampling and decision tree construction to create a forest of \\( T \\) decision trees.\n",
    "- **Independence**: Each tree is trained independently on different bootstrap samples and feature subsets, introducing variability and reducing correlation among the trees.\n",
    "\n",
    "### 4. Prediction\n",
    "\n",
    "- **Classification**: For a new input sample, each tree in the forest predicts the class label. The final prediction is determined by majority voting among all trees.\n",
    "- **Regression**: For regression tasks, the final prediction is typically the average of predictions made by all trees.\n",
    "\n",
    "### 5. Feature Importance\n",
    "\n",
    "- **Feature Importance Calculation**: Random Forests can quantify the importance of each feature by measuring how much each feature contributes to improving the purity of the nodes across all trees in the forest.\n",
    "- **Mean Decrease in Impurity**: This metric is often computed based on how much the Gini impurity or information gain is reduced by splits involving that feature across all trees.\n",
    "\n",
    "### Advantages of Random Forests\n",
    "\n",
    "- **Reduced Overfitting**: Combining multiple trees reduces overfitting compared to individual decision trees.\n",
    "- **Improved Accuracy**: Random Forests generally achieve higher accuracy due to the averaging of predictions from multiple trees.\n",
    "- **Handles Large Datasets**: Suitable for large datasets with high dimensionality and mixed data types.\n",
    "- **Feature Importance**: Provides insights into feature importance for understanding the dataset.\n",
    "\n",
    "### Considerations\n",
    "\n",
    "- **Computational Cost**: Training and predicting with Random Forests can be more computationally expensive than a single decision tree, especially with a large number of trees and features.\n",
    "- **Hyperparameter Tuning**: Requires tuning parameters such as the number of trees (n_estimators), maximum depth of trees (max_depth), and size of feature subsets (max_features) to optimize performance.\n",
    "\n",
    "In summary, Random Forests leverage ensemble learning and bootstrap sampling to construct multiple decision trees and aggregate their predictions, resulting in robust and accurate models suitable for a wide range of machine learning tasks."
   ]
  },
  {
   "cell_type": "markdown",
   "id": "d803b9e9-59e2-4cf1-b4b0-8d1b9d2a39b6",
   "metadata": {},
   "source": [
    " \u0016hat is bootstrappin0 in the \u001e",
    "ontext of random forests"
   ]
  },
  {
   "cell_type": "markdown",
   "id": "edf70424-0ea9-4a9d-8a6e-8ad3a9e3a2f6",
   "metadata": {},
   "source": [
    "In the context of Random Forests, bootstrapping refers to a resampling technique used to create multiple datasets from an original dataset. Here's how bootstrapping is applied specifically within Random Forests:\n",
    "\n",
    "### Bootstrapping in Random Forests:\n",
    "\n",
    "1. **Dataset Preparation**:\n",
    "   - Start with an original dataset containing \\( N \\) samples (rows) and \\( M \\) features (columns).\n",
    "\n",
    "2. **Bootstrap Sampling**:\n",
    "   - Randomly sample \\( N \\) samples with replacement from the original dataset to create multiple bootstrap samples (subsets).\n",
    "   - Each bootstrap sample is of the same size as the original dataset but may contain duplicate samples (due to sampling with replacement).\n",
    "\n",
    "3. **Training Each Tree**:\n",
    "   - For each bootstrap sample, a decision tree is constructed using a subset of features (selected randomly) at each node.\n",
    "   - This randomness ensures that each decision tree in the Random Forest is trained on a slightly different subset of the data, leading to diverse trees.\n",
    "\n",
    "### Purpose of Bootstrapping in Random Forests:\n",
    "\n",
    "- **Variability**: Bootstrapping introduces variability in the training data for each tree, which helps in reducing the correlation between trees.\n",
    "- **Reduced Overfitting**: By training each tree on a different subset of data, Random Forests mitigate overfitting that might occur in individual decision trees trained on the entire dataset.\n",
    "- **Improved Generalization**: The ensemble of trees in Random Forests tends to generalize better to unseen data compared to a single decision tree.\n",
    "\n",
    "### Practical Considerations:\n",
    "\n",
    "- **Number of Trees**: The number of trees (ensemble size) in the Random Forest is a hyperparameter that affects the model's performance. More trees generally lead to better performance, up to a point where additional trees do not significantly improve accuracy.\n",
    "- **Feature Subset Selection**: Random Forests also randomly select a subset of features for each tree, adding another layer of randomness to the model and enhancing its robustness.\n",
    "\n",
    "### Summary:\n",
    "\n",
    "Bootstrapping in the context of Random Forests involves sampling with replacement from the original dataset to create multiple diverse subsets. Each subset is used to train a decision tree, and the final prediction is determined by aggregating predictions from all trees in the forest. This technique enhances the Random Forest model's ability to generalize well to new data while maintaining low bias and variance."
   ]
  },
  {
   "cell_type": "markdown",
   "id": "23f5f489-38a4-4124-b807-276e5ac72144",
   "metadata": {},
   "source": [
    "Explain the \u001e",
    "on\u001e",
    "ept of feature importan\u001e",
    "e in random forests"
   ]
  },
  {
   "cell_type": "markdown",
   "id": "291f0780-842a-468c-90b9-c52059a1282a",
   "metadata": {},
   "source": [
    "Feature importance in Random Forests refers to a technique used to evaluate the relevance or contribution of each feature (input variable) in making accurate predictions within the ensemble model. Here’s a detailed explanation of how feature importance is determined in Random Forests:\n",
    "\n",
    "### How Feature Importance is Calculated:\n",
    "\n",
    "1. **Gini Importance**:\n",
    "\n",
    "   - **Definition**: Gini importance measures the total decrease in node impurity (typically Gini impurity) across all decision trees in the Random Forest when a particular feature is used for splitting.\n",
    "   \n",
    "   - **Calculation**: For each feature \\( X_j \\):\n",
    "     - Calculate the average decrease in impurity across all trees when \\( X_j \\) is used for splitting nodes.\n",
    "     - The more a feature decreases impurity when it is used for splitting, the more important it is considered.\n",
    "\n",
    "2. **Mean Decrease in Accuracy (MDA)**:\n",
    "\n",
    "   - **Definition**: MDA measures the average decrease in accuracy of predictions on out-of-bag (OOB) samples when a particular feature is permuted (shuffled randomly).\n",
    "   \n",
    "   - **Calculation**: For each feature \\( X_j \\):\n",
    "     - Train the Random Forest on the original dataset and compute the accuracy on OOB samples.\n",
    "     - Permute (shuffle) the values of \\( X_j \\) in the OOB samples and compute the accuracy again.\n",
    "     - Calculate the difference in accuracy before and after permutation.\n",
    "     - Features with larger drops in accuracy after permutation are considered more important.\n",
    "\n",
    "### Importance of Feature Importance:\n",
    "\n",
    "- **Interpretability**: Understanding feature importance helps in interpreting and explaining the model’s predictions to stakeholders.\n",
    "  \n",
    "- **Feature Selection**: Identifying and selecting the most important features can improve model efficiency and reduce computational costs.\n",
    "  \n",
    "- **Insights into Data**: Feature importance provides insights into which features are most relevant to the target variable, guiding further data exploration and feature engineering.\n",
    "\n",
    "### Practical Considerations:\n",
    "\n",
    "- **Normalization**: Feature importance scores are relative to each other within the Random Forest model and do not necessarily reflect absolute importance.\n",
    "  \n",
    "- **Correlation**: Feature importance can be influenced by correlations between features, where highly correlated features may have similar importance scores.\n",
    "\n",
    "### Example:\n",
    "\n",
    "Consider a Random Forest model trained on a dataset to predict customer churn. After training, the feature importance analysis might reveal that variables such as customer tenure, usage frequency, and service type are the most influential in predicting churn, while other factors like age or gender might have lower importance.\n",
    "\n",
    "In summary, feature importance in Random Forests is a valuable tool for understanding which features contribute most significantly to the model’s predictive power. It helps in interpreting the model, selecting relevant features, and gaining insights into the dataset's dynamics."
   ]
  },
  {
   "cell_type": "markdown",
   "id": "5362b2f1-f69e-4a9b-9232-c0e40ec1fc76",
   "metadata": {},
   "source": [
    "\u0016hat are the key hyperparameters of a random forest and how do they affe\u001e",
    "t the model/"
   ]
  },
  {
   "cell_type": "markdown",
   "id": "e124e84b-2ff5-4cca-97cd-ffd643d0d4d9",
   "metadata": {},
   "source": [
    "Random Forests are powerful ensemble learning methods that aggregate the predictions of multiple decision trees. The key hyperparameters of Random Forests and their effects on the model are as follows:\n",
    "\n",
    "### Key Hyperparameters of Random Forests:\n",
    "\n",
    "1. **n_estimators**:\n",
    "   - **Definition**: Number of trees in the forest.\n",
    "   - **Impact**: Increasing `n_estimators` generally improves model performance by reducing variance and improving robustness. More trees lead to better generalization, but also increase computation time.\n",
    "\n",
    "2. **max_depth**:\n",
    "   - **Definition**: Maximum depth of each decision tree in the forest.\n",
    "   - **Impact**: Controls the depth of individual trees. Deeper trees can capture more complex relationships in the data but are more prone to overfitting. Shallower trees reduce model complexity and may generalize better to unseen data.\n",
    "\n",
    "3. **min_samples_split**:\n",
    "   - **Definition**: Minimum number of samples required to split an internal node.\n",
    "   - **Impact**: Controls the minimum size of samples required to split a node. Higher values prevent the model from learning overly specific patterns, thus reducing overfitting. Lower values allow the model to capture more details in the data but may lead to overfitting.\n",
    "\n",
    "4. **min_samples_leaf**:\n",
    "   - **Definition**: Minimum number of samples required to be at a leaf node.\n",
    "   - **Impact**: Specifies the minimum number of samples required to form a leaf node. Larger values prevent overfitting by ensuring that each leaf node contains enough samples to generalize well. Smaller values can capture finer details in the data but may lead to overfitting.\n",
    "\n",
    "5. **max_features**:\n",
    "   - **Definition**: Number of features to consider when looking for the best split.\n",
    "   - **Impact**: Controls the randomness in feature selection. Lower values reduce the correlation between trees and can improve generalization. Higher values may lead to stronger individual trees but increase model variance.\n",
    "\n",
    "6. **bootstrap**:\n",
    "   - **Definition**: Whether bootstrap samples are used when building trees.\n",
    "   - **Impact**: If `True`, each tree is trained on a bootstrap sample of the data, introducing randomness and reducing overfitting. Setting `False` uses the entire dataset for training each tree, potentially leading to overfitting.\n",
    "\n",
    "7. **random_state**:\n",
    "   - **Definition**: Seed for random number generation.\n",
    "   - **Impact**: Ensures reproducibility of results. Fixing `random_state` ensures that the same sequence of random numbers is generated during each model training, providing consistent results for debugging and comparison.\n",
    "\n",
    "### How These Hyperparameters Affect the Model:\n",
    "\n",
    "- **Bias-Variance Trade-off**: Adjusting these hyperparameters helps in balancing the bias-variance trade-off. For example, increasing `max_depth` and reducing `min_samples_split` can lead to more complex trees, reducing bias but potentially increasing variance.\n",
    "  \n",
    "- **Overfitting vs. Underfitting**: Hyperparameters like `max_depth`, `min_samples_split`, and `min_samples_leaf` control the complexity of individual trees. Tuning these parameters appropriately can prevent overfitting (model memorizing the training data) or underfitting (model failing to capture the underlying patterns).\n",
    "\n",
    "- **Generalization**: Proper tuning of hyperparameters improves the model's ability to generalize to unseen data. Ensuring optimal values for parameters like `n_estimators`, `max_features`, and `bootstrap` helps in building robust models that perform well on new data.\n",
    "\n",
    "### Tuning Hyperparameters:\n",
    "\n",
    "- **Grid Search**: Exhaustively searches a specified subset of hyperparameters to find the best combination.\n",
    "  \n",
    "- **Random Search**: Randomly selects combinations of hyperparameters to efficiently explore the hyperparameter space.\n",
    "  \n",
    "- **Cross-validation**: Evaluates model performance across different hyperparameter combinations to ensure robustness and generalizability.\n",
    "\n",
    "By carefully tuning these hyperparameters based on the specific dataset and problem at hand, Random Forests can be optimized to achieve superior performance in various machine learning tasks."
   ]
  },
  {
   "cell_type": "markdown",
   "id": "3360d11b-1e33-4075-994e-60211a668d79",
   "metadata": {},
   "source": [
    " Des\u001e",
    "ribe the lo0isti\u001e",
    " re0ression model and its assumptions\u0015"
   ]
  },
  {
   "attachments": {
    "e07d7521-93ab-4c2a-9a44-68cf3bc8b350.png": {
     "image/png": "[encoded data removed]"
    }
   },
   "cell_type": "markdown",
   "id": "f20e0ede-77f5-406c-bda3-fb23d9dc8dc2",
   "metadata": {},
   "source": [
    "Logistic regression is a statistical model used for binary classification tasks, where the outcome variable \\( y \\) takes only two possible values (e.g., 0 and 1). It models the probability of the binary outcome based on one or more predictor variables \\( X \\).\n",
    "\n",
    "### Logistic Regression Model:\n",
    "\n",
    "1. **Model Representation**:\n",
    "   - Logistic regression predicts the probability \\( p \\) that an observation belongs to a certain class (usually the class labeled as 1).\n",
    "   \n",
    "\n",
    "2. **Model Interpretation**:\n",
    "   - Coefficients \\( \\beta_i \\) indicate the impact of each predictor variable on the log-odds of the outcome.\n",
    "   - The logit function ![image.png](attachment:e07d7521-93ab-4c2a-9a44-68cf3bc8b350.png)transforms the linear combination of predictors into the probability \\( p \\).\n",
    "\n",
    "3. **Decision Boundary**:\n",
    "   - Logistic regression predicts the class by using a decision threshold (often 0.5). If \\( p \\geq 0.5 \\), the observation is predicted as class 1; otherwise, it is predicted as class 0.\n",
    "\n",
    "### Assumptions of Logistic Regression:\n",
    "\n",
    "1. **Binary Outcome**: Logistic regression assumes the dependent variable \\( y \\) is binary (0 or 1).\n",
    "\n",
    "2. **Linearity of Log-Odds**: The relationship between the log-odds of the outcome and the predictors is assumed to be linear.\n",
    "\n",
    "3. **Independence of Observations**: Observations are assumed to be independent of each other. This assumption can be violated in time-series or spatial data.\n",
    "\n",
    "4. **No Multicollinearity**: Predictor variables should be linearly independent of each other to avoid multicollinearity issues.\n",
    "\n",
    "5. **Large Sample Size**: Logistic regression performs well with a large sample size, as it relies on asymptotic properties for statistical inference.\n",
    "\n",
    "### Advantages of Logistic Regression:\n",
    "\n",
    "- **Interpretability**: Coefficients provide insights into the direction and strength of relationships between predictors and the outcome.\n",
    "  \n",
    "- **Probabilistic Predictions**: Outputs probabilities that can be thresholded for classification tasks.\n",
    "\n",
    "- **Robustness**: Handles non-linear relationships using basis functions or polynomial terms.\n",
    "\n",
    "### Practical Applications:\n",
    "\n",
    "- **Medical Research**: Predicting the likelihood of a disease based on patient characteristics.\n",
    "  \n",
    "- **Marketing**: Predicting the likelihood of customer churn based on behavior and demographics.\n",
    "  \n",
    "- **Credit Risk**: Predicting the probability of default based on financial indicators.\n",
    "\n",
    "Logistic regression is a fundamental tool in binary classification tasks due to its simplicity, interpretability, and robust performance when assumptions are met."
   ]
  },
  {
   "cell_type": "markdown",
   "id": "593c4e81-90ee-4c58-994c-177c07cc46c4",
   "metadata": {},
   "source": [
    "How does lo0isti\u001e",
    " re0ression handle binary \u001e",
    "lassifi\u001e",
    "ation problems"
   ]
  },
  {
   "cell_type": "markdown",
   "id": "dc4dd54b-9692-4353-8fb7-79a16dbfc19e",
   "metadata": {},
   "source": [
    "Logistic regression is specifically designed to handle binary classification problems, where the outcome variable \\( y \\) can take only two possible values (typically coded as 0 and 1). Here’s how logistic regression handles binary classification problems:\n",
    "\n",
    "### 1. Probability Prediction:\n",
    "\n",
    "Logistic regression models the probability \\( p \\) that an observation belongs to a particular class (usually the class labeled as 1).\n",
    "\n",
    "- **Logistic Function**: It uses the logistic function (sigmoid function) to transform the linear combination of predictor variables \\( X \\) into a probability value \\( p \\):\n",
    " \n",
    "\n",
    "### 2. Decision Making:\n",
    "\n",
    "Once the logistic regression model calculates the predicted probability \\( p(y=1 \\mid X) \\), it makes predictions based on a threshold:\n",
    "\n",
    "- **Decision Threshold**: Typically, a threshold of 0.5 is used. If \\( p \\geq 0.5 \\), the observation is predicted to belong to class 1 (positive class); if \\( p < 0.5 \\), it is predicted to belong to class 0 (negative class).\n",
    "\n",
    "### 3. Model Training:\n",
    "\n",
    "- **Objective Function**: Logistic regression maximizes the likelihood of the observed data under the model, or equivalently, minimizes the logistic loss function. This process involves estimating the coefficients \\( \\beta \\) that best fit the training data.\n",
    "\n",
    "### 4. Evaluation:\n",
    "\n",
    "- **Accuracy Metrics**: Logistic regression models are evaluated using metrics such as accuracy, precision, recall, F1-score, ROC curve, and AUC (Area Under the ROC Curve) to assess their performance on test data.\n",
    "\n",
    "### Advantages of Logistic Regression for Binary Classification:\n",
    "\n",
    "- **Interpretability**: Coefficients provide insights into the impact of each predictor variable on the probability of the outcome.\n",
    "\n",
    "- **Probabilistic Predictions**: Outputs probabilities that can be used to assess uncertainty and set decision thresholds.\n",
    "\n",
    "- **Simplicity and Efficiency**: Logistic regression is computationally efficient and straightforward to implement, making it suitable for large datasets.\n",
    "\n",
    "### Practical Applications:\n",
    "\n",
    "- **Medical Diagnosis**: Predicting the probability of disease based on patient symptoms and test results.\n",
    "  \n",
    "- **Credit Risk Assessment**: Predicting the probability of default based on financial indicators.\n",
    "  \n",
    "- **Customer Churn Prediction**: Predicting the probability of customers leaving a service based on behavior and demographics.\n",
    "\n",
    "In summary, logistic regression is a powerful and widely used method for binary classification problems due to its ability to model probabilities, interpretability, and efficiency in training and prediction."
   ]
  },
  {
   "cell_type": "markdown",
   "id": "edac110a-a6a4-47ee-bc2e-5554d5002503",
   "metadata": {},
   "source": [
    "\u0016hat is the si0moid fun\u001e",
    "tion and how is it used in lo0isti\u001e",
    " re0ression/"
   ]
  },
  {
   "attachments": {
    "c2c825fc-acf6-48e2-a2ad-aa0fb18299e9.png": {
     "image/png": "[encoded data removed]"
    }
   },
   "cell_type": "markdown",
   "id": "64ce059f-12a6-492a-b200-f96cec674913",
   "metadata": {},
   "source": [
    "The sigmoid function, also known as the logistic function, is a mathematical function that maps input values to a smooth S-shaped curve. In the context of logistic regression, the sigmoid function is used to model the relationship between the predictor variables and the probability of the binary outcome.\n",
    "\n",
    "### Sigmoid Function:\n",
    "\n",
    "The sigmoid function is defined as:\n",
    "![image.png](attachment:c2c825fc-acf6-48e2-a2ad-aa0fb18299e9.png)\n",
    "\n",
    "### How it is used in Logistic Regression:\n",
    "\n",
    "1. **Probability Prediction**:\n",
    "   - The sigmoid function transforms the linear combination \\( z \\) into a value \\( \\sigma(z) \\) between 0 and 1.\n",
    "   - \\( \\sigma(z) \\) represents the probability \\( p(y=1 \\mid X) \\) that the outcome \\( y \\) is equal to 1 given the predictors \\( X \\).\n",
    "\n",
    "2. **Decision Boundary**:\n",
    "   - Logistic regression predicts the class of an observation based on whether \\( \\sigma(z) \\) is greater than or equal to 0.5.\n",
    "   - If \\( \\sigma(z) \\geq 0.5 \\), the observation is predicted to belong to class 1.\n",
    "   - If \\( \\sigma(z) < 0.5 \\), the observation is predicted to belong to class 0.\n",
    "\n",
    "3. **Interpretability**:\n",
    "   - The sigmoid function provides probabilistic outputs, allowing logistic regression to output not just class predictions but also the confidence or uncertainty associated with each prediction.\n",
    "\n",
    "### Properties of the Sigmoid Function:\n",
    "\n",
    "- **S-Shaped Curve**: The sigmoid function produces an S-shaped curve that asymptotically approaches 0 for very negative values of \\( z \\) and approaches 1 for very positive values of \\( z \\).\n",
    "  \n",
    "- **Differentiability**: The sigmoid function is smooth and differentiable, which is important for gradient-based optimization methods used in training logistic regression models.\n",
    "\n",
    "### Practical Application:\n",
    "\n",
    "In logistic regression, the sigmoid function converts the linear combination of predictor variables and their coefficients into a probability score that can be interpreted as the likelihood of an observation belonging to a particular class. This probabilistic interpretation makes logistic regression suitable for binary classification tasks, where understanding the probability of outcomes is crucial for decision-making."
   ]
  },
  {
   "cell_type": "code",
   "execution_count": null,
   "id": "826632ec-5b51-4dd6-bbcc-be2683a0ed3d",
   "metadata": {},
   "outputs": [],
   "source": []
  },
  {
   "attachments": {
    "02300c6e-bd10-4d0c-9930-36f25487dd8d.png": {
     "image/png": "[encoded data removed]"
    }
   },
   "cell_type": "markdown",
   "id": "dcd574e9-7b44-4028-b285-2d1193906730",
   "metadata": {},
   "source": [
    "n the context of logistic regression, the cost function (or loss function) plays a crucial role in training the model by quantifying how well the model predicts the outcome compared to the actual values in the training data. The goal during training is to minimize this cost function, thereby optimizing the model's parameters (coefficients) to make accurate predictions.\n",
    "\n",
    "Cost Function in Logistic Regression:\n",
    "The most commonly used cost function in logistic regression is the logistic loss or binary cross-entropy. It measures the difference between predicted probabilities \n",
    "![image.png](attachment:02300c6e-bd10-4d0c-9930-36f25487dd8d.png)\n",
    "Intuition Behind the Cost Function:\n",
    "Log-Likelihood Interpretation: The cost function \n",
    "𝐽\n",
    "(\n",
    "𝛽\n",
    ")\n",
    "J(β) can be interpreted as the negative log-likelihood of the observed data under the logistic regression model.\n",
    "\n",
    "Minimization Objective: The objective during training is to find the set of parameters \n",
    "𝛽\n",
    "β that minimizes the cost function \n",
    "𝐽\n",
    "(\n",
    "𝛽\n",
    ")\n",
    "J(β).\n",
    "\n",
    "Gradient Descent: Optimization algorithms such as gradient descent are commonly used to minimize the cost function. By computing the gradient (derivative) of \n",
    "𝐽\n",
    "(\n",
    "𝛽\n",
    ")\n",
    "J(β) with respect to \n",
    "𝛽\n",
    "β, the model iteratively adjusts the parameters to move towards the optimal values.\n",
    "\n",
    "Properties and Considerations:\n",
    "Convexity: The logistic loss function is convex, ensuring that gradient descent methods converge to a global minimum (or a good local minimum) efficiently.\n",
    "\n",
    "Regularization: Regularization terms (such as \n",
    "𝐿\n",
    "1\n",
    "L1 or \n",
    "𝐿\n",
    "2\n",
    "L2 regularization) can be added to the cost function to prevent overfitting by penalizing large coefficients.\n",
    "\n",
    "Practical Application:\n",
    "In practice, optimizing the logistic regression model involves iteratively updating the coefficients \n",
    "𝛽\n",
    "β based on the gradient of the cost function with respect to \n",
    "𝛽\n",
    "β. This process continues until the model converges to a set of coefficients that minimize the cost function, resulting in a logistic regression model that accurately predicts probabilities for binary classification tasks."
   ]
  },
  {
   "cell_type": "markdown",
   "id": "40ef25df-c59c-4b15-a993-e2d1f7b02e4e",
   "metadata": {},
   "source": [
    "How \u001e",
    "an lo0isti\u001e",
    " re0ression be extended to handle multi\u001e",
    "lass \u001e",
    "lassifi\u001e",
    "ation"
   ]
  },
  {
   "attachments": {
    "59e62b0b-f5a7-4614-9c65-f70a5b97e46b.png": {
     "image/png": "[encoded data removed]"
    },
    "c9299a70-078a-4823-8c1a-eb5394173ba9.png": {
     "image/png": "[encoded data removed]"
    }
   },
   "cell_type": "markdown",
   "id": "671a3781-55f2-4699-b925-cd5260db1f0b",
   "metadata": {},
   "source": [
    "Logistic regression is inherently a binary classification algorithm, meaning it's designed to handle problems where the target variable has two possible outcomes (e.g., 0 or 1). However, there are several strategies to extend logistic regression to handle multi-class classification problems:\n",
    "\n",
    "### One-vs-Rest (OvR) Method:\n",
    "\n",
    "In the One-vs-Rest (or One-vs-All) approach, you train \\( K \\) separate binary logistic regression classifiers, where \\( K \\) is the number of classes in your problem. \n",
    "\n",
    "1. **Training Phase**:\n",
    "   - For each class \\( k \\) (where \\( k = 1, 2, \\ldots, K \\)), train a logistic regression model that predicts whether an observation belongs to class \\( k \\) or not (i.e., binary classification).\n",
    "   - In each model, the samples of the class \\( k \\) are labeled as 1 and all other samples are labeled as 0.\n",
    "\n",
    "2. **Prediction Phase**:\n",
    "   - To classify a new observation, compute the output (probability) of each logistic regression model.\n",
    "   - Assign the class with the highest predicted probability as the predicted class for the new observation.\n",
    "\n",
    "### Multinomial Logistic Regression (Softmax Regression):\n",
    "\n",
    "Alternatively, you can extend logistic regression directly to multi-class problems using the multinomial logistic regression (softmax regression) approach.\n",
    "\n",
    "1. **Model Definition**:\n",
    "   - Instead of predicting binary outcomes, predict the probability \\( p(y = k \\mid X) \\) for each class \\( k \\) using a softmax function:\n",
    "    ![image.png](attachment:59e62b0b-f5a7-4614-9c65-f70a5b97e46b.png)\n",
    "\n",
    "2. **Loss Function**:\n",
    "   - Use a multinomial log-likelihood (cross-entropy) loss function to train the model:\n",
    "   - ![image.png](attachment:c9299a70-078a-4823-8c1a-eb5394173ba9.png)\n",
    "     \n",
    "### Practical Considerations:\n",
    "\n",
    "- **Scikit-Learn Implementation**: Libraries like scikit-learn provide implementations of logistic regression that support multi-class classification using these methods.\n",
    "  \n",
    "- **Performance**: The choice between OvR and multinomial logistic regression depends on the problem and dataset characteristics. Softmax regression tends to be more computationally intensive but can offer better performance for multi-class problems.\n",
    "\n",
    "- **Evaluation**: Metrics such as accuracy, precision, recall, and F1-score are used to evaluate the performance of multi-class logistic regression models.\n",
    "\n",
    "By using these extensions, logistic regression can effectively handle multi-class classification tasks, making it a versatile algorithm in machine learning applications."
   ]
  },
  {
   "cell_type": "markdown",
   "id": "8d236a2f-3193-4e80-af20-cf8a19cab04d",
   "metadata": {},
   "source": [
    "\u0016hat is the differen\u001e",
    "e between L1 and L2 re0ularization in lo0isti\u001e",
    " re0ression/"
   ]
  },
  {
   "attachments": {
    "119702b9-56a5-476c-b570-d3548ae23386.png": {
     "image/png": "[encoded data removed]"
    },
    "1bfe0e50-6f0e-43f7-a07a-b8a8baf0db47.png": {
     "image/png": "[encoded data removed]"
    }
   },
   "cell_type": "markdown",
   "id": "ee6e2dc6-b2af-429c-808e-2b5e9ccb3eaf",
   "metadata": {},
   "source": [
    "In logistic regression, regularization techniques like L1 and L2 regularization are used to prevent overfitting by penalizing large coefficients. Here’s how L1 and L2 regularization differ and how they are applied in logistic regression:\n",
    "\n",
    "### L1 Regularization (Lasso Regularization):\n",
    "\n",
    "1. **Penalty Term**:\n",
    "   - L1 regularization adds a penalty term to the cost function proportional to the absolute values of the coefficients:\n",
    "   - ![image.png](attachment:119702b9-56a5-476c-b570-d3548ae23386.png)\n",
    "    \n",
    "\n",
    "2. **Effect on Coefficients**:\n",
    "   - L1 regularization encourages sparsity by driving some coefficients to exactly zero.\n",
    "   - This can be useful for feature selection, as non-informative features may have zero coefficients.\n",
    "\n",
    "3. **Implementation**:\n",
    "   - In logistic regression, L1 regularization modifies the cost function to include the sum of absolute values of coefficients.\n",
    "\n",
    "### L2 Regularization (Ridge Regularization):\n",
    "\n",
    "1. **Penalty Term**:\n",
    "   - L2 regularization adds a penalty term to the cost function proportional to the square of the coefficients:\n",
    "     ![image.png](attachment:1bfe0e50-6f0e-43f7-a07a-b8a8baf0db47.png)\n",
    "   **Effect on Coefficients**:\n",
    "   - L2 regularization penalizes large coefficients and shrinks them towards zero.\n",
    "   - It does not typically result in exact sparsity (coefficients exactly zero), but rather small values.\n",
    "\n",
    "3. **Implementation**:\n",
    "   - In logistic regression, L2 regularization modifies the cost function to include the sum of squares of coefficients.\n",
    "\n",
    "### Practical Considerations:\n",
    "\n",
    "- **Selection of Regularization Parameter** (\\( \\lambda \\)):\n",
    "  - The regularization parameter \\( \\lambda \\) controls the strength of regularization.\n",
    "  - Cross-validation is often used to select an optimal \\( \\lambda \\) value that balances model complexity (overfitting) and predictive performance.\n",
    "\n",
    "- **Effect on Performance**:\n",
    "  - L1 regularization is preferred when feature selection is desired or when dealing with a large number of features.\n",
    "  - L2 regularization is generally more stable and works well when all predictors are potentially relevant.\n",
    "\n",
    "- **Implementation in Libraries**:\n",
    "  - Libraries like scikit-learn in Python provide logistic regression implementations with options for L1 and L2 regularization.\n",
    "\n",
    "In summary, while both L1 and L2 regularization techniques aim to improve the generalization of logistic regression models, they differ in their impact on coefficients and their ability to induce sparsity. The choice between L1 and L2 regularization depends on the specific characteristics of the dataset and the goals of the modeling task."
   ]
  },
  {
   "cell_type": "markdown",
   "id": "0772774b-edd1-4b8b-8519-152684f97a8c",
   "metadata": {},
   "source": [
    "\u0016hat is XGBoost and how does it differ from other boostin0 al0orithms"
   ]
  },
  {
   "cell_type": "markdown",
   "id": "b0f1fad9-4cd8-4319-9227-aa6d050beaa0",
   "metadata": {},
   "source": [
    "XGBoost (Extreme Gradient Boosting) is an optimized distributed gradient boosting library designed to be highly efficient, flexible, and portable. It is an implementation of gradient boosting machines that has gained widespread popularity in machine learning competitions and various data science applications. Here’s how XGBoost differs from other boosting algorithms:\n",
    "\n",
    "### Key Features of XGBoost:\n",
    "\n",
    "1. **Regularization**:\n",
    "   - **Tree Pruning**: XGBoost uses tree pruning techniques to remove splits that provide minimal gain in training loss. This helps in reducing overfitting.\n",
    "   - **Regularization**: It includes \\( L1 \\) (lasso) and \\( L2 \\) (ridge) regularization to penalize large coefficients and improve model generalization.\n",
    "\n",
    "2. **Optimized Performance**:\n",
    "   - **Parallelization**: XGBoost can make use of parallel processing and distributed computing to train models faster.\n",
    "   - **Cache Optimization**: It efficiently manages memory and caching for faster execution.\n",
    "\n",
    "3. **Handling Missing Values**:\n",
    "   - XGBoost has built-in capabilities to handle missing data, automatically learning the best imputation strategies.\n",
    "\n",
    "4. **Cross-Validation**:\n",
    "   - It supports built-in cross-validation to automatically select the optimal number of boosting rounds.\n",
    "\n",
    "5. **Tree Boosting Algorithms**:\n",
    "   - XGBoost supports both gradient boosted decision trees (GBDT) and random forests.\n",
    "\n",
    "### Differences from Other Boosting Algorithms:\n",
    "\n",
    "1. **Gradient Boosting Machines (GBM)**:\n",
    "   - XGBoost improves upon traditional gradient boosting methods by implementing regularization, parallelization, and other optimizations for better performance and model accuracy.\n",
    "\n",
    "2. **AdaBoost**:\n",
    "   - AdaBoost focuses on correcting misclassifications by assigning higher weights to incorrectly classified instances. In contrast, XGBoost optimizes a differentiable loss function and updates weights using gradient descent.\n",
    "\n",
    "3. **LightGBM**:\n",
    "   - LightGBM, another boosting algorithm, optimizes for computational efficiency and lower memory usage. It uses a histogram-based approach for binning continuous features, while XGBoost uses a pre-sorted algorithm.\n",
    "\n",
    "4. **CatBoost**:\n",
    "   - CatBoost is designed to handle categorical variables efficiently without explicit preprocessing. It automatically encodes categorical features and has built-in feature importance and support for GPU training.\n",
    "\n",
    "### Practical Advantages:\n",
    "\n",
    "- **Versatility**: XGBoost can handle various types of data and is effective in a wide range of machine learning tasks, including classification, regression, and ranking problems.\n",
    "  \n",
    "- **Scalability**: It can handle large datasets and is designed to be scalable both in terms of speed and model size.\n",
    "\n",
    "- **Model Interpretability**: XGBoost provides feature importance scores that help interpret model predictions.\n",
    "\n",
    "Overall, XGBoost's combination of performance optimizations, regularization techniques, and feature-rich capabilities has made it a preferred choice for many machine learning practitioners when working on predictive modeling tasks."
   ]
  },
  {
   "cell_type": "markdown",
   "id": "2b847a6d-21e3-4474-bb7e-78fbb97e69e3",
   "metadata": {},
   "source": [
    " Explain the \u001e",
    "on\u001e",
    "ept of boostin0 in the \u001e",
    "ontext of ensemble learnin0"
   ]
  },
  {
   "cell_type": "markdown",
   "id": "0b5e78f2-3608-4879-91e3-8b37393d58a6",
   "metadata": {},
   "source": [
    "Boosting is a powerful ensemble learning technique in machine learning where multiple weak learners (models that are slightly better than random guessing) are combined to create a strong learner. The key idea behind boosting is to sequentially train new models, each one focusing on the examples that previous models found difficult to classify correctly. This way, the ensemble progressively improves its ability to generalize to new, unseen data.\n",
    "\n",
    "### Key Concepts in Boosting:\n",
    "\n",
    "1. **Weak Learners**:\n",
    "   - A weak learner is a model that performs slightly better than random chance on a classification or regression task. Examples include decision trees with limited depth (decision stumps), linear models, or small neural networks.\n",
    "\n",
    "2. **Sequential Learning**:\n",
    "   - Boosting algorithms train models sequentially. Each new model in the sequence focuses on improving the predictions for instances that previous models have misclassified or have high residual errors.\n",
    "\n",
    "3. **Weighted Training**:\n",
    "   - During training, instances that were misclassified by earlier models or have higher residuals are assigned higher weights. This allows subsequent models to learn from the mistakes of earlier models and improve overall accuracy.\n",
    "\n",
    "4. **Combining Models**:\n",
    "   - Boosting combines the predictions of all weak learners, typically using a weighted average or a voting mechanism, to produce the final prediction. Often, more weight is given to models with higher accuracy.\n",
    "\n",
    "5. **Examples of Boosting Algorithms**:\n",
    "   - **AdaBoost (Adaptive Boosting)**: It adjusts the weights of misclassified instances so that subsequent models focus more on difficult cases.\n",
    "   - **Gradient Boosting Machines (GBM)**: GBM builds models sequentially, optimizing a differentiable loss function by adding weak learners to minimize residuals.\n",
    "   - **XGBoost and LightGBM**: These are optimized implementations of gradient boosting algorithms that include regularization, parallel processing, and other enhancements for efficiency and performance.\n",
    "\n",
    "### Advantages of Boosting:\n",
    "\n",
    "- **Improved Accuracy**: Boosting often achieves higher accuracy than individual models by combining multiple weak learners.\n",
    "  \n",
    "- **Versatility**: It can be applied to various machine learning tasks, including classification, regression, and ranking problems.\n",
    "\n",
    "- **Reduced Overfitting**: By sequentially focusing on difficult instances, boosting reduces overfitting and improves generalization ability.\n",
    "\n",
    "### Challenges:\n",
    "\n",
    "- **Sensitive to Noisy Data**: Boosting can be sensitive to noisy data and outliers, which may affect model performance.\n",
    "\n",
    "- **Computationally Intensive**: Training multiple models sequentially can be computationally intensive, especially for large datasets.\n",
    "\n",
    "In summary, boosting is a powerful ensemble learning technique that sequentially improves model performance by learning from the mistakes of previous models. It has become widely used in machine learning due to its effectiveness in improving accuracy and handling complex learning tasks."
   ]
  },
  {
   "cell_type": "markdown",
   "id": "31b8a19e-1bc0-421c-bb90-fb496c772a5b",
   "metadata": {},
   "source": [
    " How does XGBoost handle missin0 values/"
   ]
  },
  {
   "cell_type": "markdown",
   "id": "b5469443-14c3-4ea2-bf49-9e72647cb692",
   "metadata": {},
   "source": [
    "XGBoost (Extreme Gradient Boosting) handles missing values in a straightforward and efficient manner. Here’s how XGBoost deals with missing values during training and prediction:\n",
    "\n",
    "### Handling Missing Values in XGBoost:\n",
    "\n",
    "1. **Internal Handling**:\n",
    "   - XGBoost has an internal mechanism to automatically handle missing values during the tree construction process.\n",
    "   - It treats missing values as a separate category and learns the optimal direction to send instances with missing values during tree building.\n",
    "\n",
    "2. **Splitting Decisions**:\n",
    "   - During the training process, when XGBoost encounters a missing value for a feature, it tries both directions of the split (left or right) and learns which direction minimizes the loss more effectively.\n",
    "   - This is different from traditional decision trees where missing values may lead to biased splits or require imputation.\n",
    "\n",
    "3. **Prediction Phase**:\n",
    "   - For a new instance with missing values, XGBoost assigns it to the direction that was learned during training to minimize the loss.\n",
    "   - This allows XGBoost to handle missing values in a way that doesn’t require imputation or preprocessing steps before feeding data into the model.\n",
    "\n",
    "### Practical Considerations:\n",
    "\n",
    "- **Efficiency**: XGBoost's handling of missing values is efficient and integrated into the tree construction algorithm, ensuring minimal impact on training time.\n",
    "  \n",
    "- **Compatibility**: This feature makes XGBoost particularly useful when working with datasets where missing values are common or when real-time predictions with missing data are needed.\n",
    "\n",
    "- **Implementation**: In practice, when using XGBoost in Python or other programming languages, missing values in datasets can be directly provided without requiring explicit handling or imputation steps.\n",
    "\n"
   ]
  },
  {
   "cell_type": "markdown",
   "id": "e41dca7c-08f7-4301-9be4-0961485cef56",
   "metadata": {},
   "source": [
    "import xgboost as xgb\n",
    "\n",
    "# Assuming X_train and y_train are your training data with missing values\n",
    "dtrain = xgb.DMatrix(data=X_train, label=y_train)\n",
    "\n",
    "# Define parameters for XGBoost model\n",
    "params = {\n",
    "    'objective': 'binary:logistic',\n",
    "    'max_depth': 3,\n",
    "    'learning_rate': 0.1,\n",
    "    'eval_metric': 'error'\n",
    "}\n",
    "\n",
    "# Train the XGBoost model\n",
    "model = xgb.train(params=params, dtrain=dtrain, num_boost_round=100)\n",
    "\n",
    "# Predictions for new data (which can have missing values)\n",
    "predictions = model.predict(xgb.DMatrix(data=X_new))\n"
   ]
  },
  {
   "cell_type": "markdown",
   "id": "13944295-40d4-44a9-9e9e-fab3610d058d",
   "metadata": {},
   "source": [
    "\u0016hat are the key hyperparameters in XGBoost and how do they affe\u001e",
    "t model performan\u001e",
    "e"
   ]
  },
  {
   "cell_type": "markdown",
   "id": "00aac035-bf2e-467b-9754-f72464307feb",
   "metadata": {},
   "source": [
    "XGBoost (Extreme Gradient Boosting) offers a variety of hyperparameters that influence the training and performance of the model. Understanding these hyperparameters and how they affect the model can significantly improve your ability to tune and optimize XGBoost models for specific tasks. Here are some key hyperparameters in XGBoost and their effects on model performance:\n",
    "\n",
    "Key Hyperparameters in XGBoost:\n",
    "General Parameters:\n",
    "\n",
    "booster: Specifies the type of boosting model to use, such as gbtree (tree-based models) or gblinear (linear models).\n",
    "n_estimators: Number of boosting rounds (trees) to build. Higher values generally improve performance but can lead to overfitting if not controlled.\n",
    "learning_rate: Rate at which the model learns from the data during each boosting round. Lower values make the model more robust but require more trees.\n",
    "subsample: Fraction of samples used to train each tree. Lower values make the model more conservative and prevent overfitting.\n",
    "Tree-Specific Parameters:\n",
    "\n",
    "max_depth: Maximum depth of each tree. Deeper trees can capture more complex patterns but can also overfit.\n",
    "min_child_weight: Minimum sum of instance weight (hessian) needed in a child. Controls overfitting. Higher values make the algorithm more conservative.\n",
    "gamma: Minimum loss reduction required to make a further partition on a leaf node of the tree. A higher value leads to fewer splits.\n",
    "colsample_bytree: Fraction of features (columns) to consider when building each tree. Helps in preventing overfitting.\n",
    "Regularization Parameters:\n",
    "\n",
    "lambda (reg_lambda): L2 regularization term on weights. Increases robustness to noise and reduces overfitting.\n",
    "alpha (reg_alpha): L1 regularization term on weights. Promotes sparsity of features and reduces complexity.\n",
    "eta (alias for learning_rate): Learning rate (Shrinkage factor) in gradient boosting. It prevents overfitting by shrinking the coefficients.\n",
    "Learning Task Parameters:\n",
    "\n",
    "objective: Specifies the learning task and the corresponding loss function to optimize. Examples include binary\n",
    ", multi\n",
    ", and multi\n",
    "for classification tasks.\n",
    "eval_metric: Evaluation metric used for validation data. Common choices include error for classification and rmse for regression.\n",
    "Effects on Model Performance:\n",
    "Overfitting vs. Underfitting: Parameters like max_depth, min_child_weight, and gamma control the complexity of individual trees, balancing between overfitting and underfitting.\n",
    "\n",
    "Speed vs. Accuracy: Parameters like learning_rate, n_estimators, and subsample affect training speed and model accuracy. Lower learning rates and higher number of estimators generally improve accuracy but increase training time.\n",
    "\n",
    "Regularization: reg_lambda and reg_alpha control the regularization on model weights, helping to reduce overfitting and improve generalization.\n",
    "\n",
    "Tuning Hyperparameters:\n",
    "Grid Search and Random Search: Methods like grid search or random search are commonly used to find the optimal combination of hyperparameters.\n",
    "\n",
    "Cross-Validation: Cross-validation is essential for evaluating the performance of different hyperparameter combinations and selecting the best model."
   ]
  },
  {
   "cell_type": "markdown",
   "id": "e1631835-11ad-4d39-a53f-0248646727c7",
   "metadata": {},
   "source": [
    "import xgboost as xgb\n",
    "from sklearn.model_selection import GridSearchCV\n",
    "\n",
    "# Define a parameter grid for GridSearchCV\n",
    "param_grid = {\n",
    "    'max_depth': [3, 5, 7],\n",
    "    'learning_rate': [0.1, 0.01],\n",
    "    'n_estimators': [50, 100, 200],\n",
    "    'subsample': [0.8, 1.0],\n",
    "    'colsample_bytree': [0.8, 1.0]\n",
    "}\n",
    "\n",
    "# Create an XGBoost classifier\n",
    "xgb_model = xgb.XGBClassifier()\n",
    "\n",
    "# Perform Grid Search CV\n",
    "grid_search = GridSearchCV(estimator=xgb_model, param_grid=param_grid, cv=3, scoring='accuracy')\n",
    "grid_search.fit(X_train, y_train)\n",
    "\n",
    "# Print best parameters and best score\n",
    "print(\"Best parameters found: \", grid_search.best_params_)\n",
    "print(\"Best accuracy score: \", grid_search.best_score_)\n"
   ]
  },
  {
   "cell_type": "markdown",
   "id": "eba791ef-2ca0-4a8f-9fc0-047d5e352e3f",
   "metadata": {},
   "source": [
    "\u001d",
    " Des\u001e",
    "ribe the pro\u001e",
    "ess of 0radient boostin0 in XGBoost"
   ]
  },
  {
   "cell_type": "markdown",
   "id": "4052dd5d-bb15-4062-a824-fcc6cdb9064e",
   "metadata": {},
   "source": [
    "Gradient boosting, including the variant implemented in XGBoost (Extreme Gradient Boosting), is an ensemble learning technique that sequentially builds an ensemble of weak learners (typically decision trees) to create a strong predictive model. Here’s a step-by-step description of how gradient boosting works in XGBoost:\n",
    "\n",
    "### Process of Gradient Boosting in XGBoost:\n",
    "\n",
    "1. **Initialize the Model**:\n",
    "   - Start with an initial prediction or model, typically the mean value (for regression) or the log-odds (for classification) of the target variable.\n",
    "\n",
    "2. **Calculate Residuals**:\n",
    "   - Compute the residuals (difference between actual and predicted values) for each instance in the training data. Initially, these residuals are the negative gradients of the loss function with respect to the current model’s predictions.\n",
    "\n",
    "3. **Train a Weak Learner (Base Model)**:\n",
    "   - Train a weak learner (e.g., decision tree) on the residuals. The weak learner is typically a shallow tree (decision stump or small decision tree) that models the residuals.\n",
    "\n",
    "4. **Update the Model**:\n",
    "   - Add the new weak learner to the ensemble by fitting it to the residuals. The predictions from this new learner are multiplied by a small learning rate (shrinkage factor) and added to the overall model’s predictions. This step updates the model to reduce the residuals.\n",
    "\n",
    "5. **Iterative Process**:\n",
    "   - Repeat steps 2-4 iteratively to build an ensemble of weak learners. Each new weak learner focuses on the residuals of the combined model from the previous iteration.\n",
    "   - The process continues until a predefined number of iterations (boosting rounds) is reached or until a stopping criterion is met (e.g., no further improvement in the loss function).\n",
    "\n",
    "6. **Final Prediction**:\n",
    "   - The final prediction is made by aggregating the predictions of all weak learners, typically using a weighted sum (for regression) or a voting mechanism (for classification).\n",
    "\n",
    "### Key Concepts in Gradient Boosting:\n",
    "\n",
    "- **Gradient Descent**: Each new weak learner is trained to minimize the loss function with respect to the residuals of the current model. This approach gradually reduces the loss over multiple iterations.\n",
    "  \n",
    "- **Shrinkage**: A small learning rate (shrinkage factor) is applied to the predictions of each new weak learner before adding them to the ensemble. This regularization technique prevents overfitting and improves generalization.\n",
    "\n",
    "- **Regularization**: XGBoost incorporates regularization techniques like \\( L1 \\) (lasso) and \\( L2 \\) (ridge) regularization to further control model complexity and prevent overfitting.\n",
    "\n",
    "### Benefits of Gradient Boosting in XGBoost:\n",
    "\n",
    "- **Accuracy**: Gradient boosting often produces highly accurate predictions by iteratively improving the model’s ability to fit the training data.\n",
    "  \n",
    "- **Flexibility**: XGBoost can handle a variety of data types and is suitable for both regression and classification tasks.\n",
    "\n",
    "- **Robustness**: The ensemble nature of gradient boosting reduces the impact of individual weak learners, leading to more robust models.\n",
    "\n",
    "### Practical Implementation:\n",
    "\n",
    "```python\n",
    "import xgboost as xgb\n",
    "\n",
    "# Initialize XGBoost regressor or classifier\n",
    "xgb_model = xgb.XGBRegressor()  # For regression tasks\n",
    "# xgb_model = xgb.XGBClassifier()  # For classification tasks\n",
    "\n",
    "# Fit the model to training data\n",
    "xgb_model.fit(X_train, y_train)\n",
    "\n",
    "# Predict on test data\n",
    "y_pred = xgb_model.predict(X_test)\n",
    "```\n",
    "\n",
    "In this implementation, `XGBRegressor()` or `XGBClassifier()` is used to initialize an XGBoost model for either regression or classification. The model is then trained on `X_train` and `y_train`, and used to make predictions on `X_test`. Each iteration of training enhances the model's predictive power, making gradient boosting a powerful technique for many machine learning tasks."
   ]
  },
  {
   "cell_type": "markdown",
   "id": "f3c082bc-8e0e-4e8d-94dc-aec741364f6f",
   "metadata": {},
   "source": [
    "\u0016hat are the advanta0es and disadvanta0es of usin0 XGBoost?"
   ]
  },
  {
   "cell_type": "markdown",
   "id": "016615c0-96f6-4482-b112-1470afd3f62b",
   "metadata": {},
   "source": [
    "XGBoost (Extreme Gradient Boosting) is a popular and powerful machine learning algorithm known for its efficiency, flexibility, and high performance. Like any tool or technique, XGBoost comes with its own set of advantages and disadvantages:\n",
    "\n",
    "### Advantages of XGBoost:\n",
    "\n",
    "1. **Performance**:\n",
    "   - **High Accuracy**: XGBoost often outperforms other algorithms on structured/tabular datasets due to its ability to handle complex relationships and interactions.\n",
    "   - **Efficiency**: It is optimized for speed and scalability, making it suitable for large datasets and real-time predictions.\n",
    "   - **Parallelization**: XGBoost can leverage multicore CPUs and distributed computing environments (like Hadoop or Spark) for faster training.\n",
    "\n",
    "2. **Regularization**:\n",
    "   - **Regularization Techniques**: XGBoost supports both \\( L1 \\) (lasso) and \\( L2 \\) (ridge) regularization, which helps prevent overfitting and improve model generalization.\n",
    "\n",
    "3. **Flexibility**:\n",
    "   - **Versatility**: XGBoost can handle various types of data (numeric, categorical) and supports different types of learning tasks (regression, classification, ranking).\n",
    "   - **Feature Importance**: It provides built-in feature importance scores, helping to understand which features contribute most to predictions.\n",
    "\n",
    "4. **Interpretability**:\n",
    "   - **Model Interpretation**: While ensemble models are generally less interpretable than simpler models like linear regression, XGBoost provides tools to interpret model predictions and feature importance.\n",
    "\n",
    "5. **Community Support and Tooling**:\n",
    "   - **Active Development**: XGBoost is actively maintained and supported by a large community, with ongoing improvements and updates.\n",
    "   - **Integration**: It integrates well with popular data science and machine learning libraries like scikit-learn and TensorFlow.\n",
    "\n",
    "### Disadvantages of XGBoost:\n",
    "\n",
    "1. **Complexity**:\n",
    "   - **Parameter Tuning**: XGBoost has many hyperparameters that need careful tuning to achieve optimal performance, which can be challenging for beginners.\n",
    "   - **Computationally Intensive**: While efficient, XGBoost can be resource-intensive, especially when dealing with large datasets and complex models.\n",
    "\n",
    "2. **Potential Overfitting**:\n",
    "   - **Sensitive to Noisy Data**: Like other tree-based methods, XGBoost can overfit if not properly regularized or tuned, especially when the dataset is noisy or contains outliers.\n",
    "\n",
    "3. **Black Box Nature**:\n",
    "   - **Interpretability**: While feature importance can be extracted, the overall ensemble nature of XGBoost models can make them less interpretable compared to simpler models like linear regression.\n",
    "\n",
    "4. **Data Types**:\n",
    "   - **Handling of Non-Numeric Data**: XGBoost requires numeric input data, so categorical features need to be preprocessed (e.g., one-hot encoding), which adds complexity to the data preparation phase.\n",
    "\n",
    "### Considerations:\n",
    "\n",
    "- **Use Case**: XGBoost is well-suited for structured/tabular data and scenarios where accuracy and predictive power are critical.\n",
    "- **Scalability**: It can handle large datasets efficiently but may require distributed computing for very large datasets.\n",
    "- **Model Complexity**: While powerful, the complexity of XGBoost models may not always justify the improvement in performance over simpler models, depending on the problem and data.\n",
    "\n",
    "In summary, XGBoost is a versatile and effective algorithm for a wide range of machine learning tasks, offering high performance and flexibility with considerations for model complexity and interpretability. Understanding its strengths and limitations is crucial for maximizing its benefits in practical applications."
   ]
  },
  {
   "cell_type": "markdown",
   "id": "609669c2-49f7-46e9-8445-7188e0cf77af",
   "metadata": {},
   "source": [
    "2.Do the EDA on the given dataset: Lung cancer, and extract some useful information from this.\n",
    "\n",
    "         \n",
    "\n",
    "Dataset Description:\n",
    "\n",
    "Lung cancer is one of the _ost prevalent and deadly for_s of cancer worldwide, presenting significant \n",
    "challenges in early detection and effective treat_ent. To aid in the global effort to understand and co_bat this \n",
    "disease, we are excited to introduce our co_prehensive Lung Cancer Dataset."
   ]
  },
  {
   "cell_type": "markdown",
   "id": "162b9571-0425-41c3-9c56-fe280955a8d8",
   "metadata": {},
   "source": [
    "3I Do the Eda on this Dataset :Presidential Election Polls 2024 Dataset and extract useful information from \n",
    "this:\n",
    "\n",
    "\n",
    "Dataset: Nationwide Russian election poll data from March 04, 2024 \n",
    "\n",
    "\n",
    "Dataset Description:\n",
    "\n",
    "This dataset co_prises the results of a nationwide presidential election poll conducted on March 4, 2024. The \n",
    "data offers various insights but does not align with the official election results. You are encouraged to create \n",
    "your notebooks and delve into the data for further exploration.\n"
   ]
  },
  {
   "cell_type": "code",
   "execution_count": null,
   "id": "2638e38c-ac04-458f-9529-0285a5323527",
   "metadata": {},
   "outputs": [],
   "source": []
  }
 ],
 "metadata": {
  "kernelspec": {
   "display_name": "Python 3 (ipykernel)",
   "language": "python",
   "name": "python3"
  },
  "language_info": {
   "codemirror_mode": {
    "name": "ipython",
    "version": 3
   },
   "file_extension": ".py",
   "mimetype": "text/x-python",
   "name": "python",
   "nbconvert_exporter": "python",
   "pygments_lexer": "ipython3",
   "version": "3.11.7"
  }
 },
 "nbformat": 4,
 "nbformat_minor": 5
}
